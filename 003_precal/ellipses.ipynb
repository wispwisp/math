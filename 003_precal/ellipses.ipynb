{
 "cells": [
  {
   "cell_type": "code",
   "execution_count": null,
   "metadata": {},
   "outputs": [],
   "source": [
    "import pandas as pd\n",
    "import numpy as np\n",
    "\n",
    "# import seaborn as sns\n",
    "# import matplotlib.pyplot as plt\n",
    "\n",
    "# import matplotlib\n",
    "# matplotlib.pyplot.style.use('seaborn')\n",
    "# matplotlib.rcParams['figure.figsize'] = (15, 5)\n",
    "\n",
    "# %matplotlib inline\n",
    "# %pylab inline"
   ]
  },
  {
   "cell_type": "code",
   "execution_count": null,
   "metadata": {},
   "outputs": [],
   "source": [
    "from IPython.core.interactiveshell import InteractiveShell\n",
    "InteractiveShell.ast_node_interactivity = \"all\""
   ]
  },
  {
   "cell_type": "code",
   "execution_count": null,
   "metadata": {},
   "outputs": [],
   "source": [
    "from IPython.core.display import SVG"
   ]
  },
  {
   "cell_type": "code",
   "execution_count": null,
   "metadata": {},
   "outputs": [],
   "source": [
    "import math"
   ]
  },
  {
   "cell_type": "code",
   "execution_count": null,
   "metadata": {},
   "outputs": [],
   "source": []
  },
  {
   "cell_type": "markdown",
   "metadata": {},
   "source": [
    "# Ellipses"
   ]
  },
  {
   "cell_type": "markdown",
   "metadata": {},
   "source": [
    "$\\frac{x^2}{a^2} + \\frac{y^2}{b^2} = 1$\n",
    "\n",
    "a: x max distance\n",
    "\n",
    "b: y max distance\n",
    "\n",
    "semi minor axis - smallest of `a` or `b`\n",
    "\n",
    "semi major axis - biggest of `a` or `b` (\"semi - half\")\n",
    "\n",
    "---\n",
    "\n",
    "The major axis is the longest diameter of the ellipse, and the minor axis is the shortest diameter of the ellipse.\n",
    "\n",
    "The minor radius, which is also known as the semi-minor axis, is equal to half the length of the minor axis.\n",
    "\n",
    "Similarly, the major radius, which is also known as the semi-major axis, is equal to half the length of the major axis."
   ]
  },
  {
   "cell_type": "markdown",
   "metadata": {},
   "source": [
    "_Circle is special case of ellipse_:\n",
    "\n",
    "$x^2 + y^2 = r^2$\n",
    "\n",
    "$\\frac{x^2}{r^2} + \\frac{y^2}{r^2} = 1$"
   ]
  },
  {
   "cell_type": "code",
   "execution_count": null,
   "metadata": {},
   "outputs": [],
   "source": []
  },
  {
   "cell_type": "markdown",
   "metadata": {},
   "source": [
    "$\\frac{(x + 4)^2}{1} + \\frac{y^2}{25} = 1$\n",
    "\n",
    "center: $(-4, 0)$\n",
    "\n",
    "x-radius: $\\sqrt{1} = 1$ (x-radius is smaller -> it is minor)\n",
    "\n",
    "y-radius: $\\sqrt{25} = 5$ (y-radius is lager -> it is major)"
   ]
  },
  {
   "cell_type": "code",
   "execution_count": null,
   "metadata": {},
   "outputs": [],
   "source": []
  }
 ],
 "metadata": {
  "kernelspec": {
   "display_name": "Python 3",
   "language": "python",
   "name": "python3"
  },
  "language_info": {
   "codemirror_mode": {
    "name": "ipython",
    "version": 3
   },
   "file_extension": ".py",
   "mimetype": "text/x-python",
   "name": "python",
   "nbconvert_exporter": "python",
   "pygments_lexer": "ipython3",
   "version": "3.6.8"
  }
 },
 "nbformat": 4,
 "nbformat_minor": 2
}

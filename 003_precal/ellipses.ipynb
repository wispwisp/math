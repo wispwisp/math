{
 "cells": [
  {
   "cell_type": "code",
   "execution_count": null,
   "metadata": {},
   "outputs": [],
   "source": [
    "import pandas as pd\n",
    "import numpy as np\n",
    "\n",
    "# import seaborn as sns\n",
    "# import matplotlib.pyplot as plt\n",
    "\n",
    "# import matplotlib\n",
    "# matplotlib.pyplot.style.use('seaborn')\n",
    "# matplotlib.rcParams['figure.figsize'] = (15, 5)\n",
    "\n",
    "# %matplotlib inline\n",
    "# %pylab inline"
   ]
  },
  {
   "cell_type": "code",
   "execution_count": null,
   "metadata": {},
   "outputs": [],
   "source": [
    "from IPython.core.interactiveshell import InteractiveShell\n",
    "InteractiveShell.ast_node_interactivity = \"all\""
   ]
  },
  {
   "cell_type": "code",
   "execution_count": null,
   "metadata": {},
   "outputs": [],
   "source": [
    "from IPython.core.display import SVG"
   ]
  },
  {
   "cell_type": "code",
   "execution_count": null,
   "metadata": {},
   "outputs": [],
   "source": [
    "import math"
   ]
  },
  {
   "cell_type": "code",
   "execution_count": null,
   "metadata": {},
   "outputs": [],
   "source": []
  },
  {
   "cell_type": "markdown",
   "metadata": {},
   "source": [
    "# Ellipses"
   ]
  },
  {
   "cell_type": "markdown",
   "metadata": {},
   "source": [
    "$\\frac{x^2}{a^2} + \\frac{y^2}{b^2} = 1$\n",
    "\n",
    "a: x max distance\n",
    "\n",
    "b: y max distance\n",
    "\n",
    "semi minor axis - smallest of `a` or `b`\n",
    "\n",
    "semi major axis - biggest of `a` or `b` (\"semi - half\")\n",
    "\n",
    "---\n",
    "\n",
    "The major axis is the longest diameter of the ellipse, and the minor axis is the shortest diameter of the ellipse.\n",
    "\n",
    "The minor radius, which is also known as the semi-minor axis, is equal to half the length of the minor axis.\n",
    "\n",
    "Similarly, the major radius, which is also known as the semi-major axis, is equal to half the length of the major axis."
   ]
  },
  {
   "cell_type": "markdown",
   "metadata": {},
   "source": [
    "_Circle is special case of ellipse_:\n",
    "\n",
    "$x^2 + y^2 = r^2$\n",
    "\n",
    "$\\frac{x^2}{r^2} + \\frac{y^2}{r^2} = 1$"
   ]
  },
  {
   "cell_type": "code",
   "execution_count": null,
   "metadata": {},
   "outputs": [],
   "source": []
  },
  {
   "cell_type": "markdown",
   "metadata": {},
   "source": [
    "$\\frac{(x + 4)^2}{1} + \\frac{y^2}{25} = 1$\n",
    "\n",
    "center: $(-4, 0)$\n",
    "\n",
    "x-radius: $\\sqrt{1} = 1$ (x-radius is smaller -> it is minor)\n",
    "\n",
    "y-radius: $\\sqrt{25} = 5$ (y-radius is lager -> it is major)"
   ]
  },
  {
   "cell_type": "code",
   "execution_count": null,
   "metadata": {},
   "outputs": [],
   "source": []
  },
  {
   "cell_type": "markdown",
   "metadata": {},
   "source": [
    "# Foci of an ellipse"
   ]
  },
  {
   "cell_type": "markdown",
   "metadata": {},
   "source": [
    "$\\frac{x^2}{a^2} + \\frac{y^2}{b^2} = 1$, $a > b$\n",
    "\n",
    "Foci - sum of their distances defines an ellips, and = 2a _(in case a>b)_\n",
    "\n",
    "$d_1 + d_2 = 2a$ \n",
    "\n",
    "f - foci lengh\n",
    "\n",
    "$f^2 + b^2 = a^2$\n",
    "\n",
    "$f = \\sqrt{a^2 - b^2}$\n",
    "\n",
    "---\n",
    "\n",
    "($a > b$): $f = \\sqrt{a^2 - b^2}$\n",
    "\n",
    "($b > a$): $f = \\sqrt{b^2 - a^2}$"
   ]
  },
  {
   "cell_type": "code",
   "execution_count": null,
   "metadata": {},
   "outputs": [],
   "source": [
    "major = 10 - -3\n",
    "minor = 10 - -2\n",
    "\n",
    "-3 + math.sqrt(major**2 - minor**2)\n",
    "-3 - math.sqrt(major**2 - minor**2)"
   ]
  },
  {
   "cell_type": "code",
   "execution_count": null,
   "metadata": {},
   "outputs": [],
   "source": []
  },
  {
   "cell_type": "markdown",
   "metadata": {},
   "source": [
    "### $\\frac{(x+7)^2}{8} + \\frac{(y-10)^2}{13} = 1$\n",
    "\n",
    "semi major axis lenght: $\\sqrt{13}$\n",
    "\n",
    "semi minor axis lenght: $\\sqrt{8}$\n",
    "\n",
    "foci distance = $\\sqrt{13 - 8} = \\sqrt{5}$\n",
    "\n",
    "so foci are:\n",
    "\n",
    "$(-7, 10 + \\sqrt{5})$ and $(-7, 10 - \\sqrt{5})$"
   ]
  },
  {
   "cell_type": "code",
   "execution_count": null,
   "metadata": {},
   "outputs": [],
   "source": []
  },
  {
   "cell_type": "markdown",
   "metadata": {},
   "source": [
    "### $\\frac{x^2}{46} + \\frac{(y+8)^2}{26} = 1$\n",
    "\n",
    "semi major axis lenght: $\\sqrt{46}$\n",
    "\n",
    "semi minor axis lenght: $\\sqrt{26}$\n",
    "\n",
    "foci distance = $\\sqrt{46 - 26} = \\sqrt{20}$\n",
    "\n",
    "so foci are:\n",
    "\n",
    "$(0 + \\sqrt{20}, -8)$ and $(0 - \\sqrt{20}, -8)$"
   ]
  },
  {
   "cell_type": "code",
   "execution_count": null,
   "metadata": {},
   "outputs": [],
   "source": []
  },
  {
   "cell_type": "markdown",
   "metadata": {},
   "source": [
    "### $\\frac{(x-1)^2}{45} + \\frac{y^2}{54} = 1$\n",
    "\n",
    "semi major axis lenght: $\\sqrt{54}$\n",
    "\n",
    "semi minor axis lenght: $\\sqrt{45}$\n",
    "\n",
    "foci distance = $\\sqrt{54 - 45} = \\sqrt{9} = 3$\n",
    "\n",
    "so foci are:\n",
    "\n",
    "$(1, 3)$ and $(1, -3)$"
   ]
  },
  {
   "cell_type": "code",
   "execution_count": null,
   "metadata": {},
   "outputs": [],
   "source": []
  },
  {
   "cell_type": "markdown",
   "metadata": {},
   "source": [
    "### $\\frac{(x+13)^2}{400} + \\frac{(y+6)^2}{625} = 1$\n",
    "\n",
    "semi major axis lenght: $\\sqrt{625}$\n",
    "\n",
    "semi minor axis lenght: $\\sqrt{400}$\n",
    "\n",
    "foci distance = $\\sqrt{625 - 400} = \\sqrt{225} = 15$\n",
    "\n",
    "so foci are:\n",
    "\n",
    "$(-13, 9)$ and $(-13, -21)$"
   ]
  },
  {
   "cell_type": "code",
   "execution_count": null,
   "metadata": {},
   "outputs": [],
   "source": []
  },
  {
   "cell_type": "code",
   "execution_count": null,
   "metadata": {},
   "outputs": [],
   "source": [
    "-6 + math.sqrt(625 - 400)\n",
    "-6 - math.sqrt(625 - 400)"
   ]
  },
  {
   "cell_type": "code",
   "execution_count": null,
   "metadata": {},
   "outputs": [],
   "source": []
  },
  {
   "cell_type": "markdown",
   "metadata": {},
   "source": [
    "# * * *"
   ]
  },
  {
   "cell_type": "code",
   "execution_count": null,
   "metadata": {},
   "outputs": [],
   "source": []
  },
  {
   "cell_type": "markdown",
   "metadata": {},
   "source": [
    "Write an equation for an ellipse centered at the origin, which has foci at $(\\pm8, 0)$ and `vertices` at $(\\pm17, 0)$\n",
    "\n",
    "$f = \\sqrt{bigger^2 - smaller^2}$\n",
    "\n",
    "$8 = \\sqrt{17^2 - b^2} $\n",
    "\n",
    "$8^2 = 17^2 - b^2$\n",
    "\n",
    "$ 17^2 - 8^2= b^2$\n",
    "\n",
    "$289 - 64 =b^2$\n",
    "\n",
    "$b = 15$\n",
    "\n",
    "$\\frac{x^2}{17^2} + \\frac{y^2}{15^2} = 1$"
   ]
  },
  {
   "cell_type": "code",
   "execution_count": null,
   "metadata": {},
   "outputs": [],
   "source": []
  },
  {
   "cell_type": "markdown",
   "metadata": {},
   "source": [
    "Write an equation for an ellipse centered at the origin, which has foci at $(0, \\pm 24)$ and `co-vertices` at $(\\pm 10, 0)$\n",
    "\n",
    "$f = \\sqrt{bigger^2 - smaller^2}$\n",
    "\n",
    "$24 = \\sqrt{b^2 - 10^2} $\n",
    "\n",
    "$24^2 = b^2 - 10^2$\n",
    "\n",
    "$ 24^2 + 10^2= b^2$\n",
    "\n",
    "$ 576 + 100 = b^2$\n",
    "\n",
    "$a = \\sqrt{676} = \\sqrt{13 \\cdot 13 \\cdot 2 \\cdot 2} = 26$\n",
    "\n",
    "$\\frac{x^2}{10^2} + \\frac{y^2}{26^2} = 1$"
   ]
  },
  {
   "cell_type": "code",
   "execution_count": null,
   "metadata": {},
   "outputs": [],
   "source": []
  },
  {
   "cell_type": "markdown",
   "metadata": {},
   "source": [
    "Write an equation for an ellipse centered at the origin, which has foci at $(0, \\pm 6)$ and `vertices` at $(0, \\pm \\sqrt{37})$\n",
    "\n",
    "$f = \\sqrt{bigger^2 - smaller^2}$\n",
    "\n",
    "$6 = \\sqrt{\\sqrt{37}^2 - a^2} $\n",
    "\n",
    "$6^2 = 37 - a^2$\n",
    "\n",
    "$a^2 = 37 - 36$\n",
    "\n",
    "$a = \\sqrt{1} = 1$\n",
    "\n",
    "$\\frac{x^2}{1^2} + \\frac{y^2}{\\sqrt{37}^2} = 1$\n",
    "\n",
    "$\\frac{x^2}{1} + \\frac{y^2}{37} = 1$"
   ]
  },
  {
   "cell_type": "code",
   "execution_count": null,
   "metadata": {},
   "outputs": [],
   "source": []
  },
  {
   "cell_type": "markdown",
   "metadata": {},
   "source": [
    "Write an equation for an ellipse centered at the origin, which has foci at $(\\pm\\sqrt{8}, 0)$ and `co-vertices` at $(0, \\pm \\sqrt{10})$\n",
    "\n",
    "$f = \\sqrt{bigger^2 - smaller^2}$\n",
    "\n",
    "$\\sqrt{8} = \\sqrt{a^2 - \\sqrt{10}^2} $\n",
    "\n",
    "$8 = a^2 - 10$\n",
    "\n",
    "$a^2 = 8 + 10$\n",
    "\n",
    "$a = \\sqrt{18}$\n",
    "\n",
    "$\\frac{x^2}{\\sqrt{18}^2} + \\frac{y^2}{\\sqrt{10}^2} = 1$\n",
    "\n",
    "$\\frac{x^2}{18} + \\frac{y^2}{10} = 1$"
   ]
  },
  {
   "cell_type": "code",
   "execution_count": null,
   "metadata": {},
   "outputs": [],
   "source": []
  },
  {
   "cell_type": "markdown",
   "metadata": {},
   "source": [
    "Write an equation for an ellipse centered at the origin, which has foci at $(\\pm 12, 0)$ and `vertices` at $(\\pm 13, 0)$\n",
    "\n",
    "$f = \\sqrt{bigger^2 - smaller^2}$\n",
    "\n",
    "$12 = \\sqrt{13^2 - b^2} $\n",
    "\n",
    "$12^2 = 13^2 - b^2$\n",
    "\n",
    "$b^2 = 13^2 - 12^2 = 25$\n",
    "\n",
    "$b = \\sqrt{25} = 5$\n",
    "\n",
    "$\\frac{x^2}{13^2} + \\frac{y^2}{25} = 1$"
   ]
  },
  {
   "cell_type": "code",
   "execution_count": null,
   "metadata": {},
   "outputs": [],
   "source": []
  },
  {
   "cell_type": "markdown",
   "metadata": {},
   "source": [
    "Write an equation for an ellipse centered at the origin, which has foci at $(0, \\pm \\sqrt{62})$ and `co-vertices` at $(\\pm 5, 0)$\n",
    "\n",
    "$f = \\sqrt{bigger^2 - smaller^2}$\n",
    "\n",
    "$\\sqrt{62} = \\sqrt{b^2 - 5^2} $\n",
    "\n",
    "$62 = b^2 - 25$\n",
    "\n",
    "$b^2 = 62 +25 = 87$\n",
    "\n",
    "$b = \\sqrt{87}$\n",
    "\n",
    "$\\frac{x^2}{25} + \\frac{y^2}{87} = 1$"
   ]
  },
  {
   "cell_type": "code",
   "execution_count": null,
   "metadata": {},
   "outputs": [],
   "source": []
  },
  {
   "cell_type": "markdown",
   "metadata": {},
   "source": [
    "Write an equation for an ellipse centered at the origin, which has foci at $(0, \\pm 15)$ and `vertices` at $(0, \\pm 25)$\n",
    "\n",
    "$f = \\sqrt{bigger^2 - smaller^2}$\n",
    "\n",
    "$15 = \\sqrt{25^2 - a^2} $\n",
    "\n",
    "$15^2 = 25^2 - a^2$\n",
    "\n",
    "$a^2 = 25^2 - 15^2$\n",
    "\n",
    "$a = \\sqrt{400} = 20$\n",
    "\n",
    "$\\frac{x^2}{20^2} + \\frac{y^2}{25^2} = 1$"
   ]
  },
  {
   "cell_type": "code",
   "execution_count": null,
   "metadata": {},
   "outputs": [],
   "source": []
  }
 ],
 "metadata": {
  "kernelspec": {
   "display_name": "Python 3",
   "language": "python",
   "name": "python3"
  },
  "language_info": {
   "codemirror_mode": {
    "name": "ipython",
    "version": 3
   },
   "file_extension": ".py",
   "mimetype": "text/x-python",
   "name": "python",
   "nbconvert_exporter": "python",
   "pygments_lexer": "ipython3",
   "version": "3.6.7"
  }
 },
 "nbformat": 4,
 "nbformat_minor": 2
}

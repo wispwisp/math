{
 "cells": [
  {
   "cell_type": "code",
   "execution_count": null,
   "metadata": {},
   "outputs": [],
   "source": [
    "import pandas as pd\n",
    "import numpy as np\n",
    "\n",
    "# import seaborn as sns\n",
    "# import matplotlib.pyplot as plt\n",
    "\n",
    "# import matplotlib\n",
    "# matplotlib.pyplot.style.use('seaborn')\n",
    "# matplotlib.rcParams['figure.figsize'] = (15, 5)\n",
    "\n",
    "# %matplotlib inline\n",
    "# %pylab inline"
   ]
  },
  {
   "cell_type": "code",
   "execution_count": null,
   "metadata": {},
   "outputs": [],
   "source": [
    "from IPython.core.interactiveshell import InteractiveShell\n",
    "InteractiveShell.ast_node_interactivity = \"all\""
   ]
  },
  {
   "cell_type": "code",
   "execution_count": null,
   "metadata": {},
   "outputs": [],
   "source": [
    "from IPython.core.display import SVG"
   ]
  },
  {
   "cell_type": "code",
   "execution_count": null,
   "metadata": {},
   "outputs": [],
   "source": [
    "import math"
   ]
  },
  {
   "cell_type": "code",
   "execution_count": null,
   "metadata": {},
   "outputs": [],
   "source": []
  },
  {
   "cell_type": "markdown",
   "metadata": {},
   "source": [
    "## The inverse composition rule: \n",
    "* $f(g(x)) = x$\n",
    "\n",
    "* $g(f(x)) = x$"
   ]
  },
  {
   "cell_type": "code",
   "execution_count": null,
   "metadata": {},
   "outputs": [],
   "source": []
  },
  {
   "cell_type": "markdown",
   "metadata": {},
   "source": [
    "$f(x) = \\frac{1}{3}x + 7$\n",
    "\n",
    "$h(x) = 3x-7$\n",
    "\n",
    "$f(h(x)) = \\frac{1}{3}(3x-7) + 7$\n",
    "\n",
    "$h(f(x)) = 3(\\frac{1}{3}x + 7)-7$\n",
    "\n",
    "\n",
    "$f(h(x)) = x - \\frac{7}{3} + 7$\n",
    "\n",
    "$h(f(x)) = x + 21 - 7$\n",
    "\n",
    "$f(h(x)) = x - \\frac{7}{3} + \\frac{7 \\cdot 3}{3}$\n",
    "\n",
    "$h(f(x)) = x + 14$\n",
    "\n",
    "$f(h(x)) = x + \\frac{-7 + 21}{3}$\n",
    "\n",
    "$h(f(x)) = x + 14$\n",
    "\n",
    "$f(h(x)) = x + \\frac{14}{3}$\n",
    "\n",
    "$h(f(x)) = x + 14$"
   ]
  },
  {
   "cell_type": "code",
   "execution_count": null,
   "metadata": {},
   "outputs": [],
   "source": []
  },
  {
   "cell_type": "markdown",
   "metadata": {},
   "source": [
    "$f(x) = 10x+6$\n",
    "\n",
    "$g(x) = \\frac{x-6}{10}$\n",
    "\n",
    "$f(g(x)) = 10(\\frac{x-6}{10})+6 = x$\n",
    "\n",
    "$g(f(x)) = \\frac{(10x+6)-6}{10} = x$"
   ]
  },
  {
   "cell_type": "code",
   "execution_count": null,
   "metadata": {},
   "outputs": [],
   "source": []
  }
 ],
 "metadata": {
  "kernelspec": {
   "display_name": "Python 3",
   "language": "python",
   "name": "python3"
  },
  "language_info": {
   "codemirror_mode": {
    "name": "ipython",
    "version": 3
   },
   "file_extension": ".py",
   "mimetype": "text/x-python",
   "name": "python",
   "nbconvert_exporter": "python",
   "pygments_lexer": "ipython3",
   "version": "3.6.8"
  }
 },
 "nbformat": 4,
 "nbformat_minor": 2
}

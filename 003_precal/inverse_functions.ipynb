{
 "cells": [
  {
   "cell_type": "code",
   "execution_count": null,
   "metadata": {},
   "outputs": [],
   "source": [
    "import pandas as pd\n",
    "import numpy as np\n",
    "\n",
    "# import seaborn as sns\n",
    "# import matplotlib.pyplot as plt\n",
    "\n",
    "# import matplotlib\n",
    "# matplotlib.pyplot.style.use('seaborn')\n",
    "# matplotlib.rcParams['figure.figsize'] = (15, 5)\n",
    "\n",
    "# %matplotlib inline\n",
    "# %pylab inline"
   ]
  },
  {
   "cell_type": "code",
   "execution_count": null,
   "metadata": {},
   "outputs": [],
   "source": [
    "from IPython.core.interactiveshell import InteractiveShell\n",
    "InteractiveShell.ast_node_interactivity = \"all\""
   ]
  },
  {
   "cell_type": "code",
   "execution_count": null,
   "metadata": {},
   "outputs": [],
   "source": [
    "from IPython.core.display import SVG"
   ]
  },
  {
   "cell_type": "code",
   "execution_count": null,
   "metadata": {},
   "outputs": [],
   "source": [
    "import math"
   ]
  },
  {
   "cell_type": "code",
   "execution_count": null,
   "metadata": {},
   "outputs": [],
   "source": []
  },
  {
   "cell_type": "markdown",
   "metadata": {},
   "source": [
    "## The inverse composition rule: \n",
    "* $f(g(x)) = x$\n",
    "\n",
    "* $g(f(x)) = x$"
   ]
  },
  {
   "cell_type": "code",
   "execution_count": null,
   "metadata": {},
   "outputs": [],
   "source": []
  },
  {
   "cell_type": "markdown",
   "metadata": {},
   "source": [
    "$f(x) = \\frac{1}{3}x + 7$\n",
    "\n",
    "$h(x) = 3x-7$\n",
    "\n",
    "$f(h(x)) = \\frac{1}{3}(3x-7) + 7$\n",
    "\n",
    "$h(f(x)) = 3(\\frac{1}{3}x + 7)-7$\n",
    "\n",
    "\n",
    "$f(h(x)) = x - \\frac{7}{3} + 7$\n",
    "\n",
    "$h(f(x)) = x + 21 - 7$\n",
    "\n",
    "$f(h(x)) = x - \\frac{7}{3} + \\frac{7 \\cdot 3}{3}$\n",
    "\n",
    "$h(f(x)) = x + 14$\n",
    "\n",
    "$f(h(x)) = x + \\frac{-7 + 21}{3}$\n",
    "\n",
    "$h(f(x)) = x + 14$\n",
    "\n",
    "$f(h(x)) = x + \\frac{14}{3}$\n",
    "\n",
    "$h(f(x)) = x + 14$"
   ]
  },
  {
   "cell_type": "code",
   "execution_count": null,
   "metadata": {},
   "outputs": [],
   "source": []
  },
  {
   "cell_type": "markdown",
   "metadata": {},
   "source": [
    "$f(x) = 10x+6$\n",
    "\n",
    "$g(x) = \\frac{x-6}{10}$\n",
    "\n",
    "$f(g(x)) = 10(\\frac{x-6}{10})+6 = x$\n",
    "\n",
    "$g(f(x)) = \\frac{(10x+6)-6}{10} = x$"
   ]
  },
  {
   "cell_type": "code",
   "execution_count": null,
   "metadata": {},
   "outputs": [],
   "source": []
  },
  {
   "cell_type": "markdown",
   "metadata": {},
   "source": [
    "# Derivatives of inverse functions\n",
    "\n",
    "$g(h(x)) = x$\n",
    "\n",
    "$\\frac{d}{dx}g(h(x)) = \\frac{d}{dx}x$\n",
    "\n",
    "Apply chain rule: ${g}'(h(x)) \\cdot {h(x)}' = 1$\n",
    "\n",
    "${h(x)}' = \\frac{1}{{g}'(h(x))}$\n",
    "\n",
    "---\n",
    "\n",
    "$h(g(x)) = x$\n",
    "\n",
    "$\\frac{d}{dx}h(g(x)) = \\frac{d}{dx}x$\n",
    "\n",
    "${g}'(x) = \\frac{1}{{h}'(g(x))}$"
   ]
  },
  {
   "cell_type": "code",
   "execution_count": null,
   "metadata": {},
   "outputs": [],
   "source": []
  },
  {
   "cell_type": "markdown",
   "metadata": {},
   "source": [
    "Find ${g}'(0)$ _(Use table from task)_\n",
    "\n",
    "${g}'(0) = \\frac{1}{{h}'(g(0))}$\n",
    "\n",
    "$g(0) = -2$\n",
    "\n",
    "${h}'(-2) = -1$\n",
    "\n",
    "${g}'(0) = \\frac{1}{-1} = -1$"
   ]
  },
  {
   "cell_type": "code",
   "execution_count": null,
   "metadata": {},
   "outputs": [],
   "source": []
  },
  {
   "cell_type": "markdown",
   "metadata": {},
   "source": [
    "$f(h(x)) = x$\n",
    "\n",
    "$\\frac{d}{dx}f(h(x)) = \\frac{d}{dx}x$\n",
    "\n",
    "${f}'(h(x)) \\cdot {h}'(x) = 1$\n",
    "\n",
    "${h}'(x) = \\frac{1}{{f}'(h(x))}$\n",
    "\n",
    "${h}'(-4) = \\frac{1}{{f}'(h(-4))}$\n",
    "\n",
    "From table:\n",
    "\n",
    "$h(-4) = 1$\n",
    "\n",
    "${f}'(1) = 4$\n",
    "\n",
    "Then:\n",
    "${h}'(-4) = \\frac{1}{4}$\n"
   ]
  },
  {
   "cell_type": "code",
   "execution_count": null,
   "metadata": {},
   "outputs": [],
   "source": []
  },
  {
   "cell_type": "markdown",
   "metadata": {},
   "source": [
    "Let $g(x) = 3 - 2x - x^3$ and $f(x)$ be an inverse. Given $g(1) = 0$. Find ${f}'(0)$\n",
    "\n",
    "$f(g(x)) = x$\n",
    "\n",
    "${f}'(g(x))\\cdot{g}'(x) = 1$\n",
    "\n",
    "${g}'(x) = \\frac{1}{{f}'(g(x))}$\n",
    "\n",
    "Take derivative of $g(x)$: ${(3 - 2x - x^3)}' = -2 - 3x^2$\n",
    "\n",
    "$-2 - 3(1)^2 = \\frac{1}{{f}'(g(1))}$\n",
    "\n",
    "$-5 = \\frac{1}{{f}'(0)}$\n",
    "\n",
    "${f}'(0) = -\\frac{1}{5}$"
   ]
  },
  {
   "cell_type": "code",
   "execution_count": null,
   "metadata": {},
   "outputs": [],
   "source": []
  },
  {
   "cell_type": "markdown",
   "metadata": {},
   "source": [
    "Let $h(x) = \\frac{1}{4}x^3 + 2x - 1$ and $g(x)$ is inverse. Given $h(2) = 5$ Find ${g}'(5)$\n",
    "\n",
    "$g(h(x)) = x$\n",
    "\n",
    "$\\frac{d}{dx}g(h(x)) = \\frac{d}{dx}x$\n",
    "\n",
    "${g}'(h(x)) \\cdot {h}'(x) = 1$\n",
    "\n",
    "${h}'(x) = \\frac{1}{{g}'(h(x))}$\n",
    "\n",
    "Take derivative of $h(x)$: ${(\\frac{1}{4}x^3 + 2x - 1)}' = \\frac{3}{4}x^2 + 2$\n",
    "\n",
    "$\\frac{3}{4}x^2 + 2 = \\frac{1}{{g}'(h(x))}$\n",
    "\n",
    "$\\frac{3}{4}(2)^2 + 2 = \\frac{1}{{g}'(h(2))}$\n",
    "\n",
    "$5 = \\frac{1}{{g}'(5)}$\n",
    "\n",
    "${g}'(5) = \\frac{1}{5}$"
   ]
  },
  {
   "cell_type": "code",
   "execution_count": null,
   "metadata": {},
   "outputs": [],
   "source": []
  },
  {
   "cell_type": "markdown",
   "metadata": {},
   "source": [
    "Let $h(x) = 7 - x -2x^5$ and let $f$ be inverse of $h$. Notice that $h(-1) = 10$. Find ${f}'(10)$\n",
    "\n",
    "$f(h(x)) = x$\n",
    "\n",
    "$\\frac{d}{dx} f(h(x)) = \\frac{d}{dx}x$\n",
    "\n",
    "${f}'(h(x)) \\cdot {h}'(x) = 1$\n",
    "\n",
    "${h}'(x) = \\frac{1}{{f}'(h(x))}$\n",
    "\n",
    "Take derivative of $h(x)$: ${h}'(x) = -1 - 10x^4$\n",
    "\n",
    "$-1 - 10x^4 = \\frac{1}{{f}'(h(x))}$\n",
    "\n",
    "$-1 - 10(-1)^4 = \\frac{1}{{f}'(h(-1))}$\n",
    "\n",
    "$-11 = \\frac{1}{{f}'(10)}$\n",
    "\n",
    "${f}'(10) = -\\frac{1}{11}$"
   ]
  },
  {
   "cell_type": "code",
   "execution_count": null,
   "metadata": {},
   "outputs": [],
   "source": []
  }
 ],
 "metadata": {
  "kernelspec": {
   "display_name": "Python 3",
   "language": "python",
   "name": "python3"
  },
  "language_info": {
   "codemirror_mode": {
    "name": "ipython",
    "version": 3
   },
   "file_extension": ".py",
   "mimetype": "text/x-python",
   "name": "python",
   "nbconvert_exporter": "python",
   "pygments_lexer": "ipython3",
   "version": "3.6.8"
  }
 },
 "nbformat": 4,
 "nbformat_minor": 2
}

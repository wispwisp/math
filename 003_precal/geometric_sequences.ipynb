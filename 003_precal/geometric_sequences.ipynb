{
 "cells": [
  {
   "cell_type": "code",
   "execution_count": null,
   "metadata": {},
   "outputs": [],
   "source": [
    "import pandas as pd\n",
    "import numpy as np\n",
    "\n",
    "# import seaborn as sns\n",
    "# import matplotlib.pyplot as plt\n",
    "\n",
    "# import matplotlib\n",
    "# matplotlib.pyplot.style.use('seaborn')\n",
    "# matplotlib.rcParams['figure.figsize'] = (15, 5)\n",
    "\n",
    "# %matplotlib inline\n",
    "# %pylab inline"
   ]
  },
  {
   "cell_type": "code",
   "execution_count": null,
   "metadata": {},
   "outputs": [],
   "source": [
    "from IPython.core.interactiveshell import InteractiveShell\n",
    "InteractiveShell.ast_node_interactivity = \"all\""
   ]
  },
  {
   "cell_type": "code",
   "execution_count": null,
   "metadata": {},
   "outputs": [],
   "source": [
    "from IPython.core.display import SVG"
   ]
  },
  {
   "cell_type": "code",
   "execution_count": null,
   "metadata": {},
   "outputs": [],
   "source": [
    "import math"
   ]
  },
  {
   "cell_type": "code",
   "execution_count": null,
   "metadata": {},
   "outputs": [],
   "source": []
  },
  {
   "cell_type": "markdown",
   "metadata": {},
   "source": [
    "# Examples\n",
    "\n",
    "What is the $3^{rd}$ in the sequence?"
   ]
  },
  {
   "cell_type": "markdown",
   "metadata": {},
   "source": [
    "$\\left\\{\n",
    "    \\begin{array}{ll}\n",
    "       c(1) =\\frac{3}{16} \\\\\n",
    "       c(n) = c(n-1) \\cdot 4\n",
    "    \\end{array}\n",
    "\\right.$"
   ]
  },
  {
   "cell_type": "markdown",
   "metadata": {},
   "source": [
    "$c(1) = \\frac{3}{16}$\n",
    "\n",
    "$c(2) = \\frac{3}{16} \\cdot 4 = \\frac{3 \\cdot 4}{16} = \\frac{3}{4}$\n",
    "\n",
    "$c(3) = \\frac{3}{4} \\cdot 4 = \\frac{3 \\cdot 4}{4} = \\frac{3}{1} = 1$\n",
    "\n",
    "Use explicit formula $a_1 \\cdot r^{n-1}$\n",
    "\n",
    "$c(n) = \\left( \\frac{3}{16} \\right) \\cdot 4^{n-1}$\n",
    "\n",
    "$c(3) = \\left( \\frac{3}{16} \\right) \\cdot 4^{3-1} =\n",
    "\\left( \\frac{3}{16} \\right) \\cdot 4^{2} =\n",
    "\\frac{3 \\cdot 16}{16} = 3\n",
    "$"
   ]
  },
  {
   "cell_type": "code",
   "execution_count": null,
   "metadata": {},
   "outputs": [],
   "source": []
  }
 ],
 "metadata": {
  "kernelspec": {
   "display_name": "Python 3",
   "language": "python",
   "name": "python3"
  },
  "language_info": {
   "codemirror_mode": {
    "name": "ipython",
    "version": 3
   },
   "file_extension": ".py",
   "mimetype": "text/x-python",
   "name": "python",
   "nbconvert_exporter": "python",
   "pygments_lexer": "ipython3",
   "version": "3.6.8"
  }
 },
 "nbformat": 4,
 "nbformat_minor": 2
}

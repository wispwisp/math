{
 "cells": [
  {
   "cell_type": "code",
   "execution_count": null,
   "metadata": {},
   "outputs": [],
   "source": [
    "import pandas as pd\n",
    "import numpy as np\n",
    "\n",
    "import seaborn as sns\n",
    "import matplotlib.pyplot as plt\n",
    "\n",
    "import matplotlib\n",
    "matplotlib.pyplot.style.use('seaborn')\n",
    "matplotlib.rcParams['figure.figsize'] = (15, 5)\n",
    "\n",
    "%matplotlib inline\n",
    "%pylab inline"
   ]
  },
  {
   "cell_type": "code",
   "execution_count": null,
   "metadata": {},
   "outputs": [],
   "source": [
    "from IPython.core.interactiveshell import InteractiveShell\n",
    "InteractiveShell.ast_node_interactivity = \"all\""
   ]
  },
  {
   "cell_type": "code",
   "execution_count": null,
   "metadata": {},
   "outputs": [],
   "source": [
    "from IPython.core.display import SVG"
   ]
  },
  {
   "cell_type": "code",
   "execution_count": null,
   "metadata": {},
   "outputs": [],
   "source": [
    "import math"
   ]
  },
  {
   "cell_type": "code",
   "execution_count": null,
   "metadata": {},
   "outputs": [],
   "source": [
    "def draw(a, b, c, r):\n",
    "    xs = []\n",
    "    ys = []\n",
    "    for x in range(r[0], r[1]):\n",
    "        y=a*(x**2) + (b*x) + c\n",
    "        xs.append(x)\n",
    "        ys.append(y)\n",
    "\n",
    "    fig, ax = plt.subplots(1,1, sharex='col', figsize = (10, 5))\n",
    "    ax.plot(xs, ys, color='blue')"
   ]
  },
  {
   "cell_type": "code",
   "execution_count": null,
   "metadata": {},
   "outputs": [],
   "source": []
  },
  {
   "cell_type": "markdown",
   "metadata": {},
   "source": [
    "# Then can be factored (optional)\n",
    "\n",
    "$y = 5x^2 -20x + 15$\n",
    "\n",
    "---\n",
    "\n",
    "## When intersect x axis:\n",
    "\n",
    "$5x^2 -20x + 15 = 0$\n",
    "\n",
    "$x^2 - 4x + 3 = 0$\n",
    "\n",
    "$\\left\\{\n",
    "    \\begin{array}{ll}\n",
    "       a + b = -4 \\\\\n",
    "       ab = 3\n",
    "    \\end{array}\n",
    "\\right.$\n",
    "\n",
    "(-1, -3)\n",
    "\n",
    "(x-1)(x-3) = 0\n",
    "\n",
    "$x_1 = 1$\n",
    "\n",
    "$x_2 = 3$\n",
    "\n",
    "## Vertex:\n",
    "\n",
    "Always between roots\n",
    "\n",
    "$\\frac{1 + 3}{2} = 2$\n",
    "\n",
    "$5(2)^2 -20(2) + 15 = -5$\n",
    "\n",
    "vertex: $(2, -5)$"
   ]
  },
  {
   "cell_type": "code",
   "execution_count": null,
   "metadata": {},
   "outputs": [],
   "source": []
  },
  {
   "cell_type": "markdown",
   "metadata": {},
   "source": [
    "# Complete square (then unfactoreable)\n",
    "\n",
    "## Solve by vertex\n",
    "\n",
    "$g(x) = x^2 + 4x + 1$\n",
    "\n",
    "$x_{vertex} = \\frac{-b}{2a}$\n",
    "\n",
    "$x_{vertex} = \\frac{-4}{2} = -2$\n",
    "\n",
    "$y_{vertex} = (-2)^2 + 4(-2) + 1 = 4 - 8 + 1 = -3$\n",
    "\n",
    "`(-2, -3)`\n",
    "\n",
    "#### OR Completing a square:\n",
    "\n",
    "Take `b` coefficient, half it and square it. Also if we add smth we should substract same amount.\n",
    "\n",
    "$g(x) = (x^2 + 4x + (+4)) + 1 + (-4)$\n",
    "\n",
    "$g(x) = (x^2 + 4x + (+4)) -3$\n",
    "\n",
    "$g(x) = (x + 2)^2 - 3$\n",
    "\n",
    "minimum values when $(x+2)^2 = 0$ -> `x=-2`\n",
    "\n",
    "So `g(x)` of minimum value: `-3`\n",
    "\n",
    "## y-intercept\n",
    "\n",
    "The y-intercept of a parabola in the form $ax^2 + bx + c$ is `(0, c)`\n",
    "\n",
    "Here `c` = +1\n",
    "\n",
    "So: `(0, 1)`"
   ]
  },
  {
   "cell_type": "code",
   "execution_count": null,
   "metadata": {},
   "outputs": [],
   "source": []
  },
  {
   "cell_type": "markdown",
   "metadata": {},
   "source": [
    "---\n",
    "\n",
    "# Examples:"
   ]
  },
  {
   "cell_type": "code",
   "execution_count": null,
   "metadata": {},
   "outputs": [],
   "source": []
  },
  {
   "cell_type": "markdown",
   "metadata": {},
   "source": [
    "$\\frac{2}{3}x^2 +4x + 4$\n",
    "\n",
    "$\\frac{2}{3}(x^2 + 6x + (\\frac{6}{2})^2) + 4 - (\\frac{6}{2})^2$\n",
    "\n",
    "$\\frac{2}{3}(x^2 + 6x + 9) + 4 - 9$\n",
    "\n",
    "$\\frac{2}{3}(x+3)^2 -5$\n",
    "\n",
    "parabola reaches minimum values when $(x+3)^2 = 0$ -> `x = -3`\n",
    "\n",
    "$y = \\frac{2}{3}(-3)^2 +4(-3) + 4$\n",
    "\n",
    "$\\frac{2}{3}(-3)^2 +4(-3) + 4 = 6 - 12 + 4 = -2$\n",
    "\n",
    "###### vertex:\n",
    "\n",
    "$x = -3$\n",
    "\n",
    "$y = -2$\n",
    "\n",
    "(-3, -2)\n",
    "\n",
    "###### y-intercept:\n",
    "\n",
    "The y-intercept of a parabola in the form $ax^2 + bx + c$ is `(0, c)`\n",
    "\n",
    "Here `c` = +4\n",
    "\n",
    "So: `(0, 4)`"
   ]
  },
  {
   "cell_type": "code",
   "execution_count": null,
   "metadata": {},
   "outputs": [],
   "source": [
    "draw(a=2/3, b=4, c=4, r=(-10,5))"
   ]
  },
  {
   "cell_type": "code",
   "execution_count": null,
   "metadata": {},
   "outputs": [],
   "source": []
  },
  {
   "cell_type": "markdown",
   "metadata": {},
   "source": [
    "$\\frac{1}{5}x^2 - 2x -1$\n",
    "\n",
    "$\\frac{1}{5}\\left(  x^2 - 10x  \\right) - 1$\n",
    "\n",
    "$\\frac{1}{5}\\left(  x^2 - 10x + (\\frac{10}{2})^2 \\right) - 1 - (\\frac{10}{2})^2$\n",
    "\n",
    "$\\frac{1}{5}\\left(  x^2 - 10x + 25 \\right) - 1 - 25$\n",
    "\n",
    "$\\frac{1}{5}(x - 5)^2 - 26$\n",
    "\n",
    "\n",
    "parabola reaches minimum values when $(x-5)^2 = 0$ -> `x = 5`\n",
    "\n",
    "$y = \\frac{1}{5}x^2 - 2x - 1$\n",
    "\n",
    "$y = \\frac{1}{5}(5)^2 - 2(5) - 1 = -6$\n",
    "\n",
    "###### vertex:\n",
    "\n",
    "$x = 5$\n",
    "\n",
    "$y = -6$\n",
    "\n",
    "(5, -6)\n",
    "\n",
    "###### y-intercept:\n",
    "\n",
    "The y-intercept of a parabola in the form $ax^2 + bx + c$ is `(0, c)`\n",
    "\n",
    "Here `c` = -1\n",
    "\n",
    "So: `(0, -1)`"
   ]
  },
  {
   "cell_type": "code",
   "execution_count": null,
   "metadata": {},
   "outputs": [],
   "source": [
    "draw(a=1/5, b=-2, c=-1, r=(-4,15))"
   ]
  },
  {
   "cell_type": "code",
   "execution_count": null,
   "metadata": {},
   "outputs": [],
   "source": []
  }
 ],
 "metadata": {
  "kernelspec": {
   "display_name": "Python 3",
   "language": "python",
   "name": "python3"
  },
  "language_info": {
   "codemirror_mode": {
    "name": "ipython",
    "version": 3
   },
   "file_extension": ".py",
   "mimetype": "text/x-python",
   "name": "python",
   "nbconvert_exporter": "python",
   "pygments_lexer": "ipython3",
   "version": "3.6.8"
  }
 },
 "nbformat": 4,
 "nbformat_minor": 2
}

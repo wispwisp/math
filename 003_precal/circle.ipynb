{
 "cells": [
  {
   "cell_type": "code",
   "execution_count": null,
   "metadata": {},
   "outputs": [],
   "source": [
    "import pandas as pd\n",
    "import numpy as np\n",
    "\n",
    "# import seaborn as sns\n",
    "# import matplotlib.pyplot as plt\n",
    "\n",
    "# import matplotlib\n",
    "# matplotlib.pyplot.style.use('seaborn')\n",
    "# matplotlib.rcParams['figure.figsize'] = (15, 5)\n",
    "\n",
    "# %matplotlib inline\n",
    "# %pylab inline"
   ]
  },
  {
   "cell_type": "code",
   "execution_count": null,
   "metadata": {},
   "outputs": [],
   "source": [
    "from IPython.core.interactiveshell import InteractiveShell\n",
    "InteractiveShell.ast_node_interactivity = \"all\""
   ]
  },
  {
   "cell_type": "code",
   "execution_count": null,
   "metadata": {},
   "outputs": [],
   "source": [
    "from IPython.core.display import SVG"
   ]
  },
  {
   "cell_type": "code",
   "execution_count": null,
   "metadata": {},
   "outputs": [],
   "source": [
    "import math"
   ]
  },
  {
   "cell_type": "code",
   "execution_count": null,
   "metadata": {},
   "outputs": [],
   "source": []
  },
  {
   "cell_type": "markdown",
   "metadata": {},
   "source": [
    "# circle expanded equation"
   ]
  },
  {
   "cell_type": "markdown",
   "metadata": {},
   "source": [
    "$x^2 + y^2 - 12x + 6y + 36 = 0$\n",
    "\n",
    "Complete the square in terms of `x's` and `y's`\n",
    "\n",
    "$(x^2 - 12x) + (y^2 + 6y) + 36 = 0$\n",
    "\n",
    "$(x^2 - 12x + (\\frac{12}{2})^2) + (y^2 + 6y + (\\frac{6}{2})^2) + 36   = 0 + (\\frac{12}{2})^2 + (\\frac{6}{2})^2$\n",
    "\n",
    "$(x^2 - 12x + 36) + (y^2 + 6y + 9) + 36   = 0 + 36 + 9$\n",
    "\n",
    "$(x-6)^2 + (y+3)^2 + 36 = 0 + 36 + 9$\n",
    "\n",
    "$(x-6)^2 + (y+3)^2 = 9$\n",
    "\n",
    "Remeber circle eq $x^2 + y^2 = r^2$\n",
    "\n",
    "---\n",
    "\n",
    "x-coord of the center: `6`\n",
    "\n",
    "y-coord of the center: `-3`\n",
    "\n",
    "radius: $\\sqrt{9}$ = `3`"
   ]
  },
  {
   "cell_type": "code",
   "execution_count": null,
   "metadata": {},
   "outputs": [],
   "source": []
  }
 ],
 "metadata": {
  "kernelspec": {
   "display_name": "Python 3",
   "language": "python",
   "name": "python3"
  },
  "language_info": {
   "codemirror_mode": {
    "name": "ipython",
    "version": 3
   },
   "file_extension": ".py",
   "mimetype": "text/x-python",
   "name": "python",
   "nbconvert_exporter": "python",
   "pygments_lexer": "ipython3",
   "version": "3.6.8"
  }
 },
 "nbformat": 4,
 "nbformat_minor": 2
}

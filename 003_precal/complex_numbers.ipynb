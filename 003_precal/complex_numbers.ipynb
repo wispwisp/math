{
 "cells": [
  {
   "cell_type": "code",
   "execution_count": null,
   "metadata": {},
   "outputs": [],
   "source": [
    "import pandas as pd\n",
    "import numpy as np\n",
    "\n",
    "# import seaborn as sns\n",
    "# import matplotlib.pyplot as plt\n",
    "\n",
    "# import matplotlib\n",
    "# matplotlib.pyplot.style.use('seaborn')\n",
    "# matplotlib.rcParams['figure.figsize'] = (15, 5)\n",
    "\n",
    "# %matplotlib inline\n",
    "# %pylab inline"
   ]
  },
  {
   "cell_type": "code",
   "execution_count": null,
   "metadata": {},
   "outputs": [],
   "source": [
    "from IPython.core.interactiveshell import InteractiveShell\n",
    "InteractiveShell.ast_node_interactivity = \"all\""
   ]
  },
  {
   "cell_type": "code",
   "execution_count": null,
   "metadata": {},
   "outputs": [],
   "source": [
    "from IPython.core.display import SVG"
   ]
  },
  {
   "cell_type": "code",
   "execution_count": null,
   "metadata": {},
   "outputs": [],
   "source": [
    "import math"
   ]
  },
  {
   "cell_type": "code",
   "execution_count": null,
   "metadata": {},
   "outputs": [],
   "source": []
  },
  {
   "cell_type": "markdown",
   "metadata": {},
   "source": [
    "# Equivalent to the complex number\n",
    "\n",
    "$i^{13} = (i^4)^3 * i = 1 \\cdot i = i$"
   ]
  },
  {
   "cell_type": "code",
   "execution_count": null,
   "metadata": {},
   "outputs": [],
   "source": []
  },
  {
   "cell_type": "markdown",
   "metadata": {},
   "source": [
    "# Distance complex numbers"
   ]
  },
  {
   "cell_type": "code",
   "execution_count": null,
   "metadata": {},
   "outputs": [],
   "source": []
  },
  {
   "cell_type": "markdown",
   "metadata": {},
   "source": [
    "d( (8 + 8i), (-8 + 8i) ) = $(8, 8) - (-8, 8) = (16, 0)$\n",
    "\n",
    "$|(16, 0)|$ - vectors `||` operation - take hypotenuse\n",
    "\n",
    "$|(16, 0)| = \\sqrt{16^2 + 0^2} = \\sqrt{256} = 16$"
   ]
  },
  {
   "cell_type": "code",
   "execution_count": null,
   "metadata": {},
   "outputs": [],
   "source": []
  },
  {
   "cell_type": "markdown",
   "metadata": {},
   "source": [
    "d( (2 + 6i), (6 - 3i) ) = $(2, 6) - (6, -3) = (-4, 9)$\n",
    "\n",
    "$|(-4, 9i)| = \\sqrt{(-4)^2 + 9^2} = \\sqrt{16 + 81} = \\sqrt{97}$"
   ]
  },
  {
   "cell_type": "code",
   "execution_count": null,
   "metadata": {},
   "outputs": [],
   "source": []
  },
  {
   "cell_type": "markdown",
   "metadata": {},
   "source": [
    "d( (8 + 2i), (2 + 8i) ) = $(8, 2) - (2, 8) = (6, -6)$\n",
    "\n",
    "$|(6, -6)| = \\sqrt{6^2 + (-6)^2} = \\sqrt{36 + 36} = \\sqrt{72} = \\sqrt{36 \\cdot 2} =6\\sqrt{2}$"
   ]
  },
  {
   "cell_type": "code",
   "execution_count": null,
   "metadata": {},
   "outputs": [],
   "source": []
  },
  {
   "cell_type": "markdown",
   "metadata": {},
   "source": [
    "d( (-9 - 14i), (-2 - 13i) ) = $(-9, -14) - (-2, -13) = (-7, -1)$\n",
    "\n",
    "$|(-7, -1)| = \\sqrt{(-7)^2 + (-1)^2} = \\sqrt{49 + 1} = \\sqrt{50} = 5\\sqrt{2}$"
   ]
  },
  {
   "cell_type": "code",
   "execution_count": null,
   "metadata": {},
   "outputs": [],
   "source": []
  },
  {
   "cell_type": "markdown",
   "metadata": {},
   "source": [
    "# Midpoint of complex numbers"
   ]
  },
  {
   "cell_type": "markdown",
   "metadata": {},
   "source": [
    "m( (8 + 5i), (12 + 3i) )\n",
    "\n",
    "\"Take mean of real part and mean of imaginary part\"\n",
    "\n",
    "$\\frac{8 + 12}{2} + \\frac{5 + 3}{2}i$\n",
    "\n",
    "$\\frac{20}{2} + \\frac{8}{2}i = 10 + 4i$"
   ]
  },
  {
   "cell_type": "code",
   "execution_count": null,
   "metadata": {},
   "outputs": [],
   "source": []
  },
  {
   "cell_type": "markdown",
   "metadata": {},
   "source": [
    "m( (-2 -3i), (-9 - 3i) )\n",
    "\n",
    "$\\frac{-2 -9}{2} + \\frac{-3 -3}{2}i$\n",
    "\n",
    "$\\frac{-11}{2} + \\frac{-6}{2}i = -5.5 - 3i$"
   ]
  },
  {
   "cell_type": "code",
   "execution_count": null,
   "metadata": {},
   "outputs": [],
   "source": []
  },
  {
   "cell_type": "markdown",
   "metadata": {},
   "source": [
    "m( (14 + 6i), (-6 + 6i) )\n",
    "\n",
    "$\\frac{14 - 6}{2} + \\frac{6 + 6}{2}i$\n",
    "\n",
    "$\\frac{8}{2} + \\frac{12}{2}i = 4 +6i$"
   ]
  },
  {
   "cell_type": "code",
   "execution_count": null,
   "metadata": {},
   "outputs": [],
   "source": []
  },
  {
   "cell_type": "markdown",
   "metadata": {},
   "source": [
    "m( (-8 - 4i), (-12 + i) )\n",
    "\n",
    "$\\frac{ (-8 - 12)}{2} + \\frac{-4 + 1}{2}i$\n",
    "\n",
    "$\\frac{-20}{2} + \\frac{-3}{2}i = -10 - 1.5i$"
   ]
  },
  {
   "cell_type": "code",
   "execution_count": null,
   "metadata": {},
   "outputs": [],
   "source": []
  },
  {
   "cell_type": "markdown",
   "metadata": {},
   "source": [
    "m( (2 + i), (1 - 6i) )\n",
    "\n",
    "$\\frac{2+1}{2} + \\frac{1-6}{2}i$\n",
    "\n",
    "$\\frac{3}{2} + \\frac{-5}{2}i = 1.5 - 2.5i$"
   ]
  },
  {
   "cell_type": "code",
   "execution_count": null,
   "metadata": {},
   "outputs": [],
   "source": []
  },
  {
   "cell_type": "markdown",
   "metadata": {},
   "source": [
    "# conjugates"
   ]
  },
  {
   "cell_type": "markdown",
   "metadata": {},
   "source": [
    "conjugate - same real part, opposite sign imaginary part"
   ]
  },
  {
   "cell_type": "markdown",
   "metadata": {},
   "source": [
    "$z = 7 - 5i$\n",
    "\n",
    "$\\overline{z} = 7 + 5i$"
   ]
  },
  {
   "cell_type": "markdown",
   "metadata": {},
   "source": []
  }
 ],
 "metadata": {
  "kernelspec": {
   "display_name": "Python 3",
   "language": "python",
   "name": "python3"
  },
  "language_info": {
   "codemirror_mode": {
    "name": "ipython",
    "version": 3
   },
   "file_extension": ".py",
   "mimetype": "text/x-python",
   "name": "python",
   "nbconvert_exporter": "python",
   "pygments_lexer": "ipython3",
   "version": "3.6.8"
  }
 },
 "nbformat": 4,
 "nbformat_minor": 2
}

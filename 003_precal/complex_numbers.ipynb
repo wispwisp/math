{
 "cells": [
  {
   "cell_type": "code",
   "execution_count": null,
   "metadata": {},
   "outputs": [],
   "source": [
    "import pandas as pd\n",
    "import numpy as np\n",
    "\n",
    "# import seaborn as sns\n",
    "# import matplotlib.pyplot as plt\n",
    "\n",
    "# import matplotlib\n",
    "# matplotlib.pyplot.style.use('seaborn')\n",
    "# matplotlib.rcParams['figure.figsize'] = (15, 5)\n",
    "\n",
    "# %matplotlib inline\n",
    "# %pylab inline"
   ]
  },
  {
   "cell_type": "code",
   "execution_count": null,
   "metadata": {},
   "outputs": [],
   "source": [
    "from IPython.core.interactiveshell import InteractiveShell\n",
    "InteractiveShell.ast_node_interactivity = \"all\""
   ]
  },
  {
   "cell_type": "code",
   "execution_count": null,
   "metadata": {},
   "outputs": [],
   "source": [
    "from IPython.core.display import SVG"
   ]
  },
  {
   "cell_type": "code",
   "execution_count": null,
   "metadata": {},
   "outputs": [],
   "source": [
    "import math"
   ]
  },
  {
   "cell_type": "code",
   "execution_count": null,
   "metadata": {},
   "outputs": [],
   "source": []
  },
  {
   "cell_type": "markdown",
   "metadata": {},
   "source": [
    "# Polar\n",
    "\n",
    "$z = a + bi$ <===> $(r, \\Theta)$\n",
    "\n",
    "$r = |z| = \\sqrt{(a)^2 + (b)^2}$ modulus\n",
    "\n",
    "$\\Theta = arctan(\\frac{b}{a})$ argument\n",
    "\n",
    "$z = r(cos \\Theta + i \\cdot sin \\Theta)$"
   ]
  },
  {
   "cell_type": "markdown",
   "metadata": {},
   "source": [
    "### * * *\n",
    "\n",
    "### Get angle\n",
    "\n",
    "$\\Theta = arctan(\\frac{b}{a})$\n",
    "\n",
    "Using the identities:\n",
    "\n",
    "$tan(−180+θ)=tan(θ)$ `use then I, III Quarant`\n",
    "\n",
    "$tan(180+θ)=tan(θ)$ `use then II, IV Quarant`\n",
    "\n",
    "$tan(−\\pi+θ)=tan(θ)$ `use then I, III Quarant`\n",
    "\n",
    "$tan(\\pi+θ)=tan(θ)$ `use then II, IV Quarant`\n",
    "\n",
    "In order to determine which of these two solutions is the angle - look at a quadrant."
   ]
  },
  {
   "cell_type": "code",
   "execution_count": null,
   "metadata": {},
   "outputs": [],
   "source": [
    "d = math.degrees(math.atan(3 / -5))\n",
    "d\n",
    "\n",
    "180 + d"
   ]
  },
  {
   "cell_type": "code",
   "execution_count": null,
   "metadata": {},
   "outputs": [],
   "source": [
    "d = math.atan(3 / -5)\n",
    "d\n",
    "\n",
    "math.pi + d"
   ]
  },
  {
   "cell_type": "markdown",
   "metadata": {},
   "source": [
    "### * * *\n",
    "\n",
    "### Convert to rectangular form\n",
    "\n",
    "$z = r(cos \\Theta + i \\cdot sin \\Theta) -> a + bi$"
   ]
  },
  {
   "cell_type": "code",
   "execution_count": null,
   "metadata": {},
   "outputs": [],
   "source": [
    "r = 22\n",
    "theta = math.radians(56)\n",
    "\n",
    "((r * math.cos(theta)), (r * math.sin(theta)))"
   ]
  },
  {
   "cell_type": "code",
   "execution_count": null,
   "metadata": {},
   "outputs": [],
   "source": []
  },
  {
   "cell_type": "markdown",
   "metadata": {},
   "source": [
    "$z = 10(cos(270^{\\circ}) + isin(270^{\\circ}))$\n",
    "\n",
    "$|z|  = r = 10$\n",
    "\n",
    "$\\Theta = 270$\n",
    "\n",
    "$(10 \\cdot 0) + i(10 \\cdot -1) = -10i$"
   ]
  },
  {
   "cell_type": "code",
   "execution_count": null,
   "metadata": {},
   "outputs": [],
   "source": []
  },
  {
   "cell_type": "markdown",
   "metadata": {},
   "source": [
    "$z = 8(cos(150^{\\circ}) + isin(150^{\\circ}))$\n",
    "\n",
    "$8 \\cdot -\\frac{\\sqrt{3}}{2} + i \\left(8 \\cdot \\frac{1}{2} \\right) = -4\\sqrt{3} + 4i$"
   ]
  },
  {
   "cell_type": "code",
   "execution_count": null,
   "metadata": {},
   "outputs": [],
   "source": []
  },
  {
   "cell_type": "markdown",
   "metadata": {},
   "source": [
    "$z = 11(cos(180^{\\circ}) + isin(180^{\\circ}))$\n",
    "\n",
    "$11 \\cdot -1 + i \\left(11 \\cdot 0 \\right) = -11$"
   ]
  },
  {
   "cell_type": "code",
   "execution_count": null,
   "metadata": {},
   "outputs": [],
   "source": []
  },
  {
   "cell_type": "markdown",
   "metadata": {},
   "source": [
    "$z = 14\\left[cos(\\frac{\\pi}{2}) + isin(\\frac{\\pi}{2}) \\right]$\n",
    "\n",
    "$14 \\cdot 0 + i \\left(14 \\cdot 1 \\right) = 14i$"
   ]
  },
  {
   "cell_type": "code",
   "execution_count": null,
   "metadata": {},
   "outputs": [],
   "source": []
  },
  {
   "cell_type": "markdown",
   "metadata": {},
   "source": [
    "$z = 12\\left[cos(45^{\\circ}) + isin(45^{\\circ}) \\right]$\n",
    "\n",
    "$12 \\cdot \\frac{\\sqrt{2}}{2} + i \\left(12 \\cdot \\frac{\\sqrt{2}}{2} \\right) = 6\\sqrt{2} + 6\\sqrt{2}i$"
   ]
  },
  {
   "cell_type": "code",
   "execution_count": null,
   "metadata": {},
   "outputs": [],
   "source": []
  },
  {
   "cell_type": "markdown",
   "metadata": {},
   "source": [
    "$z = 4\\left[cos(\\frac{11\\pi}{6}) + isin(\\frac{11\\pi}{6}) \\right]$\n",
    "\n",
    "$4 \\cdot \\frac{\\sqrt{3}}{2} + i \\left(4 \\cdot -\\frac{1}{2} \\right) = 2\\sqrt{3} -2i$"
   ]
  },
  {
   "cell_type": "code",
   "execution_count": null,
   "metadata": {},
   "outputs": [],
   "source": []
  },
  {
   "cell_type": "markdown",
   "metadata": {},
   "source": [
    "### * * *\n",
    "\n",
    "### Convert to ploar from\n",
    "\n",
    "$z = a + bi$ -> $(r, \\Theta) -> r(cos \\Theta + i \\cdot sin \\Theta)$:\n",
    "\n",
    "---\n",
    "\n",
    "$r = |z| = \\sqrt{(a)^2 + (b)^2}$ modulus\n",
    "\n",
    "$\\Theta = arctan(\\frac{b}{a})$ argument"
   ]
  },
  {
   "cell_type": "code",
   "execution_count": null,
   "metadata": {},
   "outputs": [],
   "source": [
    "a = -14\n",
    "b = 14\n",
    "\n",
    "r = math.sqrt(a**2 + b**2)\n",
    "print(\"r:\", r)\n",
    "\n",
    "theta = math.atan(b / a)\n",
    "\n",
    "t1 = theta\n",
    "print(\"theta 1:\", math.degrees(t1))\n",
    "\n",
    "t2 = -math.pi + theta # check quadtant for -14 + 14i (II), and take that root\n",
    "print(\"theta 2:\", math.degrees(t2))"
   ]
  },
  {
   "cell_type": "code",
   "execution_count": null,
   "metadata": {},
   "outputs": [],
   "source": []
  },
  {
   "cell_type": "markdown",
   "metadata": {},
   "source": [
    "$z = -14 + 14i$\n",
    "\n",
    "$r = \\sqrt{(-14)^2 + 14^2}$\n",
    "\n",
    "Since `a` is negative and `b`is positive, $\\Theta$ must lie in `Quadrant II` Therefore its angle must be between $90^{\\circ}$ degree and $180^{\\circ}$\n",
    "\n",
    "$\\Theta_1 = arctan(\\frac{14}{-14}) = arctan(-1) = -45^{\\circ}$\n",
    "\n",
    "$\\Theta_2 = 180 + arctan(-1) = -135^{\\circ}$\n",
    "\n",
    "$z = \\sqrt{392} \\left[ cos(-135^{\\circ}) +isin(-135^{\\circ}) \\right]$\n",
    "\n",
    "$z = 14\\sqrt{2} \\left[ cos(-135^{\\circ}) +isin(-135^{\\circ}) \\right]$"
   ]
  },
  {
   "cell_type": "code",
   "execution_count": null,
   "metadata": {},
   "outputs": [],
   "source": []
  },
  {
   "cell_type": "markdown",
   "metadata": {},
   "source": [
    "$z = 4 - 4i$\n",
    "\n",
    "$r = \\sqrt{(4)^2 + (-4)^2} = \\sqrt{32} = 4\\sqrt{2}$\n",
    "\n",
    "Since `a` is positive and `b`is negative, $\\Theta$ must lie in `Quadrant IV`. Its angle must be between $270^{\\circ}$ degree and $360^{\\circ}$\n",
    "\n",
    "Using the identity $tan(360+θ)=tan(θ)$\n",
    "\n",
    "$\\Theta_1 = arctan(\\frac{4}{-4}) = arctan(-1) = -45^{\\circ}$\n",
    "\n",
    "$\\Theta_2 = 360 + arctan(-1) = 315^{\\circ}$\n",
    "\n",
    "$z = 4\\sqrt{2} \\left[ cos(315^{\\circ}) +isin(315^{\\circ}) \\right]$"
   ]
  },
  {
   "cell_type": "code",
   "execution_count": null,
   "metadata": {},
   "outputs": [],
   "source": []
  },
  {
   "cell_type": "markdown",
   "metadata": {},
   "source": [
    "$z = -8\\sqrt{3} + 8i$\n",
    "\n",
    "$r = \\sqrt{\\left(-8\\sqrt{3} \\right)^2 + (8)^2} = \\sqrt{256} = 16$\n",
    "\n",
    "Since `a` is negative and `b`is positive, $\\Theta$ must lie in `Quadrant II` Therefore its angle must be between $90^{\\circ}$ degree and $180^{\\circ}$\n",
    "\n",
    "Using the identity $tan(180+θ)=tan(θ)$\n",
    "\n",
    "$\\Theta_1 = arctan\\left(\\frac{8}{-8\\sqrt{3}} \\right) = arctan\\left(-\\frac{1}{\\sqrt{3}} \\right) = -30^{\\circ}$\n",
    "\n",
    "$\\Theta_2 = 180 + arctan\\left(-\\frac{1}{\\sqrt{3}} \\right) = 150^{\\circ}$\n",
    "\n",
    "$z = 16 \\left[ cos(150^{\\circ}) +isin(150^{\\circ}) \\right]$"
   ]
  },
  {
   "cell_type": "code",
   "execution_count": null,
   "metadata": {},
   "outputs": [],
   "source": []
  },
  {
   "cell_type": "markdown",
   "metadata": {},
   "source": [
    "$z = -5\\sqrt{5} - 5\\sqrt{15}i$\n",
    "\n",
    "$r = \\sqrt{\\left(-5\\sqrt{5} \\right)^2 + \\left(-5\\sqrt{15} \\right)^2} = 10\\sqrt{5}$\n",
    "\n",
    "Since `a` is negative and `b`is negative, $\\Theta$ must lie in `Quadrant III` Therefore its angle must be between $\\pi$ and $\\frac{3\\pi}{2}$\n",
    "\n",
    "Using the identity $tan(\\pi+θ)=tan(θ)$\n",
    "\n",
    "$\\Theta_1 = arctan\\left(\\frac{-5\\sqrt{15}}{-5\\sqrt{5}} \\right) =\n",
    "arctan\\left(\\frac{\\sqrt{15}}{\\sqrt{5}} \\right) =\n",
    "arctan\\left(\\frac{\\sqrt{3} \\sqrt{5}}{\\sqrt{5}} \\right) =\n",
    "arctan(\\sqrt{3}) =\n",
    "\\frac{\\pi}{3}$\n",
    "\n",
    "$\\Theta_2 = \\pi + \\frac{\\pi}{3} = \\frac{4\\pi}{3}$\n",
    "\n",
    "$z = 10\\sqrt{5} \\left[ cos(\\frac{4\\pi}{3}) +isin(\\frac{4\\pi}{3}) \\right]$"
   ]
  },
  {
   "cell_type": "code",
   "execution_count": null,
   "metadata": {},
   "outputs": [],
   "source": []
  },
  {
   "cell_type": "markdown",
   "metadata": {},
   "source": [
    "$z = 3\\sqrt{3} -9i$\n",
    "\n",
    "$r = \\sqrt{(3\\sqrt{3})^2 + (-9)^2} = \\sqrt{108} = \\sqrt{3\\cdot3\\cdot3\\cdot2\\cdot2} = 6\\sqrt{3}$\n",
    "\n",
    "Since `a` is positive and `b`is negative, $\\theta$ must lie in `Quadrant IV`. Its angle must be between $\\frac{3\\pi}{2}$ degree and $2\\pi$\n",
    "\n",
    "To get positive value (asked range 0 to $2\\pi$), extract result from $2\\pi$ _(Using the identity $tan(2\\pi+θ)=tan(θ)$)_\n",
    "\n",
    "$\\theta_1 = arctan(-\\frac{9}{3\\sqrt{3}}) = -\\frac{\\pi}{3}$\n",
    "\n",
    "$\\theta_2 = 2\\pi + (-\\frac{\\pi}{3}) = \\frac{6\\pi}{3} -\\frac{\\pi}{3} = \\frac{5\\pi}{3}$\n",
    "\n",
    "$z = 6\\sqrt{3} \\left[ cos(\\frac{5\\pi}{3}) +isin(\\frac{5\\pi}{3}) \\right]$"
   ]
  },
  {
   "cell_type": "code",
   "execution_count": null,
   "metadata": {},
   "outputs": [],
   "source": []
  },
  {
   "cell_type": "markdown",
   "metadata": {},
   "source": [
    "# Equivalent to the complex number\n",
    "\n",
    "$i^{13} = (i^4)^3 * i = 1 \\cdot i = i$"
   ]
  },
  {
   "cell_type": "code",
   "execution_count": null,
   "metadata": {},
   "outputs": [],
   "source": []
  },
  {
   "cell_type": "markdown",
   "metadata": {},
   "source": [
    "# Distance complex numbers"
   ]
  },
  {
   "cell_type": "code",
   "execution_count": null,
   "metadata": {},
   "outputs": [],
   "source": []
  },
  {
   "cell_type": "markdown",
   "metadata": {},
   "source": [
    "d( (8 + 8i), (-8 + 8i) ) = $(8, 8) - (-8, 8) = (16, 0)$\n",
    "\n",
    "$|(16, 0)|$ - vectors `||` operation - take hypotenuse\n",
    "\n",
    "$|(16, 0)| = \\sqrt{16^2 + 0^2} = \\sqrt{256} = 16$"
   ]
  },
  {
   "cell_type": "code",
   "execution_count": null,
   "metadata": {},
   "outputs": [],
   "source": []
  },
  {
   "cell_type": "markdown",
   "metadata": {},
   "source": [
    "d( (2 + 6i), (6 - 3i) ) = $(2, 6) - (6, -3) = (-4, 9)$\n",
    "\n",
    "$|(-4, 9i)| = \\sqrt{(-4)^2 + 9^2} = \\sqrt{16 + 81} = \\sqrt{97}$"
   ]
  },
  {
   "cell_type": "code",
   "execution_count": null,
   "metadata": {},
   "outputs": [],
   "source": []
  },
  {
   "cell_type": "markdown",
   "metadata": {},
   "source": [
    "d( (8 + 2i), (2 + 8i) ) = $(8, 2) - (2, 8) = (6, -6)$\n",
    "\n",
    "$|(6, -6)| = \\sqrt{6^2 + (-6)^2} = \\sqrt{36 + 36} = \\sqrt{72} = \\sqrt{36 \\cdot 2} =6\\sqrt{2}$"
   ]
  },
  {
   "cell_type": "code",
   "execution_count": null,
   "metadata": {},
   "outputs": [],
   "source": []
  },
  {
   "cell_type": "markdown",
   "metadata": {},
   "source": [
    "d( (-9 - 14i), (-2 - 13i) ) = $(-9, -14) - (-2, -13) = (-7, -1)$\n",
    "\n",
    "$|(-7, -1)| = \\sqrt{(-7)^2 + (-1)^2} = \\sqrt{49 + 1} = \\sqrt{50} = 5\\sqrt{2}$"
   ]
  },
  {
   "cell_type": "code",
   "execution_count": null,
   "metadata": {},
   "outputs": [],
   "source": []
  },
  {
   "cell_type": "markdown",
   "metadata": {},
   "source": [
    "# Midpoint of complex numbers"
   ]
  },
  {
   "cell_type": "markdown",
   "metadata": {},
   "source": [
    "m( (8 + 5i), (12 + 3i) )\n",
    "\n",
    "\"Take mean of real part and mean of imaginary part\"\n",
    "\n",
    "$\\frac{8 + 12}{2} + \\frac{5 + 3}{2}i$\n",
    "\n",
    "$\\frac{20}{2} + \\frac{8}{2}i = 10 + 4i$"
   ]
  },
  {
   "cell_type": "code",
   "execution_count": null,
   "metadata": {},
   "outputs": [],
   "source": []
  },
  {
   "cell_type": "markdown",
   "metadata": {},
   "source": [
    "m( (-2 -3i), (-9 - 3i) )\n",
    "\n",
    "$\\frac{-2 -9}{2} + \\frac{-3 -3}{2}i$\n",
    "\n",
    "$\\frac{-11}{2} + \\frac{-6}{2}i = -5.5 - 3i$"
   ]
  },
  {
   "cell_type": "code",
   "execution_count": null,
   "metadata": {},
   "outputs": [],
   "source": []
  },
  {
   "cell_type": "markdown",
   "metadata": {},
   "source": [
    "m( (14 + 6i), (-6 + 6i) )\n",
    "\n",
    "$\\frac{14 - 6}{2} + \\frac{6 + 6}{2}i$\n",
    "\n",
    "$\\frac{8}{2} + \\frac{12}{2}i = 4 +6i$"
   ]
  },
  {
   "cell_type": "code",
   "execution_count": null,
   "metadata": {},
   "outputs": [],
   "source": []
  },
  {
   "cell_type": "markdown",
   "metadata": {},
   "source": [
    "m( (-8 - 4i), (-12 + i) )\n",
    "\n",
    "$\\frac{ (-8 - 12)}{2} + \\frac{-4 + 1}{2}i$\n",
    "\n",
    "$\\frac{-20}{2} + \\frac{-3}{2}i = -10 - 1.5i$"
   ]
  },
  {
   "cell_type": "code",
   "execution_count": null,
   "metadata": {},
   "outputs": [],
   "source": []
  },
  {
   "cell_type": "markdown",
   "metadata": {},
   "source": [
    "m( (2 + i), (1 - 6i) )\n",
    "\n",
    "$\\frac{2+1}{2} + \\frac{1-6}{2}i$\n",
    "\n",
    "$\\frac{3}{2} + \\frac{-5}{2}i = 1.5 - 2.5i$"
   ]
  },
  {
   "cell_type": "code",
   "execution_count": null,
   "metadata": {},
   "outputs": [],
   "source": []
  },
  {
   "cell_type": "markdown",
   "metadata": {},
   "source": [
    "# Conjugates"
   ]
  },
  {
   "cell_type": "markdown",
   "metadata": {},
   "source": [
    "conjugate - same real part, opposite sign imaginary part"
   ]
  },
  {
   "cell_type": "markdown",
   "metadata": {},
   "source": [
    "$z = 7 - 5i$\n",
    "\n",
    "$\\overline{z} = 7 + 5i$"
   ]
  },
  {
   "cell_type": "code",
   "execution_count": null,
   "metadata": {},
   "outputs": [],
   "source": []
  },
  {
   "cell_type": "markdown",
   "metadata": {},
   "source": [
    "# Trig rounding\n",
    "\n",
    "$\\left( \\frac{40\\pi}{3} = 13\\frac{1\\pi}{3}\\pi - 2\\pi k = 13\\frac{1\\pi}{3}\\pi - 12\\pi = \\frac{4}{3}\\pi \\right)$"
   ]
  },
  {
   "cell_type": "code",
   "execution_count": null,
   "metadata": {},
   "outputs": [],
   "source": []
  },
  {
   "cell_type": "markdown",
   "metadata": {},
   "source": [
    "# Multiply complex numbers in polar form\n",
    "\n",
    "## $r \\left[cos(\\alpha) + isin(\\alpha) \\right] \\cdot s \\left[cos(\\beta) + isin(\\beta) \\right] = \n",
    "rs \\left[cos(\\alpha + \\beta) + isin(\\alpha + \\beta) \\right]$"
   ]
  },
  {
   "cell_type": "code",
   "execution_count": null,
   "metadata": {},
   "outputs": [],
   "source": []
  },
  {
   "cell_type": "markdown",
   "metadata": {},
   "source": [
    "$6\\left[ cos(\\frac{\\pi}{5}) + isin(\\frac{\\pi}{5}) \\right] \\cdot\n",
    "7\\left[ cos(\\frac{4\\pi}{15}) + isin(\\frac{4\\pi}{15}) \\right]\n",
    "= 42\\left[ cos(\\frac{7\\pi}{15}) + isin(\\frac{7\\pi}{15}) \\right]\n",
    "$"
   ]
  },
  {
   "cell_type": "code",
   "execution_count": null,
   "metadata": {},
   "outputs": [],
   "source": []
  },
  {
   "cell_type": "markdown",
   "metadata": {},
   "source": [
    "# Divide complex numbers in polar form\n",
    "\n",
    "## $\\frac{z_1}{z_2} = \\frac{r_1}{r_2} \\left[ cos(\\theta_1 - \\theta_2) + isin(\\theta_1 - \\theta_2) \\right]$\n",
    "\n",
    "#### Euler:\n",
    "\n",
    "$e^{i\\theta} = cos(\\theta) + isin(\\theta)$\n",
    "\n",
    "$a\\cdot e^{i\\theta} = a\\left[ cos(\\theta) + isin(\\theta) \\right]$\n",
    "\n",
    "\n",
    "#### $\\frac{r_1 \\cdot e^{\\theta_{1}}}{r_2 \\cdot e^{\\theta_{2}}} = \\frac{r_1}{r_2} \\cdot e^{\\theta_{1} - \\theta_{2}}$"
   ]
  },
  {
   "cell_type": "code",
   "execution_count": null,
   "metadata": {},
   "outputs": [],
   "source": []
  },
  {
   "cell_type": "markdown",
   "metadata": {},
   "source": [
    "### $\\frac{75\\left[ cos(289^{\\circ}) +isin(289^{\\circ})\\right]}\n",
    "{25\\left[ cos(83^{\\circ}) +isin(83^{\\circ})\\right]} =\n",
    "3\\left[ cos(206^{\\circ}) +isin(206^{\\circ})\\right]\n",
    "$\n",
    "\n",
    "$r = \\frac{75}{25} = 3$\n",
    "\n",
    "$\\theta = 289^{\\circ} - 83^{\\circ} = 206^{\\circ}$"
   ]
  },
  {
   "cell_type": "code",
   "execution_count": null,
   "metadata": {},
   "outputs": [],
   "source": []
  },
  {
   "cell_type": "markdown",
   "metadata": {},
   "source": [
    "# Power of complex numbers in polar form\n",
    "\n",
    "## $(a\\left[ cos(\\theta) + isin(\\theta) \\right])^n = a^n \\cdot (e^{i\\theta})^n = a^n \\cdot e^{i\\theta \\cdot n}$\n",
    "\n",
    "\n",
    "### Ex. with Euler\n",
    "\n",
    "$(4\\sqrt{3} + 4i)^3$\n",
    "\n",
    "$r = \\sqrt{(4\\sqrt{3})^2 + 4^2} = \\sqrt{16\\cdot 3 + 16} = \\sqrt{64} = 8$\n",
    "\n",
    "$\\theta = arctan(\\frac{4}{4\\sqrt{3}}) = arctan(\\frac{1}{\\sqrt{3}}) = 30^{\\circ}$\n",
    "\n",
    "$z = 8 \\left[ cos(30^{\\circ}) +isin(30^{\\circ}) \\right]$\n",
    "\n",
    "$z = 8e^{i30^{\\circ}}$\n",
    "\n",
    "$z^3 = (8e^{i30^{\\circ}})^3 = 512 e^{i90^{\\circ}} = 512 \\left[ cos(90^{\\circ}) +isin(90^{\\circ}) \\right]$\n",
    "\n",
    "$z = 512 \\left[ 0 + i \\right] = 512i$\n",
    "\n",
    "### So, general:\n",
    "\n",
    "$z = (a + bi)$\n",
    "\n",
    "$z^n$\n",
    "\n",
    "$|z|^n = r^n$\n",
    "\n",
    "$\\theta(z) \\cdot n$"
   ]
  },
  {
   "cell_type": "code",
   "execution_count": null,
   "metadata": {},
   "outputs": [],
   "source": []
  },
  {
   "cell_type": "markdown",
   "metadata": {},
   "source": [
    "$(\\sqrt{2} + \\sqrt{2}i)^6$\n",
    "\n",
    "$r = \\sqrt{\\sqrt{2}^2 + \\sqrt{2}^2} = 2$\n",
    "\n",
    "$\\theta = arctan(\\frac{\\sqrt{2}}{\\sqrt{2}}) = arctan(1) = \\frac{\\pi}{4}$\n",
    "\n",
    "$r^6 = 2^6 = 64$\n",
    "\n",
    "$\\theta \\cdot 6 = \\frac{6\\pi}{4} = \\frac{3\\pi}{2}$\n",
    "\n",
    "$64\\left[ cos(\\frac{3\\pi}{2}) + isin(\\frac{3\\pi}{2}) \\right]$\n",
    "\n",
    "$64(0) + i64(-1) = -64i$"
   ]
  },
  {
   "cell_type": "code",
   "execution_count": null,
   "metadata": {},
   "outputs": [],
   "source": []
  },
  {
   "cell_type": "markdown",
   "metadata": {},
   "source": [
    "$\\left(-\\frac{\\sqrt{3}}{2} - \\frac{1}{2}i \\right)^{12}$"
   ]
  },
  {
   "cell_type": "markdown",
   "metadata": {},
   "source": [
    "$r = \\sqrt{\\left(-\\frac{\\sqrt{3}}{2} \\right)^2 + \\left( -\\frac{1}{2} \\right)^2} =\n",
    "\\sqrt{ \\frac{3}{4} + \\frac{1}{4} } =\n",
    "\\sqrt{1} = 1$"
   ]
  },
  {
   "cell_type": "markdown",
   "metadata": {},
   "source": [
    "$\\theta = arctan\\left(\\frac{-\\frac{1}{2}}{-\\frac{\\sqrt{3}}{2}} \\right) = arctan \\left(\\frac{1}{\\sqrt{3}} \\right) = \\frac{\\pi}{6}$\n",
    "\n",
    "$r^{12} = 1^{12} = 1$\n",
    "\n",
    "$\\theta \\cdot 12 = \\frac{12\\pi}{6} = 2\\pi$\n",
    "\n",
    "$1\\left[ cos(2\\pi) + isin(2\\pi) \\right]$\n",
    "\n",
    "$1(1) + i1(0) = 1$"
   ]
  },
  {
   "cell_type": "code",
   "execution_count": null,
   "metadata": {},
   "outputs": [],
   "source": []
  },
  {
   "cell_type": "markdown",
   "metadata": {},
   "source": [
    "## SQRT _(Equations)_\n",
    "\n",
    "### $z^n =w$\n",
    "### $z = \\sqrt[n]{r} \\cdot \\left[ cos(\\frac{\\theta +2k\\pi}{n}) + isin(\\frac{\\theta +2k\\pi}{n}) \\right]$"
   ]
  },
  {
   "cell_type": "code",
   "execution_count": null,
   "metadata": {},
   "outputs": [],
   "source": []
  },
  {
   "cell_type": "markdown",
   "metadata": {},
   "source": [
    "$z^5 = -7776i$\n",
    "\n",
    "$z^5 = r^5 \\left[ cos(\\theta \\cdot 5) + isin(\\theta \\cdot 5)\\right]$\n",
    "\n",
    "$r^5 = \\sqrt{0^2 + 7776^2} = 7776$\n",
    "\n",
    "$r = \\sqrt[5]{7776} = 6$\n",
    "\n",
    "We asked to find between $270^{\\circ}$ and $360^{\\circ}$, So argument can be betwen 270 and multiple of $2\\pi$ i.g 360 _(`-7776i` in III, IV Quadrant)_\n",
    "\n",
    "$5\\cdot \\theta = 270^{\\circ} + 360^{\\circ}k$\n",
    "\n",
    "$\\theta = 54^{\\circ} + 72^{\\circ}k$\n",
    "\n",
    "So we need to find multiple `k` for $72^{\\circ}$ to get `72k` in range $270^{\\circ} - 54^{\\circ}$ and $360^{\\circ} - 54^{\\circ}$\n",
    "\n",
    "This multiple `k = 4`\n",
    "\n",
    "$54^{\\circ} + (k=4) \\cdot 72^{\\circ} = 342^{\\circ}$\n",
    "\n",
    "$\\theta = 342^{\\circ}$\n",
    "\n",
    "$6\\left[ cos(342^{\\circ}) + isin(342^{\\circ})\\right]$\n",
    "\n",
    "In rectangular form: $5.706 − 1.854i$"
   ]
  },
  {
   "cell_type": "code",
   "execution_count": null,
   "metadata": {},
   "outputs": [],
   "source": []
  },
  {
   "cell_type": "markdown",
   "metadata": {},
   "source": [
    "$z^3 = 27$\n",
    "\n",
    "$z^3 = r^3 \\left[ cos(\\theta \\cdot 3) + isin(\\theta \\cdot 3)\\right]$\n",
    "\n",
    "$r^3 = \\sqrt{27^2 + 0^2} = 27$\n",
    "\n",
    "$r = \\sqrt[3]{27} = 3$\n",
    "\n",
    "We aked to find between $90^{\\circ}$ and $180^{\\circ}$, _(No imag part, so the argument of `27` can be any multiple of $360^{\\circ}$)_\n",
    "\n",
    "$3\\cdot \\theta = 360^{\\circ}k$\n",
    "\n",
    "$\\theta = 120^{\\circ}k$\n",
    "\n",
    "So we need to find multiple `k` to get in range $90^{\\circ}$ .. $180^{\\circ}$\n",
    "\n",
    "This multiple `k = 1`\n",
    "\n",
    "$ (k=1) \\cdot 120^{\\circ} = 120^{\\circ}$\n",
    "\n",
    "$\\theta = 120^{\\circ}$\n",
    "\n",
    "$3\\left[ cos(120^{\\circ}) + isin(120^{\\circ})\\right]$\n",
    "\n",
    "In rectangular form: $-1.5 + 2.598i$"
   ]
  },
  {
   "cell_type": "code",
   "execution_count": null,
   "metadata": {},
   "outputs": [],
   "source": []
  },
  {
   "cell_type": "markdown",
   "metadata": {},
   "source": [
    "$z^{10} = i$\n",
    "\n",
    "$z^{10} = r^{10} \\left[ cos(\\theta \\cdot 10) + isin(\\theta \\cdot 10)\\right]$\n",
    "\n",
    "$r^{10} = \\sqrt{0^2 + 1^2} = 1$\n",
    "\n",
    "$r = \\sqrt[10]{1} = 1$\n",
    "\n",
    "We aked to find between $120^{\\circ}$ and $180^{\\circ}$, _(No real part, so the argument of `i` can be $90^{\\circ}$ plus any multiple of $360^{\\circ}$)_\n",
    "\n",
    "$10\\cdot \\theta = 90^{\\circ} + 360^{\\circ}k$\n",
    "\n",
    "$\\theta = 9^{\\circ} + 36^{\\circ}k$\n",
    "\n",
    "So we need to find multiple `k` to get in range $120^{\\circ}$ .. $180^{\\circ}$\n",
    "\n",
    "This multiple `k = 4`\n",
    "\n",
    "$ 9 + (k=4) \\cdot 36^{\\circ} = 153^{\\circ}$\n",
    "\n",
    "$\\theta = 153^{\\circ}$\n",
    "\n",
    "$1\\left[ cos(153^{\\circ}) + isin(153^{\\circ})\\right]$\n",
    "\n",
    "In rectangular form: $-0.891 + 0.454i$"
   ]
  },
  {
   "cell_type": "code",
   "execution_count": null,
   "metadata": {},
   "outputs": [],
   "source": []
  },
  {
   "cell_type": "markdown",
   "metadata": {},
   "source": [
    "$z^{3} = -512$\n",
    "\n",
    "$z^{3} = r^{3} \\left[ cos(\\theta \\cdot 3) + isin(\\theta \\cdot 3)\\right]$\n",
    "\n",
    "$r^{3} = \\sqrt{(-512)^2 + 0^2} = 512$\n",
    "\n",
    "$r = \\sqrt[3]{512} = 8$\n",
    "\n",
    "We aked to find between $270^{\\circ}$ and $360^{\\circ}$, _(No imaginary part, so the argument of `-512` can be $180^{\\circ}$ plus any multiple of $360^{\\circ}$)_\n",
    "\n",
    "$3\\cdot \\theta = 180^{\\circ} + 360^{\\circ}k$\n",
    "\n",
    "$\\theta = 60 + 120^{\\circ}k$\n",
    "\n",
    "So we need to find multiple `k` to get in range $270^{\\circ}$ .. $360^{\\circ}$\n",
    "\n",
    "This multiple `k = 2`\n",
    "\n",
    "$ 60^{\\circ} + (k=2) \\cdot 120^{\\circ} = 30^{\\circ}$\n",
    "\n",
    "$\\theta = 30^{\\circ}$\n",
    "\n",
    "$8\\left[ cos(30^{\\circ}) + isin(30^{\\circ})\\right]$\n",
    "\n",
    "In rectangular form: $4 + 6.9280i$"
   ]
  },
  {
   "cell_type": "code",
   "execution_count": null,
   "metadata": {},
   "outputs": [],
   "source": [
    "8 * math.sin(math.radians(300))"
   ]
  },
  {
   "cell_type": "code",
   "execution_count": null,
   "metadata": {},
   "outputs": [],
   "source": []
  }
 ],
 "metadata": {
  "kernelspec": {
   "display_name": "Python 3",
   "language": "python",
   "name": "python3"
  },
  "language_info": {
   "codemirror_mode": {
    "name": "ipython",
    "version": 3
   },
   "file_extension": ".py",
   "mimetype": "text/x-python",
   "name": "python",
   "nbconvert_exporter": "python",
   "pygments_lexer": "ipython3",
   "version": "3.6.8"
  }
 },
 "nbformat": 4,
 "nbformat_minor": 2
}

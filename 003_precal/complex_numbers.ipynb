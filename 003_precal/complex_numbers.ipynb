{
 "cells": [
  {
   "cell_type": "code",
   "execution_count": null,
   "metadata": {},
   "outputs": [],
   "source": [
    "import pandas as pd\n",
    "import numpy as np\n",
    "\n",
    "# import seaborn as sns\n",
    "# import matplotlib.pyplot as plt\n",
    "\n",
    "# import matplotlib\n",
    "# matplotlib.pyplot.style.use('seaborn')\n",
    "# matplotlib.rcParams['figure.figsize'] = (15, 5)\n",
    "\n",
    "# %matplotlib inline\n",
    "# %pylab inline"
   ]
  },
  {
   "cell_type": "code",
   "execution_count": null,
   "metadata": {},
   "outputs": [],
   "source": [
    "from IPython.core.interactiveshell import InteractiveShell\n",
    "InteractiveShell.ast_node_interactivity = \"all\""
   ]
  },
  {
   "cell_type": "code",
   "execution_count": null,
   "metadata": {},
   "outputs": [],
   "source": [
    "from IPython.core.display import SVG"
   ]
  },
  {
   "cell_type": "code",
   "execution_count": null,
   "metadata": {},
   "outputs": [],
   "source": [
    "import math"
   ]
  },
  {
   "cell_type": "code",
   "execution_count": null,
   "metadata": {},
   "outputs": [],
   "source": []
  },
  {
   "cell_type": "markdown",
   "metadata": {},
   "source": [
    "# Polar\n",
    "\n",
    "$z = a + bi$ <===> $(r, \\Theta)$\n",
    "\n",
    "$r = |z| = \\sqrt{(a)^2 + (b)^2}$ modulus\n",
    "\n",
    "$\\Theta = arctan(\\frac{b}{a})$ argument\n",
    "\n",
    "$z = r(cos \\Theta + i \\cdot sin \\Theta)$"
   ]
  },
  {
   "cell_type": "code",
   "execution_count": null,
   "metadata": {},
   "outputs": [],
   "source": []
  },
  {
   "cell_type": "markdown",
   "metadata": {},
   "source": [
    "# * * *\n",
    "\n",
    "$\\Theta = arctan(\\frac{b}{a})$\n",
    "\n",
    "Using the identity $tan(−180+θ)=tan(θ)$\n",
    "\n",
    "Using the identity $tan(−\\pi+θ)=tan(θ)$\n",
    "\n",
    "In order to determine which of these two solutions is the angle - look at a quadrant."
   ]
  },
  {
   "cell_type": "code",
   "execution_count": null,
   "metadata": {},
   "outputs": [],
   "source": [
    "d = math.degrees(math.atan(-5 / -6))\n",
    "d\n",
    "\n",
    "-180 + d"
   ]
  },
  {
   "cell_type": "code",
   "execution_count": null,
   "metadata": {},
   "outputs": [],
   "source": [
    "d = math.atan(-5 / -6)\n",
    "d\n",
    "\n",
    "-math.pi + d"
   ]
  },
  {
   "cell_type": "code",
   "execution_count": null,
   "metadata": {},
   "outputs": [],
   "source": []
  },
  {
   "cell_type": "markdown",
   "metadata": {},
   "source": [
    "# Convert to rectangular form\n",
    "\n",
    "$z = r(cos \\Theta + i \\cdot sin \\Theta) -> a + bi$"
   ]
  },
  {
   "cell_type": "code",
   "execution_count": null,
   "metadata": {},
   "outputs": [],
   "source": [
    "r = 9 \n",
    "theta = math.radians(50)\n",
    "\n",
    "((r * math.cos(theta)), (r * math.sin(theta)))"
   ]
  },
  {
   "cell_type": "code",
   "execution_count": null,
   "metadata": {},
   "outputs": [],
   "source": []
  },
  {
   "cell_type": "markdown",
   "metadata": {},
   "source": [
    "$z = 10(cos(270^{\\circ}) + isin(270^{\\circ}))$\n",
    "\n",
    "$|z| = 10$\n",
    "\n",
    "$\\Theta = 270$\n",
    "\n",
    "$(10 \\cdot 0) + i(10 \\cdot -1) = -10i$"
   ]
  },
  {
   "cell_type": "code",
   "execution_count": null,
   "metadata": {},
   "outputs": [],
   "source": []
  },
  {
   "cell_type": "markdown",
   "metadata": {},
   "source": [
    "$z = 8(cos(150^{\\circ}) + isin(150^{\\circ}))$\n",
    "\n",
    "$|z| = 8$\n",
    "\n",
    "$\\Theta = 150$\n",
    "\n",
    "$8 \\cdot -\\frac{\\sqrt{3}}{2} + i \\left(8 \\cdot \\frac{1}{2} \\right) = -4\\sqrt{3} + 4i$"
   ]
  },
  {
   "cell_type": "code",
   "execution_count": null,
   "metadata": {},
   "outputs": [],
   "source": []
  },
  {
   "cell_type": "markdown",
   "metadata": {},
   "source": [
    "# Convert to ploar from\n",
    "\n",
    "$z = a + bi$ -> $(r, \\Theta) -> r(cos \\Theta + i \\cdot sin \\Theta)$:\n",
    "\n",
    "---\n",
    "\n",
    "$r = |z| = \\sqrt{(a)^2 + (b)^2}$ modulus\n",
    "\n",
    "$\\Theta = arctan(\\frac{b}{a})$ argument"
   ]
  },
  {
   "cell_type": "code",
   "execution_count": null,
   "metadata": {},
   "outputs": [],
   "source": []
  },
  {
   "cell_type": "markdown",
   "metadata": {},
   "source": [
    "$z = -14 + 14i$\n",
    "\n",
    "##### Exact:\n",
    "\n",
    "$r = \\sqrt{(-14)^2 + 14^2}$\n",
    "\n",
    "Since `a` is negative and `b`is positive, $\\Theta$ must lie in Quadrant II Therefore its angle must be between $90^{\\circ}$ degree and $180^{\\circ}$\n",
    "\n",
    "$\\Theta_1 = arctan(\\frac{14}{-14}) = arctan(-1) = -45^{\\circ}$\n",
    "\n",
    "$\\Theta_2 = 180 + arctan(-1) = -135^{\\circ}$\n",
    "\n",
    "$z = \\sqrt{392} \\left[ cos(-135^{\\circ}) +isin(-135^{\\circ}) \\right]$\n",
    "\n",
    "$z = 14\\sqrt{2} \\left[ cos(-135^{\\circ}) +isin(-135^{\\circ}) \\right]$\n",
    "\n",
    "##### numeric:"
   ]
  },
  {
   "cell_type": "code",
   "execution_count": null,
   "metadata": {},
   "outputs": [],
   "source": [
    "a = -14\n",
    "b = 14\n",
    "\n",
    "r = math.sqrt(a**2 + b**2)\n",
    "print(\"r:\", r)\n",
    "\n",
    "theta = math.atan(b / a)\n",
    "\n",
    "t1 = theta\n",
    "print(\"theta 1:\", math.degrees(t1))\n",
    "\n",
    "t2 = -math.pi + theta # check quadtant for -14 + 14i (II), and take that root\n",
    "print(\"theta 2:\", math.degrees(t2))"
   ]
  },
  {
   "cell_type": "code",
   "execution_count": null,
   "metadata": {},
   "outputs": [],
   "source": []
  },
  {
   "cell_type": "markdown",
   "metadata": {},
   "source": [
    "$z = 4 - 4i$\n",
    "\n",
    "$r = \\sqrt{(4)^2 + (-4)^2} = \\sqrt{32} = 4\\sqrt{2}$\n",
    "\n",
    "Since `a` is positive and `b`is negative, $\\Theta$ must lie in `Quadrant IV`. Its angle must be between $270^{\\circ}$ degree and $360^{\\circ}$\n",
    "\n",
    "Using the identity $tan(360+θ)=tan(θ)$\n",
    "\n",
    "$\\Theta_1 = arctan(\\frac{4}{-4}) = arctan(-1) = -45^{\\circ}$\n",
    "\n",
    "$\\Theta_2 = 360 + arctan(-1) = 315^{\\circ}$\n",
    "\n",
    "$z = 4\\sqrt{2} \\left[ cos(315^{\\circ}) +isin(315^{\\circ}) \\right]$"
   ]
  },
  {
   "cell_type": "code",
   "execution_count": null,
   "metadata": {},
   "outputs": [],
   "source": []
  },
  {
   "cell_type": "markdown",
   "metadata": {},
   "source": [
    "# Equivalent to the complex number\n",
    "\n",
    "$i^{13} = (i^4)^3 * i = 1 \\cdot i = i$"
   ]
  },
  {
   "cell_type": "code",
   "execution_count": null,
   "metadata": {},
   "outputs": [],
   "source": []
  },
  {
   "cell_type": "markdown",
   "metadata": {},
   "source": [
    "# Distance complex numbers"
   ]
  },
  {
   "cell_type": "code",
   "execution_count": null,
   "metadata": {},
   "outputs": [],
   "source": []
  },
  {
   "cell_type": "markdown",
   "metadata": {},
   "source": [
    "d( (8 + 8i), (-8 + 8i) ) = $(8, 8) - (-8, 8) = (16, 0)$\n",
    "\n",
    "$|(16, 0)|$ - vectors `||` operation - take hypotenuse\n",
    "\n",
    "$|(16, 0)| = \\sqrt{16^2 + 0^2} = \\sqrt{256} = 16$"
   ]
  },
  {
   "cell_type": "code",
   "execution_count": null,
   "metadata": {},
   "outputs": [],
   "source": []
  },
  {
   "cell_type": "markdown",
   "metadata": {},
   "source": [
    "d( (2 + 6i), (6 - 3i) ) = $(2, 6) - (6, -3) = (-4, 9)$\n",
    "\n",
    "$|(-4, 9i)| = \\sqrt{(-4)^2 + 9^2} = \\sqrt{16 + 81} = \\sqrt{97}$"
   ]
  },
  {
   "cell_type": "code",
   "execution_count": null,
   "metadata": {},
   "outputs": [],
   "source": []
  },
  {
   "cell_type": "markdown",
   "metadata": {},
   "source": [
    "d( (8 + 2i), (2 + 8i) ) = $(8, 2) - (2, 8) = (6, -6)$\n",
    "\n",
    "$|(6, -6)| = \\sqrt{6^2 + (-6)^2} = \\sqrt{36 + 36} = \\sqrt{72} = \\sqrt{36 \\cdot 2} =6\\sqrt{2}$"
   ]
  },
  {
   "cell_type": "code",
   "execution_count": null,
   "metadata": {},
   "outputs": [],
   "source": []
  },
  {
   "cell_type": "markdown",
   "metadata": {},
   "source": [
    "d( (-9 - 14i), (-2 - 13i) ) = $(-9, -14) - (-2, -13) = (-7, -1)$\n",
    "\n",
    "$|(-7, -1)| = \\sqrt{(-7)^2 + (-1)^2} = \\sqrt{49 + 1} = \\sqrt{50} = 5\\sqrt{2}$"
   ]
  },
  {
   "cell_type": "code",
   "execution_count": null,
   "metadata": {},
   "outputs": [],
   "source": []
  },
  {
   "cell_type": "markdown",
   "metadata": {},
   "source": [
    "# Midpoint of complex numbers"
   ]
  },
  {
   "cell_type": "markdown",
   "metadata": {},
   "source": [
    "m( (8 + 5i), (12 + 3i) )\n",
    "\n",
    "\"Take mean of real part and mean of imaginary part\"\n",
    "\n",
    "$\\frac{8 + 12}{2} + \\frac{5 + 3}{2}i$\n",
    "\n",
    "$\\frac{20}{2} + \\frac{8}{2}i = 10 + 4i$"
   ]
  },
  {
   "cell_type": "code",
   "execution_count": null,
   "metadata": {},
   "outputs": [],
   "source": []
  },
  {
   "cell_type": "markdown",
   "metadata": {},
   "source": [
    "m( (-2 -3i), (-9 - 3i) )\n",
    "\n",
    "$\\frac{-2 -9}{2} + \\frac{-3 -3}{2}i$\n",
    "\n",
    "$\\frac{-11}{2} + \\frac{-6}{2}i = -5.5 - 3i$"
   ]
  },
  {
   "cell_type": "code",
   "execution_count": null,
   "metadata": {},
   "outputs": [],
   "source": []
  },
  {
   "cell_type": "markdown",
   "metadata": {},
   "source": [
    "m( (14 + 6i), (-6 + 6i) )\n",
    "\n",
    "$\\frac{14 - 6}{2} + \\frac{6 + 6}{2}i$\n",
    "\n",
    "$\\frac{8}{2} + \\frac{12}{2}i = 4 +6i$"
   ]
  },
  {
   "cell_type": "code",
   "execution_count": null,
   "metadata": {},
   "outputs": [],
   "source": []
  },
  {
   "cell_type": "markdown",
   "metadata": {},
   "source": [
    "m( (-8 - 4i), (-12 + i) )\n",
    "\n",
    "$\\frac{ (-8 - 12)}{2} + \\frac{-4 + 1}{2}i$\n",
    "\n",
    "$\\frac{-20}{2} + \\frac{-3}{2}i = -10 - 1.5i$"
   ]
  },
  {
   "cell_type": "code",
   "execution_count": null,
   "metadata": {},
   "outputs": [],
   "source": []
  },
  {
   "cell_type": "markdown",
   "metadata": {},
   "source": [
    "m( (2 + i), (1 - 6i) )\n",
    "\n",
    "$\\frac{2+1}{2} + \\frac{1-6}{2}i$\n",
    "\n",
    "$\\frac{3}{2} + \\frac{-5}{2}i = 1.5 - 2.5i$"
   ]
  },
  {
   "cell_type": "code",
   "execution_count": null,
   "metadata": {},
   "outputs": [],
   "source": []
  },
  {
   "cell_type": "markdown",
   "metadata": {},
   "source": [
    "# conjugates"
   ]
  },
  {
   "cell_type": "markdown",
   "metadata": {},
   "source": [
    "conjugate - same real part, opposite sign imaginary part"
   ]
  },
  {
   "cell_type": "markdown",
   "metadata": {},
   "source": [
    "$z = 7 - 5i$\n",
    "\n",
    "$\\overline{z} = 7 + 5i$"
   ]
  },
  {
   "cell_type": "markdown",
   "metadata": {},
   "source": []
  }
 ],
 "metadata": {
  "kernelspec": {
   "display_name": "Python 3",
   "language": "python",
   "name": "python3"
  },
  "language_info": {
   "codemirror_mode": {
    "name": "ipython",
    "version": 3
   },
   "file_extension": ".py",
   "mimetype": "text/x-python",
   "name": "python",
   "nbconvert_exporter": "python",
   "pygments_lexer": "ipython3",
   "version": "3.6.8"
  }
 },
 "nbformat": 4,
 "nbformat_minor": 2
}

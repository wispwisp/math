{
 "cells": [
  {
   "cell_type": "code",
   "execution_count": null,
   "metadata": {},
   "outputs": [],
   "source": [
    "import pandas as pd\n",
    "import numpy as np\n",
    "\n",
    "# import seaborn as sns\n",
    "# import matplotlib.pyplot as plt\n",
    "\n",
    "# import matplotlib\n",
    "# matplotlib.pyplot.style.use('seaborn')\n",
    "# matplotlib.rcParams['figure.figsize'] = (15, 5)\n",
    "\n",
    "# %matplotlib inline\n",
    "# %pylab inline"
   ]
  },
  {
   "cell_type": "code",
   "execution_count": null,
   "metadata": {},
   "outputs": [],
   "source": [
    "from IPython.core.interactiveshell import InteractiveShell\n",
    "InteractiveShell.ast_node_interactivity = \"all\""
   ]
  },
  {
   "cell_type": "code",
   "execution_count": null,
   "metadata": {},
   "outputs": [],
   "source": [
    "from IPython.core.display import SVG"
   ]
  },
  {
   "cell_type": "code",
   "execution_count": null,
   "metadata": {},
   "outputs": [],
   "source": [
    "import math"
   ]
  },
  {
   "cell_type": "code",
   "execution_count": null,
   "metadata": {},
   "outputs": [],
   "source": []
  },
  {
   "cell_type": "markdown",
   "metadata": {},
   "source": [
    "# Hyperbola\n",
    "\n",
    "$\\frac{x^2}{a^2} - \\frac{y^2}{b^2} = 1$\n",
    "\n",
    "x-term is positive: left-right\n",
    "\n",
    "$\\frac{y^2}{b^2} - \\frac{x^2}{a^2} = 1$\n",
    "\n",
    "y-term is positive: up-down\n",
    "\n",
    "---\n",
    "\n",
    "Intuition: If one term is positive u can set another term to zero. _(Because if u set other term it is sqrt of negative)_\n",
    "\n",
    "Ex:\n",
    "\n",
    "$\\frac{y^2}{9} - \\frac{x^2}{4} = 1$\n",
    "\n",
    "Set x to zero:\n",
    "\n",
    "$\\frac{y^2}{9} = 1$\n",
    "\n",
    "Solve: \n",
    "$\\frac{y^2}{9} = 1$;\n",
    "$y^2 = 9$;\n",
    "$y = \\pm3$\n",
    "\n",
    "---\n",
    "\n",
    "Center same as a ellipse\n",
    "\n",
    "Ex:\n",
    "$\\frac{(x + h)^2}{a^2} - \\frac{(y - k)^2}{b^2} = 1$\n",
    "\n",
    "center: $(-h, +k)$"
   ]
  },
  {
   "cell_type": "code",
   "execution_count": null,
   "metadata": {},
   "outputs": [],
   "source": []
  },
  {
   "cell_type": "markdown",
   "metadata": {},
   "source": [
    "# Foci\n",
    "\n",
    "$f = \\sqrt{a^2 + b^2}$\n",
    "\n",
    "---\n",
    "\n",
    "ex:\n",
    "\n",
    "$\\frac{y^2}{16} - \\frac{x^2}{9} = 1$\n",
    "\n",
    "$f = \\sqrt{16 + 9} = \\sqrt{25} = 5$\n",
    "\n",
    "$(0, 0 + 5)$, $(0, 0 - 5)$\n",
    "\n",
    "---\n",
    "\n",
    "ex2:\n",
    "\n",
    "$\\frac{x^2}{16} - \\frac{y^2}{9} = 1$\n",
    "\n",
    "$f = \\sqrt{16 + 9} = \\sqrt{25} = 5$\n",
    "\n",
    "$(0 + 5, 0)$, $(0 - 5, 0)$"
   ]
  },
  {
   "cell_type": "code",
   "execution_count": null,
   "metadata": {},
   "outputs": [],
   "source": [
    "s = 16 + 9\n",
    "s\n",
    "\n",
    "f = math.sqrt(s)\n",
    "f"
   ]
  },
  {
   "cell_type": "code",
   "execution_count": null,
   "metadata": {},
   "outputs": [],
   "source": []
  },
  {
   "cell_type": "markdown",
   "metadata": {},
   "source": [
    "$\\frac{x^2}{8^2} - \\frac{y^2}{b^2}$\n",
    "\n",
    "$10 = \\sqrt{8^2 + b^2}$\n",
    "\n",
    "$100 = 64 + b^2$\n",
    "\n",
    "$b^2 = 36$\n",
    "\n",
    "$b = \\pm \\sqrt{36} = \\pm6$"
   ]
  },
  {
   "cell_type": "code",
   "execution_count": null,
   "metadata": {},
   "outputs": [],
   "source": []
  },
  {
   "cell_type": "markdown",
   "metadata": {},
   "source": [
    "A hyperbola centered at the origin has vertices at $(0, \\pm\\sqrt19)$ and foci at $(0, \\pm\\sqrt{55})$\n",
    "\n",
    "$\\frac{y^2}{19} - \\frac{x^2}{a^2} = 1$\n",
    "\n",
    "$f = \\sqrt{55} = \\sqrt{19 + a^2}$\n",
    "\n",
    "$55 = 19 + a^2$\n",
    "\n",
    "$a^2 = 36$\n",
    "\n",
    "$a = \\pm6$"
   ]
  },
  {
   "cell_type": "code",
   "execution_count": null,
   "metadata": {},
   "outputs": [],
   "source": []
  }
 ],
 "metadata": {
  "kernelspec": {
   "display_name": "Python 3",
   "language": "python",
   "name": "python3"
  },
  "language_info": {
   "codemirror_mode": {
    "name": "ipython",
    "version": 3
   },
   "file_extension": ".py",
   "mimetype": "text/x-python",
   "name": "python",
   "nbconvert_exporter": "python",
   "pygments_lexer": "ipython3",
   "version": "3.6.7"
  }
 },
 "nbformat": 4,
 "nbformat_minor": 2
}

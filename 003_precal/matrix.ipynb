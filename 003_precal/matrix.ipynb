{
 "cells": [
  {
   "cell_type": "code",
   "execution_count": null,
   "metadata": {},
   "outputs": [],
   "source": [
    "import pandas as pd\n",
    "import numpy as np\n",
    "\n",
    "# import seaborn as sns\n",
    "# import matplotlib.pyplot as plt\n",
    "\n",
    "# import matplotlib\n",
    "# matplotlib.pyplot.style.use('seaborn')\n",
    "# matplotlib.rcParams['figure.figsize'] = (15, 5)\n",
    "\n",
    "# %matplotlib inline\n",
    "# %pylab inline"
   ]
  },
  {
   "cell_type": "code",
   "execution_count": null,
   "metadata": {},
   "outputs": [],
   "source": [
    "from IPython.core.interactiveshell import InteractiveShell\n",
    "InteractiveShell.ast_node_interactivity = \"all\""
   ]
  },
  {
   "cell_type": "code",
   "execution_count": null,
   "metadata": {},
   "outputs": [],
   "source": [
    "from IPython.core.display import SVG"
   ]
  },
  {
   "cell_type": "code",
   "execution_count": null,
   "metadata": {},
   "outputs": [],
   "source": [
    "import math"
   ]
  },
  {
   "cell_type": "code",
   "execution_count": null,
   "metadata": {},
   "outputs": [],
   "source": []
  },
  {
   "cell_type": "markdown",
   "metadata": {},
   "source": [
    "# multiplication\n",
    "\n",
    "$\n",
    "\\begin{bmatrix}\n",
    " a & b \\\\ \n",
    " c & d\n",
    "\\end{bmatrix}\n",
    "\\cdot\n",
    "\\begin{bmatrix}\n",
    "e\\\\ \n",
    "g\n",
    "\\end{bmatrix}\n",
    "=\n",
    "\\begin{bmatrix}\n",
    "a \\cdot e + b \\cdot g\\\\ \n",
    "c \\cdot e + d \\cdot g\n",
    "\\end{bmatrix}\n",
    "$\n",
    "\n",
    "$\n",
    "\\begin{bmatrix}\n",
    "a\\\\ \n",
    "b\\\\\n",
    "c\n",
    "\\end{bmatrix}\n",
    "\\cdot\n",
    "\\begin{bmatrix}\n",
    "e & g\n",
    "\\end{bmatrix}\n",
    "=\n",
    "\\begin{bmatrix}\n",
    "a \\cdot e & a \\cdot g \\\\\n",
    "b \\cdot e & a \\cdot g \\\\\n",
    "c \\cdot e & a \\cdot g\n",
    "\\end{bmatrix}\n",
    "$\n",
    "\n",
    "$\n",
    "\\begin{bmatrix}\n",
    " a & b \\\\ \n",
    " c & d\n",
    "\\end{bmatrix}\n",
    "\\cdot\n",
    "\\begin{bmatrix}\n",
    " e & f \\\\ \n",
    " g & h\n",
    "\\end{bmatrix}\n",
    "=\n",
    "\\begin{bmatrix}\n",
    " a \\cdot e + b \\cdot g & a \\cdot f + b \\cdot h \\\\ \n",
    " c \\cdot e + d \\cdot g & c \\cdot f + d \\cdot h\n",
    "\\end{bmatrix}\n",
    "$"
   ]
  },
  {
   "cell_type": "code",
   "execution_count": null,
   "metadata": {},
   "outputs": [],
   "source": []
  },
  {
   "cell_type": "markdown",
   "metadata": {},
   "source": [
    "### transformations\n",
    "\n",
    "Transformation $\\cdot$ Coords = Coord in new space\n",
    "\n",
    "##### Ex: dot with x, y coord\n",
    "\n",
    "$\n",
    "\\begin{bmatrix}\n",
    " a & b \\\\ \n",
    " c & d\n",
    "\\end{bmatrix}\n",
    "\\cdot\n",
    "\\begin{bmatrix}\n",
    "x\\\\ \n",
    "y\n",
    "\\end{bmatrix}\n",
    "$\n",
    "\n",
    "##### Ex: line defined by two dots\n",
    "\n",
    "$\n",
    "\\begin{bmatrix}\n",
    " a & b \\\\ \n",
    " c & d\n",
    "\\end{bmatrix}\n",
    "\\cdot\n",
    "\\begin{bmatrix}\n",
    "x_1 & x_2\\\\ \n",
    "y_1 & y_2\n",
    "\\end{bmatrix}\n",
    "=\n",
    "\\begin{bmatrix}\n",
    "{x}'_1 & {x}'_2\\\\ \n",
    "{y}'_1 & {y}'_2\n",
    "\\end{bmatrix}\n",
    "$\n",
    "\n",
    "##### Ex: triangle\n",
    "\n",
    "$\n",
    "\\begin{bmatrix}\n",
    " a & b \\\\ \n",
    " c & d\n",
    "\\end{bmatrix}\n",
    "\\cdot\n",
    "\\begin{bmatrix}\n",
    "x_1 & x_2 & x_3\\\\ \n",
    "y_1 & y_2 & x_3\n",
    "\\end{bmatrix}\n",
    "=\n",
    "\\begin{bmatrix}\n",
    "{x}'_1 & {x}'_2 & {x}'_3\\\\ \n",
    "{y}'_1 & {y}'_2 & {x}'_3\n",
    "\\end{bmatrix}\n",
    "$"
   ]
  },
  {
   "cell_type": "code",
   "execution_count": null,
   "metadata": {},
   "outputs": [],
   "source": [
    "m1 = np.array([\n",
    "    [1/3,   0],\n",
    "    [  0, 1/3],\n",
    "], dtype = np.float)\n",
    "\n",
    "m2 = np.array([\n",
    "    [-1, 1, 1,-1],\n",
    "    [ 1, 1,-1,-1],\n",
    "], dtype = np.float)\n",
    "\n",
    "m1.dot(m2)"
   ]
  },
  {
   "cell_type": "code",
   "execution_count": null,
   "metadata": {},
   "outputs": [],
   "source": []
  },
  {
   "cell_type": "markdown",
   "metadata": {},
   "source": [
    "$\n",
    "T\n",
    "\\cdot\n",
    "\\begin{bmatrix}\n",
    " 1 & 1 & 2 & 2 \\\\\n",
    " 1 & 2 & 2 & 1 \\\\\n",
    "\\end{bmatrix}\n",
    "=\n",
    "\\begin{bmatrix}\n",
    " 1  & 1 & 2 & 2 \\\\\n",
    " -1 &-2 &-2 &-1 \\\\\n",
    "\\end{bmatrix}\n",
    "$\n",
    "\n",
    "determine unit vectors \n",
    "$\n",
    "\\begin{bmatrix}\n",
    "1 \\\\\n",
    "0\n",
    "\\end{bmatrix}\n",
    "$\n",
    ",\n",
    "$\n",
    "\\begin{bmatrix}\n",
    "0 \\\\\n",
    "1\n",
    "\\end{bmatrix}\n",
    "$\n",
    "\n",
    "and a transformation should be:\n",
    "$\n",
    "\\begin{bmatrix}\n",
    "0 \\\\\n",
    "-1\n",
    "\\end{bmatrix}\n",
    "$\n",
    "\n",
    "$\n",
    "T = \n",
    "\\begin{bmatrix}\n",
    " 1 & 0 \\\\\n",
    " 0 &-1\n",
    "\\end{bmatrix}\n",
    "$"
   ]
  },
  {
   "cell_type": "code",
   "execution_count": null,
   "metadata": {},
   "outputs": [],
   "source": [
    "m1 = np.array([\n",
    "    [1, 0],\n",
    "    [0, -1],\n",
    "], dtype = np.float)\n",
    "\n",
    "m2 = np.array([\n",
    "    [1, 1, 2, 2],\n",
    "    [1, 2, 2, 1],\n",
    "], dtype = np.float)\n",
    "\n",
    "m1.dot(m2)"
   ]
  },
  {
   "cell_type": "markdown",
   "metadata": {},
   "source": [
    "$\n",
    "T\n",
    "\\cdot\n",
    "\\begin{bmatrix}\n",
    "-2 & 2 & 2 &-2 \\\\\n",
    " 2 & 2 &-2 &-2\n",
    "\\end{bmatrix}\n",
    "=\n",
    "\\begin{bmatrix}\n",
    "-1 & 1 & 1 &-1 \\\\\n",
    " 1 & 1 &-1 &-1\n",
    "\\end{bmatrix}\n",
    "$\n",
    "\n",
    "determine unit vectors \n",
    "$\n",
    "\\begin{bmatrix}\n",
    "1 \\\\\n",
    "0\n",
    "\\end{bmatrix}\n",
    "$\n",
    ",\n",
    "$\n",
    "\\begin{bmatrix}\n",
    "0 \\\\\n",
    "1\n",
    "\\end{bmatrix}\n",
    "$\n",
    "\n",
    "and a transformation should for both axis:\n",
    "$\n",
    "\\begin{bmatrix}\n",
    "1/2 \\\\\n",
    "0\n",
    "\\end{bmatrix}\n",
    "$,\n",
    "$\n",
    "\\begin{bmatrix}\n",
    "0 \\\\\n",
    "1/2\n",
    "\\end{bmatrix}\n",
    "$\n",
    "\n",
    "$\n",
    "T = \n",
    "\\begin{bmatrix}\n",
    " 1/2 & 0 \\\\\n",
    " 0 & 1/2\n",
    "\\end{bmatrix}\n",
    "$"
   ]
  },
  {
   "cell_type": "code",
   "execution_count": null,
   "metadata": {},
   "outputs": [],
   "source": [
    "m1 = np.array([\n",
    "    [1/2, 0],\n",
    "    [0, 1/2],\n",
    "], dtype = np.float)\n",
    "\n",
    "m2 = np.array([\n",
    "    [-2, 2, 2,-2],\n",
    "    [ 2, 2,-2,-2],\n",
    "], dtype = np.float)\n",
    "\n",
    "m1.dot(m2)"
   ]
  },
  {
   "cell_type": "code",
   "execution_count": null,
   "metadata": {},
   "outputs": [],
   "source": []
  },
  {
   "cell_type": "markdown",
   "metadata": {},
   "source": [
    "# Determinant \n",
    "\n",
    "$\n",
    "A =\n",
    "\\begin{bmatrix}\n",
    " a & b \\\\ \n",
    " c & d\n",
    "\\end{bmatrix}\n",
    "$\n",
    "\n",
    "det(A) =\n",
    "$a \\cdot d - b \\cdot c$\n"
   ]
  },
  {
   "cell_type": "code",
   "execution_count": null,
   "metadata": {},
   "outputs": [],
   "source": [
    "m = np.array([\n",
    "    [-1, 3 ],\n",
    "    [ 0, 4]\n",
    "], dtype = np.float)\n",
    "\n",
    "np.linalg.det(m)"
   ]
  },
  {
   "cell_type": "code",
   "execution_count": null,
   "metadata": {},
   "outputs": [],
   "source": [
    "m = np.array([\n",
    "    [ 39, -3],\n",
    "    [-13,  1]\n",
    "], dtype = np.float)\n",
    "\n",
    "np.linalg.det(m)"
   ]
  },
  {
   "cell_type": "code",
   "execution_count": null,
   "metadata": {},
   "outputs": [],
   "source": []
  },
  {
   "cell_type": "markdown",
   "metadata": {},
   "source": [
    "$\n",
    "\\begin{bmatrix}\n",
    " 16 & 5 \\\\ \n",
    " 3 & 2\n",
    "\\end{bmatrix}\n",
    "- X\n",
    "=\n",
    "\\begin{bmatrix}\n",
    " 31 &  9 \\\\ \n",
    " 19 & -6\n",
    "\\end{bmatrix}\n",
    "$\n",
    "\n",
    "$\n",
    "X = \n",
    "\\begin{bmatrix}\n",
    " 16 & 5 \\\\ \n",
    " 3 & 2\n",
    "\\end{bmatrix}\n",
    "-\n",
    "\\begin{bmatrix}\n",
    " 31 &  9 \\\\ \n",
    " 19 & -6\n",
    "\\end{bmatrix}\n",
    "$"
   ]
  },
  {
   "cell_type": "code",
   "execution_count": null,
   "metadata": {},
   "outputs": [],
   "source": [
    "m1 = np.array([\n",
    "    [16, 5],\n",
    "    [ 3, 2]\n",
    "], dtype = np.float)\n",
    "\n",
    "m2 = np.array([\n",
    "    [31, 9],\n",
    "    [19,-6]\n",
    "], dtype = np.float)"
   ]
  },
  {
   "cell_type": "code",
   "execution_count": null,
   "metadata": {},
   "outputs": [],
   "source": [
    "m1 - m2"
   ]
  },
  {
   "cell_type": "code",
   "execution_count": null,
   "metadata": {},
   "outputs": [],
   "source": []
  },
  {
   "cell_type": "markdown",
   "metadata": {},
   "source": [
    "# identity matrix\n",
    "\n",
    "$I \\cdot A = A$\n",
    "\n",
    "$A^{-1} \\cdot A = I$\n",
    "\n",
    "$A \\cdot A^{-1} = I$"
   ]
  },
  {
   "cell_type": "code",
   "execution_count": null,
   "metadata": {},
   "outputs": [],
   "source": []
  },
  {
   "cell_type": "markdown",
   "metadata": {},
   "source": [
    "# matrix inverses\n",
    "\n",
    "$\n",
    "A =\n",
    "\\begin{bmatrix}\n",
    " a & b \\\\ \n",
    " c & d\n",
    "\\end{bmatrix}\n",
    "$\n",
    "\n",
    "$A^{-1} = \\frac{1}{|A|} \\cdot\n",
    "\\begin{bmatrix}\n",
    " d & -b \\\\ \n",
    " -c & a\n",
    "\\end{bmatrix}\n",
    "$\n",
    "\n",
    "$A^{-1} = \\frac{1}{ad - bc} \\cdot\n",
    "\\begin{bmatrix}\n",
    " d & -b \\\\ \n",
    " -c & a\n",
    "\\end{bmatrix}\n",
    "$"
   ]
  },
  {
   "cell_type": "code",
   "execution_count": null,
   "metadata": {},
   "outputs": [],
   "source": [
    "m = np.array([\n",
    "    [ 3, -4],\n",
    "    [ 2, -5]\n",
    "], dtype = np.float)\n",
    "\n",
    "i = np.linalg.inv(m)\n",
    "i"
   ]
  },
  {
   "cell_type": "code",
   "execution_count": null,
   "metadata": {},
   "outputs": [],
   "source": [
    "i.dot(m)\n",
    "m.dot(i)"
   ]
  },
  {
   "cell_type": "markdown",
   "metadata": {},
   "source": [
    "### Is inverse ?"
   ]
  },
  {
   "cell_type": "code",
   "execution_count": null,
   "metadata": {},
   "outputs": [],
   "source": [
    "m = np.array([\n",
    "    [ 8, 7],\n",
    "    [-6,-2]\n",
    "], dtype = np.float)\n",
    "\n",
    "b = np.array([\n",
    "    [-1/13,-7/26],\n",
    "    [ 3/13, 4/13]\n",
    "], dtype = np.float)\n",
    "\n",
    "m.dot(b)\n",
    "\n",
    "assert m.dot(b).all() == np.eye(2).all()"
   ]
  },
  {
   "cell_type": "code",
   "execution_count": null,
   "metadata": {},
   "outputs": [],
   "source": []
  },
  {
   "cell_type": "markdown",
   "metadata": {},
   "source": [
    "# linear systems with matrix equations\n",
    "\n",
    "$A\\cdot\\vec{x} = \\vec{b}$\n",
    "\n",
    "$A^{-1} \\cdot A \\cdot \\vec{x} = A^{-1} \\cdot \\vec{b}$\n",
    "\n",
    "$I \\cdot \\vec{x} = A^{-1} \\cdot \\vec{b}$\n",
    "\n",
    "$\\vec{x} = A^{-1} \\cdot \\vec{b}$\n",
    "\n",
    "---\n",
    "\n",
    "$\\left\\{\n",
    "    \\begin{array}{ll}\n",
    "       2s - 5t = 7 \\\\\n",
    "       -2s + 4t = -6\n",
    "    \\end{array}\n",
    "\\right.$\n",
    "\n",
    "<=>\n",
    "\n",
    "$\n",
    "\\begin{bmatrix}\n",
    " 2 & -5 \\\\\n",
    "-2 & 4\n",
    "\\end{bmatrix}\n",
    "\\cdot\n",
    "\\begin{bmatrix}\n",
    "s \\\\\n",
    "t\n",
    "\\end{bmatrix}\n",
    "=\n",
    "\\begin{bmatrix}\n",
    "7 \\\\\n",
    "-6\n",
    "\\end{bmatrix}\n",
    "$"
   ]
  },
  {
   "cell_type": "code",
   "execution_count": null,
   "metadata": {},
   "outputs": [],
   "source": [
    "m = np.array([\n",
    "    [ 2,-5],\n",
    "    [-2, 4]\n",
    "], dtype = np.float)\n",
    "\n",
    "v = np.array([7, -6], dtype = np.float)"
   ]
  },
  {
   "cell_type": "code",
   "execution_count": null,
   "metadata": {},
   "outputs": [],
   "source": [
    "np.linalg.inv(m).dot(v)"
   ]
  },
  {
   "cell_type": "code",
   "execution_count": null,
   "metadata": {},
   "outputs": [],
   "source": [
    "np.linalg.solve(m, v)"
   ]
  },
  {
   "cell_type": "code",
   "execution_count": null,
   "metadata": {},
   "outputs": [],
   "source": []
  }
 ],
 "metadata": {
  "kernelspec": {
   "display_name": "Python 3",
   "language": "python",
   "name": "python3"
  },
  "language_info": {
   "codemirror_mode": {
    "name": "ipython",
    "version": 3
   },
   "file_extension": ".py",
   "mimetype": "text/x-python",
   "name": "python",
   "nbconvert_exporter": "python",
   "pygments_lexer": "ipython3",
   "version": "3.6.8"
  }
 },
 "nbformat": 4,
 "nbformat_minor": 2
}

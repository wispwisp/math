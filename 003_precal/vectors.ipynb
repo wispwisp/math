{
 "cells": [
  {
   "cell_type": "code",
   "execution_count": null,
   "metadata": {},
   "outputs": [],
   "source": [
    "import pandas as pd\n",
    "import numpy as np\n",
    "\n",
    "# import seaborn as sns\n",
    "# import matplotlib.pyplot as plt\n",
    "\n",
    "# import matplotlib\n",
    "# matplotlib.pyplot.style.use('seaborn')\n",
    "# matplotlib.rcParams['figure.figsize'] = (15, 5)\n",
    "\n",
    "# %matplotlib inline\n",
    "# %pylab inline"
   ]
  },
  {
   "cell_type": "code",
   "execution_count": null,
   "metadata": {},
   "outputs": [],
   "source": [
    "from IPython.core.interactiveshell import InteractiveShell\n",
    "InteractiveShell.ast_node_interactivity = \"all\""
   ]
  },
  {
   "cell_type": "code",
   "execution_count": null,
   "metadata": {},
   "outputs": [],
   "source": [
    "from IPython.core.display import SVG"
   ]
  },
  {
   "cell_type": "code",
   "execution_count": null,
   "metadata": {},
   "outputs": [],
   "source": [
    "import math"
   ]
  },
  {
   "cell_type": "code",
   "execution_count": null,
   "metadata": {},
   "outputs": [],
   "source": []
  },
  {
   "cell_type": "markdown",
   "metadata": {},
   "source": [
    "# magnitude "
   ]
  },
  {
   "cell_type": "code",
   "execution_count": null,
   "metadata": {},
   "outputs": [],
   "source": [
    "v = np.array([-3, 6], dtype = np.float)\n",
    "\n",
    "#math.sqrt(v[0]**2 + v[1]**2)\n",
    "#math.sqrt(sum(i**2 for i in v))\n",
    "np.linalg.norm(v)"
   ]
  },
  {
   "cell_type": "code",
   "execution_count": null,
   "metadata": {},
   "outputs": [],
   "source": [
    "np.linalg.norm(np.array([-1, 6], dtype = np.float))"
   ]
  },
  {
   "cell_type": "code",
   "execution_count": null,
   "metadata": {},
   "outputs": [],
   "source": []
  },
  {
   "cell_type": "markdown",
   "metadata": {},
   "source": [
    "# Direction of vectors from components"
   ]
  },
  {
   "cell_type": "markdown",
   "metadata": {},
   "source": [
    "$\\overrightarrow{u} = 3\\widehat{i} + 4\\widehat{j} =(3,4)$\n",
    "\n",
    "Take arctangent to get angle of triangle formed by the vector\n",
    "\n",
    "$\\Theta = tan^{-1}(\\frac{y}{x}) = tan^{-1}(\\frac{4}{3}) = 53.13^{\\circ}$"
   ]
  },
  {
   "cell_type": "markdown",
   "metadata": {},
   "source": [
    "## TODO: svg - triangle of vector, domain of tangent, why adding degerees, invert of vector, etc."
   ]
  },
  {
   "cell_type": "markdown",
   "metadata": {},
   "source": [
    "### If in `I` quadrant:"
   ]
  },
  {
   "cell_type": "code",
   "execution_count": null,
   "metadata": {
    "scrolled": true
   },
   "outputs": [],
   "source": [
    "x = 3\n",
    "y = 4\n",
    "math.degrees(math.atan(y/x))"
   ]
  },
  {
   "cell_type": "markdown",
   "metadata": {},
   "source": [
    "### If in `II` quadrant:"
   ]
  },
  {
   "cell_type": "code",
   "execution_count": null,
   "metadata": {},
   "outputs": [],
   "source": [
    "x = -5\n",
    "y = 6\n",
    "math.degrees(math.atan(y/x)) + 180"
   ]
  },
  {
   "cell_type": "markdown",
   "metadata": {},
   "source": [
    "### If in `III` quadrant:"
   ]
  },
  {
   "cell_type": "code",
   "execution_count": null,
   "metadata": {},
   "outputs": [],
   "source": [
    "x = -2\n",
    "y = -4\n",
    "math.degrees(math.atan(y/x)) + 180"
   ]
  },
  {
   "cell_type": "markdown",
   "metadata": {},
   "source": [
    "### If in `IV` quadrant:"
   ]
  },
  {
   "cell_type": "code",
   "execution_count": null,
   "metadata": {},
   "outputs": [],
   "source": [
    "x = 4\n",
    "y = -6\n",
    "math.degrees(math.atan(y/x)) + 360"
   ]
  },
  {
   "cell_type": "markdown",
   "metadata": {},
   "source": [
    "---"
   ]
  },
  {
   "cell_type": "markdown",
   "metadata": {},
   "source": [
    "## Examples"
   ]
  },
  {
   "cell_type": "code",
   "execution_count": null,
   "metadata": {},
   "outputs": [],
   "source": [
    "def vec_degrees(x, y):\n",
    "    if x > 0 and y > 0: # I quadrant\n",
    "        d = 0\n",
    "    elif x < 0 and y > 0: # II quadrant\n",
    "        d = 180\n",
    "    elif x < 0 and y < 0: # III quadrant\n",
    "        d = 180\n",
    "    elif x > 0 and y < 0: # IV quadrant\n",
    "        d = 360\n",
    "    else:\n",
    "        raise ValueError(\"Wrong!\")\n",
    "\n",
    "    return math.degrees(math.atan(y/x)) + d\n",
    "\n",
    "assert math.isclose(vec_degrees(3, 4), 53.13010235415598)\n",
    "assert math.isclose(vec_degrees(-5, 6), 129.80557109226518)\n",
    "assert math.isclose(vec_degrees(-2, -4), 243.43494882292202)\n",
    "assert math.isclose(vec_degrees(4, -6), 303.69006752597977)"
   ]
  },
  {
   "cell_type": "code",
   "execution_count": null,
   "metadata": {},
   "outputs": [],
   "source": [
    "vec_degrees(-10, 7)"
   ]
  },
  {
   "cell_type": "code",
   "execution_count": null,
   "metadata": {},
   "outputs": [],
   "source": []
  },
  {
   "cell_type": "markdown",
   "metadata": {},
   "source": [
    "# Adding vectors in magnitude & direction "
   ]
  },
  {
   "cell_type": "code",
   "execution_count": null,
   "metadata": {},
   "outputs": [],
   "source": [
    "SVG(filename='svg/vectors/vectors_magnitude_direction.svg')"
   ]
  },
  {
   "cell_type": "markdown",
   "metadata": {},
   "source": [
    "### (magnitude, angle)\n",
    "\n",
    "$\\overrightarrow{v} = (7, 160^{\\circ})$\n",
    "\n",
    "---\n",
    "\n",
    "$cos = \\frac{adj}{hyp}$\n",
    "\n",
    "$adj = cos \\cdot hyp$\n",
    "\n",
    "$\\widehat{i}(\\overrightarrow{v}) = cos(160^{\\circ}) \\cdot 7$\n",
    "\n",
    "_(or: $-cos(180^{\\circ} - 160^{\\circ}) \\cdot 7$)_\n",
    "\n",
    "---\n",
    "\n",
    "$sin = \\frac{opp}{hyp}$\n",
    "\n",
    "$opp = sin \\cdot hyp$\n",
    "\n",
    "$\\widehat{j}(\\overrightarrow{v}) = sin(160^{\\circ}) \\cdot 7$\n",
    "\n",
    "_(or: $sin(180^{\\circ} - 160^{\\circ}) \\cdot 7$)_\n",
    "\n",
    "---"
   ]
  },
  {
   "cell_type": "code",
   "execution_count": null,
   "metadata": {},
   "outputs": [],
   "source": [
    "a = 7\n",
    "d = 160\n",
    "\n",
    "i = a * math.cos(math.radians(d))\n",
    "j = a * math.sin(math.radians(d))\n",
    "v1 = (i, j)\n",
    "\n",
    "v1"
   ]
  },
  {
   "cell_type": "markdown",
   "metadata": {},
   "source": [
    "### (magnitude, angle)\n",
    "\n",
    "$\\overrightarrow{w} = (9, 20^{\\circ})$\n",
    "\n",
    "---\n",
    "\n",
    "$\\widehat{i}(\\overrightarrow{w}) = cos(20^{\\circ}) \\cdot 9$\n",
    "\n",
    "---\n",
    "\n",
    "$\\widehat{j}(\\overrightarrow{w}) = sin(20^{\\circ}) \\cdot 9$\n",
    "\n",
    "---"
   ]
  },
  {
   "cell_type": "code",
   "execution_count": null,
   "metadata": {},
   "outputs": [],
   "source": [
    "a = 9\n",
    "d = 20\n",
    "\n",
    "i = a * math.cos(math.radians(d))\n",
    "j = a * math.sin(math.radians(d))\n",
    "v2 = (i, j)\n",
    "\n",
    "v2"
   ]
  },
  {
   "cell_type": "markdown",
   "metadata": {},
   "source": [
    "# $v1 + v2$"
   ]
  },
  {
   "cell_type": "code",
   "execution_count": null,
   "metadata": {},
   "outputs": [],
   "source": [
    "tuple(map(sum, zip(v1, v2)))"
   ]
  },
  {
   "cell_type": "code",
   "execution_count": null,
   "metadata": {},
   "outputs": [],
   "source": [
    "tuple(np.add(v1, v2))"
   ]
  },
  {
   "cell_type": "code",
   "execution_count": null,
   "metadata": {},
   "outputs": [],
   "source": [
    "tuple(np.subtract(v1, v2))"
   ]
  },
  {
   "cell_type": "code",
   "execution_count": null,
   "metadata": {},
   "outputs": [],
   "source": []
  },
  {
   "cell_type": "code",
   "execution_count": null,
   "metadata": {},
   "outputs": [],
   "source": [
    "v1 = np.array([6, -1], dtype = np.float)\n",
    "v2 = np.array([2, -3], dtype = np.float)\n",
    "\n",
    "(3 * v2) - (2 * v1)"
   ]
  },
  {
   "cell_type": "code",
   "execution_count": null,
   "metadata": {},
   "outputs": [],
   "source": []
  },
  {
   "cell_type": "markdown",
   "metadata": {},
   "source": [
    "## Examples"
   ]
  },
  {
   "cell_type": "code",
   "execution_count": null,
   "metadata": {},
   "outputs": [],
   "source": [
    "def vectors_in_magnitude_direction(t1, t2, op=sum):\n",
    "    i = t1[0] * math.cos(math.radians(t1[1]))\n",
    "    j = t1[0] * math.sin(math.radians(t1[1]))\n",
    "    v1 = (i, j)\n",
    "\n",
    "    i = t2[0] * math.cos(math.radians(t2[1]))\n",
    "    j = t2[0] * math.sin(math.radians(t2[1]))\n",
    "    v2 = (i, j)\n",
    "\n",
    "    return tuple(map(op, zip(v1, v2)))\n",
    "\n",
    "assert vectors_in_magnitude_direction((7, 160), (9,20)) == (1.8793852415718177, 5.4723222932107)"
   ]
  },
  {
   "cell_type": "code",
   "execution_count": null,
   "metadata": {},
   "outputs": [],
   "source": [
    "t = vectors_in_magnitude_direction((7, 30), (4, 140))\n",
    "t\n",
    "\n",
    "magnitude = math.sqrt(t[0]**2 + t[1]**2)\n",
    "magnitude\n",
    "\n",
    "angle = math.degrees(math.atan(t[1]/t[0]))\n",
    "angle\n",
    "# 360 + angle"
   ]
  },
  {
   "cell_type": "code",
   "execution_count": null,
   "metadata": {},
   "outputs": [],
   "source": []
  },
  {
   "cell_type": "markdown",
   "metadata": {},
   "source": [
    "### Combined force\n",
    "\n",
    "||sum of vectors||\n",
    "\n",
    "$\\overrightarrow{v_1} = (4,6)$\n",
    "\n",
    "$\\overrightarrow{v_1} = (1,7)$\n",
    "\n",
    "$\\overrightarrow{v_1} + \\overrightarrow{v_2} = (5, 13)$\n",
    "\n",
    "$||\\overrightarrow{v_1} + \\overrightarrow{v_2}|| = ||(5, 13)|| = \\sqrt{194}$\n",
    "\n",
    "$\\theta = tan^{-1}(\\frac{13}{5}) = 68.962^{\\circ}$"
   ]
  },
  {
   "cell_type": "code",
   "execution_count": null,
   "metadata": {
    "scrolled": true
   },
   "outputs": [],
   "source": [
    "v1 = (4,6)\n",
    "v2 = (1,7)\n",
    "\n",
    "v = tuple(map(sum, zip(v1, v2)))\n",
    "v\n",
    "\n",
    "magnitude = math.sqrt(v[0]**2 + v[1]**2)\n",
    "magnitude\n",
    "\n",
    "angle = math.degrees(math.atan(v[1] / v[0]))\n",
    "angle"
   ]
  },
  {
   "cell_type": "code",
   "execution_count": null,
   "metadata": {},
   "outputs": [],
   "source": []
  },
  {
   "cell_type": "markdown",
   "metadata": {},
   "source": [
    "### Equations\n",
    "$\\overrightarrow{p} + \\overrightarrow{x} = \\overrightarrow{a}$\n",
    "\n",
    "$\\overrightarrow{x} = \\overrightarrow{a} - \\overrightarrow{p}$"
   ]
  },
  {
   "cell_type": "code",
   "execution_count": null,
   "metadata": {},
   "outputs": [],
   "source": [
    "magnitude = 5\n",
    "angle = 30\n",
    "\n",
    "i = magnitude * math.cos(math.radians(angle))\n",
    "j = magnitude * math.sin(math.radians(angle))\n",
    "v1 = (i, j)\n",
    "v1 = (v1[0], -v1[1]) # direction correction\n",
    "v1\n",
    "\n",
    "###\n",
    "\n",
    "magnitude = 6\n",
    "angle = 0\n",
    "\n",
    "i = magnitude * math.cos(math.radians(angle))\n",
    "j = magnitude * math.sin(math.radians(angle))\n",
    "v2 = (i, j)\n",
    "v2"
   ]
  },
  {
   "cell_type": "code",
   "execution_count": null,
   "metadata": {},
   "outputs": [],
   "source": [
    "x = tuple(np.subtract(v1, v2))\n",
    "x"
   ]
  },
  {
   "cell_type": "code",
   "execution_count": null,
   "metadata": {},
   "outputs": [],
   "source": [
    "math.sqrt(x[0]**2 + x[1]**2)"
   ]
  },
  {
   "cell_type": "code",
   "execution_count": null,
   "metadata": {},
   "outputs": [],
   "source": [
    "math.degrees(math.atan(x[1]/ x[0]))\n",
    "math.degrees(math.pi + math.atan(x[1]/ x[0]))"
   ]
  },
  {
   "cell_type": "code",
   "execution_count": null,
   "metadata": {},
   "outputs": [],
   "source": []
  },
  {
   "cell_type": "markdown",
   "metadata": {},
   "source": [
    "### Unit vector in the direction of vector\n",
    "\n",
    "$\\hat{v}$ - unit vector of $\\vec{v}$\n",
    "\n",
    "$\\left( \\frac{v[0]}{\\sqrt{v[0]^2 + v[1]^2}}, \\frac{v[1]}{\\sqrt{v[0]^2 + v[1]^2}} \\right)$"
   ]
  },
  {
   "cell_type": "code",
   "execution_count": null,
   "metadata": {},
   "outputs": [],
   "source": [
    "v = (12, -5)\n",
    "\n",
    "s = v[0]**2 + v[1]**2\n",
    "s\n",
    "\n",
    "m = math.sqrt(s)\n",
    "m\n",
    "\n",
    "vhat = (v[0] / m, v[1] / m)\n",
    "vhat"
   ]
  },
  {
   "cell_type": "code",
   "execution_count": null,
   "metadata": {},
   "outputs": [],
   "source": []
  }
 ],
 "metadata": {
  "kernelspec": {
   "display_name": "Python 3",
   "language": "python",
   "name": "python3"
  },
  "language_info": {
   "codemirror_mode": {
    "name": "ipython",
    "version": 3
   },
   "file_extension": ".py",
   "mimetype": "text/x-python",
   "name": "python",
   "nbconvert_exporter": "python",
   "pygments_lexer": "ipython3",
   "version": "3.6.8"
  }
 },
 "nbformat": 4,
 "nbformat_minor": 2
}

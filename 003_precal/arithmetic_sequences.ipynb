{
 "cells": [
  {
   "cell_type": "code",
   "execution_count": null,
   "metadata": {},
   "outputs": [],
   "source": [
    "import pandas as pd\n",
    "import numpy as np\n",
    "\n",
    "# import seaborn as sns\n",
    "# import matplotlib.pyplot as plt\n",
    "\n",
    "# import matplotlib\n",
    "# matplotlib.pyplot.style.use('seaborn')\n",
    "# matplotlib.rcParams['figure.figsize'] = (15, 5)\n",
    "\n",
    "# %matplotlib inline\n",
    "# %pylab inline"
   ]
  },
  {
   "cell_type": "code",
   "execution_count": null,
   "metadata": {},
   "outputs": [],
   "source": [
    "from IPython.core.interactiveshell import InteractiveShell\n",
    "InteractiveShell.ast_node_interactivity = \"all\""
   ]
  },
  {
   "cell_type": "code",
   "execution_count": null,
   "metadata": {},
   "outputs": [],
   "source": [
    "from IPython.core.display import SVG"
   ]
  },
  {
   "cell_type": "code",
   "execution_count": null,
   "metadata": {},
   "outputs": [],
   "source": [
    "import math"
   ]
  },
  {
   "cell_type": "code",
   "execution_count": null,
   "metadata": {},
   "outputs": [],
   "source": []
  },
  {
   "cell_type": "markdown",
   "metadata": {},
   "source": [
    "* arithmetic sequence: $-5, 13, 31, 49$\n",
    "\n",
    "The general explicit formula for arithmetic sequences is $a_1+d(n−1)$ \n",
    "\n",
    "\n",
    "find step: $13 - (-5) = 13 + 5 = 18$. Check $-5 + 18 = 13$\n",
    "\n",
    "\n",
    "\n",
    "$b(n) = -5 + 18(n - 1)$"
   ]
  },
  {
   "cell_type": "code",
   "execution_count": null,
   "metadata": {},
   "outputs": [],
   "source": []
  },
  {
   "cell_type": "markdown",
   "metadata": {},
   "source": [
    "`24,16,8,0`\n",
    "\n",
    "$f(n) = 32 - 8n$\n",
    "\n",
    "$f(n) = 24 - 8n$\n",
    "\n",
    "The general explicit formula for arithmetic sequences is $a_1+d(n−1)$\n",
    "\n",
    "Find general formula from sequence\n",
    "\n",
    "$f(n) = 24 - 8(n - 1)$\n",
    "\n",
    "$f(n) = 24 - 8n + 8$\n",
    "\n",
    "$f(n) = 32 - 8n$\n",
    "\n",
    "What about second formula? It is not a correct formula, because the constant difference is added one extra time for each term. For instance, according to this formula, the value of the first term would be\n",
    "\n",
    "$f(1) = 24 - 8(1) = 16$ - The first term is wrong\n",
    "\n",
    "$f(1) = 32 - 8(1) = 24$ - Correct first formula"
   ]
  },
  {
   "cell_type": "code",
   "execution_count": null,
   "metadata": {},
   "outputs": [],
   "source": []
  },
  {
   "cell_type": "markdown",
   "metadata": {},
   "source": [
    "`170, 85, 0, -85`\n",
    "\n",
    "The general explicit formula for arithmetic sequences is $a_1+d(n−1)$\n",
    "\n",
    "$170 - 85(n-1)$\n",
    "\n",
    "$170 - 85n + 85$\n",
    "\n",
    "$255 - 85n$\n",
    "\n",
    "$f(1) = 255 - 85(1) = 170$\n",
    "\n",
    "170 - 85(n-1)"
   ]
  },
  {
   "cell_type": "code",
   "execution_count": null,
   "metadata": {},
   "outputs": [],
   "source": []
  },
  {
   "cell_type": "markdown",
   "metadata": {},
   "source": [
    "# * * *"
   ]
  },
  {
   "cell_type": "markdown",
   "metadata": {},
   "source": [
    "`-15 -11 -7 -3`\n",
    "\n",
    "$f(n) = -15 + 4(n-1)$"
   ]
  },
  {
   "cell_type": "code",
   "execution_count": null,
   "metadata": {},
   "outputs": [],
   "source": []
  }
 ],
 "metadata": {
  "kernelspec": {
   "display_name": "Python 3",
   "language": "python",
   "name": "python3"
  },
  "language_info": {
   "codemirror_mode": {
    "name": "ipython",
    "version": 3
   },
   "file_extension": ".py",
   "mimetype": "text/x-python",
   "name": "python",
   "nbconvert_exporter": "python",
   "pygments_lexer": "ipython3",
   "version": "3.6.8"
  }
 },
 "nbformat": 4,
 "nbformat_minor": 2
}

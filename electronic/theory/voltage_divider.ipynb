{
 "cells": [
  {
   "cell_type": "code",
   "execution_count": null,
   "metadata": {},
   "outputs": [],
   "source": [
    "from IPython.core.display import SVG"
   ]
  },
  {
   "cell_type": "code",
   "execution_count": null,
   "metadata": {},
   "outputs": [],
   "source": [
    "SVG(filename='svg/voltage_divider.svg')"
   ]
  },
  {
   "cell_type": "markdown",
   "metadata": {},
   "source": [
    "Assume no current taken: $i_{out} = 0$\n",
    "\n",
    "with that assumption: $i_1 = i_2 = i$\n",
    "\n",
    "And we get:\n",
    "\n",
    "$V_{in} = (i)(R_t) = i(R_1 + R_2)$\n",
    "\n",
    "$i = \\frac{V_{in}}{R_1 + R_2}$\n",
    "\n",
    "---\n",
    "\n",
    "Let solve another equaiton, for $V_{out}$\n",
    "\n",
    "$V_{out} = (i)(R_2)$\n",
    "\n",
    "$i = \\frac{V_{out}}{R_2}$\n",
    "\n",
    "---\n",
    "\n",
    "We have `i` in both equations\n",
    "\n",
    "$i = \\frac{V_{in}}{R_1 + R_2}$\n",
    "\n",
    "$i = \\frac{V_{out}}{R_2}$\n",
    "\n",
    "---\n",
    "\n",
    "$\\frac{V_{out}}{R_2} = i = \\frac{V_{in}}{R_1 + R_2}$\n",
    "\n",
    "$\\frac{V_{out}}{R_2} = \\frac{V_{in}}{R_1 + R_2}$\n",
    "\n",
    "$V_{out} = R_2\\frac{V_{in}}{R_1 + R_2}$\n",
    "\n",
    "---\n",
    "\n",
    "$V_{out} = V_{in}\\frac{R_2}{R_1 + R_2}$"
   ]
  }
 ],
 "metadata": {
  "kernelspec": {
   "display_name": "Python 3",
   "language": "python",
   "name": "python3"
  },
  "language_info": {
   "codemirror_mode": {
    "name": "ipython",
    "version": 3
   },
   "file_extension": ".py",
   "mimetype": "text/x-python",
   "name": "python",
   "nbconvert_exporter": "python",
   "pygments_lexer": "ipython3",
   "version": "3.6.7"
  }
 },
 "nbformat": 4,
 "nbformat_minor": 2
}

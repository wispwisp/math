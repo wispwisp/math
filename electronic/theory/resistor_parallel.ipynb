{
 "cells": [
  {
   "cell_type": "code",
   "execution_count": null,
   "metadata": {},
   "outputs": [],
   "source": [
    "from IPython.core.display import SVG"
   ]
  },
  {
   "cell_type": "code",
   "execution_count": null,
   "metadata": {
    "scrolled": false
   },
   "outputs": [],
   "source": [
    "SVG(filename='svg/resistor_parallel.svg')"
   ]
  },
  {
   "cell_type": "markdown",
   "metadata": {},
   "source": [
    "$\\frac{1}{R_{total}} = \\frac{1}{R_1} + \\frac{1}{R_2} + ... + \\frac{1}{R_n}$\n",
    "\n",
    "$R_1 || R_2 = R_{total} = \\frac{R_1 \\cdot R_2}{R_1 + R_2}$\n",
    "\n",
    "---"
   ]
  },
  {
   "cell_type": "markdown",
   "metadata": {},
   "source": [
    "###### prof:\n",
    "\n",
    "$i = i_1 + i_2 + ... + i_n$\n",
    "\n",
    "$i = \\frac{V}{R_1} + \\frac{V}{R_2} + ... + \\frac{V}{R_n}$\n",
    "\n",
    "$i = V \\left( \\frac{1}{R_1} + \\frac{1}{R_2} + ... + \\frac{1}{R_n} \\right)$\n",
    "\n",
    "$\\frac{i}{V} = \\frac{1}{R_1} + \\frac{1}{R_2} + ... + \\frac{1}{R_n}$\n",
    "\n",
    "$\\frac{i}{V} = \\frac{1}{R_{total}}$\n",
    "\n",
    "$\\frac{V}{i} = R = R_{total}$\n",
    "\n",
    "---"
   ]
  },
  {
   "cell_type": "markdown",
   "metadata": {},
   "source": [
    "###### two in parallel\n",
    "\n",
    "Algebra from previous fromula:\n",
    "\n",
    "$\\frac{1}{R_t} = \\frac{1}{R_1} + \\frac{1}{R_2} = \\frac{R_1 + R_2}{R_1 \\cdot R_2}$\n",
    "\n",
    "$R_t = \\frac{R_1 \\cdot R_2}{R_1 + R_2}$"
   ]
  }
 ],
 "metadata": {
  "kernelspec": {
   "display_name": "Python 3",
   "language": "python",
   "name": "python3"
  },
  "language_info": {
   "codemirror_mode": {
    "name": "ipython",
    "version": 3
   },
   "file_extension": ".py",
   "mimetype": "text/x-python",
   "name": "python",
   "nbconvert_exporter": "python",
   "pygments_lexer": "ipython3",
   "version": "3.6.7"
  }
 },
 "nbformat": 4,
 "nbformat_minor": 2
}

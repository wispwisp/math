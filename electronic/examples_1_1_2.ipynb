{
 "cells": [
  {
   "cell_type": "code",
   "execution_count": null,
   "metadata": {},
   "outputs": [],
   "source": [
    "import pandas as pd\n",
    "import numpy as np\n",
    "\n",
    "# import seaborn as sns\n",
    "# import matplotlib.pyplot as plt\n",
    "\n",
    "# import matplotlib\n",
    "# matplotlib.pyplot.style.use('seaborn')\n",
    "# matplotlib.rcParams['figure.figsize'] = (15, 5)\n",
    "\n",
    "# %matplotlib inline\n",
    "# %pylab inline"
   ]
  },
  {
   "cell_type": "code",
   "execution_count": null,
   "metadata": {},
   "outputs": [],
   "source": [
    "from IPython.core.interactiveshell import InteractiveShell\n",
    "InteractiveShell.ast_node_interactivity = \"all\""
   ]
  },
  {
   "cell_type": "code",
   "execution_count": null,
   "metadata": {},
   "outputs": [],
   "source": [
    "from IPython.core.display import SVG"
   ]
  },
  {
   "cell_type": "code",
   "execution_count": null,
   "metadata": {},
   "outputs": [],
   "source": [
    "import math"
   ]
  },
  {
   "cell_type": "code",
   "execution_count": null,
   "metadata": {},
   "outputs": [],
   "source": []
  },
  {
   "cell_type": "markdown",
   "metadata": {},
   "source": [
    "KVL - Kirchoff voltage law\n",
    "\n",
    "KCL - Kirchoff current law\n",
    "\n",
    "\n",
    "VD - ФДН - Voltage divider\n",
    "\n",
    "CD - ФДТ - Current divider"
   ]
  },
  {
   "cell_type": "code",
   "execution_count": null,
   "metadata": {},
   "outputs": [],
   "source": []
  },
  {
   "cell_type": "markdown",
   "metadata": {},
   "source": [
    "# No. 7"
   ]
  },
  {
   "cell_type": "code",
   "execution_count": null,
   "metadata": {},
   "outputs": [],
   "source": [
    "SVG(filename='svg/examples_1_1_2/7.svg')"
   ]
  },
  {
   "cell_type": "markdown",
   "metadata": {},
   "source": [
    "$R_{k} = 3\\Omega$\n",
    "\n",
    "$i_{k} = ?$ ФДТ\n",
    "\n",
    "$R_{23} = \\frac{R_{2} R_{3}}{R_{2} + R_{3}} = \\frac{3 \\cdot 3}{3 + 3} = \\frac{3}{2}$\n",
    "\n",
    "$R_{123} = R_{1} + R_{23} = 3 + \\frac{3}{2} = \\frac{9}{2}$\n",
    "\n",
    "ФДТ: $i_{4} = i_{5} \\left( \\frac{R_{123}}{R_{123} + R_{4}} \\right) = 5A \\left( \\frac{\\frac{9}{2}}{\\frac{9}{2} + 3} \\right) = \n",
    "5A \\left( \\frac{\\frac{9}{2}}{\\frac{9}{2} + \\frac{6}{2}} \\right) = \n",
    "5A \\left( \\frac{\\frac{9}{2}}{\\frac{15}{2}} \\right) = \n",
    "5A \\left( \\frac{3}{5} \\right) =\n",
    "3A\n",
    "$"
   ]
  },
  {
   "cell_type": "code",
   "execution_count": null,
   "metadata": {},
   "outputs": [],
   "source": [
    "SVG(filename='svg/examples_1_1_2/7.1.svg')"
   ]
  },
  {
   "cell_type": "code",
   "execution_count": null,
   "metadata": {},
   "outputs": [],
   "source": [
    "SVG(filename='svg/examples_1_1_2/7.2.svg')"
   ]
  },
  {
   "cell_type": "markdown",
   "metadata": {},
   "source": [
    "ФДТ: $i_{3} = i \\left( \\frac{R_{2}}{R_{2} + R_{3}} \\right) =\n",
    "2A \\left( \\frac{3}{3 + 3} \\right) = \n",
    "2A \\left( \\frac{1}{2} \\right) = \n",
    "\\frac{2}{2}A = 1A\n",
    "$"
   ]
  },
  {
   "cell_type": "code",
   "execution_count": null,
   "metadata": {},
   "outputs": [],
   "source": []
  },
  {
   "cell_type": "markdown",
   "metadata": {},
   "source": [
    "# No. 8"
   ]
  },
  {
   "cell_type": "code",
   "execution_count": null,
   "metadata": {},
   "outputs": [],
   "source": [
    "SVG(filename='svg/examples_1_1_2/8.svg')"
   ]
  },
  {
   "cell_type": "markdown",
   "metadata": {},
   "source": [
    "$R_k = 6$\n",
    "\n",
    "$i_k = ?$ ФДТ"
   ]
  },
  {
   "cell_type": "code",
   "execution_count": null,
   "metadata": {},
   "outputs": [],
   "source": [
    "SVG(filename='svg/examples_1_1_2/8.1.svg')"
   ]
  },
  {
   "cell_type": "code",
   "execution_count": null,
   "metadata": {},
   "outputs": [],
   "source": [
    "SVG(filename='svg/examples_1_1_2/8.2.svg')"
   ]
  },
  {
   "cell_type": "markdown",
   "metadata": {},
   "source": [
    "$R_{1,2} = \\frac{R_1 \\cdot R_2}{R_1 + R_2} = {6 \\cdot 6 \\over 6 + 6} = \\frac{36}{12} = 3\\Omega$\n",
    "\n",
    "ФДТ: $i_{4,5} = i_3 \\left( \\frac{R_{1,2}}{R_{1,2} + R_{4,5}} \\right) = \n",
    "5A \\frac{3}{3 + 12} = \\frac{5 \\cdot 3}{15} = 1A\n",
    "$\n",
    "\n",
    "ФДТ: $i_{1,2} = i_3 \\left( \\frac{R_{4,5}}{R_{1,2} + R_{4,5}} \\right) = \n",
    "5A \\frac{12}{3 + 12} = \\frac{5 \\cdot 12}{15} = 4A\n",
    "$"
   ]
  },
  {
   "cell_type": "code",
   "execution_count": null,
   "metadata": {},
   "outputs": [],
   "source": [
    "SVG(filename='svg/examples_1_1_2/8.3.svg')"
   ]
  },
  {
   "cell_type": "markdown",
   "metadata": {},
   "source": [
    "ФДТ: $i_{1} = i_{1,2} \\left( \\frac{R_{2}}{R_{1} + R_{2}} \\right) = \n",
    "4A \\frac{6}{6 + 6} = \\frac{4 \\cdot 6}{12} = 2A\n",
    "$\n",
    "\n",
    "ФДТ: $i_{2} = i_{1,2} \\left( \\frac{R_{1}}{R_{1} + R_{2}} \\right) = \n",
    "4A \\frac{6}{6 + 6} = \\frac{4 \\cdot 6}{12} = 2A\n",
    "$\n",
    "\n",
    "KCL: $i_{4} = i_5 = 1A$"
   ]
  },
  {
   "cell_type": "code",
   "execution_count": null,
   "metadata": {},
   "outputs": [],
   "source": []
  },
  {
   "cell_type": "markdown",
   "metadata": {},
   "source": [
    "# No. 9"
   ]
  },
  {
   "cell_type": "code",
   "execution_count": null,
   "metadata": {
    "scrolled": false
   },
   "outputs": [],
   "source": [
    "SVG(filename='svg/examples_1_1_2/9.svg')"
   ]
  },
  {
   "cell_type": "markdown",
   "metadata": {},
   "source": [
    "$R_k = 3$\n",
    "\n",
    "$v_k = ?$ ФДН"
   ]
  },
  {
   "cell_type": "code",
   "execution_count": null,
   "metadata": {},
   "outputs": [],
   "source": [
    "SVG(filename='svg/examples_1_1_2/9.1.svg')"
   ]
  },
  {
   "cell_type": "code",
   "execution_count": null,
   "metadata": {},
   "outputs": [],
   "source": [
    "SVG(filename='svg/examples_1_1_2/9.2.svg')"
   ]
  },
  {
   "cell_type": "markdown",
   "metadata": {},
   "source": [
    "$R_{3,4,5} = \\frac{R_3 R_{4,5}}{R_3 + R_{4,5}} =\n",
    "\\frac{3 \\cdot 6}{3 + 6} = \\frac{18}{9} = 2\\Omega$\n",
    "\n",
    "VD: $V_{3,4,5} = V_{1}\\left( \\frac{R_{3,4,5}}{R_2 + R_{3,4,5}} \\right) =\n",
    "15V\\left( \\frac{2}{3 + 2} \\right) = 15V \\cdot \\frac{2}{5} =\n",
    "\\frac{15 \\cdot 2}{5} = 3 \\cdot 2 = 6V\n",
    "$\n",
    "\n",
    "VD: $V_2 = V_{1}\\left( \\frac{R_2}{R_2 + R_{3,4,5}} \\right) =\n",
    "15V\\left( \\frac{3}{3 + 2} \\right) = 15V \\cdot \\frac{3}{5} =\n",
    "\\frac{15 \\cdot 3}{5} = 3 \\cdot 3 = 9V\n",
    "$"
   ]
  },
  {
   "cell_type": "code",
   "execution_count": null,
   "metadata": {},
   "outputs": [],
   "source": [
    "SVG(filename='svg/examples_1_1_2/9.3.svg')"
   ]
  },
  {
   "cell_type": "markdown",
   "metadata": {},
   "source": [
    "KVL: $V_3 = 6V$\n",
    "\n",
    "VD: $V_4 = V_{3,4,5}\\left( \\frac{R_4}{R_4 + R_5} \\right) =\n",
    "6V\\left( \\frac{3}{3 + 3} \\right) = 6V \\cdot \\frac{3}{6} = 3V\n",
    "$\n",
    "\n",
    "VD: $V_5 = V_{3,4,5}\\left( \\frac{R_5}{R_4 + R_5} \\right) =\n",
    "6V\\left( \\frac{3}{3 + 3} \\right) = 6V \\cdot \\frac{3}{6} = 3V\n",
    "$"
   ]
  },
  {
   "cell_type": "code",
   "execution_count": null,
   "metadata": {},
   "outputs": [],
   "source": []
  },
  {
   "cell_type": "markdown",
   "metadata": {},
   "source": [
    "# No. 10"
   ]
  },
  {
   "cell_type": "code",
   "execution_count": null,
   "metadata": {
    "scrolled": false
   },
   "outputs": [],
   "source": [
    "SVG(filename='svg/examples_1_1_2/10.svg')"
   ]
  },
  {
   "cell_type": "markdown",
   "metadata": {},
   "source": [
    "$R_k = 1$\n",
    "\n",
    "$v_k = ?$ VD"
   ]
  },
  {
   "cell_type": "code",
   "execution_count": null,
   "metadata": {},
   "outputs": [],
   "source": [
    "SVG(filename='svg/examples_1_1_2/10.1.svg')"
   ]
  },
  {
   "cell_type": "markdown",
   "metadata": {},
   "source": [
    "$R_{4,5} = \\frac{R_4 R_5}{R_4 + R_5} = \\frac{1}{2} \\Omega$\n",
    "\n",
    "VD: $V_{2,3} = V_1 \\frac{R_{2,3}}{R_{2,3} + R_{4,5}} = 5V \\frac{2}{2.5} = 5V \\cdot \\frac{4}{5} = 4V$\n",
    "\n",
    "$\\frac{2}{1} : 2\\frac{1}{2} = \\frac{2}{1} : \\frac{5}{2} = \\frac{2}{1} \\cdot \\frac{2}{5} = \\frac{4}{5}$\n",
    "\n",
    "VD: $V_{4,5} = V_1 \\frac{R_{4,5}}{R_{2,3} + R_{4,5}} = 5V \\frac{0.5}{2.5} = 5V \\cdot \\frac{1}{5} = 1V$\n",
    "\n",
    "$\\frac{1}{2} : 2\\frac{1}{2} =\n",
    "\\frac{1}{2} : \\frac{5}{2} =\n",
    "\\frac{1}{2} \\cdot \\frac{2}{5} = \\frac{1}{5}\n",
    "$\n",
    "\n",
    "VD: $V_2 = V_{2,3} \\frac{V_2}{V_2 + V_3} = 4V \\frac{1}{2} = 2V$\n",
    "\n",
    "VD: $V_3 = V_{2,3} \\frac{V_3}{V_2 + V_3} = 4V \\frac{1}{2} = 2V$\n",
    "\n",
    "KVL: $V_4 = V_5 = 1V$"
   ]
  },
  {
   "cell_type": "code",
   "execution_count": null,
   "metadata": {},
   "outputs": [],
   "source": []
  },
  {
   "cell_type": "markdown",
   "metadata": {},
   "source": [
    "# No. 11"
   ]
  },
  {
   "cell_type": "code",
   "execution_count": null,
   "metadata": {},
   "outputs": [],
   "source": [
    "SVG(filename='svg/examples_1_1_2/11.svg')"
   ]
  },
  {
   "cell_type": "markdown",
   "metadata": {},
   "source": [
    "$R_k = 2$\n",
    "\n",
    "$i_k = ?$ CD\n",
    "\n",
    "$R_{1,2} = R_1 + R_2 = 4\\Omega$\n",
    "\n",
    "$R_{1,2,3} = \\frac{ R_{1,2} \\cdot R_3 }{ R_{1,2} + R_3 } = \\frac{4 \\cdot 2}{4 + 2} = \\frac{4}{3}\\Omega$\n",
    "\n",
    "CD: $i_{1,2,3} = i_4 \\frac{R_5}{R_{1,2,3} + R_5} =\n",
    "5A \\frac{2}{\\frac{4}{3} + 2} =\n",
    "5A \\frac{2}{\\frac{10}{3}} =\n",
    "(5A)\\frac{6}{10} = 3A$\n",
    "\n",
    "CD: $i_{5} = i_4 \\frac{R_{1,2,3}}{R_{1,2,3} + R_5} =\n",
    "5A \\frac{ \\frac{4}{3} }{\\frac{4}{3} + 2} =\n",
    "5A \\frac{ \\frac{4}{3} }{\\frac{10}{3}} =\n",
    "(5A)\\frac{4}{10} = 2A$\n",
    "\n",
    "CD: $i_{1,2} = i_{1,2,3} \\frac{R_3}{R_{1,2} + R_3} = 3A \\frac{2}{4 + 2} = (3A)\\frac{1}{3} = 1A$\n",
    "\n",
    "CD: $i_3 = i_{1,2,3} \\frac{R_{1,2}}{R_{1,2} + R_3} = 3A \\frac{4}{4 + 2} = (3A)\\frac{2}{3} = 2A$\n",
    "\n",
    "KCL: $i_1 = i_2 = i_{1,2} = 1A$"
   ]
  },
  {
   "cell_type": "code",
   "execution_count": null,
   "metadata": {},
   "outputs": [],
   "source": []
  },
  {
   "cell_type": "markdown",
   "metadata": {},
   "source": [
    "# No. 12"
   ]
  },
  {
   "cell_type": "code",
   "execution_count": null,
   "metadata": {},
   "outputs": [],
   "source": [
    "SVG(filename='svg/examples_1_1_2/12.svg')"
   ]
  },
  {
   "cell_type": "markdown",
   "metadata": {},
   "source": [
    "$R_k = 3$\n",
    "\n",
    "$v_k = ?$ VD\n",
    "\n",
    "$R_{1,2,3} = \\frac{1}{R_{1,2,3}} = \\frac{1}{3} + \\frac{1}{3} + \\frac{1}{3} = 1\\Omega$\n",
    "\n",
    "VD: $v_{1,2,3} = v_5 \\frac{R_{1,2,3}}{R_{1,2,3} + R4} =\n",
    "(4V)\\frac{1}{1+3} = (4V)\\frac{1}{4} = 1V$\n",
    "\n",
    "KVL: $v_1 = v_2 = v_3 = 1V$\n",
    "\n",
    "VD: $v_4 = v_5 \\frac{R_4}{R_{1,2,3} + R4} = (4V)\\frac{3}{1+3} = (4V)\\frac{3}{4} = (4V)\\frac{3}{4} = 3V$"
   ]
  },
  {
   "cell_type": "code",
   "execution_count": null,
   "metadata": {},
   "outputs": [],
   "source": []
  },
  {
   "cell_type": "markdown",
   "metadata": {},
   "source": [
    "# No. 13"
   ]
  },
  {
   "cell_type": "code",
   "execution_count": null,
   "metadata": {},
   "outputs": [],
   "source": [
    "SVG(filename='svg/examples_1_1_2/13.svg')"
   ]
  },
  {
   "cell_type": "markdown",
   "metadata": {},
   "source": [
    "$R_k = 1$\n",
    "\n",
    "$i_k = ?$ CD\n",
    "\n",
    "$R_{4,5} = \\frac{R_4 \\cdot R_5}{R_4 + R_5} = \\frac{1}{2}\\Omega$\n",
    "\n",
    "$R_{3,4,5} = R_3 + R_{4,5} = 1.5\\Omega$\n",
    "\n",
    "$i_{2} = i_1 \\frac{R_{3,4,5}}{R_2 + R_{3,4,5}} = (5A)\\frac{1.5}{2.5} = (5A)\\frac{3}{5} = 3A$\n",
    "\n",
    "$i_{3,4,5} = i_1 \\frac{R_2}{R_2 + R_{3,4,5}} = (5A)\\frac{1}{2.5} = (5A)\\frac{2}{5} = 2A$\n",
    "\n",
    "KCL: $i_3 = i_{4,5} = 2A$\n",
    "\n",
    "$i_4 = i_{4,5} \\frac{R_5}{R_4 + R_5} = (2A)\\frac{1}{2} = 1A$\n",
    "\n",
    "$i_5 = i_{4,5} \\frac{R_4}{R_4 + R_5} = (2A)\\frac{1}{2} = 1A$"
   ]
  },
  {
   "cell_type": "code",
   "execution_count": null,
   "metadata": {},
   "outputs": [],
   "source": []
  },
  {
   "cell_type": "markdown",
   "metadata": {},
   "source": [
    "# No. 14"
   ]
  },
  {
   "cell_type": "code",
   "execution_count": null,
   "metadata": {},
   "outputs": [],
   "source": [
    "SVG(filename='svg/examples_1_1_2/14.svg')"
   ]
  },
  {
   "cell_type": "markdown",
   "metadata": {},
   "source": [
    "$R_k = 2$\n",
    "\n",
    "$v_k = ?$ VD\n",
    "\n",
    "$R_2||R_3 = \\frac{R_2 \\cdot R_3}{R_2 + R_3} = \\frac{4}{4} = 1\\Omega$\n",
    "\n",
    "$R_4||R_5 = \\frac{R_4 \\cdot R_5}{R_4 + R_5} = \\frac{4}{4} = 1\\Omega$\n",
    "\n",
    "$V_{2,3} = V_1 \\frac{R_{2,3}}{R_{2,3} + R_{4,5}} = (4V) \\frac{1}{2} = 2V$\n",
    "\n",
    "$V_{4,5} = V_1 \\frac{R_{4,5}}{R_{2,3} + R_{4,5}} = (4V) \\frac{1}{2} = 2V$\n",
    "\n",
    "KVL: $V_2 = V_3 = V_{2,3} = 2V$\n",
    "\n",
    "KVL: $V_4 = V_5 = V_{4,5} = 2V$"
   ]
  },
  {
   "cell_type": "code",
   "execution_count": null,
   "metadata": {},
   "outputs": [],
   "source": []
  }
 ],
 "metadata": {
  "kernelspec": {
   "display_name": "Python 3",
   "language": "python",
   "name": "python3"
  },
  "language_info": {
   "codemirror_mode": {
    "name": "ipython",
    "version": 3
   },
   "file_extension": ".py",
   "mimetype": "text/x-python",
   "name": "python",
   "nbconvert_exporter": "python",
   "pygments_lexer": "ipython3",
   "version": "3.6.7"
  }
 },
 "nbformat": 4,
 "nbformat_minor": 2
}

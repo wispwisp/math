{
 "cells": [
  {
   "cell_type": "code",
   "execution_count": null,
   "metadata": {},
   "outputs": [],
   "source": [
    "import pandas as pd\n",
    "import numpy as np\n",
    "\n",
    "# import seaborn as sns\n",
    "# import matplotlib.pyplot as plt\n",
    "\n",
    "# import matplotlib\n",
    "# matplotlib.pyplot.style.use('seaborn')\n",
    "# matplotlib.rcParams['figure.figsize'] = (15, 5)\n",
    "\n",
    "# %matplotlib inline\n",
    "# %pylab inline"
   ]
  },
  {
   "cell_type": "code",
   "execution_count": null,
   "metadata": {},
   "outputs": [],
   "source": [
    "from IPython.core.interactiveshell import InteractiveShell\n",
    "InteractiveShell.ast_node_interactivity = \"all\""
   ]
  },
  {
   "cell_type": "code",
   "execution_count": null,
   "metadata": {},
   "outputs": [],
   "source": [
    "from IPython.core.display import SVG"
   ]
  },
  {
   "cell_type": "code",
   "execution_count": null,
   "metadata": {},
   "outputs": [],
   "source": [
    "import math"
   ]
  },
  {
   "cell_type": "markdown",
   "metadata": {},
   "source": [
    "# No. 7"
   ]
  },
  {
   "cell_type": "code",
   "execution_count": null,
   "metadata": {},
   "outputs": [],
   "source": [
    "SVG(filename='svg/examples_1_1_2/7.svg')"
   ]
  },
  {
   "cell_type": "markdown",
   "metadata": {},
   "source": [
    "$R_{k} = 3\\Omega$\n",
    "\n",
    "$i_{k} = ?$ ФДТ\n",
    "\n",
    "$R_{23} = \\frac{R_{2} R_{3}}{R_{2} + R_{3}} = \\frac{3 \\cdot 3}{3 + 3} = \\frac{3}{2}$\n",
    "\n",
    "$R_{123} = R_{1} + R_{23} = 3 + \\frac{3}{2} = \\frac{9}{2}$\n",
    "\n",
    "ФДТ: $i_{4} = i_{5} \\left( \\frac{R_{123}}{R_{123} + R_{4}} \\right) = 5A \\left( \\frac{\\frac{9}{2}}{\\frac{9}{2} + 3} \\right) = \n",
    "5A \\left( \\frac{\\frac{9}{2}}{\\frac{9}{2} + \\frac{6}{2}} \\right) = \n",
    "5A \\left( \\frac{\\frac{9}{2}}{\\frac{15}{2}} \\right) = \n",
    "5A \\left( \\frac{3}{5} \\right) =\n",
    "3A\n",
    "$"
   ]
  },
  {
   "cell_type": "code",
   "execution_count": null,
   "metadata": {},
   "outputs": [],
   "source": [
    "SVG(filename='svg/examples_1_1_2/7.1.svg')"
   ]
  },
  {
   "cell_type": "code",
   "execution_count": null,
   "metadata": {},
   "outputs": [],
   "source": [
    "SVG(filename='svg/examples_1_1_2/7.2.svg')"
   ]
  },
  {
   "cell_type": "markdown",
   "metadata": {},
   "source": [
    "ФДТ: $i_{3} = i \\left( \\frac{R_{2}}{R_{2} + R_{3}} \\right) =\n",
    "2A \\left( \\frac{3}{3 + 3} \\right) = \n",
    "2A \\left( \\frac{1}{2} \\right) = \n",
    "\\frac{2}{2}A = 1A\n",
    "$"
   ]
  },
  {
   "cell_type": "code",
   "execution_count": null,
   "metadata": {},
   "outputs": [],
   "source": []
  },
  {
   "cell_type": "markdown",
   "metadata": {},
   "source": [
    "# No. 8"
   ]
  },
  {
   "cell_type": "code",
   "execution_count": null,
   "metadata": {},
   "outputs": [],
   "source": [
    "SVG(filename='svg/examples_1_1_2/8.svg')"
   ]
  },
  {
   "cell_type": "markdown",
   "metadata": {},
   "source": [
    "$R_k = 6$\n",
    "\n",
    "$i_k = ?$ ФДТ"
   ]
  },
  {
   "cell_type": "code",
   "execution_count": null,
   "metadata": {},
   "outputs": [],
   "source": [
    "SVG(filename='svg/examples_1_1_2/8.1.svg')"
   ]
  },
  {
   "cell_type": "code",
   "execution_count": null,
   "metadata": {},
   "outputs": [],
   "source": [
    "SVG(filename='svg/examples_1_1_2/8.2.svg')"
   ]
  },
  {
   "cell_type": "markdown",
   "metadata": {},
   "source": [
    "$R_{1,2} = \\frac{R_1 \\cdot R_2}{R_1 + R_2} = {6 \\cdot 6 \\over 6 + 6} = \\frac{36}{12} = 3\\Omega$"
   ]
  },
  {
   "cell_type": "markdown",
   "metadata": {},
   "source": [
    "ФДТ: $i_{4,5} = i_3 \\left( \\frac{R_{1,2}}{R_{1,2} + R_{4,5}} \\right) = \n",
    "5A \\frac{3}{3 + 12} = \\frac{5 \\cdot 3}{15} = 1A\n",
    "$"
   ]
  },
  {
   "cell_type": "markdown",
   "metadata": {},
   "source": [
    "ФДТ: $i_{1,2} = i_3 \\left( \\frac{R_{4,5}}{R_{1,2} + R_{4,5}} \\right) = \n",
    "5A \\frac{12}{3 + 12} = \\frac{5 \\cdot 12}{15} = 4A\n",
    "$"
   ]
  },
  {
   "cell_type": "code",
   "execution_count": null,
   "metadata": {},
   "outputs": [],
   "source": [
    "SVG(filename='svg/examples_1_1_2/8.3.svg')"
   ]
  },
  {
   "cell_type": "markdown",
   "metadata": {},
   "source": [
    "ФДТ: $i_{1} = i_{1,2} \\left( \\frac{R_{2}}{R_{1} + R_{2}} \\right) = \n",
    "4A \\frac{6}{6 + 6} = \\frac{4 \\cdot 6}{12} = 2A\n",
    "$"
   ]
  },
  {
   "cell_type": "markdown",
   "metadata": {},
   "source": [
    "ФДТ: $i_{2} = i_{1,2} \\left( \\frac{R_{1}}{R_{1} + R_{2}} \\right) = \n",
    "4A \\frac{6}{6 + 6} = \\frac{4 \\cdot 6}{12} = 2A\n",
    "$"
   ]
  },
  {
   "cell_type": "markdown",
   "metadata": {},
   "source": [
    "KCL: $i_{4} = i_5 = 1A$"
   ]
  },
  {
   "cell_type": "code",
   "execution_count": null,
   "metadata": {},
   "outputs": [],
   "source": []
  }
 ],
 "metadata": {
  "kernelspec": {
   "display_name": "Python 3",
   "language": "python",
   "name": "python3"
  },
  "language_info": {
   "codemirror_mode": {
    "name": "ipython",
    "version": 3
   },
   "file_extension": ".py",
   "mimetype": "text/x-python",
   "name": "python",
   "nbconvert_exporter": "python",
   "pygments_lexer": "ipython3",
   "version": "3.6.7"
  }
 },
 "nbformat": 4,
 "nbformat_minor": 2
}

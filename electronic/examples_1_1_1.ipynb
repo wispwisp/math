{
 "cells": [
  {
   "cell_type": "code",
   "execution_count": null,
   "metadata": {},
   "outputs": [],
   "source": [
    "import pandas as pd\n",
    "import numpy as np\n",
    "\n",
    "# import seaborn as sns\n",
    "# import matplotlib.pyplot as plt\n",
    "\n",
    "# import matplotlib\n",
    "# matplotlib.pyplot.style.use('seaborn')\n",
    "# matplotlib.rcParams['figure.figsize'] = (15, 5)\n",
    "\n",
    "# %matplotlib inline\n",
    "# %pylab inline"
   ]
  },
  {
   "cell_type": "code",
   "execution_count": null,
   "metadata": {},
   "outputs": [],
   "source": [
    "from IPython.core.interactiveshell import InteractiveShell\n",
    "InteractiveShell.ast_node_interactivity = \"all\""
   ]
  },
  {
   "cell_type": "code",
   "execution_count": null,
   "metadata": {},
   "outputs": [],
   "source": [
    "from IPython.core.display import SVG"
   ]
  },
  {
   "cell_type": "code",
   "execution_count": null,
   "metadata": {},
   "outputs": [],
   "source": [
    "import math"
   ]
  },
  {
   "cell_type": "markdown",
   "metadata": {},
   "source": [
    "| No | V     | I     | W         |\n",
    "|:-- |:----- | -----:| --------- |\n",
    "| 1  | xxxxx | xxxxx | xxxxx     |\n",
    "| 2  | xxxxx | xxxxx | xxxxx     |\n",
    "| 3  | xxxxx | xxxxx | xxxxx     |"
   ]
  },
  {
   "cell_type": "markdown",
   "metadata": {},
   "source": [
    "$V = IR$\n",
    "\n",
    "$I = \\frac{V}{R}$\n",
    "\n",
    "$R = \\frac{V}{I}$"
   ]
  },
  {
   "cell_type": "markdown",
   "metadata": {},
   "source": [
    "# No. 17"
   ]
  },
  {
   "cell_type": "code",
   "execution_count": null,
   "metadata": {},
   "outputs": [],
   "source": [
    "SVG(filename='svg/examples_1_1_1/17.svg')"
   ]
  },
  {
   "cell_type": "markdown",
   "metadata": {},
   "source": [
    "| No | V     | I     | W        |\n",
    "|:-- |:----- | -----:| -------- |\n",
    "| 1  | 3V    | 5A    | - 15W    |\n",
    "| 2  | 5V    | 5A    | 25W      |\n",
    "| 3  | -2V   | 6A    | + -12W   |\n",
    "| 4  | -2V   | -1A   | 2W       |\n",
    "\n",
    "$\\sum{-15,25,-12,2} = 0$\n",
    "\n",
    "$\\left\\{\n",
    "    \\begin{array}{ll}\n",
    "       i_1 = i_2 \\\\\n",
    "       v_3 = v_4\n",
    "    \\end{array}\n",
    "\\right.$\n",
    "\n",
    "$\\left\\{\n",
    "    \\begin{array}{ll}\n",
    "       -i_2 + i_3 + i_4 = 0 \\\\\n",
    "       -v_1 + v_2 + v_3 = 0\n",
    "    \\end{array}\n",
    "\\right.$\n",
    "\n",
    "\n",
    "$\\left\\{\n",
    "    \\begin{array}{ll}\n",
    "       -i_2 + 6A + i_4 = 0 \\\\\n",
    "       -3V + v_2 + v_3 = 0\n",
    "    \\end{array}\n",
    "\\right.$\n",
    "\n",
    "\n",
    "$\\left\\{\n",
    "    \\begin{array}{ll}\n",
    "       i_2 - i_4 = 6A \\\\\n",
    "       v_2 + v_3 = 3V\n",
    "    \\end{array}\n",
    "\\right.$\n",
    "\n",
    "\n",
    "$\\left\\{\n",
    "    \\begin{array}{ll}\n",
    "       i_2 - i_4 = 6A \\\\\n",
    "       (1\\Omega)(i_2) + v_3 = 3V\n",
    "    \\end{array}\n",
    "\\right.$\n",
    "\n",
    "\n",
    "$\\left\\{\n",
    "    \\begin{array}{ll}\n",
    "       i_2 - i_4 = 6A \\\\\n",
    "       (1\\Omega)(i_2) + (2\\Omega)(i_4) = 3V\n",
    "    \\end{array}\n",
    "\\right.$\n",
    "\n",
    "$\\left\\{\n",
    "    \\begin{array}{ll}\n",
    "       i_2 = 6A + i_4  \\\\\n",
    "       (1\\Omega)(i_2) + (2\\Omega)(i_4) = 3V\n",
    "    \\end{array}\n",
    "\\right.$\n",
    "\n",
    "$(1\\Omega)(6A + i_4) + (2\\Omega)(i_4) = 3V$\n",
    "\n",
    "$(1\\Omega)(6A) + (1\\Omega)(i_4) + (2\\Omega)(i_4) = 3V$\n",
    "\n",
    "$6V + (1\\Omega)(i_4) + (2\\Omega)(i_4) = 3V$\n",
    "\n",
    "$(1\\Omega)(i_4) + (2\\Omega)(i_4) = 3V - 6V$\n",
    "\n",
    "$(i_4)((1\\Omega) + (2\\Omega)) = -3V$\n",
    "\n",
    "$(i_4)(3\\Omega) = -3V$\n",
    "\n",
    "$(i_4) = \\frac{-3V}{(3\\Omega)}$\n",
    "\n",
    "$i_4 = -1A$\n",
    "\n",
    "---\n",
    "\n",
    "$i_2 = 6A + i_4 = 6A - 1A = 5A$\n",
    "\n",
    "$v_2 = (i_2)(r_2) = (5A)(1\\Omega) = 5V$\n",
    "\n",
    "$v_3 = v_4 = (i_4)(r_4) = (-1A)(2\\Omega) = -2V$"
   ]
  },
  {
   "cell_type": "code",
   "execution_count": null,
   "metadata": {},
   "outputs": [],
   "source": []
  },
  {
   "cell_type": "markdown",
   "metadata": {},
   "source": [
    "# No. 18"
   ]
  },
  {
   "cell_type": "code",
   "execution_count": null,
   "metadata": {},
   "outputs": [],
   "source": [
    "SVG(filename='svg/examples_1_1_1/18.svg')"
   ]
  },
  {
   "cell_type": "markdown",
   "metadata": {},
   "source": [
    "| No | V     | I     | W         |\n",
    "|:-- |:----- | -----:| --------- |\n",
    "| 1  | 2V    | 4A    | - 8W      |\n",
    "| 2  | 4V    | 4A    | 16W       |\n",
    "| 3  | 6V    | -2A   | + -12W    |\n",
    "| 4  | -4V   | -2A   | 8W        |\n",
    "| 5  | -2V   | 2A    | + -4W     |\n",
    "\n",
    "$\\sum{-8, 16, -12, 8, -4} = 0$\n",
    "\n",
    "$\\left\\{\n",
    "    \\begin{array}{ll}\n",
    "       i_1 = i_2 = 4A \\\\\n",
    "       i_3 = i_4 \\\\\n",
    "    \\end{array}\n",
    "\\right.$\n",
    "\n",
    "$\\left\\{\n",
    "    \\begin{array}{ll}\n",
    "       -i_5 + i_2 + i_3 = 0 \\\\\n",
    "       v_5 + v_3 + v_4 = 0\n",
    "    \\end{array}\n",
    "\\right.$\n",
    "\n",
    "$\\left\\{\n",
    "    \\begin{array}{ll}\n",
    "       i_4 = i_3 = i_5 - i_2 \\\\\n",
    "       v_5 + 6V + (i_4)(R_4) = 0\n",
    "    \\end{array}\n",
    "\\right.$\n",
    "\n",
    "$\\left\\{\n",
    "    \\begin{array}{ll}\n",
    "       i_1 = i_2 = 4A \\\\\n",
    "       i_4 = i_3 = 2A - i_2 \\\\\n",
    "       v_5 + 6V + (i_4)(R_4) = 0\n",
    "    \\end{array}\n",
    "\\right.$\n",
    "\n",
    "$\\left\\{\n",
    "    \\begin{array}{ll}\n",
    "       i_1 = i_2 = 4A \\\\\n",
    "       i_4 = i_3 = 2A - 4A \\\\\n",
    "       v_5 = -6V - (-2A)(2\\Omega)\n",
    "    \\end{array}\n",
    "\\right.$\n",
    "\n",
    "$v_5 = -6V +(2A)(2\\Omega) = -6V + 4V = -2V$\n",
    "\n",
    "$v_4 = (i_4)(R_4) = (-2A)(2\\Omega) = -4V$\n",
    "\n",
    "$v_2 = (i_2)(R_2) = (4A)(1\\Omega) = 4V$\n",
    "\n",
    "$\\left\\{\n",
    "    \\begin{array}{ll}\n",
    "        v_1 - v_2 - v_5 = 0 \\\\\n",
    "        v_1 = v_2 + v_5 \\\\\n",
    "        v_1 = 4V - 2V = 2V\n",
    "    \\end{array}\n",
    "\\right.$"
   ]
  },
  {
   "cell_type": "code",
   "execution_count": null,
   "metadata": {},
   "outputs": [],
   "source": []
  },
  {
   "cell_type": "markdown",
   "metadata": {},
   "source": [
    "# No. 19"
   ]
  },
  {
   "cell_type": "code",
   "execution_count": null,
   "metadata": {
    "scrolled": false
   },
   "outputs": [],
   "source": [
    "SVG(filename='svg/examples_1_1_1/19.svg')"
   ]
  },
  {
   "cell_type": "markdown",
   "metadata": {},
   "source": [
    "| No | V     | I     | W         |\n",
    "|:-- |:----- | -----:| --------- |\n",
    "| 1  | 4V    | 1A    | + 4W      |\n",
    "| 2  | 4V    | 2A    | 8W        |\n",
    "| 3  | 8V    | 3A    | - 24W     |\n",
    "| 4  | 4V    | 3A    | + 12W     |\n",
    "\n",
    "$\\sum{4, 8, -24, 12} = 0$\n",
    "\n",
    "$\\left\\{\n",
    "    \\begin{array}{ll}\n",
    "       v_1 = v_2 = 4V \\\\\n",
    "       i_3 = i_4 = 3A\n",
    "    \\end{array}\n",
    "\\right.$\n",
    "\n",
    "$\\left\\{\n",
    "    \\begin{array}{ll}\n",
    "       -i_1 - i_2 + i_3 = 0 \\\\\n",
    "       v_2 - v_3 + v_4 = 0\n",
    "    \\end{array}\n",
    "\\right.$\n",
    "\n",
    "$\\left\\{\n",
    "    \\begin{array}{ll}\n",
    "       -i_1 - i_2 + 3A = 0 \\\\\n",
    "       4V - v_3 + 4V = 0\n",
    "    \\end{array}\n",
    "\\right.$\n",
    "\n",
    "$\\left\\{\n",
    "    \\begin{array}{ll}\n",
    "       -i_1 - i_2 + 3A = 0 \\\\\n",
    "       v_3 = 8V\n",
    "    \\end{array}\n",
    "\\right.$\n",
    "\n",
    "$\\left\\{\n",
    "    \\begin{array}{ll}\n",
    "       i_1 + i_2 = 3A \\\\\n",
    "       v_3 = 8V\n",
    "    \\end{array}\n",
    "\\right.$\n",
    "\n",
    "$i_2 = \\frac{V_2}{R_2} = \\frac{4V}{2\\Omega} = 2A$\n",
    "\n",
    "$i_1 + 2A = 3A$\n",
    "\n",
    "$i_1 = 3A -2A= 1A$"
   ]
  },
  {
   "cell_type": "code",
   "execution_count": null,
   "metadata": {},
   "outputs": [],
   "source": []
  },
  {
   "cell_type": "markdown",
   "metadata": {},
   "source": [
    "# No. 20"
   ]
  },
  {
   "cell_type": "code",
   "execution_count": null,
   "metadata": {},
   "outputs": [],
   "source": [
    "SVG(filename='svg/examples_1_1_1/20.svg')"
   ]
  },
  {
   "cell_type": "markdown",
   "metadata": {},
   "source": [
    "| No | V     | I     | W         |\n",
    "|:-- |:----- | -----:| --------- |\n",
    "| 1  | 2V    | 1A    | - 2W      |\n",
    "| 2  | 2V    | 1A    | 2W        |\n",
    "| 3  | 4V    | 1A    | - 4W      |\n",
    "| 4  | 2V    | 2A    | + 4W      |\n",
    "\n",
    "$\\sum{-2, 2, -4, 4} = 0$\n",
    "\n",
    "---\n",
    "\n",
    "$\\left\\{\n",
    "    \\begin{array}{ll}\n",
    "       v_1 = v_2 = 4V \\\\\n",
    "       i_3 = i_4 = 3A\n",
    "    \\end{array}\n",
    "\\right.$\n",
    "\n",
    "$\\left\\{\n",
    "    \\begin{array}{ll}\n",
    "       -i_4 + i_2 + i_1 = 0 \\\\\n",
    "       V_4 + V_2 - V_3 = 0\n",
    "    \\end{array}\n",
    "\\right.$\n",
    "\n",
    "---\n",
    "\n",
    "$V_4 + V_2 = V_3$\n",
    "\n",
    "$2V + (i_2)(R_2) = 4V$\n",
    "\n",
    "$(i_2)(2\\Omega) = 2V = V_2$\n",
    "\n",
    "$i_2 = \\frac{2V}{(2\\Omega)} = 1A$\n",
    "\n",
    "---\n",
    "\n",
    "$i_2 + i_1 = i_4$\n",
    "\n",
    "$(1A) + i_1 = (2A)$\n",
    "\n",
    "$i_1 = 1A$"
   ]
  },
  {
   "cell_type": "code",
   "execution_count": null,
   "metadata": {},
   "outputs": [],
   "source": []
  },
  {
   "cell_type": "markdown",
   "metadata": {},
   "source": [
    "# No. 21"
   ]
  },
  {
   "cell_type": "code",
   "execution_count": null,
   "metadata": {},
   "outputs": [],
   "source": [
    "SVG(filename='svg/examples_1_1_1/21.svg')"
   ]
  },
  {
   "cell_type": "markdown",
   "metadata": {},
   "source": [
    "| No | V     | I     | W         |\n",
    "|:-- |:----- | -----:| --------- |\n",
    "| 1  | -8V   | 2A    | + -16W    |\n",
    "| 2  | 6V    | 2A    | 12W       |\n",
    "| 3  | 2V    | 1A    | 2W        |\n",
    "| 4  | 2V    | 1A    | + 2W      |"
   ]
  },
  {
   "cell_type": "markdown",
   "metadata": {},
   "source": [
    "$\\sum{-16, 12, 2, 2} = 0$\n",
    "\n",
    "$\\left\\{\n",
    "    \\begin{array}{ll}\n",
    "       v_3 = v_4 = 2V \\\\\n",
    "       i_1 = i_2 = 2A\n",
    "    \\end{array}\n",
    "\\right.$\n",
    "\n",
    "$\\left\\{\n",
    "    \\begin{array}{ll}\n",
    "       -i_3 - i_4 + i_1 = 0 \\\\\n",
    "       V_3 + V_2 + V_1 = 0\n",
    "    \\end{array}\n",
    "\\right.$\n",
    "\n",
    "$\\left\\{\n",
    "    \\begin{array}{ll}\n",
    "       i_1 = i_3 + i_4 \\\\\n",
    "       V_1 = -V_3 - V_2\n",
    "    \\end{array}\n",
    "\\right.$\n",
    "\n",
    "$V_2 = (3\\Omega)(2A) = 6V$\n",
    "\n",
    "$\\left\\{\n",
    "    \\begin{array}{ll}\n",
    "       2A = i_3 + i_4 \\\\\n",
    "       V_1 = -2V - (3\\Omega)(2A)\n",
    "    \\end{array}\n",
    "\\right.$\n",
    "\n",
    "$V_1 = -8V$\n",
    "\n",
    "$i_3 = \\frac{V_3}{R_3} = \\frac{2V}{2\\Omega} = 1A$\n",
    "\n",
    "$2A = 1A + i_4$\n",
    "\n",
    "$i_4 = 1A$"
   ]
  },
  {
   "cell_type": "code",
   "execution_count": null,
   "metadata": {},
   "outputs": [],
   "source": []
  },
  {
   "cell_type": "markdown",
   "metadata": {},
   "source": [
    "# No. 22"
   ]
  },
  {
   "cell_type": "code",
   "execution_count": null,
   "metadata": {
    "scrolled": false
   },
   "outputs": [],
   "source": [
    "SVG(filename='svg/examples_1_1_1/22.svg')"
   ]
  },
  {
   "cell_type": "markdown",
   "metadata": {},
   "source": [
    "| No | V     | I     | W      |\n",
    "|:-- |:----- | -----:| ------ |\n",
    "| 1  | 1V    | 3A    | - 3W   |\n",
    "| 2  | -2V   | 4A    | + -8W  |\n",
    "| 3  | -2V   | -1A   | 2W     |\n",
    "| 4  | 3V    | 3A    | + 9W   |\n",
    "\n",
    "$\\sum{-3, -8, 2, 9} = 0$\n",
    "\n",
    "$\\left\\{\n",
    "    \\begin{array}{ll}\n",
    "       v_3 = v_2 \\\\\n",
    "       i_1 = i_4\n",
    "    \\end{array}\n",
    "\\right.$\n",
    "\n",
    "$\\left\\{\n",
    "    \\begin{array}{ll}\n",
    "       -V1 + V3 + V4 = 0 \\\\\n",
    "       -i_1 + i_2 + i_3 = 0\n",
    "    \\end{array}\n",
    "\\right.$\n",
    "\n",
    "$V3 + V4 = V1$\n",
    "\n",
    "$V3 + 3V = 1V$\n",
    "\n",
    "$V3 = -2V$\n",
    "\n",
    "$i_3 = \\frac{-2V}{2\\Omega} = -1A$\n",
    "\n",
    "$4A + i_3 = i_1$\n",
    "\n",
    "$4A -1A = i_1$\n",
    "\n",
    "$i_1 = 3A$"
   ]
  },
  {
   "cell_type": "code",
   "execution_count": null,
   "metadata": {},
   "outputs": [],
   "source": []
  }
 ],
 "metadata": {
  "kernelspec": {
   "display_name": "Python 3",
   "language": "python",
   "name": "python3"
  },
  "language_info": {
   "codemirror_mode": {
    "name": "ipython",
    "version": 3
   },
   "file_extension": ".py",
   "mimetype": "text/x-python",
   "name": "python",
   "nbconvert_exporter": "python",
   "pygments_lexer": "ipython3",
   "version": "3.6.8"
  }
 },
 "nbformat": 4,
 "nbformat_minor": 2
}

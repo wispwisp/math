{
 "cells": [
  {
   "cell_type": "code",
   "execution_count": null,
   "metadata": {},
   "outputs": [],
   "source": [
    "import pandas as pd\n",
    "import numpy as np\n",
    "\n",
    "# import seaborn as sns\n",
    "# import matplotlib.pyplot as plt\n",
    "\n",
    "# import matplotlib\n",
    "# matplotlib.pyplot.style.use('seaborn')\n",
    "# matplotlib.rcParams['figure.figsize'] = (15, 5)\n",
    "\n",
    "# %matplotlib inline\n",
    "# %pylab inline"
   ]
  },
  {
   "cell_type": "code",
   "execution_count": null,
   "metadata": {},
   "outputs": [],
   "source": [
    "from IPython.core.interactiveshell import InteractiveShell\n",
    "InteractiveShell.ast_node_interactivity = \"all\""
   ]
  },
  {
   "cell_type": "code",
   "execution_count": null,
   "metadata": {},
   "outputs": [],
   "source": [
    "from IPython.core.display import SVG"
   ]
  },
  {
   "cell_type": "code",
   "execution_count": null,
   "metadata": {},
   "outputs": [],
   "source": [
    "import math"
   ]
  },
  {
   "cell_type": "markdown",
   "metadata": {},
   "source": [
    "| No | V     | I     | W         |\n",
    "|:-- |:----- | -----:| --------- |\n",
    "| 1  | xxxxx | xxxxx | xxxxx     |\n",
    "| 2  | xxxxx | xxxxx | xxxxx     |\n",
    "| 3  | xxxxx | xxxxx | xxxxx     |"
   ]
  },
  {
   "cell_type": "markdown",
   "metadata": {},
   "source": [
    "$V = IR$\n",
    "\n",
    "$I = \\frac{V}{R}$\n",
    "\n",
    "$R = \\frac{V}{I}$"
   ]
  },
  {
   "cell_type": "markdown",
   "metadata": {},
   "source": [
    "# No. 17"
   ]
  },
  {
   "cell_type": "code",
   "execution_count": null,
   "metadata": {},
   "outputs": [],
   "source": [
    "SVG(filename='svg/examples_1_1_1/7.svg')"
   ]
  },
  {
   "cell_type": "markdown",
   "metadata": {},
   "source": [
    "| No | V     | I     | W        |\n",
    "|:-- |:----- | -----:| -------- |\n",
    "| 1  | 3V    | 5A    | - 15W    |\n",
    "| 2  | 5V    | 5A    | 25W      |\n",
    "| 3  | -2V   | 6A    | + -12W   |\n",
    "| 4  | -2V   | -1A   | 2W       |\n",
    "\n",
    "$\\sum{-15,25,-12,2} = 0$\n",
    "\n",
    "$\\left\\{\n",
    "    \\begin{array}{ll}\n",
    "       i_1 = i_2 \\\\\n",
    "       v_3 = v_4\n",
    "    \\end{array}\n",
    "\\right.$\n",
    "\n",
    "$\\left\\{\n",
    "    \\begin{array}{ll}\n",
    "       -i_2 + i_3 + i_4 = 0 \\\\\n",
    "       -v_1 + v_2 + v_3 = 0\n",
    "    \\end{array}\n",
    "\\right.$\n",
    "\n",
    "\n",
    "$\\left\\{\n",
    "    \\begin{array}{ll}\n",
    "       -i_2 + 6A + i_4 = 0 \\\\\n",
    "       -3V + v_2 + v_3 = 0\n",
    "    \\end{array}\n",
    "\\right.$\n",
    "\n",
    "\n",
    "$\\left\\{\n",
    "    \\begin{array}{ll}\n",
    "       i_2 - i_4 = 6A \\\\\n",
    "       v_2 + v_3 = 3V\n",
    "    \\end{array}\n",
    "\\right.$\n",
    "\n",
    "\n",
    "$\\left\\{\n",
    "    \\begin{array}{ll}\n",
    "       i_2 - i_4 = 6A \\\\\n",
    "       (1\\Omega)(i_2) + v_3 = 3V\n",
    "    \\end{array}\n",
    "\\right.$\n",
    "\n",
    "\n",
    "$\\left\\{\n",
    "    \\begin{array}{ll}\n",
    "       i_2 - i_4 = 6A \\\\\n",
    "       (1\\Omega)(i_2) + (2\\Omega)(i_4) = 3V\n",
    "    \\end{array}\n",
    "\\right.$\n",
    "\n",
    "$\\left\\{\n",
    "    \\begin{array}{ll}\n",
    "       i_2 = 6A + i_4  \\\\\n",
    "       (1\\Omega)(i_2) + (2\\Omega)(i_4) = 3V\n",
    "    \\end{array}\n",
    "\\right.$\n",
    "\n",
    "$(1\\Omega)(6A + i_4) + (2\\Omega)(i_4) = 3V$\n",
    "\n",
    "$(1\\Omega)(6A) + (1\\Omega)(i_4) + (2\\Omega)(i_4) = 3V$\n",
    "\n",
    "$6V + (1\\Omega)(i_4) + (2\\Omega)(i_4) = 3V$\n",
    "\n",
    "$(1\\Omega)(i_4) + (2\\Omega)(i_4) = 3V - 6V$\n",
    "\n",
    "$(i_4)((1\\Omega) + (2\\Omega)) = -3V$\n",
    "\n",
    "$(i_4)(3\\Omega) = -3V$\n",
    "\n",
    "$(i_4) = \\frac{-3V}{(3\\Omega)}$\n",
    "\n",
    "$i_4 = -1A$\n",
    "\n",
    "---\n",
    "\n",
    "$i_2 = 6A + i_4 = 6A - 1A = 5A$\n",
    "\n",
    "$v_2 = (i_2)(r_2) = (5A)(1\\Omega) = 5V$\n",
    "\n",
    "$v_3 = v_4 = (i_4)(r_4) = (-1A)(2\\Omega) = -2V$"
   ]
  },
  {
   "cell_type": "code",
   "execution_count": null,
   "metadata": {},
   "outputs": [],
   "source": []
  }
 ],
 "metadata": {
  "kernelspec": {
   "display_name": "Python 3",
   "language": "python",
   "name": "python3"
  },
  "language_info": {
   "codemirror_mode": {
    "name": "ipython",
    "version": 3
   },
   "file_extension": ".py",
   "mimetype": "text/x-python",
   "name": "python",
   "nbconvert_exporter": "python",
   "pygments_lexer": "ipython3",
   "version": "3.6.7"
  }
 },
 "nbformat": 4,
 "nbformat_minor": 2
}

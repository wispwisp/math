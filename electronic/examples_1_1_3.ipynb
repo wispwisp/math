{
 "cells": [
  {
   "cell_type": "code",
   "execution_count": null,
   "metadata": {},
   "outputs": [],
   "source": [
    "import pandas as pd\n",
    "import numpy as np\n",
    "\n",
    "# import seaborn as sns\n",
    "# import matplotlib.pyplot as plt\n",
    "\n",
    "# import matplotlib\n",
    "# matplotlib.pyplot.style.use('seaborn')\n",
    "# matplotlib.rcParams['figure.figsize'] = (15, 5)\n",
    "\n",
    "# %matplotlib inline\n",
    "# %pylab inline"
   ]
  },
  {
   "cell_type": "code",
   "execution_count": null,
   "metadata": {},
   "outputs": [],
   "source": [
    "from IPython.core.interactiveshell import InteractiveShell\n",
    "InteractiveShell.ast_node_interactivity = \"all\""
   ]
  },
  {
   "cell_type": "code",
   "execution_count": null,
   "metadata": {},
   "outputs": [],
   "source": [
    "from IPython.core.display import SVG"
   ]
  },
  {
   "cell_type": "code",
   "execution_count": null,
   "metadata": {},
   "outputs": [],
   "source": [
    "import math"
   ]
  },
  {
   "cell_type": "code",
   "execution_count": null,
   "metadata": {},
   "outputs": [],
   "source": []
  },
  {
   "cell_type": "code",
   "execution_count": null,
   "metadata": {},
   "outputs": [],
   "source": []
  },
  {
   "cell_type": "markdown",
   "metadata": {},
   "source": [
    "# No. 1"
   ]
  },
  {
   "cell_type": "code",
   "execution_count": null,
   "metadata": {},
   "outputs": [],
   "source": [
    "SVG(filename='svg/examples_1_1_3/1.svg')"
   ]
  },
  {
   "cell_type": "code",
   "execution_count": null,
   "metadata": {},
   "outputs": [],
   "source": [
    "SVG(filename='svg/examples_1_1_3/1.1.svg')"
   ]
  },
  {
   "cell_type": "markdown",
   "metadata": {},
   "source": [
    "${I_1}' = {I_3}' = {I_5}' = \\frac{V_1}{R_3 + R_5} = \\frac{4V}{2\\Omega} = 2A$"
   ]
  },
  {
   "cell_type": "code",
   "execution_count": null,
   "metadata": {},
   "outputs": [],
   "source": [
    "SVG(filename='svg/examples_1_1_3/1.2.svg')"
   ]
  },
  {
   "cell_type": "markdown",
   "metadata": {},
   "source": [
    "${I_1}'' = 2A$"
   ]
  },
  {
   "cell_type": "markdown",
   "metadata": {},
   "source": [
    "${I_3}'' = {I_5}'' = 0A$"
   ]
  },
  {
   "cell_type": "code",
   "execution_count": null,
   "metadata": {},
   "outputs": [],
   "source": [
    "SVG(filename='svg/examples_1_1_3/1.3.svg')"
   ]
  },
  {
   "cell_type": "markdown",
   "metadata": {},
   "source": [
    "${I_1}''' = {I_3}''' = I_4 \\cdot \\frac{R_5}{R_3 + R_5} = 8A \\cdot \\frac{1}{2} = 4A$\n",
    "\n",
    "${I_5}''' = I_4 \\cdot \\frac{R_3}{R_3 + R_5} = 8A \\cdot \\frac{1}{2} = 4A$\n",
    "\n",
    "---\n",
    "\n",
    "$I_1 = {I_1}' + {I_1}'' + {I_1}''' = 2A + 2A +4A = 8A$\n",
    "\n",
    "$I_3 = {I_3}' + {I_3}'' + {I_3}''' = -2A + 0A -4A = -6A$\n",
    "\n",
    "$I_5 = {I_5}' + {I_5}'' + {I_5}''' = -2A + 0A + 4A = 2A$\n",
    "\n",
    "$V_2 = V_1 = 4V$\n",
    "\n",
    "$V_4 = ?$\n",
    "\n",
    "$V_2 + V_3 + V4 = 0$\n",
    "\n",
    "$V4 = -V_2 - V_3 = -4V - (-6A)(1\\Omega) = 2V$\n",
    "\n",
    "or:\n",
    "\n",
    "$V4 = V_5 = (I_5)(R_5) = (2A)(1\\Omega) = 2V$"
   ]
  },
  {
   "cell_type": "code",
   "execution_count": null,
   "metadata": {},
   "outputs": [],
   "source": []
  }
 ],
 "metadata": {
  "kernelspec": {
   "display_name": "Python 3",
   "language": "python",
   "name": "python3"
  },
  "language_info": {
   "codemirror_mode": {
    "name": "ipython",
    "version": 3
   },
   "file_extension": ".py",
   "mimetype": "text/x-python",
   "name": "python",
   "nbconvert_exporter": "python",
   "pygments_lexer": "ipython3",
   "version": "3.6.7"
  }
 },
 "nbformat": 4,
 "nbformat_minor": 2
}

{
 "cells": [
  {
   "cell_type": "code",
   "execution_count": null,
   "metadata": {},
   "outputs": [],
   "source": [
    "import pandas as pd\n",
    "import numpy as np\n",
    "\n",
    "# import seaborn as sns\n",
    "# import matplotlib.pyplot as plt\n",
    "\n",
    "# import matplotlib\n",
    "# matplotlib.pyplot.style.use('seaborn')\n",
    "# matplotlib.rcParams['figure.figsize'] = (15, 5)\n",
    "\n",
    "# %matplotlib inline\n",
    "# %pylab inline"
   ]
  },
  {
   "cell_type": "code",
   "execution_count": null,
   "metadata": {},
   "outputs": [],
   "source": [
    "from IPython.core.interactiveshell import InteractiveShell\n",
    "InteractiveShell.ast_node_interactivity = \"all\""
   ]
  },
  {
   "cell_type": "code",
   "execution_count": null,
   "metadata": {},
   "outputs": [],
   "source": [
    "from IPython.core.display import SVG"
   ]
  },
  {
   "cell_type": "code",
   "execution_count": null,
   "metadata": {},
   "outputs": [],
   "source": [
    "import math"
   ]
  },
  {
   "cell_type": "code",
   "execution_count": null,
   "metadata": {},
   "outputs": [],
   "source": []
  },
  {
   "cell_type": "markdown",
   "metadata": {},
   "source": [
    "# No. 0 example"
   ]
  },
  {
   "cell_type": "code",
   "execution_count": null,
   "metadata": {},
   "outputs": [],
   "source": [
    "SVG(filename='svg/examples_1_1_4/0.svg')"
   ]
  },
  {
   "cell_type": "markdown",
   "metadata": {},
   "source": [
    "$\\left\\{\n",
    "    \\begin{array}{ll}\n",
    "       R_{1,1}i_1^K + R_{1,2}i_2^K + R_{1,3}i_3^K = v_1^K \\\\\n",
    "       R_{2,1}i_1^K + R_{2,2}i_2^K + R_{2,3}i_3^K = v_2^K \\\\\n",
    "       R_{3,1}i_1^K + R_{3,2}i_2^K + R_{3,3}i_3^K = v_3^K\n",
    "    \\end{array}\n",
    "\\right.$\n",
    "\n",
    "Вводим понятие контурного тока (Направление произвольно): $i_n^K$\n",
    "\n",
    "Вводим понятие контурного напряжение - сумма источников напряжений данного контура _(Знак обратен)_: $v_1^K = -(-v_1 + v_2)$\n",
    "\n",
    "---\n",
    "\n",
    "Сопротивление с одинаковыми индексами - сумма всех сопротивлений данного контура: $R_{1,1} = R_1 + R_2 + R_5$\n",
    "\n",
    "Сопротивление с различнми индексами - взаимное сопротивление - обтекается двумя конутрными токами. Если контурные токи взаимно противоположны - пишем это сопротивление с отрицателным знаком: $R_{1,2} = R_{2,1} = -R_2$"
   ]
  },
  {
   "cell_type": "markdown",
   "metadata": {},
   "source": [
    "### Рапсишем систему в соответсвии с понятиями выше: \n",
    "\n",
    "$\\left\\{\n",
    "    \\begin{array}{ll}\n",
    "       (R_1 + R_2 + R_5)i_1^K - R_{2}i_2^K + R_{5}i_3^K = -(-v_1 + v_2) \\\\\n",
    "       -R_{2}i_1^K + (R_2 + R_3 + R_4)i_2^K + R_{4}i_3^K = -(-v_2) \\\\\n",
    "       R_{5}i_1^K + R_{4}i_2^K + (R_4 + R_5 + R_6)i_3^K = -(-v_6)\n",
    "    \\end{array}\n",
    "\\right.$"
   ]
  },
  {
   "cell_type": "markdown",
   "metadata": {},
   "source": [
    "### Solve:\n",
    "\n",
    "# TODO"
   ]
  },
  {
   "cell_type": "markdown",
   "metadata": {},
   "source": [
    "$i_1^K = 1.5A$\n",
    "\n",
    "$i_2^K = 3A$\n",
    "\n",
    "$i_3^K = 0.5A$\n",
    "\n",
    "По известным контурным токам вычисляется ток любой ветви - как алгербраическая сумма контурных токов в этой ветви:\n",
    "\n",
    "$i_1 = i_1^K = 1.5A$\n",
    "\n",
    "$i_3 = i_2^K = 3A$\n",
    "\n",
    "$i_4 = -i_3^K -i_2^K = -3.5A$ _(Знак - направление противоложно выбранному на схеме)_\n",
    "\n",
    "$i_5 = i_1^K + i_3^K = 2A$ _(Знак - направление соответсвует выбранному на схеме)_"
   ]
  },
  {
   "cell_type": "code",
   "execution_count": null,
   "metadata": {},
   "outputs": [],
   "source": []
  }
 ],
 "metadata": {
  "kernelspec": {
   "display_name": "Python 3",
   "language": "python",
   "name": "python3"
  },
  "language_info": {
   "codemirror_mode": {
    "name": "ipython",
    "version": 3
   },
   "file_extension": ".py",
   "mimetype": "text/x-python",
   "name": "python",
   "nbconvert_exporter": "python",
   "pygments_lexer": "ipython3",
   "version": "3.6.7"
  }
 },
 "nbformat": 4,
 "nbformat_minor": 2
}

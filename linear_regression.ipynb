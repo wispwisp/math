{
 "cells": [
  {
   "cell_type": "code",
   "execution_count": 1,
   "metadata": {},
   "outputs": [],
   "source": [
    "import pandas as pd\n",
    "import numpy as np\n",
    "import seaborn as sns\n",
    "\n",
    "import matplotlib.pyplot as plt\n",
    "plt.style.use('seaborn')\n",
    "\n",
    "%matplotlib inline"
   ]
  },
  {
   "cell_type": "code",
   "execution_count": 2,
   "metadata": {},
   "outputs": [],
   "source": [
    "from IPython.core.interactiveshell import InteractiveShell\n",
    "InteractiveShell.ast_node_interactivity = \"all\""
   ]
  },
  {
   "cell_type": "markdown",
   "metadata": {},
   "source": [
    "# Терминология"
   ]
  },
  {
   "cell_type": "markdown",
   "metadata": {},
   "source": [
    "$y_{i}$ - зависимая переменная\n",
    "\n",
    "$x_{i}$ - регрессор, объясняющая переменная\n",
    "\n",
    "$\\varepsilon_{i}$ - ошибка модели, случайная состовляющая (нет в модели)\n",
    "\n",
    "$\\hat{y}_{i}$ - прогнозное значение\n",
    "\n",
    "$\\hat{\\varepsilon}_{i}$ - ошибка прогноза $y_{i} - \\hat{y}_{i}$ "
   ]
  },
  {
   "cell_type": "markdown",
   "metadata": {},
   "source": [
    "# Модель без объясняющих переменных (Регрессоров)"
   ]
  },
  {
   "cell_type": "markdown",
   "metadata": {},
   "source": [
    "##### Реальная зависимость (Вес не зависит от роста, какая то константа среднего веса + случайная составляющая)\n",
    "$y_{i} = \\beta + \\varepsilon_{i}$\n",
    "\n",
    "Необходимо получить:\n",
    "$\\hat{\\beta}$"
   ]
  },
  {
   "cell_type": "markdown",
   "metadata": {},
   "source": [
    "Для этого минимизруем RSS _(residual sum squares) (~сумма наименьших квадратов)_ ($RSS = \\sum{(y_{i}-\\hat{y_{i}})^{2}}$)\n",
    "\n",
    "$\\sum{(y_{i}-\\hat{y_{i}})^{2}} \\Rightarrow min$"
   ]
  },
  {
   "cell_type": "markdown",
   "metadata": {},
   "source": [
    "###### Модель"
   ]
  },
  {
   "cell_type": "markdown",
   "metadata": {},
   "source": [
    "Итак, наша модель: $\\hat{y_{i}} = \\hat{\\beta}$, (*случайная ошибка не прогнозируема, её не пишем в модель*)\n",
    "\n",
    "$RSS=\\sum_{i=1}^{N}{(y_{i}-\\hat{y_{i}})^{2}}$ = $\\sum_{i=1}^{N}{(y_{i}-\\hat{\\beta_{i}})^{2}}$, так как $\\hat{y_{i}} = \\hat{\\beta}$\n",
    "\n",
    "Раскроем скобки _(формула сокращённого умножения)_ :\n",
    "$\\sum_{i=1}^{N}{(\n",
    "y_{i}^{2} - 2\\hat{\\beta}y_{i} + \\hat{\\beta}^{2}\n",
    ")}$\n",
    "\n",
    "И припишем сумму к каждому члену:\n",
    "$\\sum_{i=1}^{N}{y_{i}^{2}} - \\sum_{i=1}^{N}{2\\hat{\\beta}y_{i}} + \\sum_{i=1}^{N}{\\hat{\\beta}^{2}}$\n",
    "\n",
    "Заметим, что не везде складываются слогаемые по **i**\n",
    "Например что из себя представляет последний член $\\sum_{i=1}^{N}{\\hat{\\beta}^{2}}$, это соответсвенно $\\hat{\\beta}^{2} + \\hat{\\beta}^{2} + ...$ и так далее. Иначе говоря $\\sum_{i=1}^{N}{\\hat{\\beta}^{2}} = N \\cdot \\hat{\\beta}^{2}$\n",
    "\n",
    "Далее, в $\\sum_{i=1}^{N}{2\\hat{\\beta}y_{i}}$ величина $2\\hat{\\beta}$, не зависит от слогаемого, её можно вынести за скобку $\\sum_{i=1}^{N}{2\\hat{\\beta}y_{i}} = 2\\hat{\\beta}\\cdot\\sum_{i=1}^{N}{y_{i}}$"
   ]
  },
  {
   "cell_type": "markdown",
   "metadata": {},
   "source": [
    "Итак получается функциая которую нужно минимизировать $Q(\\hat{\\beta}) = \\sum_{i=1}^{N}{y_{i}^{2}} - 2\\hat{\\beta}\\cdot\\sum_{i=1}^{N}{y_{i}} + N \\cdot \\hat{\\beta}^{2}$\n",
    "\n",
    "Берём производную _(Здесь и далее опустим параметры при знаке суммы)_ ${Q}'(\\hat{\\beta}) = -2\\sum{y_{i}} + 2N\\hat{\\beta}$\n",
    "\n",
    "**Обратим внимание, что наша функция является параболой, соответсвенно приравняв значение производной нулю, получим единственный минимум**"
   ]
  },
  {
   "cell_type": "markdown",
   "metadata": {},
   "source": [
    "${Q}'(\\hat{\\beta}) = 0$\n",
    "\n",
    "$-2\\sum{y_{i}} + 2N\\hat{\\beta} = 0$\n",
    "\n",
    "$\\hat{\\beta} = \\frac{\\sum{y_{i}}}{N} $\n",
    "\n",
    "Так как $\\frac{\\sum{y_{i}}}{N} = \\bar{y}$\n",
    "\n",
    "$\\hat{\\beta} = \\bar{y}$, (*Что интуитивно, возьмите в качестве неизвестной общей константы среднее по выборке*)"
   ]
  },
  {
   "cell_type": "markdown",
   "metadata": {},
   "source": [
    "# Модель c одним регрессором"
   ]
  },
  {
   "cell_type": "markdown",
   "metadata": {},
   "source": [
    "##### Реальная зависимость (Линейная зависимость веса по росту($\\beta$)  + индивидальная случайная составляющая)\n",
    "$y_{i} = \\beta_{1} + \\beta_{2}x_{i} + \\varepsilon_{i}$\n",
    "\n",
    "Необходимо получить:\n",
    "$\\hat{\\beta_{1}}, \\hat{\\beta_{2}}$"
   ]
  },
  {
   "cell_type": "markdown",
   "metadata": {},
   "source": [
    "Для этого минимизруем **RSS**, $RSS = \\sum{(y_{i}-\\hat{y_{i}})^{2}}$\n",
    "\n",
    "$\\sum{(y_{i}-\\hat{y_{i}})^{2}} \\Rightarrow min$"
   ]
  },
  {
   "cell_type": "markdown",
   "metadata": {},
   "source": [
    "###### Модель"
   ]
  },
  {
   "cell_type": "markdown",
   "metadata": {},
   "source": [
    "Итак, наша модель: $\\hat{y_{i}} = \\hat{\\beta_{1}} + \\hat{\\beta_{2}}x_{i}$, (*случайная ошибка не прогнозируема, её не пишем в модель*)\n",
    "\n",
    "$RSS=\\sum_{i=1}^{N}{(y_{i}-\\hat{y_{i}})^{2}} = \n",
    "\\sum{(y_{i} - \\hat{\\beta_{1}} - \\hat{\\beta_{2}}x_{i})^{2}}$\n",
    "\n",
    "Соответсвенно это наша функция для минимизации $RSS = Q(\\hat{\\beta_{1}}, \\hat{\\beta_{2}})$\n",
    "\n",
    "Берём производные, приравниваем к нулю **(Условие первого порядка)**:\n",
    "\n",
    "_(правила производных: производная внешней ф-ции умножить на производную внутренней ф-ции)_\n",
    "\n",
    "$\\frac{\\partial Q}{\\partial \\hat{\\beta}_{1}} = \n",
    "\\sum{2(y_{i} - \\hat{\\beta_{1}} - \\hat{\\beta_{2}}x_{i})}(-1)$\n",
    "\n",
    "$\\frac{\\partial Q}{\\partial \\hat{\\beta}_{2}} = \n",
    "\\sum{2(y_{i} - \\hat{\\beta_{1}} - \\hat{\\beta_{2}}x_{i})}(-x_{i})$\n",
    "\n",
    "y-ки даны, x-ы даны, неизвестными являются только $\\hat{\\beta}_{1}$, $\\hat{\\beta}_{2}$ т.е. два уравнения, две неизвестных\n",
    "\n",
    "Обратим внимание, что $y_{i} - \\hat{\\beta_{1}} - \\hat{\\beta_{2}}x_{i}$ - **ошибка прогноза** - $\\hat{\\varepsilon}$\n",
    "\n",
    "Сократим на **-2** в системе уравнений и запишем в новом виде:\n",
    "\n",
    "$\\frac{\\partial Q}{\\partial \\hat{\\beta}_{1}} = \n",
    "\\sum{\\hat{\\varepsilon}}$\n",
    "\n",
    "$\\frac{\\partial Q}{\\partial \\hat{\\beta}_{2}} = \n",
    "\\sum{\\hat{\\varepsilon}x_{i}}$"
   ]
  },
  {
   "cell_type": "markdown",
   "metadata": {},
   "source": [
    "Решаем систему уравнений:\n",
    "\n",
    "$\\begin{cases}\n",
    "& \\sum{\\hat{\\varepsilon}} = 0 \\\\\n",
    "& \\sum{\\hat{\\varepsilon}x_{i}} = 0\n",
    "\\end{cases}$\n",
    "\n",
    "Так как **ошибка прогноза** $\\hat{\\varepsilon} = y_{i} - \\hat{\\beta_{1}} - \\hat{\\beta_{2}}x_{i}$\n",
    "\n",
    "$\\begin{cases}\n",
    "& \\sum{y_{i}} - \\sum{\\hat{\\beta_{1}}} - \\sum{\\hat{\\beta_{2}}x_{i}} = 0 \\\\\n",
    "& \\sum{y_{i}x_{i}} - \\sum{\\hat{\\beta_{1}}x_{i}} - \\sum{\\hat{\\beta_{2}}x_{i}^{2}} = 0\n",
    "\\end{cases}$"
   ]
  },
  {
   "cell_type": "markdown",
   "metadata": {},
   "source": [
    "# А далее алгебра что бы получить красивый результат:\n",
    "\n",
    "$\\begin{cases}\n",
    "& \\sum{y_{i}} - \\sum{\\hat{\\beta_{1}}} - \\sum{\\hat{\\beta_{2}x_{i}}} = 0 \\\\\n",
    "& \\sum{y_{i}x_{i}} - \\sum{\\hat{\\beta_{1}}x_{i}} - \\sum{\\hat{\\beta_{2}x_{i}}x_{i}^{2}} = 0\n",
    "\\end{cases}$\n",
    "\n",
    "Вынесем константы за знак суммы:\n",
    "\n",
    "$\\begin{cases}\n",
    "& \\sum{y_{i}} - N\\hat{\\beta_{1}} - \\hat{\\beta_{2}\\sum{x_{i}}} = 0 \\\\\n",
    "& \\sum{y_{i}x_{i}} - \\hat{\\beta_{1}}\\sum{x_{i}} - \\sum{\\hat{\\beta_{2}}x_{i}^{2}} = 0\n",
    "\\end{cases}$\n",
    "\n",
    "Поделим первое уравнение на N:\n",
    "\n",
    "$\\bar{y} - \\hat{\\beta_{1}} - \\hat{\\beta_{2}}\\bar{x} = 0$\n",
    "\n",
    "Выразим второе уравнение через первое ($\\hat{\\beta_{1}} = \\bar{y} - \\hat{\\beta_{2}}\\bar{x}$):\n",
    "\n",
    "$\\sum{y_{i}x_{i}} - (\\bar{y} - \\hat{\\beta_{2}}\\bar{x})\\sum{x_{i}} - \\sum{\\hat{\\beta_{2}}x_{i}^{2}} = 0$\n",
    "\n",
    "Приводим подобные слагаемые, разнесем по стороны:\n",
    "\n",
    "$\\hat{\\beta_{2}} (\\bar{x} \\sum{x_{i}} - \\sum{x_{i}^{2}}) = \\bar{y} \\sum{x_{i}} - \\sum{y_{i}x_{i}}$\n",
    "\n",
    "Отсюда\n",
    "\n",
    "$\\hat{\\beta_{2}} = \\frac\n",
    "{\\bar{y} \\sum{x_{i}} - \\sum{y_{i}x_{i}}}\n",
    "{\\bar{x} \\sum{x_{i}} - \\sum{x_{i}^{2}}}$\n",
    "\n",
    "# И как в учебнике\n",
    "\n",
    "внесём средние под знак суммы, поменяем знаки\n",
    "\n",
    "$\\hat{\\beta_{2}} = \\frac\n",
    "{\\bar{y} \\sum{x_{i}} - \\sum{y_{i}x_{i}}}\n",
    "{\\bar{x} \\sum{x_{i}} - \\sum{x_{i}^{2}}}$\n",
    "=\n",
    "$\\frac\n",
    "{\\sum{y_{i}x_{i}} - \\sum{\\bar{y}x_{i}}}\n",
    "{\\sum{x_{i}^{2}} - \\sum{\\bar{x}x_{i}}}$\n",
    "=\n",
    "$\\frac\n",
    "{\\sum{(y_{i} - \\bar{y})}x_{i}}\n",
    "{\\sum{(x_{i} - \\bar{x})}x_{i}}$\n",
    "\n",
    "Так как $\\sum{(x_{i} - \\bar{x})}$ равна нулю, если её домножить на любой показатель, то всё равно будет нуль ($\\bar{x}\\sum{(x_{i} - \\bar{x})} = 0$)\n",
    "\n",
    "Возьмём\n",
    "\n",
    "$\\frac\n",
    "{\\sum{(y_{i} - \\bar{y})}x_{i}}\n",
    "{\\sum{(x_{i} - \\bar{x})}x_{i}}$\n",
    "\n",
    "и вычтим ноль в знаменателе и числителе *(В разных формах, но всё же, см. пояснение парой строк выше)*, вынесем за скобки.\n",
    "\n",
    "$\\frac\n",
    "{\\sum{(y_{i} - \\bar{y})}x_{i} - \\sum{\\bar{x}(y_{i} - \\bar{y})}}\n",
    "{\\sum{(x_{i} - \\bar{x})}x_{i} - \\sum{\\bar{x}(x_{i} - \\bar{x})}}$\n",
    "=\n",
    "$\\frac\n",
    "{\\sum{(y_{i} - \\bar{y})(x_{i} - \\bar{x})}}\n",
    "{\\sum{(x_{i} - \\bar{x})^{2}}}$"
   ]
  },
  {
   "cell_type": "markdown",
   "metadata": {},
   "source": [
    "# Примечание"
   ]
  },
  {
   "cell_type": "markdown",
   "metadata": {},
   "source": [
    "Заметим, что $\\frac{\\sum_{i=1}^{N}{x_{i}}}{N} = \\bar{x}$ т.е сумму поделить на количетво средних получается \"среднее\"\n",
    "\n",
    "Из этого следует, что $\\sum{x_{i}} = N\\bar{x} = \\sum{\\bar{x}}$"
   ]
  },
  {
   "cell_type": "markdown",
   "metadata": {},
   "source": [
    "# Matrix"
   ]
  },
  {
   "cell_type": "markdown",
   "metadata": {},
   "source": [
    "Вспомним, что (*ошибка прогноза*) $\\hat{\\varepsilon}$ = $y_{i} - \\hat{y}$ = $y_{i} - \\hat{\\beta_{1}} - \\hat{\\beta_{2}}x_{i}$\n",
    "\n",
    "Мы сокащали **-2**:\n",
    "\n",
    "$\\frac{\\partial Q}{\\partial \\hat{\\beta}_{1}} = \n",
    "\\sum{\\hat{\\varepsilon}}$\n",
    "\n",
    "$\\frac{\\partial Q}{\\partial \\hat{\\beta}_{2}} = \n",
    "\\sum{\\hat{\\varepsilon}x_{i}}$\n",
    "\n",
    "\n",
    "Таким образом в случае множества переменных\n",
    "\n",
    "$\\frac{\\partial Q}{\\partial \\hat{\\beta}_{1}} = \n",
    "\\sum{\\hat{\\varepsilon}}$\n",
    "\n",
    "$\\frac{\\partial Q}{\\partial \\hat{\\beta}_{2}} = \n",
    "\\sum{\\hat{\\varepsilon}x_{i}}$\n",
    "\n",
    "$\\frac{\\partial Q}{\\partial \\hat{\\beta}_{3}} = \n",
    "\\sum{\\hat{\\varepsilon}z_{i}}$"
   ]
  },
  {
   "cell_type": "code",
   "execution_count": null,
   "metadata": {},
   "outputs": [],
   "source": []
  }
 ],
 "metadata": {
  "kernelspec": {
   "display_name": "Python 3",
   "language": "python",
   "name": "python3"
  },
  "language_info": {
   "codemirror_mode": {
    "name": "ipython",
    "version": 3
   },
   "file_extension": ".py",
   "mimetype": "text/x-python",
   "name": "python",
   "nbconvert_exporter": "python",
   "pygments_lexer": "ipython3",
   "version": "3.6.8"
  }
 },
 "nbformat": 4,
 "nbformat_minor": 2
}

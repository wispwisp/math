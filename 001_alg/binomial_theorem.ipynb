{
 "cells": [
  {
   "cell_type": "markdown",
   "metadata": {},
   "source": [
    "# $(a+b)^n = \\sum_{k=0}^{n} \\binom{n}{k} a^{n-k}b^k$"
   ]
  },
  {
   "cell_type": "markdown",
   "metadata": {},
   "source": [
    "$\\binom{n}{k} = \\frac{n!}{k!(n-k)!}$"
   ]
  },
  {
   "cell_type": "code",
   "execution_count": null,
   "metadata": {},
   "outputs": [],
   "source": []
  },
  {
   "cell_type": "markdown",
   "metadata": {},
   "source": [
    "$(a+b)^2 = \\sum_{k=0}^{2} \\binom{2}{k} a^{2-k}b^k$\n",
    "\n",
    "---\n",
    "\n",
    "$\\binom{2}{0}a^2b^0 + \\binom{2}{1}a^1b^1 + \\binom{2}{2}a^0b^2$\n",
    "\n",
    "$a^2 + 2ab + b^2$"
   ]
  },
  {
   "cell_type": "code",
   "execution_count": null,
   "metadata": {},
   "outputs": [],
   "source": []
  },
  {
   "cell_type": "markdown",
   "metadata": {},
   "source": [
    "$(a+b)^3 = \\sum_{k=0}^{3} \\binom{3}{k} a^{3-k}b^k$\n",
    "\n",
    "---\n",
    "\n",
    "$\\binom{3}{0}a^3b^0 + \\binom{3}{1}a^2b^1 + \\binom{3}{2}a^1b^2 + \\binom{3}{3}a^0b^3$\n",
    "\n",
    "$(a+b)^{3} = a^{3} + 3a^{2}b + 3ab^{2} + b^{3}$"
   ]
  },
  {
   "cell_type": "code",
   "execution_count": null,
   "metadata": {},
   "outputs": [],
   "source": []
  },
  {
   "cell_type": "markdown",
   "metadata": {},
   "source": [
    "$\\binom{3}{1} = \\frac{3*2*1}{1 * 2 * 1} = 3$\n",
    "\n",
    "$\\binom{3}{2} = \\frac{3*2*1}{2 * 1} = 3$"
   ]
  },
  {
   "cell_type": "code",
   "execution_count": null,
   "metadata": {},
   "outputs": [],
   "source": []
  },
  {
   "cell_type": "markdown",
   "metadata": {},
   "source": [
    "$(t + \\frac{1}{t})^4$\n",
    "\n",
    "$\\sum_{k=0}^{4} \\binom{4}{k} t^{4-k}(\\frac{1}{t})^k$\n",
    "\n",
    "$(\\frac{4!}{0! * 4!})t^4 + (\\frac{4!}{1! * 3!})t^3(\\frac{1}{t}) + (\\frac{4!}{2! * 2!})t^2(\\frac{1}{t})^2 +\n",
    "(\\frac{4!}{3! * 1!})t(\\frac{1}{t})^3 + (\\frac{4!}{4! * 0!})(\\frac{1}{t})^4$\n",
    "\n",
    "$t^4 + 4t^3 \\frac{1}{t} + 6t^2\\frac{1}{t^2} + 4t\\frac{1}{t^3} + \\frac{1}{t^4}$\n",
    "\n",
    "$t^4 + 4t^2 + 6 + \\frac{4}{t^2} + \\frac{1}{t^4}$"
   ]
  },
  {
   "cell_type": "code",
   "execution_count": null,
   "metadata": {},
   "outputs": [],
   "source": []
  },
  {
   "cell_type": "markdown",
   "metadata": {},
   "source": [
    "           1\n",
    "          1 1\n",
    "         1 2 1\n",
    "        1 3 3 1\n",
    "       1 4 6 4 1"
   ]
  },
  {
   "cell_type": "markdown",
   "metadata": {},
   "source": [
    "                    1\n",
    "                  1   1\n",
    "                1   2   1\n",
    "              1   3   3   1\n",
    "            1   4   6   4   1\n",
    "          1   5   10  10  5   1\n",
    "        1   6   15  20  15  6   1\n",
    "      1   7   21  35  35  21  7   1\n",
    "    1   8   28  56  79  56  28  8   1"
   ]
  },
  {
   "cell_type": "code",
   "execution_count": null,
   "metadata": {},
   "outputs": [],
   "source": []
  }
 ],
 "metadata": {
  "kernelspec": {
   "display_name": "Python 3",
   "language": "python",
   "name": "python3"
  },
  "language_info": {
   "codemirror_mode": {
    "name": "ipython",
    "version": 3
   },
   "file_extension": ".py",
   "mimetype": "text/x-python",
   "name": "python",
   "nbconvert_exporter": "python",
   "pygments_lexer": "ipython3",
   "version": "3.6.8"
  }
 },
 "nbformat": 4,
 "nbformat_minor": 2
}

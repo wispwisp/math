{
 "cells": [
  {
   "cell_type": "code",
   "execution_count": null,
   "metadata": {},
   "outputs": [],
   "source": [
    "import pandas as pd\n",
    "import numpy as np\n",
    "\n",
    "# import seaborn as sns\n",
    "# import matplotlib.pyplot as plt\n",
    "\n",
    "# import matplotlib\n",
    "# matplotlib.pyplot.style.use('seaborn')\n",
    "# matplotlib.rcParams['figure.figsize'] = (15, 5)\n",
    "\n",
    "# %matplotlib inline\n",
    "# %pylab inline"
   ]
  },
  {
   "cell_type": "code",
   "execution_count": null,
   "metadata": {},
   "outputs": [],
   "source": [
    "from IPython.core.interactiveshell import InteractiveShell\n",
    "InteractiveShell.ast_node_interactivity = \"all\""
   ]
  },
  {
   "cell_type": "code",
   "execution_count": null,
   "metadata": {},
   "outputs": [],
   "source": [
    "from IPython.core.display import SVG"
   ]
  },
  {
   "cell_type": "code",
   "execution_count": null,
   "metadata": {},
   "outputs": [],
   "source": [
    "import math"
   ]
  },
  {
   "cell_type": "code",
   "execution_count": null,
   "metadata": {},
   "outputs": [],
   "source": []
  },
  {
   "cell_type": "markdown",
   "metadata": {},
   "source": [
    "$2x^4 -8x^2y^2 -y^4 - (-6x^4 -3x^2y^2 + 5y^4)$\n",
    "\n",
    "$2x^4 -8x^2y^2 -y^4 + 6x^4 + 3x^2y^2 - 5y^4$\n",
    "\n",
    "$(2x^4 + 6x^4) + (-8x^2y^2 + 3x^2y^2) + (-y^4 - 5y^4)$\n",
    "\n",
    "$8x^4 -5x^2y^2 - 6y^4$"
   ]
  },
  {
   "cell_type": "code",
   "execution_count": null,
   "metadata": {},
   "outputs": [],
   "source": []
  },
  {
   "cell_type": "markdown",
   "metadata": {},
   "source": [
    "$(-7g^4 +3g^2h^2 - 11h^2) + (6g^4 -13g^2h^2 + 8h^4)$\n",
    "\n",
    "---\n",
    "\n",
    "$-7g^4 +3g^2h^2 - 11h^2$\n",
    "\n",
    "+\n",
    "\n",
    "$6g^4 -13g^2h^2 + 8h^4$\n",
    "\n",
    "=\n",
    "\n",
    "\n",
    "\n",
    "$-g^4 - 10g^2h^2 -3h^4$"
   ]
  },
  {
   "cell_type": "code",
   "execution_count": null,
   "metadata": {},
   "outputs": [],
   "source": []
  },
  {
   "cell_type": "markdown",
   "metadata": {},
   "source": [
    "# Factoring"
   ]
  },
  {
   "cell_type": "code",
   "execution_count": null,
   "metadata": {},
   "outputs": [],
   "source": []
  },
  {
   "cell_type": "markdown",
   "metadata": {},
   "source": [
    "# $m^2 + 5m + 6$\n",
    "\n",
    "---\n",
    "\n",
    "$a + b = 5$\n",
    "\n",
    "$ab = 6$\n",
    "\n",
    "$a = 2$\n",
    "\n",
    "$b = 3$\n",
    "\n",
    "$\\rightarrow$\n",
    "\n",
    "$(m+2)(m+3)$"
   ]
  },
  {
   "cell_type": "code",
   "execution_count": null,
   "metadata": {},
   "outputs": [],
   "source": []
  },
  {
   "cell_type": "markdown",
   "metadata": {},
   "source": [
    "# $2m^2 - m - 1$\n",
    "\n",
    "---\n",
    "\n",
    "$a + b = -1$\n",
    "\n",
    "$ab = (2)(-1) = -2$\n",
    "\n",
    "$a = -2$\n",
    "\n",
    "$b = 1$\n",
    "\n",
    "---\n",
    "\n",
    "$\\rightarrow$\n",
    "\n",
    "$2m^2 - 2m + 1m - 1$\n",
    "\n",
    "$(2m^2 -2m) + (m-1)$\n",
    "\n",
    "$2m(m -1) + (m-1)$\n",
    "\n",
    "$(2m + 1) \\cdot (m - 1)$\n",
    "\n",
    "---\n",
    "\n",
    "Check:\n",
    "\n",
    "$(2m + 1) \\cdot (m - 1) =$\n",
    "\n",
    "$2m^2 + m - 2m - 1 =$\n",
    "\n",
    "$2m^2 - m - 1$"
   ]
  },
  {
   "cell_type": "code",
   "execution_count": null,
   "metadata": {},
   "outputs": [],
   "source": []
  }
 ],
 "metadata": {
  "kernelspec": {
   "display_name": "Python 3",
   "language": "python",
   "name": "python3"
  },
  "language_info": {
   "codemirror_mode": {
    "name": "ipython",
    "version": 3
   },
   "file_extension": ".py",
   "mimetype": "text/x-python",
   "name": "python",
   "nbconvert_exporter": "python",
   "pygments_lexer": "ipython3",
   "version": "3.6.7"
  }
 },
 "nbformat": 4,
 "nbformat_minor": 2
}

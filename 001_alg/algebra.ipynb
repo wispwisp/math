{
 "cells": [
  {
   "cell_type": "code",
   "execution_count": null,
   "metadata": {},
   "outputs": [],
   "source": []
  },
  {
   "cell_type": "markdown",
   "metadata": {},
   "source": [
    "$a^2 - b^2 = (a+b)(a-b)$"
   ]
  },
  {
   "cell_type": "code",
   "execution_count": null,
   "metadata": {},
   "outputs": [],
   "source": []
  },
  {
   "cell_type": "markdown",
   "metadata": {},
   "source": [
    "$(a+b)^{3} = a^{3} + 3a^{2}b + 3ab^{2} + b^{3}$\n",
    "\n",
    "$(a-b)^{3} = a^{3} - 3a^{2}b + 3ab^{2} - b^{3}$\n",
    "\n",
    "See binom\n",
    "\n",
    "$a^{3} + b^{3} = (a+b)(a^{2} - ab + b)$\n",
    "\n",
    "$a^{3} - b^{3} = (a-b)(a^{2} + ab + b)$"
   ]
  },
  {
   "cell_type": "code",
   "execution_count": null,
   "metadata": {},
   "outputs": [],
   "source": []
  },
  {
   "cell_type": "markdown",
   "metadata": {},
   "source": [
    "# * * *"
   ]
  },
  {
   "cell_type": "code",
   "execution_count": null,
   "metadata": {},
   "outputs": [],
   "source": []
  },
  {
   "cell_type": "markdown",
   "metadata": {},
   "source": [
    "$(x-2)(x+2)(x-2i)(x+2i)$\n",
    "\n",
    "$(x^2 - 4) (x^2 - 4i^2)$\n",
    "\n",
    "$(x^2 - 4) (x^2 + 4)$\n",
    "\n",
    "$x^4 - 16$"
   ]
  },
  {
   "cell_type": "code",
   "execution_count": null,
   "metadata": {},
   "outputs": [],
   "source": []
  }
 ],
 "metadata": {
  "kernelspec": {
   "display_name": "Python 3",
   "language": "python",
   "name": "python3"
  },
  "language_info": {
   "codemirror_mode": {
    "name": "ipython",
    "version": 3
   },
   "file_extension": ".py",
   "mimetype": "text/x-python",
   "name": "python",
   "nbconvert_exporter": "python",
   "pygments_lexer": "ipython3",
   "version": "3.6.8"
  }
 },
 "nbformat": 4,
 "nbformat_minor": 2
}

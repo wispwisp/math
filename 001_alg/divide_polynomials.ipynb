{
 "cells": [
  {
   "cell_type": "code",
   "execution_count": null,
   "metadata": {},
   "outputs": [],
   "source": [
    "import pandas as pd\n",
    "import numpy as np\n",
    "\n",
    "# import seaborn as sns\n",
    "# import matplotlib.pyplot as plt\n",
    "\n",
    "# import matplotlib\n",
    "# matplotlib.pyplot.style.use('seaborn')\n",
    "# matplotlib.rcParams['figure.figsize'] = (15, 5)\n",
    "\n",
    "# %matplotlib inline\n",
    "# %pylab inline"
   ]
  },
  {
   "cell_type": "code",
   "execution_count": null,
   "metadata": {},
   "outputs": [],
   "source": [
    "from IPython.core.interactiveshell import InteractiveShell\n",
    "InteractiveShell.ast_node_interactivity = \"all\""
   ]
  },
  {
   "cell_type": "code",
   "execution_count": null,
   "metadata": {},
   "outputs": [],
   "source": [
    "from IPython.core.display import SVG"
   ]
  },
  {
   "cell_type": "code",
   "execution_count": null,
   "metadata": {},
   "outputs": [],
   "source": [
    "import math"
   ]
  },
  {
   "cell_type": "code",
   "execution_count": null,
   "metadata": {},
   "outputs": [],
   "source": []
  },
  {
   "cell_type": "markdown",
   "metadata": {},
   "source": [
    "$a(x) = -12x^5 -2x^3 - 9x$\n",
    "\n",
    "$b(x) = 3x^4 + x^2 + 1$\n",
    "\n",
    "$\\frac{a(x)}{b(x)} = $\n",
    "\n",
    "---\n",
    "\n",
    "| 3x^4 + x^2 + 1  | .      | .     | .         | .         | .         | .         |\n",
    "|---------------- |------  | ----- | --------- | --------- | --------- | --------- |\n",
    "| .               | -12x^5 | .     | -2x^3     | .         |  -9x      | .         |\n",
    "| .               | .      | .     | .         | .         |  .        | .         |\n",
    "| .               | .      | .     | .         | .         |  .        | .         |\n",
    "\n",
    "---\n",
    "\n",
    "| 3x^4 + x^2 + 1  | .      | .     | .         | .         | -4x       | .         |\n",
    "|---------------- |------  | ----- | --------- | --------- | --------- | --------- |\n",
    "|                 | -12x^5 | .     | -2x^3     | .         |  -9x      | .         |\n",
    "| minus           | -12x^5 | .     | -4x^3     | .         |  -4x      | .         |\n",
    "| .               | 0      | .     | 2x^3      | .         |  -5x      | .         |\n",
    "\n",
    "---\n",
    "\n",
    "$\\frac{a(x)}{b(x)} = q(x) + \\frac{r(x)}{b(x)} = -4x + \\frac{2x^3 - 5x}{3x^4 + x^2 + 1}$\n",
    "\n",
    "### check:\n",
    "\n",
    "$(-4x + \\frac{2x^3 - 5x}{3x^4 + x^2 + 1}) \\cdot (3x^4 + x^2 + 1)$\n",
    "\n",
    "$-12x^5 - 4x^3 - 4x + 2x^3 - 5x$\n",
    "\n",
    "$-12x^5 - 2x^3 - 9x$"
   ]
  },
  {
   "cell_type": "code",
   "execution_count": null,
   "metadata": {},
   "outputs": [],
   "source": []
  }
 ],
 "metadata": {
  "kernelspec": {
   "display_name": "Python 3",
   "language": "python",
   "name": "python3"
  },
  "language_info": {
   "codemirror_mode": {
    "name": "ipython",
    "version": 3
   },
   "file_extension": ".py",
   "mimetype": "text/x-python",
   "name": "python",
   "nbconvert_exporter": "python",
   "pygments_lexer": "ipython3",
   "version": "3.6.8"
  }
 },
 "nbformat": 4,
 "nbformat_minor": 2
}

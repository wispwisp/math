{
 "cells": [
  {
   "cell_type": "code",
   "execution_count": null,
   "metadata": {},
   "outputs": [],
   "source": [
    "import pandas as pd\n",
    "import numpy as np\n",
    "import seaborn as sns\n",
    "\n",
    "import matplotlib.pyplot as plt\n",
    "import matplotlib\n",
    "matplotlib.pyplot.style.use('seaborn')\n",
    "matplotlib.rcParams['figure.figsize'] = (15, 5)\n",
    "\n",
    "%matplotlib inline\n",
    "\n",
    "import math\n",
    "\n",
    "from IPython.core.interactiveshell import InteractiveShell\n",
    "InteractiveShell.ast_node_interactivity = \"all\""
   ]
  },
  {
   "cell_type": "markdown",
   "metadata": {},
   "source": [
    "## $a^{n} \\cdot a^{m} = a^{n+m}$\n",
    "\n",
    "## $\\frac{a^{n}}{a^{m}} = a^{n-m}$\n",
    "\n",
    "## $\\left(a^{n} \\right)^{m} = a^{n\\cdot m}$\n",
    "\n",
    "## $a^{x} \\cdot b^{x} = \\left(a \\cdot b \\right)^{x}$\n",
    "\n",
    "## $\\frac{a^{x}}{b^{x}} = \\left(\\frac{a}{b} \\right)^{x}$\n",
    "\n",
    "$a^{-n} = \\frac{1}{a^{n}}$\n",
    "\n",
    "$a^{-1} = \\frac{1}{a}$"
   ]
  },
  {
   "cell_type": "markdown",
   "metadata": {},
   "source": [
    "---"
   ]
  },
  {
   "cell_type": "markdown",
   "metadata": {},
   "source": [
    "## $\\sqrt[n]{a^{k}} = \\left(\\sqrt[n]{a} \\right)^{k}$\n",
    "## $\\left(a^{k} \\right)^{\\frac{1}{n}} = \\left(a^{\\frac{1}{n}} \\right)^{k} = a^{\\frac{k}{n}}$\n",
    "\n",
    "## $\\sqrt[n]{a} = \\sqrt[n \\cdot k]{a^{k}}$\n",
    "\n",
    "## $a^{\\frac{1}{n}} = \\left(a^{k} \\right)^{\\frac{1}{n \\cdot k}} = a^{\\frac{k}{n \\cdot k}}$\n",
    "\n",
    "## $\\sqrt[n]{\\sqrt[k]{a}} = \\sqrt[n \\cdot k]{a}$\n",
    "\n",
    "## $\\left( a^{\\frac{1}{k}} \\right)^{\\frac{1}{n}} = a^{\\frac{1}{k} \\cdot \\frac{1}{n}} = a^{\\frac{1}{k \\cdot n}}$\n",
    "\n",
    "#### $\\sqrt[n]{ab} = \\sqrt[n]{a} \\cdot \\sqrt[n]{b}$\n",
    "#### $ab^{\\frac{1}{n}} = a^{\\frac{1}{n}} \\cdot b^{\\frac{1}{n}}$\n",
    "\n",
    "#### $\\sqrt[n]{\\frac{a}{b}} = \\frac{\\sqrt[n]{a}}{\\sqrt[n]{b}}$\n",
    "#### $\\left(\\frac{a}{b} \\right)^{\\frac{1}{x}} = \\frac{a^{\\frac{1}{x}}}{b^{\\frac{1}{x}}}$"
   ]
  },
  {
   "cell_type": "markdown",
   "metadata": {},
   "source": [
    "---"
   ]
  },
  {
   "cell_type": "markdown",
   "metadata": {},
   "source": [
    "## $log_{a}b = C \\Leftrightarrow a^{C}=b$\n",
    "\n",
    "## $log_{a}bc = log_{a}b + log_{a}c$\n",
    "\n",
    "## $log_{a}\\frac{b}{c} = log_{a}b - log_{a}c$\n",
    "\n",
    "## $log_{a^{k}}b^{m} = \\frac{m}{k}log_{a}b$\n",
    "\n",
    "\n",
    "## $a^{log_{a}b} = b$\n",
    "\n",
    "## $log_{a}b = \\frac{log_{x}b}{log_{x}a}$"
   ]
  },
  {
   "cell_type": "markdown",
   "metadata": {},
   "source": [
    "# Examples:\n",
    "\n",
    "$\\sqrt[4]{x} + \\sqrt{x} = 6$\n",
    "\n",
    "$x^{\\frac{1}{4}} + x^{\\frac{1}{2}} = 6$\n",
    "\n",
    "$a = x^{\\frac{1}{2}}$\n",
    "\n",
    "$a^{\\frac{1}{2}} + a = 6$\n",
    "\n",
    "$a^{\\frac{1}{2}} = 6 - a$\n",
    "\n",
    "$a = (6-a)^{2}$\n",
    "\n",
    "---\n",
    "\n",
    "$2\\sqrt{8b^3} \\cdot 9\\sqrt{18b}$\n",
    "\n",
    "$2\\sqrt{8b^3} \\cdot 9\\sqrt{18b} = 18\\sqrt{2^3b^3 18b}$\n",
    "\n",
    "$2\\sqrt{8b^3} \\cdot 9\\sqrt{18b} = 18\\sqrt{2^3b^3 18b} = 18\\sqrt{2^3b^3 \\cdot 2 \\cdot 3^2b}$\n",
    "\n",
    "$2\\sqrt{8b^3} \\cdot 9\\sqrt{18b} = 18\\sqrt{2^3b^3 18b} = 18\\sqrt{2^3b^3 \\cdot 2 \\cdot 3^2b} =\n",
    "18\\sqrt{2^4 b^4 \\cdot 3^2}$\n",
    "\n",
    "$18\\sqrt{2^4 b^4 \\cdot 3^2} = 18 \\cdot 2^2 \\cdot 3 b^2 = 216b^2$"
   ]
  },
  {
   "cell_type": "markdown",
   "metadata": {},
   "source": [
    "# Log Equations"
   ]
  },
  {
   "cell_type": "markdown",
   "metadata": {},
   "source": [
    "$log_{2} (x+2) = 3$\n",
    "\n",
    "$x+2 = 2^3$\n",
    "\n",
    "$x = 6$"
   ]
  },
  {
   "cell_type": "markdown",
   "metadata": {},
   "source": [
    "---"
   ]
  },
  {
   "cell_type": "markdown",
   "metadata": {},
   "source": [
    "$log_{9} (3^x) = 15$\n",
    "\n",
    "$3^x = 9^{15}$\n",
    "\n",
    "$3^x = 3^{2 \\cdot 15}$\n",
    "\n",
    "$x = 30$"
   ]
  }
 ],
 "metadata": {
  "kernelspec": {
   "display_name": "Python 3 (ipykernel)",
   "language": "python",
   "name": "python3"
  },
  "language_info": {
   "codemirror_mode": {
    "name": "ipython",
    "version": 3
   },
   "file_extension": ".py",
   "mimetype": "text/x-python",
   "name": "python",
   "nbconvert_exporter": "python",
   "pygments_lexer": "ipython3",
   "version": "3.8.10"
  }
 },
 "nbformat": 4,
 "nbformat_minor": 2
}

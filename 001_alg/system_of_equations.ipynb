{
 "cells": [
  {
   "cell_type": "code",
   "execution_count": null,
   "metadata": {},
   "outputs": [],
   "source": [
    "import pandas as pd\n",
    "import numpy as np\n",
    "\n",
    "# import seaborn as sns\n",
    "# import matplotlib.pyplot as plt\n",
    "\n",
    "# import matplotlib\n",
    "# matplotlib.pyplot.style.use('seaborn')\n",
    "# matplotlib.rcParams['figure.figsize'] = (15, 5)\n",
    "\n",
    "# %matplotlib inline\n",
    "# %pylab inline"
   ]
  },
  {
   "cell_type": "code",
   "execution_count": null,
   "metadata": {},
   "outputs": [],
   "source": [
    "from IPython.core.interactiveshell import InteractiveShell\n",
    "InteractiveShell.ast_node_interactivity = \"all\""
   ]
  },
  {
   "cell_type": "code",
   "execution_count": null,
   "metadata": {},
   "outputs": [],
   "source": [
    "from IPython.core.display import SVG"
   ]
  },
  {
   "cell_type": "code",
   "execution_count": null,
   "metadata": {},
   "outputs": [],
   "source": [
    "import math"
   ]
  },
  {
   "cell_type": "code",
   "execution_count": null,
   "metadata": {},
   "outputs": [],
   "source": []
  },
  {
   "cell_type": "markdown",
   "metadata": {},
   "source": [
    "# Why we substract ?\n",
    "\n",
    "Because it is same as variable substitution, see:\n",
    "\n",
    "$\\left\\{\n",
    "    \\begin{array}{ll}\n",
    "       3x + 8y = 15 \\\\\n",
    "       x + 4y = 5\n",
    "    \\end{array}\n",
    "\\right.$\n",
    "\n",
    "$\\left\\{\n",
    "    \\begin{array}{ll}\n",
    "       8y = 15 - 3x \\\\\n",
    "       2x + 8y = 10\n",
    "    \\end{array}\n",
    "\\right.$\n",
    "\n",
    "$\\left\\{\n",
    "    \\begin{array}{ll}\n",
    "       8y = 15 - 3x \\\\\n",
    "       2x + (15 - 3x) = 10\n",
    "    \\end{array}\n",
    "\\right.$\n",
    "\n",
    "$\\left\\{\n",
    "    \\begin{array}{ll}\n",
    "       8y = 15 - 3x \\\\\n",
    "       -x = -5\n",
    "    \\end{array}\n",
    "\\right.$\n",
    "\n",
    "### $-x = -5$ same as we just substract:\n",
    "\n",
    "$2x + 8y = 10$\n",
    "\n",
    "$-$\n",
    "\n",
    "$3x + 8y = 15$\n",
    "\n",
    "=\n",
    "\n",
    "$-x = -5$"
   ]
  },
  {
   "cell_type": "code",
   "execution_count": null,
   "metadata": {},
   "outputs": [],
   "source": []
  },
  {
   "cell_type": "markdown",
   "metadata": {},
   "source": [
    "# * * *"
   ]
  },
  {
   "cell_type": "code",
   "execution_count": null,
   "metadata": {},
   "outputs": [],
   "source": []
  },
  {
   "cell_type": "markdown",
   "metadata": {},
   "source": [
    "$\\left\\{\n",
    "    \\begin{array}{ll}\n",
    "       3x + 8y = 15 \\\\\n",
    "       2x - 8y = 10\n",
    "    \\end{array}\n",
    "\\right.$\n",
    "\n",
    "$\\left\\{\n",
    "    \\begin{array}{ll}\n",
    "       3x + 8y = 15 \\\\\n",
    "       + \\\\\n",
    "       2x - 8y = 10\n",
    "    \\end{array}\n",
    "\\right.$\n",
    "\n",
    "$5x = 25$\n",
    "\n",
    "$x = 25 / 5 = 5$\n",
    "\n",
    "$\\left\\{\n",
    "    \\begin{array}{ll}\n",
    "       x = 5 \\\\\n",
    "       3x + 8y = 15\n",
    "    \\end{array}\n",
    "\\right.$\n",
    "\n",
    "$(3)(5) + 8y = 15$\n",
    "\n",
    "$15 + 8y = 15$\n",
    "\n",
    "$y = \\frac{15 - 15}{8}$\n",
    "\n",
    "$y = 0$"
   ]
  },
  {
   "cell_type": "code",
   "execution_count": null,
   "metadata": {},
   "outputs": [],
   "source": []
  },
  {
   "cell_type": "markdown",
   "metadata": {},
   "source": [
    "$\\left\\{\n",
    "    \\begin{array}{ll}\n",
    "       2y - 3x = -27 \\\\\n",
    "       5y + 3x = 6\n",
    "    \\end{array}\n",
    "\\right.$\n",
    "\n",
    "$\\left\\{\n",
    "    \\begin{array}{ll}\n",
    "       2y - 3x = -27 \\\\\n",
    "       + \\\\\n",
    "       5y + 3x = 6\n",
    "    \\end{array}\n",
    "\\right.$\n",
    "\n",
    "$7y = -21$\n",
    "\n",
    "$y = -21 / 7 = -3$\n",
    "\n",
    "$\\left\\{\n",
    "    \\begin{array}{ll}\n",
    "       y = -3 \\\\\n",
    "       5y + 3x = 6\n",
    "    \\end{array}\n",
    "\\right.$\n",
    "\n",
    "$(5)(-3) + 3x = 6$\n",
    "\n",
    "$-15 + 3x = 6$\n",
    "\n",
    "$x = \\frac{6 + 15}{3} = 7$"
   ]
  },
  {
   "cell_type": "code",
   "execution_count": null,
   "metadata": {},
   "outputs": [],
   "source": []
  },
  {
   "cell_type": "markdown",
   "metadata": {},
   "source": [
    "$\\left\\{\n",
    "    \\begin{array}{ll}\n",
    "       -8y + 9x = -5 \\\\\n",
    "       8y + 7x = -75\n",
    "    \\end{array}\n",
    "\\right.$\n",
    "\n",
    "$\\left\\{\n",
    "    \\begin{array}{ll}\n",
    "       -8y + 9x = -5 \\\\\n",
    "       + \\\\\n",
    "       8y + 7x = -75\n",
    "    \\end{array}\n",
    "\\right.$\n",
    "\n",
    "$16x = -80$\n",
    "\n",
    "$x = -5$\n",
    "\n",
    "$8y + (7)(-5) = -75$\n",
    "\n",
    "$8y - 35 = -75$\n",
    "\n",
    "$8y = -40$\n",
    "\n",
    "$y = -5$"
   ]
  },
  {
   "cell_type": "code",
   "execution_count": null,
   "metadata": {},
   "outputs": [],
   "source": []
  }
 ],
 "metadata": {
  "kernelspec": {
   "display_name": "Python 3",
   "language": "python",
   "name": "python3"
  },
  "language_info": {
   "codemirror_mode": {
    "name": "ipython",
    "version": 3
   },
   "file_extension": ".py",
   "mimetype": "text/x-python",
   "name": "python",
   "nbconvert_exporter": "python",
   "pygments_lexer": "ipython3",
   "version": "3.6.8"
  }
 },
 "nbformat": 4,
 "nbformat_minor": 2
}

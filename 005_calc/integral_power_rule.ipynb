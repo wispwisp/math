{
 "cells": [
  {
   "cell_type": "code",
   "execution_count": null,
   "metadata": {},
   "outputs": [],
   "source": [
    "import pandas as pd\n",
    "import numpy as np\n",
    "\n",
    "import seaborn as sns\n",
    "import matplotlib.pyplot as plt\n",
    "plt.style.use('seaborn')\n",
    "\n",
    "%matplotlib inline"
   ]
  },
  {
   "cell_type": "code",
   "execution_count": null,
   "metadata": {},
   "outputs": [],
   "source": [
    "from IPython.core.interactiveshell import InteractiveShell\n",
    "InteractiveShell.ast_node_interactivity = \"all\""
   ]
  },
  {
   "cell_type": "code",
   "execution_count": null,
   "metadata": {},
   "outputs": [],
   "source": [
    "from IPython.core.display import SVG"
   ]
  },
  {
   "cell_type": "code",
   "execution_count": null,
   "metadata": {},
   "outputs": [],
   "source": [
    "import math"
   ]
  },
  {
   "cell_type": "code",
   "execution_count": null,
   "metadata": {},
   "outputs": [],
   "source": []
  },
  {
   "cell_type": "markdown",
   "metadata": {},
   "source": [
    "# $\\int x^7 dx = \\frac{x^8}{8} + C$"
   ]
  },
  {
   "cell_type": "code",
   "execution_count": null,
   "metadata": {},
   "outputs": [],
   "source": []
  },
  {
   "cell_type": "markdown",
   "metadata": {},
   "source": [
    "# $\\int x^{-4} dx = \\frac{x^{-3}}{-3} + C$"
   ]
  },
  {
   "cell_type": "code",
   "execution_count": null,
   "metadata": {},
   "outputs": [],
   "source": []
  },
  {
   "cell_type": "markdown",
   "metadata": {},
   "source": [
    "# $\\int x^{1 \\over 3} dx = \\frac{3}{4}x^{\\frac{4}{3}} + C$\n",
    "\n",
    "$\\frac{d}{dx} x^{4\\over3} =\n",
    "\\frac{4}{3}x^{\\frac{4}{3} - 1} =\n",
    "\\frac{4}{3}x^{\\frac{4}{3} - \\frac{3}{3}} =\n",
    "\\frac{4}{3}x^{\\frac{1}{3}}\n",
    "$"
   ]
  },
  {
   "cell_type": "code",
   "execution_count": null,
   "metadata": {},
   "outputs": [],
   "source": []
  },
  {
   "cell_type": "markdown",
   "metadata": {},
   "source": [
    "# $\\int x^{1 \\over 5} dx = \\frac{5}{6}x^{\\frac{6}{5}} + C$\n",
    "\n",
    "$\\frac{d}{dx} \\frac{5}{6}x^{\\frac{6}{5}} =\n",
    "\\frac{5}{6}\\frac{6}{5}x^{\\frac{6}{5} - 1} =\n",
    "x^{\\frac{6}{5} - \\frac{5}{5}} =\n",
    "x^{\\frac{1}{5}}\n",
    "$"
   ]
  },
  {
   "cell_type": "code",
   "execution_count": null,
   "metadata": {},
   "outputs": [],
   "source": []
  },
  {
   "cell_type": "markdown",
   "metadata": {},
   "source": [
    "# $\\int (-4x^3 -8x^2 - 4) dx = -x^4 -8\\frac{x^3}{3} - 4x + C$"
   ]
  },
  {
   "cell_type": "code",
   "execution_count": null,
   "metadata": {},
   "outputs": [],
   "source": []
  },
  {
   "cell_type": "markdown",
   "metadata": {},
   "source": [
    "# $\\int (7x^6 + 7x^3 + 4) dx = x^7 + \\frac{7x^4}{4} + 4x + C$"
   ]
  },
  {
   "cell_type": "code",
   "execution_count": null,
   "metadata": {},
   "outputs": [],
   "source": []
  },
  {
   "cell_type": "markdown",
   "metadata": {},
   "source": [
    "# $\\int (2x^3 + 2x - 3) dx = \\frac{x^4}{2} + x^2 - 3x + C$"
   ]
  },
  {
   "cell_type": "code",
   "execution_count": null,
   "metadata": {},
   "outputs": [],
   "source": []
  },
  {
   "cell_type": "markdown",
   "metadata": {},
   "source": [
    "# $\\int (x+6)(3x - 4) dx =\n",
    "\\int (3x^2 + 14x - 24) dx =\n",
    "x^3 + 7x^2 - 24x\n",
    "+ C$"
   ]
  },
  {
   "cell_type": "code",
   "execution_count": null,
   "metadata": {},
   "outputs": [],
   "source": []
  },
  {
   "cell_type": "markdown",
   "metadata": {},
   "source": [
    "# $\\int \\sqrt[5]{x^2} dx = \\int (x^{2})^{1\\over5} dx = \\int x^{2\\over5} dx = \\frac{5}{7}x^{7\\over5} + C =  \\frac{5}{7}\\sqrt[5]{x^7} + C$\n",
    "\n",
    "$\\frac{d}{dx} x^{\\frac{7}{5}} =\n",
    "\\frac{7}{5} x^{\\frac{7}{5} - 1} =\n",
    "\\frac{7}{5} x^{\\frac{7}{5} - \\frac{5}{5}} =\n",
    "\\frac{7}{5} x^{\\frac{2}{5}}\n",
    "$"
   ]
  },
  {
   "cell_type": "code",
   "execution_count": null,
   "metadata": {},
   "outputs": [],
   "source": []
  },
  {
   "cell_type": "markdown",
   "metadata": {},
   "source": [
    "# $\\int \\frac{3x^3 - 4x - 2}{x^3} dx$\n",
    "\n",
    "# $\\int 3 - \\frac{4}{x^2} - \\frac{2}{x^3} dx$\n",
    "\n",
    "# $\\int 3 - 4x^{-2} - 2x^{-3} dx = 3x + 4x^{-1} + x^{-2} + C$"
   ]
  },
  {
   "cell_type": "code",
   "execution_count": null,
   "metadata": {},
   "outputs": [],
   "source": []
  }
 ],
 "metadata": {
  "kernelspec": {
   "display_name": "Python 3",
   "language": "python",
   "name": "python3"
  },
  "language_info": {
   "codemirror_mode": {
    "name": "ipython",
    "version": 3
   },
   "file_extension": ".py",
   "mimetype": "text/x-python",
   "name": "python",
   "nbconvert_exporter": "python",
   "pygments_lexer": "ipython3",
   "version": "3.6.8"
  }
 },
 "nbformat": 4,
 "nbformat_minor": 2
}

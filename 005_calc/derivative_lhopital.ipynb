{
 "cells": [
  {
   "cell_type": "code",
   "execution_count": null,
   "metadata": {},
   "outputs": [],
   "source": [
    "import pandas as pd\n",
    "import numpy as np"
   ]
  },
  {
   "cell_type": "code",
   "execution_count": null,
   "metadata": {},
   "outputs": [],
   "source": [
    "import matplotlib.pyplot as plt\n",
    "import matplotlib\n",
    "matplotlib.pyplot.style.use('seaborn')\n",
    "%matplotlib inline"
   ]
  },
  {
   "cell_type": "code",
   "execution_count": null,
   "metadata": {},
   "outputs": [],
   "source": [
    "from IPython.core.interactiveshell import InteractiveShell\n",
    "InteractiveShell.ast_node_interactivity = \"all\""
   ]
  },
  {
   "cell_type": "code",
   "execution_count": null,
   "metadata": {},
   "outputs": [],
   "source": [
    "from IPython.core.display import SVG"
   ]
  },
  {
   "cell_type": "code",
   "execution_count": null,
   "metadata": {},
   "outputs": [],
   "source": [
    "import math"
   ]
  },
  {
   "cell_type": "code",
   "execution_count": null,
   "metadata": {},
   "outputs": [],
   "source": []
  },
  {
   "cell_type": "markdown",
   "metadata": {},
   "source": [
    "* if\n",
    "\n",
    "# $\\lim\\limits_{x\\to c} f(x) = 0$\n",
    "\n",
    "* and\n",
    "\n",
    "# $\\lim\\limits_{x\\to c} g(x) = 0$\n",
    "\n",
    "* and\n",
    "\n",
    "# $\\lim\\limits_{x\\to c} \\frac{f'(x)}{g'(x)} = L$\n",
    "\n",
    "* then $\\rightarrow$\n",
    "\n",
    "# $\\lim\\limits_{x\\to c} \\frac{f(x)}{g(x)} = L$"
   ]
  },
  {
   "cell_type": "code",
   "execution_count": null,
   "metadata": {},
   "outputs": [],
   "source": []
  },
  {
   "cell_type": "markdown",
   "metadata": {},
   "source": [
    "* if\n",
    "\n",
    "# $\\lim\\limits_{x\\to c} f(x) = \\pm \\infty$\n",
    "\n",
    "* and\n",
    "\n",
    "# $\\lim\\limits_{x\\to c} g(x) =  \\pm \\infty$\n",
    "\n",
    "* and\n",
    "\n",
    "# $\\lim\\limits_{x\\to c} \\frac{f'(x)}{g'(x)} = L$\n",
    "\n",
    "* then $\\rightarrow$\n",
    "\n",
    "# $\\lim\\limits_{x\\to c} \\frac{f(x)}{g(x)} = L$"
   ]
  },
  {
   "cell_type": "code",
   "execution_count": null,
   "metadata": {},
   "outputs": [],
   "source": []
  },
  {
   "cell_type": "markdown",
   "metadata": {},
   "source": [
    "# Derivative can be applied again"
   ]
  },
  {
   "cell_type": "code",
   "execution_count": null,
   "metadata": {},
   "outputs": [],
   "source": []
  },
  {
   "cell_type": "markdown",
   "metadata": {},
   "source": [
    "# Ex:"
   ]
  },
  {
   "cell_type": "code",
   "execution_count": null,
   "metadata": {},
   "outputs": [],
   "source": []
  },
  {
   "cell_type": "markdown",
   "metadata": {},
   "source": [
    "$\\lim\\limits_{x\\to0} \\frac{sin(x)}{x} = \\frac{0}{0}$\n",
    "\n",
    "---\n",
    "\n",
    "$\\lim\\limits_{x\\to0} \\frac{sin'(x)}{x'}$\n",
    "\n",
    "$\\lim\\limits_{x\\to0} \\frac{cos(x)}{1} = 1 \\rightarrow \\lim\\limits_{x\\to0} \\frac{sin(x)}{x} = 1$"
   ]
  },
  {
   "cell_type": "code",
   "execution_count": null,
   "metadata": {},
   "outputs": [],
   "source": []
  },
  {
   "cell_type": "markdown",
   "metadata": {},
   "source": [
    "$\\lim\\limits_{x\\to0} \\frac{7x - sin(x)}{x^2 + sin(3x)} = \\frac{0 - 0}{0 + 0}$\n",
    "\n",
    "Apply derivative on each function separate (no quotent rule):\n",
    "\n",
    "$\\lim\\limits_{x\\to0} \\frac{7 - cos(x)}{2x + 3cos(3x)} = \\frac{7 - 1}{0 + 3} = \\frac{6}{3} = 2$"
   ]
  },
  {
   "cell_type": "code",
   "execution_count": null,
   "metadata": {},
   "outputs": [],
   "source": []
  },
  {
   "cell_type": "markdown",
   "metadata": {},
   "source": [
    "$\\lim\\limits_{x\\to3} \\frac{9-x^2}{cos(\\frac{\\pi}{2}x)} = \\frac{9 - 9}{cos(\\frac{3\\pi}{2})} = 0$\n",
    "\n",
    "Apply derivative on each function separate (no quotent rule):\n",
    "\n",
    "$\\lim\\limits_{x\\to3} \\frac{-2x}{-sin(\\frac{\\pi}{2}x) \\cdot \\frac{\\pi}{2}} =\n",
    "\\frac{6}{-1 \\cdot \\frac{\\pi}{2}} =\n",
    "-\\frac{12}{\\pi}\n",
    "$"
   ]
  },
  {
   "cell_type": "code",
   "execution_count": null,
   "metadata": {},
   "outputs": [],
   "source": []
  },
  {
   "cell_type": "markdown",
   "metadata": {},
   "source": [
    "$\\lim\\limits_{x\\to0} \\frac{2e^{2x} - 2}{x^2 + x} = 0$\n",
    "\n",
    "Apply derivative on each function separate (no quotent rule):\n",
    "\n",
    "$\\lim\\limits_{x\\to0} \\frac{2e^{2x}\\cdot(2x)'}{2x + 1} = \\frac{4e^{2x}}{2x + 1} = \\frac{4}{1}$"
   ]
  },
  {
   "cell_type": "code",
   "execution_count": null,
   "metadata": {},
   "outputs": [],
   "source": []
  },
  {
   "cell_type": "markdown",
   "metadata": {},
   "source": [
    "$\\lim\\limits_{x\\to1} \\frac{xe^x - e}{x^2 - 1} = 0$\n",
    "\n",
    "Apply derivative on each function separate (no quotent rule):\n",
    "\n",
    "$\\lim\\limits_{x\\to1} \\frac{x'e^x + x(e^x)'}{2x} = \\frac{e^x + xe^x}{2x} = \\frac{2e}{2} = e$"
   ]
  },
  {
   "cell_type": "code",
   "execution_count": null,
   "metadata": {},
   "outputs": [],
   "source": []
  },
  {
   "cell_type": "markdown",
   "metadata": {},
   "source": [
    "$\\lim\\limits_{x\\to \\infty} \\frac{e^{5x-3}}{ln(x-2)}$\n",
    "\n",
    "Apply derivative on each function separate (no quotent rule):\n",
    "\n",
    "$\\lim\\limits_{x\\to \\infty} \\frac{e^{5x-3} \\cdot 5}{1 \\cdot 1 \\over x - 2} = e^{5x-3} \\cdot 5 \\cdot (x-2) = \\infty$"
   ]
  },
  {
   "cell_type": "code",
   "execution_count": null,
   "metadata": {},
   "outputs": [],
   "source": []
  },
  {
   "cell_type": "markdown",
   "metadata": {},
   "source": [
    "$\\lim\\limits_{x\\to \\infty} \\frac{-3x^3 + 2x}{4x + 8}$\n",
    "\n",
    "apply derivativeApply derivative on each function separate (no quotent rule):\n",
    "\n",
    "$\\lim\\limits_{x\\to \\infty} \\frac{-9x^2 + 2}{4} = -\\infty$"
   ]
  },
  {
   "cell_type": "code",
   "execution_count": null,
   "metadata": {},
   "outputs": [],
   "source": []
  },
  {
   "cell_type": "markdown",
   "metadata": {},
   "source": [
    "$\\lim\\limits_{x\\to \\infty} \\frac{ln(3x)}{e^{7x}}$\n",
    "\n",
    "Apply derivative on each function separate (no quotent rule):\n",
    "\n",
    "$\\lim\\limits_{x\\to \\infty} \\frac{1 \\cdot 3 \\over 3x}{e^{7x} \\cdot 7} = \\frac{3}{e^{7x} \\cdot 7 \\cdot 3x} = 0$"
   ]
  },
  {
   "cell_type": "code",
   "execution_count": null,
   "metadata": {},
   "outputs": [],
   "source": []
  },
  {
   "cell_type": "markdown",
   "metadata": {},
   "source": [
    "$\\lim\\limits_{x\\to \\infty} \\frac{5x^2 - 8}{7x -4x^2}$\n",
    "\n",
    "Apply derivative on each function separate (no quotent rule):\n",
    "\n",
    "$\\lim\\limits_{x\\to \\infty} \\frac{10x}{7 - 8x}$\n",
    "\n",
    "apply derivative again\n",
    "\n",
    "$\\lim\\limits_{x\\to \\infty} \\frac{10}{-8} = -\\frac{5}{4}$"
   ]
  },
  {
   "cell_type": "code",
   "execution_count": null,
   "metadata": {},
   "outputs": [],
   "source": []
  },
  {
   "cell_type": "markdown",
   "metadata": {},
   "source": [
    "$\\lim\\limits_{x\\to \\infty} \\frac{5x - 2x^2}{e^{x+3}} $\n",
    "\n",
    "$\\lim\\limits_{x\\to \\infty} \\frac{5 - 4x}{e^{x+3}} $\n",
    "\n",
    "$\\lim\\limits_{x\\to \\infty} \\frac{-4}{e^{x+3}} = \\frac{-4}{\\infty} = 0$"
   ]
  },
  {
   "cell_type": "code",
   "execution_count": null,
   "metadata": {},
   "outputs": [],
   "source": []
  },
  {
   "cell_type": "markdown",
   "metadata": {},
   "source": [
    "$\\lim\\limits_{x\\to \\frac{1}{2}} \\frac{xcos(\\pi x)}{e^x -\\sqrt{e}}$\n",
    "\n",
    "$\\lim\\limits_{x\\to \\frac{1}{2}} \\frac{cos(\\pi x) - x\\cdot sin(\\pi x)\\cdot \\pi}{e^x} = -\\frac{\\pi}{2e^x}$"
   ]
  },
  {
   "cell_type": "code",
   "execution_count": null,
   "metadata": {},
   "outputs": [],
   "source": []
  }
 ],
 "metadata": {
  "kernelspec": {
   "display_name": "Python 3",
   "language": "python",
   "name": "python3"
  },
  "language_info": {
   "codemirror_mode": {
    "name": "ipython",
    "version": 3
   },
   "file_extension": ".py",
   "mimetype": "text/x-python",
   "name": "python",
   "nbconvert_exporter": "python",
   "pygments_lexer": "ipython3",
   "version": "3.6.7"
  }
 },
 "nbformat": 4,
 "nbformat_minor": 2
}

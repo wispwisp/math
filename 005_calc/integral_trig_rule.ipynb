{
 "cells": [
  {
   "cell_type": "code",
   "execution_count": null,
   "metadata": {},
   "outputs": [],
   "source": [
    "import pandas as pd\n",
    "import numpy as np\n",
    "\n",
    "import seaborn as sns\n",
    "import matplotlib.pyplot as plt\n",
    "plt.style.use('seaborn')\n",
    "\n",
    "%matplotlib inline"
   ]
  },
  {
   "cell_type": "code",
   "execution_count": null,
   "metadata": {},
   "outputs": [],
   "source": [
    "from IPython.core.interactiveshell import InteractiveShell\n",
    "InteractiveShell.ast_node_interactivity = \"all\""
   ]
  },
  {
   "cell_type": "code",
   "execution_count": null,
   "metadata": {},
   "outputs": [],
   "source": [
    "from IPython.core.display import SVG"
   ]
  },
  {
   "cell_type": "code",
   "execution_count": null,
   "metadata": {},
   "outputs": [],
   "source": [
    "import math"
   ]
  },
  {
   "cell_type": "code",
   "execution_count": null,
   "metadata": {},
   "outputs": [],
   "source": []
  },
  {
   "cell_type": "markdown",
   "metadata": {},
   "source": [
    "$\\frac{d}{dx}\\left[ cos(x) \\right] = -sin(x)$\n",
    "\n",
    "$\\frac{d}{dx}\\left[ sin(x) \\right] = cos(x)$\n",
    "\n",
    "$\\frac{d}{dx}\\left[ tan(x) \\right] = \\frac{1}{cos^2(x)}$\n",
    "\n",
    "$\\frac{d}{dx}\\left[ cot(x) \\right] = -\\frac{1}{sin^2(x)}$\n",
    "\n",
    "$\\frac{d}{dx}\\left[ sec(x) \\right] = \\frac{sin(x)}{cos^2(x)}$\n",
    "\n",
    "$\\frac{d}{dx}\\left[ csc(x) \\right] = -\\frac{cos(x)}{sin^2(x)}$\n",
    "\n",
    "$\\frac{d}{dx}\\left[ arcsin(x) \\right] = \\frac{1}{\\sqrt{1 - x^2}}$\n",
    "\n",
    "$\\frac{d}{dx}\\left[ arccos(x) \\right] = -\\frac{1}{\\sqrt{1 - x^2}}$\n",
    "\n",
    "$\\frac{d}{dx}\\left[ arctan(x) \\right] = \\frac{1}{1 + x^2}$"
   ]
  },
  {
   "cell_type": "code",
   "execution_count": null,
   "metadata": {},
   "outputs": [],
   "source": []
  },
  {
   "cell_type": "markdown",
   "metadata": {},
   "source": [
    "# $\\int 10sin(x)dx = -10cos(x) + C$"
   ]
  },
  {
   "cell_type": "code",
   "execution_count": null,
   "metadata": {},
   "outputs": [],
   "source": []
  },
  {
   "cell_type": "markdown",
   "metadata": {},
   "source": [
    "# $\\int -25cos(x)dx = -25sin(x) + C$"
   ]
  },
  {
   "cell_type": "code",
   "execution_count": null,
   "metadata": {},
   "outputs": [],
   "source": []
  }
 ],
 "metadata": {
  "kernelspec": {
   "display_name": "Python 3",
   "language": "python",
   "name": "python3"
  },
  "language_info": {
   "codemirror_mode": {
    "name": "ipython",
    "version": 3
   },
   "file_extension": ".py",
   "mimetype": "text/x-python",
   "name": "python",
   "nbconvert_exporter": "python",
   "pygments_lexer": "ipython3",
   "version": "3.6.8"
  }
 },
 "nbformat": 4,
 "nbformat_minor": 2
}

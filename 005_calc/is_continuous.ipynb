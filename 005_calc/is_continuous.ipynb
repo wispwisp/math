{
 "cells": [
  {
   "cell_type": "code",
   "execution_count": null,
   "metadata": {},
   "outputs": [],
   "source": [
    "import pandas as pd\n",
    "import numpy as np\n",
    "\n",
    "# import seaborn as sns\n",
    "# import matplotlib.pyplot as plt\n",
    "\n",
    "# import matplotlib\n",
    "# matplotlib.pyplot.style.use('seaborn')\n",
    "# matplotlib.rcParams['figure.figsize'] = (15, 5)\n",
    "\n",
    "# %matplotlib inline\n",
    "# %pylab inline"
   ]
  },
  {
   "cell_type": "code",
   "execution_count": null,
   "metadata": {},
   "outputs": [],
   "source": [
    "from IPython.core.interactiveshell import InteractiveShell\n",
    "InteractiveShell.ast_node_interactivity = \"all\""
   ]
  },
  {
   "cell_type": "code",
   "execution_count": null,
   "metadata": {},
   "outputs": [],
   "source": [
    "from IPython.core.display import SVG"
   ]
  },
  {
   "cell_type": "code",
   "execution_count": null,
   "metadata": {},
   "outputs": [],
   "source": [
    "import math"
   ]
  },
  {
   "cell_type": "code",
   "execution_count": null,
   "metadata": {},
   "outputs": [],
   "source": []
  },
  {
   "cell_type": "markdown",
   "metadata": {},
   "source": [
    "# For $f$ to be continuous at $x=a$, we need $\\lim\\limits_{x \\to a} f(x)$ and $f(a)$ to exist and be equal."
   ]
  },
  {
   "cell_type": "code",
   "execution_count": null,
   "metadata": {},
   "outputs": [],
   "source": []
  },
  {
   "cell_type": "markdown",
   "metadata": {},
   "source": [
    "# $f(x) = \\left\\{\\begin{matrix}\n",
    "ln(-x + 3) & -3 \\ge x < 3 \\\\ \n",
    "ln(-x) + 3 & x < -3\n",
    "\\end{matrix}\\right.$\n",
    "\n",
    "is continuous at $x = -3$ ?\n",
    "\n",
    "1) $f(-3) = ln(-(-3) + 3) = ln(6)$ - EXISTS\n",
    "\n",
    "2) $\\lim_\\limits{x\\to -3^+} f(x) = \\lim_\\limits{x\\to -3^+} ln(-x + 3) = ln(6)$ - EXISTS\n",
    "\n",
    "3) $\\lim_\\limits{x\\to -3^-} f(x) = ln(-x) + 3$ - EXISTS\n",
    "\n",
    "Since the one-sided limits aren't equal, $\\lim$ doesn't exist and $f$ isn't continuous at $x=3$"
   ]
  },
  {
   "cell_type": "code",
   "execution_count": null,
   "metadata": {},
   "outputs": [],
   "source": []
  },
  {
   "cell_type": "markdown",
   "metadata": {},
   "source": [
    "# $g(x) = \\left\\{\\begin{matrix}\n",
    "sin(x) & x < 0 \\\\ \n",
    "x^2    & x \\ge 0\n",
    "\\end{matrix}\\right.$\n",
    "\n",
    "is continuous @$x = 0$\n",
    "\n",
    "1) $(0)^2 = 0$\n",
    "\n",
    "2) $\\lim_\\limits{x\\to0^+} g(x) = \\lim_\\limits{x\\to0^+} x^2 = 0$\n",
    "\n",
    "3) $\\lim_\\limits{x\\to0^-} g(x) = \\lim_\\limits{x\\to0^-} sin(x) = 0$"
   ]
  },
  {
   "cell_type": "code",
   "execution_count": null,
   "metadata": {},
   "outputs": [],
   "source": []
  }
 ],
 "metadata": {
  "kernelspec": {
   "display_name": "Python 3",
   "language": "python",
   "name": "python3"
  },
  "language_info": {
   "codemirror_mode": {
    "name": "ipython",
    "version": 3
   },
   "file_extension": ".py",
   "mimetype": "text/x-python",
   "name": "python",
   "nbconvert_exporter": "python",
   "pygments_lexer": "ipython3",
   "version": "3.6.8"
  }
 },
 "nbformat": 4,
 "nbformat_minor": 2
}

{
 "cells": [
  {
   "cell_type": "code",
   "execution_count": null,
   "metadata": {},
   "outputs": [],
   "source": [
    "import pandas as pd\n",
    "import numpy as np\n",
    "\n",
    "# import seaborn as sns\n",
    "# import matplotlib.pyplot as plt\n",
    "\n",
    "# import matplotlib\n",
    "# matplotlib.pyplot.style.use('seaborn')\n",
    "# matplotlib.rcParams['figure.figsize'] = (15, 5)\n",
    "\n",
    "# %matplotlib inline\n",
    "# %pylab inline"
   ]
  },
  {
   "cell_type": "code",
   "execution_count": null,
   "metadata": {},
   "outputs": [],
   "source": [
    "from IPython.core.interactiveshell import InteractiveShell\n",
    "InteractiveShell.ast_node_interactivity = \"all\""
   ]
  },
  {
   "cell_type": "code",
   "execution_count": null,
   "metadata": {},
   "outputs": [],
   "source": [
    "from IPython.core.display import SVG"
   ]
  },
  {
   "cell_type": "code",
   "execution_count": null,
   "metadata": {},
   "outputs": [],
   "source": [
    "import math"
   ]
  },
  {
   "cell_type": "code",
   "execution_count": null,
   "metadata": {},
   "outputs": [],
   "source": []
  },
  {
   "cell_type": "markdown",
   "metadata": {},
   "source": [
    "# Power rule\n",
    "\n",
    "### $\\frac{\\mathrm{d} y}{\\mathrm{d} x}\\left[ x^n \\right] = nx^{n-1}$\n",
    "\n",
    "---\n",
    "\n",
    "# Chain Rule\n",
    "\n",
    "### $\\frac{\\mathrm{d} y}{\\mathrm{d} x}\\left[ f(g(x)) \\right] = {f}'(g(x)) \\cdot {g}'(x)$\n",
    "\n",
    "---\n",
    "\n",
    "# Product rule\n",
    "\n",
    "### $\\frac{\\mathrm{d} y}{\\mathrm{d} x}\\left[ f(x)g(x) \\right] = {f}'(x)g(x) \\cdot f(x){g}'(x)$\n",
    "\n",
    "---\n",
    "\n",
    "# Quotient rule\n",
    "\n",
    "### $\\frac{\\mathrm{d} y}{\\mathrm{d} x}\\left[\\frac{f(x)}{g(x)}\\right] =\n",
    "\\frac{ {f}'(x) \\cdot g(x) - f(x) \\cdot {g}'(x) }{g(x)^2}$"
   ]
  },
  {
   "cell_type": "code",
   "execution_count": null,
   "metadata": {},
   "outputs": [],
   "source": []
  },
  {
   "cell_type": "markdown",
   "metadata": {},
   "source": [
    "# Average rate of change"
   ]
  },
  {
   "cell_type": "code",
   "execution_count": null,
   "metadata": {},
   "outputs": [],
   "source": [
    "interval =[2,4]\n",
    "\n",
    "dy = 2**(interval[1] + 1) - 2**(interval[0] + 1)\n",
    "\n",
    "dx = interval[1] - interval[0]\n",
    "\n",
    "dy/dx"
   ]
  },
  {
   "cell_type": "code",
   "execution_count": null,
   "metadata": {},
   "outputs": [],
   "source": []
  },
  {
   "cell_type": "markdown",
   "metadata": {},
   "source": [
    "# What is the absolute minimum value of f\n",
    "\n",
    "${f}'(x) = 0$"
   ]
  },
  {
   "cell_type": "code",
   "execution_count": null,
   "metadata": {},
   "outputs": [],
   "source": []
  },
  {
   "cell_type": "markdown",
   "metadata": {},
   "source": [
    "$f(x) = 3x^4 +4x^3 - 12x^2 +5$\n",
    "\n",
    "${f}'(x) = 12x^3 + 12x^2 - 24x$\n",
    "\n",
    "$12x^3 + 12x^2 - 24x = 0$\n",
    "\n",
    "$x(12x^2 + 12x - 24) = 0$\n",
    "\n",
    "$x(x^2 + x - 2) = 0$\n",
    "\n",
    "$ab = -2$\n",
    "\n",
    "$a + b = 1$\n",
    "\n",
    "$a = 2$\n",
    "\n",
    "$b = -1$\n",
    "\n",
    "$x(x+2)(x - 1) = 0$\n",
    "\n",
    "then roots are _(relative minima)_ :\n",
    "\n",
    "$x_1 = -2$\n",
    "\n",
    "$x_2 = 1$\n",
    "\n",
    "$x_3 = 0$\n",
    "\n",
    "find the smallest point:"
   ]
  },
  {
   "cell_type": "code",
   "execution_count": null,
   "metadata": {},
   "outputs": [],
   "source": [
    "def f(x):\n",
    "    return 3*(x**4) + 4*(x**3) - 12*(x**2) + 5\n",
    "\n",
    "f(-2)\n",
    "f(0)\n",
    "f(1)"
   ]
  },
  {
   "cell_type": "markdown",
   "metadata": {},
   "source": [
    "Check is it minimum::"
   ]
  },
  {
   "cell_type": "markdown",
   "metadata": {},
   "source": [
    "$(-\\inf, -2)$ - decreasing"
   ]
  },
  {
   "cell_type": "code",
   "execution_count": null,
   "metadata": {},
   "outputs": [],
   "source": [
    "f(-3)\n",
    "f(-2.9)\n",
    "f(-2.8)\n",
    "f(-2.5)\n",
    "f(-2)"
   ]
  },
  {
   "cell_type": "markdown",
   "metadata": {},
   "source": [
    "$(-2, 0)$ - increasing"
   ]
  },
  {
   "cell_type": "code",
   "execution_count": null,
   "metadata": {},
   "outputs": [],
   "source": [
    "f(-1.9)\n",
    "f(-1.5)\n",
    "f(-1)\n",
    "f(0)"
   ]
  },
  {
   "cell_type": "code",
   "execution_count": null,
   "metadata": {},
   "outputs": [],
   "source": []
  },
  {
   "cell_type": "markdown",
   "metadata": {},
   "source": [
    "# Examples:"
   ]
  },
  {
   "cell_type": "markdown",
   "metadata": {},
   "source": [
    "$y = cos\\left( 4x - \\frac{\\pi}{3} \\right)$\n",
    "\n",
    "$\\frac{dy}{dx}(x=\\frac{\\pi}{6}) = ?$\n",
    "\n",
    "---\n",
    "\n",
    "$\\frac{dy}{dx} = {f}'(g(x)) \\cdot {g}'(x)$\n",
    "\n",
    "$g(x) = 4x - \\frac{\\pi}{3}$\n",
    "\n",
    "${g}'(x) = 4$\n",
    "\n",
    "$\\frac{dy}{dx} = -sin(4x - \\frac{\\pi}{3}) \\cdot 4$\n",
    "\n",
    "---\n",
    "\n",
    "$\\frac{dy}{dx}(x=\\frac{\\pi}{6})$\n",
    "\n",
    "$-sin(\\frac{4\\pi}{6} - \\frac{\\pi}{3}) \\cdot 4$\n",
    "\n",
    "$-sin(\\frac{4\\pi}{6} - \\frac{2\\pi}{6}) \\cdot 4$\n",
    "\n",
    "$-sin(\\frac{\\pi}{3}) \\cdot 4$\n",
    "\n",
    "$-\\frac{\\sqrt{3}}{2} \\cdot 4$\n",
    "\n",
    "$-2\\sqrt{3}$"
   ]
  },
  {
   "cell_type": "code",
   "execution_count": null,
   "metadata": {},
   "outputs": [],
   "source": []
  },
  {
   "cell_type": "markdown",
   "metadata": {},
   "source": [
    "$g(x) = 2x^4 - x^3 + 6x^2$\n",
    "\n",
    "${g}'(1) = ?$\n",
    "\n",
    "---\n",
    "\n",
    "${g}'(x) = 8x^3 - 3x^2 + 12x$\n",
    "\n",
    "${g}'(1) = 8(1)^3 - 3(1)^3 + 12(1) = 8 - 3 + 12 = 17$"
   ]
  },
  {
   "cell_type": "code",
   "execution_count": null,
   "metadata": {},
   "outputs": [],
   "source": []
  },
  {
   "cell_type": "markdown",
   "metadata": {},
   "source": [
    "$\\frac{\\mathrm{d}}{\\mathrm{d} x}\\left[ 3^{2x - x^3} \\right] = ln(3)3^{2x - x^3} \\cdot (2 - 3x^2)$"
   ]
  },
  {
   "cell_type": "code",
   "execution_count": null,
   "metadata": {},
   "outputs": [],
   "source": []
  },
  {
   "cell_type": "markdown",
   "metadata": {},
   "source": [
    "$W(t) = 80(1-0.1t)^3$\n",
    "\n",
    "Use: chain rule, constant befor derivative,\n",
    "\n",
    "${W}'(t) = (80)(3)(1 - 0.1t)^2 \\cdot (-0.1)$\n",
    "\n",
    "${W}'(t) = 240(1 - (2)(0.1t) + (0.1t)^2) \\cdot (-0.1)$\n",
    "\n",
    "${W}'(t) = (240 - 48t + 2.4t^2) \\cdot (-0.1)$\n",
    "\n",
    "${W}'(t) = -24 + 4.8t - 0.24t^2$"
   ]
  },
  {
   "cell_type": "code",
   "execution_count": null,
   "metadata": {},
   "outputs": [],
   "source": [
    "t = 5\n",
    "\n",
    "# just evaluate\n",
    "-24 + 4.8*(t) - 0.24*(t**2)\n",
    "\n",
    "# open the brackets\n",
    "80*3*((1 -0.1*t)**2)*(-0.1)"
   ]
  },
  {
   "cell_type": "code",
   "execution_count": null,
   "metadata": {},
   "outputs": [],
   "source": []
  },
  {
   "cell_type": "markdown",
   "metadata": {},
   "source": [
    "# approximation by derivative"
   ]
  },
  {
   "cell_type": "markdown",
   "metadata": {},
   "source": [
    "Let g be a differentiable function with $g(-1)=5$ and ${g}'(-1) = 2$\n",
    "\n",
    "What is the value of the approximation of $g(-0.9)$\n",
    "\n",
    "Use derivative:\n",
    "\n",
    "$g(-1) + {g}'(-1) \\cdot (-0.9 - -1)$\n",
    "\n",
    "$5 + (2)(0.1)$\n",
    "\n",
    "$5 + (2)(0.1) = 5.2$\n",
    "\n",
    "### or:\n",
    "\n",
    "Let g be a differentiable function with $g(-1)=5$ and ${g}'(x) = 2$\n",
    "\n",
    "What is the value of the approximation of $g(-0.9)$\n",
    "\n",
    "Use derivative, find equation of tangent line (point slope form), (values from func, slope from derivative):\n",
    "\n",
    "$y - 5 = 2(x + 1)$\n",
    "\n",
    "$y - 5 = 2(-0.9 + 1)$\n",
    "\n",
    "$y = 2(0.1) + 5$\n",
    "\n",
    "$y = 5.2$"
   ]
  },
  {
   "cell_type": "code",
   "execution_count": null,
   "metadata": {},
   "outputs": [],
   "source": []
  }
 ],
 "metadata": {
  "kernelspec": {
   "display_name": "Python 3",
   "language": "python",
   "name": "python3"
  },
  "language_info": {
   "codemirror_mode": {
    "name": "ipython",
    "version": 3
   },
   "file_extension": ".py",
   "mimetype": "text/x-python",
   "name": "python",
   "nbconvert_exporter": "python",
   "pygments_lexer": "ipython3",
   "version": "3.6.8"
  }
 },
 "nbformat": 4,
 "nbformat_minor": 2
}

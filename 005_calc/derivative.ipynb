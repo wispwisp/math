{
 "cells": [
  {
   "cell_type": "code",
   "execution_count": null,
   "metadata": {},
   "outputs": [],
   "source": [
    "import pandas as pd\n",
    "import numpy as np\n",
    "\n",
    "# import seaborn as sns\n",
    "# import matplotlib.pyplot as plt\n",
    "\n",
    "# import matplotlib\n",
    "# matplotlib.pyplot.style.use('seaborn')\n",
    "# matplotlib.rcParams['figure.figsize'] = (15, 5)\n",
    "\n",
    "# %matplotlib inline\n",
    "# %pylab inline"
   ]
  },
  {
   "cell_type": "code",
   "execution_count": null,
   "metadata": {},
   "outputs": [],
   "source": [
    "from IPython.core.interactiveshell import InteractiveShell\n",
    "InteractiveShell.ast_node_interactivity = \"all\""
   ]
  },
  {
   "cell_type": "code",
   "execution_count": null,
   "metadata": {},
   "outputs": [],
   "source": [
    "from IPython.core.display import SVG"
   ]
  },
  {
   "cell_type": "code",
   "execution_count": null,
   "metadata": {},
   "outputs": [],
   "source": [
    "import math"
   ]
  },
  {
   "cell_type": "code",
   "execution_count": null,
   "metadata": {},
   "outputs": [],
   "source": []
  },
  {
   "cell_type": "markdown",
   "metadata": {},
   "source": [
    "# Quotient rule\n",
    "\n",
    "### $\\frac{\\mathrm{d} y}{\\mathrm{d} x}\\left[\\frac{f(x)}{g(x)}\\right] =\n",
    "\\frac{ {f}'(x) \\cdot g(x) - f(x) \\cdot {g}'(x) }{g(x)^2}$"
   ]
  },
  {
   "cell_type": "code",
   "execution_count": null,
   "metadata": {},
   "outputs": [],
   "source": []
  },
  {
   "cell_type": "markdown",
   "metadata": {},
   "source": [
    "# Average rate of change"
   ]
  },
  {
   "cell_type": "code",
   "execution_count": null,
   "metadata": {},
   "outputs": [],
   "source": [
    "interval =[2,4]\n",
    "\n",
    "dy = 2**(interval[1] + 1) - 2**(interval[0] + 1)\n",
    "\n",
    "dx = interval[1] - interval[0]\n",
    "\n",
    "dy/dx"
   ]
  },
  {
   "cell_type": "code",
   "execution_count": null,
   "metadata": {},
   "outputs": [],
   "source": []
  },
  {
   "cell_type": "markdown",
   "metadata": {},
   "source": [
    "# Ex:"
   ]
  },
  {
   "cell_type": "markdown",
   "metadata": {},
   "source": [
    "$y = cos\\left( 4x - \\frac{\\pi}{3} \\right)$\n",
    "\n",
    "$\\frac{dy}{dx}(x=\\frac{\\pi}{6}) = ?$\n",
    "\n",
    "---\n",
    "\n",
    "$\\frac{dy}{dx} = {f}'(g(x)) \\cdot {g}'(x)$\n",
    "\n",
    "$g(x) = 4x - \\frac{\\pi}{3}$\n",
    "\n",
    "${g}'(x) = 4$\n",
    "\n",
    "$\\frac{dy}{dx} = -sin(4x - \\frac{\\pi}{3}) \\cdot 4$\n",
    "\n",
    "---\n",
    "\n",
    "$\\frac{dy}{dx}(x=\\frac{\\pi}{6})$\n",
    "\n",
    "$-sin(\\frac{4\\pi}{6} - \\frac{\\pi}{3}) \\cdot 4$\n",
    "\n",
    "$-sin(\\frac{4\\pi}{6} - \\frac{2\\pi}{6}) \\cdot 4$\n",
    "\n",
    "$-sin(\\frac{\\pi}{3}) \\cdot 4$\n",
    "\n",
    "$-\\frac{\\sqrt{3}}{2} \\cdot 4$\n",
    "\n",
    "$-2\\sqrt{3}$"
   ]
  },
  {
   "cell_type": "code",
   "execution_count": null,
   "metadata": {},
   "outputs": [],
   "source": []
  },
  {
   "cell_type": "markdown",
   "metadata": {},
   "source": [
    "$g(x) = 2x^4 - x^3 + 6x^2$\n",
    "\n",
    "${g}'(1) = ?$\n",
    "\n",
    "---\n",
    "\n",
    "${g}'(x) = 8x^3 - 3x^2 + 12x$\n",
    "\n",
    "${g}'(1) = 8(1)^3 - 3(1)^3 + 12(1) = 8 - 3 + 12 = 17$"
   ]
  },
  {
   "cell_type": "code",
   "execution_count": null,
   "metadata": {},
   "outputs": [],
   "source": []
  }
 ],
 "metadata": {
  "kernelspec": {
   "display_name": "Python 3",
   "language": "python",
   "name": "python3"
  },
  "language_info": {
   "codemirror_mode": {
    "name": "ipython",
    "version": 3
   },
   "file_extension": ".py",
   "mimetype": "text/x-python",
   "name": "python",
   "nbconvert_exporter": "python",
   "pygments_lexer": "ipython3",
   "version": "3.6.8"
  }
 },
 "nbformat": 4,
 "nbformat_minor": 2
}

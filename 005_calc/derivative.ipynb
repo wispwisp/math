{
 "cells": [
  {
   "cell_type": "code",
   "execution_count": null,
   "metadata": {},
   "outputs": [],
   "source": [
    "import pandas as pd\n",
    "import numpy as np\n",
    "\n",
    "# import seaborn as sns\n",
    "# import matplotlib.pyplot as plt\n",
    "\n",
    "# import matplotlib\n",
    "# matplotlib.pyplot.style.use('seaborn')\n",
    "# matplotlib.rcParams['figure.figsize'] = (15, 5)\n",
    "\n",
    "# %matplotlib inline"
   ]
  },
  {
   "cell_type": "code",
   "execution_count": null,
   "metadata": {},
   "outputs": [],
   "source": [
    "from IPython.core.interactiveshell import InteractiveShell\n",
    "InteractiveShell.ast_node_interactivity = \"all\""
   ]
  },
  {
   "cell_type": "code",
   "execution_count": null,
   "metadata": {},
   "outputs": [],
   "source": [
    "from IPython.core.display import SVG"
   ]
  },
  {
   "cell_type": "code",
   "execution_count": null,
   "metadata": {},
   "outputs": [],
   "source": [
    "import math"
   ]
  },
  {
   "cell_type": "code",
   "execution_count": null,
   "metadata": {},
   "outputs": [],
   "source": []
  },
  {
   "cell_type": "markdown",
   "metadata": {},
   "source": [
    "# Power rule\n",
    "\n",
    "### $\\frac{\\mathrm{d} y}{\\mathrm{d} x}\\left[ x^n \\right] = nx^{n-1}$\n",
    "\n",
    "---\n",
    "\n",
    "# Chain Rule\n",
    "\n",
    "### $\\frac{\\mathrm{d} y}{\\mathrm{d} x}\\left[ f(g(x)) \\right] = {f}'(g(x)) \\cdot {g}'(x)$\n",
    "\n",
    "---\n",
    "\n",
    "# Product rule\n",
    "\n",
    "### $\\frac{\\mathrm{d} y}{\\mathrm{d} x}\\left[ f(x)g(x) \\right] = {f}'(x)g(x) + f(x){g}'(x)$\n",
    "\n",
    "---\n",
    "\n",
    "# Quotient rule\n",
    "\n",
    "### $\\frac{\\mathrm{d} y}{\\mathrm{d} x}\\left[\\frac{f(x)}{g(x)}\\right] =\n",
    "\\frac{ {f}'(x) \\cdot g(x) - f(x) \\cdot {g}'(x) }{g(x)^2}$"
   ]
  },
  {
   "cell_type": "code",
   "execution_count": null,
   "metadata": {},
   "outputs": [],
   "source": []
  },
  {
   "cell_type": "markdown",
   "metadata": {},
   "source": [
    "### * $\\frac{d}{dx}e^x = e^x$"
   ]
  },
  {
   "cell_type": "markdown",
   "metadata": {},
   "source": [
    "### * $\\frac{d}{dx}\\left[ x^{1 \\over 4} \\right] =\n",
    "\\frac{1}{4}x^{\\frac{1}{4} - 1} = \n",
    "\\frac{1}{4}x^{-\\frac{3}{4}} = \n",
    "\\frac{1}{4x^{3 \\over 4}}$"
   ]
  },
  {
   "cell_type": "code",
   "execution_count": null,
   "metadata": {},
   "outputs": [],
   "source": []
  },
  {
   "cell_type": "markdown",
   "metadata": {},
   "source": [
    "# Average rate of change"
   ]
  },
  {
   "cell_type": "code",
   "execution_count": null,
   "metadata": {},
   "outputs": [],
   "source": [
    "interval = [0, 2]\n",
    "\n",
    "def f(x):\n",
    "    return 3**(2*x)\n",
    "\n",
    "dy = f(interval[1]) - f(interval[0])\n",
    "dx = interval[1] - interval[0]\n",
    "\n",
    "dy/dx"
   ]
  },
  {
   "cell_type": "code",
   "execution_count": null,
   "metadata": {},
   "outputs": [],
   "source": []
  },
  {
   "cell_type": "markdown",
   "metadata": {},
   "source": [
    "# Tangent line\n",
    "\n",
    "$g(x) = x^3 - 5x^2$\n",
    "\n",
    "${g}'(x) = 3x^2 - 10x$\n",
    "\n",
    "$g(2) = (2)^3 - 5(2)^2 = 8 - 20 = -12$\n",
    "\n",
    "${g}'(2) = 3(2)^2 - 10(2) = 12 - 20 = -8$\n",
    "\n",
    "tangent line = $mx + b = (-8)x + b$\n",
    "\n",
    "$y = -8x + b$\n",
    "\n",
    "at specified point: $-12 = -8(2) + b$\n",
    "\n",
    "$b = -12 + 16 = 4$\n",
    "\n",
    "So equation of the line: $y = -8x + 4$"
   ]
  },
  {
   "cell_type": "code",
   "execution_count": null,
   "metadata": {},
   "outputs": [],
   "source": []
  },
  {
   "cell_type": "markdown",
   "metadata": {},
   "source": [
    "# approximation by derivative\n",
    "\n",
    "Let g be a differentiable function with $g(-1)=5$ and ${g}'(-1) = 2$\n",
    "\n",
    "What is the value of the approximation of $g(-0.9)$\n",
    "\n",
    "Use derivative:\n",
    "\n",
    "$g(-1) + {g}'(-1) \\cdot (-0.9 - -1)$\n",
    "\n",
    "$5 + (2)(0.1)$\n",
    "\n",
    "$5 + (2)(0.1) = 5.2$\n",
    "\n",
    "### or:\n",
    "\n",
    "Let g be a differentiable function with $g(-1)=5$ and ${g}'(x) = 2$\n",
    "\n",
    "What is the value of the approximation of $g(-0.9)$\n",
    "\n",
    "Use derivative, find equation of tangent line (point slope form), (values from func, slope from derivative):\n",
    "\n",
    "$y - 5 = 2(x + 1)$\n",
    "\n",
    "$y - 5 = 2(-0.9 + 1)$\n",
    "\n",
    "$y = 2(0.1) + 5$\n",
    "\n",
    "$y = 5.2$"
   ]
  },
  {
   "cell_type": "code",
   "execution_count": null,
   "metadata": {},
   "outputs": [],
   "source": []
  },
  {
   "cell_type": "markdown",
   "metadata": {},
   "source": [
    "# Implicit differentiation"
   ]
  },
  {
   "cell_type": "markdown",
   "metadata": {},
   "source": [
    "### $\\frac{d}{dx}\\left[ (x-y)^2 \\right] = \\frac{d}{dx}\\left[ x + y - 1 \\right]$\n",
    "\n",
    "Apply derivtive operator:\n",
    "\n",
    "$2(x-y)(1 - \\frac{dy}{dx}) = 1 + \\frac{dy}{dx}$\n",
    "\n",
    "$(2x - 2y) - (2x - 2y)\\frac{dy}{dx} = 1 + \\frac{dy}{dx}$\n",
    "\n",
    "$ -(2x - 2y)\\frac{dy}{dx} = 1 + \\frac{dy}{dx} - (2x - 2y)$\n",
    "\n",
    "$ -(2x - 2y)\\frac{dy}{dx} - \\frac{dy}{dx} = 1 - 2x + 2y$\n",
    "\n",
    "$ -2x\\frac{dy}{dx} + 2y\\frac{dy}{dx} - \\frac{dy}{dx} = 1 - 2x + 2y$\n",
    "\n",
    "$(-2x+2y-1)\\frac{dy}{dx} = 1 - 2x + 2y$\n",
    "\n",
    "$\\frac{dy}{dx} = \\frac{1 - 2x + 2y}{-2x+2y-1}$"
   ]
  },
  {
   "cell_type": "code",
   "execution_count": null,
   "metadata": {},
   "outputs": [],
   "source": []
  },
  {
   "cell_type": "markdown",
   "metadata": {},
   "source": [
    "$x^2 + y^2 = 1$\n",
    "\n",
    "Apply derivtive operator:\n",
    "\n",
    "$\\frac{d}{dx}\\left[ x^2 + y^2 \\right] = \\frac{d}{dx}\\left[ 1 \\right]$\n",
    "\n",
    "$\\frac{d}{dx}\\left[ x^2 \\right] + \\frac{d}{dx}\\left[ y^2 \\right] = 0$\n",
    "\n",
    "$2x + \\frac{d}{dx}\\left[ y^2 \\right] = 0$\n",
    "\n",
    "Use chain rule to find $dy$ with respect ro $dx$:\n",
    "\n",
    "$2x + \\frac{d}{dy}\\left[ y^2 \\right] \\cdot \\frac{dy}{dx} = 0$\n",
    "\n",
    "$2x + 2y \\cdot \\frac{dy}{dx} = 0$\n",
    "\n",
    "$2y \\cdot \\frac{dy}{dx} = -2x$\n",
    "\n",
    "$\\frac{dy}{dx} = \\frac{-2x}{2y} = -\\frac{x}{y}$"
   ]
  },
  {
   "cell_type": "code",
   "execution_count": null,
   "metadata": {},
   "outputs": [],
   "source": []
  },
  {
   "cell_type": "markdown",
   "metadata": {},
   "source": [
    "$x^2 + xy + y^3 = 0$\n",
    "\n",
    "$\\frac{d}{dx}\\left[ x^2 \\right] + \\frac{d}{dx}\\left[ xy \\right] + \\frac{d}{dx}\\left[ y^3 \\right]$\n",
    "\n",
    "$\\frac{d}{dx}\\left[ x^2 \\right] +\n",
    "y\\frac{d}{dx}\\left[ x \\right] + x\\frac{d}{dx}\\left[ y \\right]\n",
    "+ \\frac{d}{dx}\\left[ y^3 \\right]$\n",
    "\n",
    "$2x + y \\cdot 1 + x \\frac{d}{dy}\\left[ y \\right] \\cdot \\frac{dy}{dx}\n",
    "+ \\frac{d}{dx}\\left[ y^3 \\right]$\n",
    "\n",
    "$2x + y + x \\cdot 1 \\cdot \\frac{dy}{dx}+ \\frac{d}{dx}\\left[ y^3 \\right]$\n",
    "\n",
    "$2x + y + x \\cdot \\frac{dy}{dx} + 3y^2 \\cdot \\frac{dy}{dx}$\n",
    "\n",
    "$x\\frac{dy}{dx} + 3y^2 \\cdot \\frac{dy}{dx} = -2x - y$\n",
    "\n",
    "$\\frac{dy}{dx}(x + 3y^2) = -2x - y$\n",
    "\n",
    "$\\frac{dy}{dx} = \\frac{-2x - y}{x + 3y^2}$"
   ]
  },
  {
   "cell_type": "code",
   "execution_count": null,
   "metadata": {},
   "outputs": [],
   "source": []
  },
  {
   "cell_type": "markdown",
   "metadata": {},
   "source": [
    "$x^2 -3xy + y^2 = 1$\n",
    "\n",
    "$\\frac{d}{dx}\\left[ x^2 \\right] - \\frac{d}{dx}\\left[ 3xy \\right] + \\frac{d}{dx}\\left[ y^2 \\right] = \\frac{d}{dx}\\left[ 1 \\right]$\n",
    "\n",
    "$2x - 3\\frac{d}{dx}\\left[ xy \\right] + \\frac{d}{dy}\\left[ y^2 \\right] \\cdot \\frac{dy}{dx}= 0$\n",
    "\n",
    "$2x -\n",
    "3(y\\frac{d}{dx}\\left[ x \\right] + x\\frac{d}{dx}\\left[ y \\right])\n",
    "+ \\frac{d}{dy}\\left[ y^2 \\right] \\cdot \\frac{d}{dx}= 0$\n",
    "\n",
    "$2x -\n",
    "3(y + x\\frac{d}{dy}\\left[ y \\right] \\cdot \\frac{dy}{dx})\n",
    "+ \\frac{d}{dy}\\left[ y^2 \\right] \\cdot \\frac{dy}{dx}= 0$\n",
    "\n",
    "$2x - 3y - 3x\\frac{dy}{dx} + \\frac{d}{dy}\\left[ y^2 \\right] \\cdot \\frac{dy}{dx}= 0$\n",
    "\n",
    "$2x - 3y - 3x\\frac{dy}{dx} + 2y \\frac{dy}{dx}= 0$\n",
    "\n",
    "$\\frac{dy}{dx}(-3x + 2y) = -2x + 3y$\n",
    "\n",
    "$\\frac{dy}{dx} = \\frac{-2x + 3y}{-3x + 2y}$\n",
    "\n",
    "$\\frac{dy}{dx}(1, 0) = \\frac{-2(1) + 3(0)}{-3(1) + 2(0)} = \\frac{-2}{-3}$"
   ]
  },
  {
   "cell_type": "code",
   "execution_count": null,
   "metadata": {},
   "outputs": [],
   "source": []
  },
  {
   "cell_type": "markdown",
   "metadata": {},
   "source": [
    "# Some examples \n",
    "\n",
    "$\\frac{\\mathrm{d}}{\\mathrm{d} x}\\left[ 3^{2x - x^3} \\right] = ln(3)3^{2x - x^3} \\cdot (2 - 3x^2)$\n",
    "\n",
    "---\n",
    "\n",
    "$\\frac{\\mathrm{d}}{\\mathrm{d}x}\\left[ log_3(x - 4x^2) \\right] = \\frac{1}{ln(3)(x-4x^2)} \\cdot (1 - 8x)$\n",
    "\n",
    "---\n",
    "\n",
    "$\\frac{d}{dx}\\left[ (1+5x-x^2)^{\\frac{1}{4}} \\right] = \\frac{1}{4}(1+5x-x^2)^{\\frac{1}{4} - 1} \\cdot (5 - 2x)$\n",
    "\n",
    "---\n",
    "\n",
    "$\\frac{d}{dx}\\left[ arctan(3x) \\right] = \\frac{1}{1 + (3x)^2} \\cdot 3 = \\frac{3}{1 + 9x^2}$\n",
    "\n",
    "---\n",
    "\n",
    "$\\frac{d}{dx}\\left[ arccos(-2x) \\right] = -\\frac{1}{\\sqrt{1 - (-2x)^2}} \\cdot (-2) = \\frac{2}{\\sqrt{1 - 4x^2}}$\n",
    "\n",
    "---\n",
    "\n",
    "$\\frac{d}{dx}\\left[ arcsin(-4x) \\right] = \\frac{1}{\\sqrt{1 - (-4x)^2}} \\cdot (-4) = -\\frac{4}{\\sqrt{1 - 16x^2}}$\n",
    "\n",
    "---\n",
    "\n",
    "$\\frac{d}{dx}\\left[ arctan(-\\frac{x}{2}) \\right] = \\frac{1}{1 + (-\\frac{x}{2})^2} \\cdot (-\\frac{1}{2}) =\n",
    "-\\frac{1}{2(1 + \\frac{x^2}{4})} = -\\frac{1}{2 + \\frac{x^2}{2}}$"
   ]
  },
  {
   "cell_type": "code",
   "execution_count": null,
   "metadata": {},
   "outputs": [],
   "source": []
  },
  {
   "cell_type": "markdown",
   "metadata": {},
   "source": [
    "# Power rule Examples\n",
    "\n",
    "${(x^{5\\over2})}' = {((x^{1\\over2})^5)}' = 5(x^{1\\over2})^4 \\cdot \\frac{1}{2\\sqrt{x}}$\n",
    "\n",
    "---\n",
    "\n",
    "${(x^{-12})}' = -12x^{-13}$\n",
    "\n",
    "---\n",
    "\n",
    "${\\left(x^{2 \\over 3}\\right)}' =\n",
    "\\frac{d}{dx} \\left(\\sqrt[3]{x}\\right)^2 = 2\\sqrt[3]{x} \\cdot \\left( \\frac{1}{3}x^{-\\frac{2}{3}} \\right) =\n",
    "2\\sqrt[3]{x} \\cdot \\left( \\frac{1}{3\\sqrt[3]{x^2}} \\right) =\n",
    "\\frac{2\\sqrt[3]{x}}{3\\sqrt[3]{x^2}} =\n",
    "\\frac{2}{3\\sqrt[3]{x}}\n",
    "$\n",
    "\n",
    "---\n",
    "\n",
    "$\\frac{d}{dx}\\sqrt[3]{x^4} = \\frac{d}{dx}\\left(\\sqrt[3]{x}\\right)^{4} =\n",
    "4(\\sqrt[3]{x})^3 \\cdot \\left( \\frac{1}{3}x^{-\\frac{2}{3}} \\right) =\n",
    "4(\\sqrt[3]{x})^3 \\cdot \\left( \\frac{1}{3\\sqrt[3]{x^2}} \\right) =\n",
    "\\frac{4\\left(\\sqrt[3]{x}\\right)^3}{3\\left(\\sqrt[3]{x}\\right)^2} =\n",
    "\\frac{4\\sqrt[3]{x}}{3}\n",
    "$\n",
    "\n",
    "---\n",
    "\n",
    "$\\frac{d}{dx} \\sqrt{x^3} =\n",
    "\\frac{d}{dx} x^{3\\over2} =\n",
    "\\frac{d}{dx} \\left(x^{1\\over2}\\right)^3 = \n",
    "3\\left( x^{1\\over2} \\right)^2 \\cdot \\left(\\frac{1}{2}x^{-\\frac{1}{2}} \\right) =\n",
    "3\\left( x^{1\\over2} \\right)^2 \\cdot \\left(\\frac{1}{2x^{\\frac{1}{2}}} \\right) =\n",
    "\\frac{3\\left( x^{1\\over2} \\right)^2}{2x^{\\frac{1}{2}}} =\n",
    "\\frac{3x^{1\\over2}}{2}\n",
    "$"
   ]
  },
  {
   "cell_type": "code",
   "execution_count": null,
   "metadata": {},
   "outputs": [],
   "source": []
  },
  {
   "cell_type": "markdown",
   "metadata": {},
   "source": [
    "$W(t) = 80(1-0.1t)^3$\n",
    "\n",
    "Use: chain rule, constant befor derivative,\n",
    "\n",
    "${W}'(t) = (80)(3)(1 - 0.1t)^2 \\cdot (-0.1)$\n",
    "\n",
    "${W}'(t) = 240(1 - (2)(0.1t) + (0.1t)^2) \\cdot (-0.1)$\n",
    "\n",
    "${W}'(t) = (240 - 48t + 2.4t^2) \\cdot (-0.1)$\n",
    "\n",
    "${W}'(t) = -24 + 4.8t - 0.24t^2$"
   ]
  },
  {
   "cell_type": "code",
   "execution_count": null,
   "metadata": {},
   "outputs": [],
   "source": [
    "t = 5\n",
    "\n",
    "# just evaluate\n",
    "-24 + 4.8*(t) - 0.24*(t**2)\n",
    "\n",
    "# open the brackets\n",
    "80*3*((1 -0.1*t)**2)*(-0.1)"
   ]
  },
  {
   "cell_type": "code",
   "execution_count": null,
   "metadata": {},
   "outputs": [],
   "source": []
  }
 ],
 "metadata": {
  "kernelspec": {
   "display_name": "Python 3",
   "language": "python",
   "name": "python3"
  },
  "language_info": {
   "codemirror_mode": {
    "name": "ipython",
    "version": 3
   },
   "file_extension": ".py",
   "mimetype": "text/x-python",
   "name": "python",
   "nbconvert_exporter": "python",
   "pygments_lexer": "ipython3",
   "version": "3.6.8"
  }
 },
 "nbformat": 4,
 "nbformat_minor": 2
}

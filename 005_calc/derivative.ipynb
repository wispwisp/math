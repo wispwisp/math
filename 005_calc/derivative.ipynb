{
 "cells": [
  {
   "cell_type": "code",
   "execution_count": null,
   "metadata": {},
   "outputs": [],
   "source": [
    "import pandas as pd\n",
    "import numpy as np"
   ]
  },
  {
   "cell_type": "code",
   "execution_count": null,
   "metadata": {},
   "outputs": [],
   "source": [
    "import matplotlib.pyplot as plt\n",
    "import matplotlib\n",
    "matplotlib.pyplot.style.use('seaborn')\n",
    "%matplotlib inline"
   ]
  },
  {
   "cell_type": "code",
   "execution_count": null,
   "metadata": {},
   "outputs": [],
   "source": [
    "from IPython.core.interactiveshell import InteractiveShell\n",
    "InteractiveShell.ast_node_interactivity = \"all\""
   ]
  },
  {
   "cell_type": "code",
   "execution_count": null,
   "metadata": {},
   "outputs": [],
   "source": [
    "from IPython.core.display import SVG"
   ]
  },
  {
   "cell_type": "code",
   "execution_count": null,
   "metadata": {},
   "outputs": [],
   "source": [
    "import math"
   ]
  },
  {
   "cell_type": "code",
   "execution_count": null,
   "metadata": {},
   "outputs": [],
   "source": []
  },
  {
   "cell_type": "markdown",
   "metadata": {},
   "source": [
    "# $f' = \\frac{d}{dx}f = \\lim\\limits_{\\Delta x \\to 0} \\frac{f(x + \\Delta x) - f(x)}{\\Delta x}$"
   ]
  },
  {
   "cell_type": "code",
   "execution_count": null,
   "metadata": {},
   "outputs": [],
   "source": []
  },
  {
   "cell_type": "markdown",
   "metadata": {},
   "source": [
    "# $f'(a) = \\lim\\limits_{x \\to a} \\frac{f(x) - f(a)}{x - a}$"
   ]
  },
  {
   "cell_type": "code",
   "execution_count": null,
   "metadata": {},
   "outputs": [],
   "source": []
  },
  {
   "cell_type": "markdown",
   "metadata": {},
   "source": [
    "# Power rule\n",
    "\n",
    "### $\\frac{\\mathrm{d} y}{\\mathrm{d} x}\\left[ x^n \\right] = nx^{n-1}$\n",
    "\n",
    "---\n",
    "\n",
    "# Chain Rule\n",
    "\n",
    "### $\\frac{\\mathrm{d} y}{\\mathrm{d} x}\\left[ f(g(x)) \\right] = {f}'(g(x)) \\cdot {g}'(x)$\n",
    "\n",
    "---\n",
    "\n",
    "# Product rule\n",
    "\n",
    "### $\\frac{\\mathrm{d} y}{\\mathrm{d} x}\\left[ f(x)g(x) \\right] = {f}'(x)g(x) + f(x){g}'(x)$\n",
    "\n",
    "---\n",
    "\n",
    "# Quotient rule\n",
    "\n",
    "### $\\frac{\\mathrm{d} y}{\\mathrm{d} x}\\left[\\frac{f(x)}{g(x)}\\right] =\n",
    "\\frac{ {f}'(x) \\cdot g(x) - f(x) \\cdot {g}'(x) }{g(x)^2}$"
   ]
  },
  {
   "cell_type": "code",
   "execution_count": null,
   "metadata": {},
   "outputs": [],
   "source": []
  },
  {
   "cell_type": "code",
   "execution_count": null,
   "metadata": {},
   "outputs": [],
   "source": [
    "f = 2\n",
    "fp = 3\n",
    "\n",
    "g = -1\n",
    "gp = 4\n",
    "\n",
    "# Quotient rule\n",
    "((fp * g) - (f * gp)) / (g**2)\n",
    "\n",
    "# Product rule\n",
    "fp*g + f*gp"
   ]
  },
  {
   "cell_type": "code",
   "execution_count": null,
   "metadata": {},
   "outputs": [],
   "source": []
  },
  {
   "cell_type": "markdown",
   "metadata": {},
   "source": [
    "# Average rate of change"
   ]
  },
  {
   "cell_type": "code",
   "execution_count": null,
   "metadata": {},
   "outputs": [],
   "source": [
    "interval = [0, 2]\n",
    "\n",
    "def f(x):\n",
    "    return 3**(2*x)\n",
    "\n",
    "dy = f(interval[1]) - f(interval[0])\n",
    "dx = interval[1] - interval[0]\n",
    "\n",
    "dy/dx"
   ]
  },
  {
   "cell_type": "code",
   "execution_count": null,
   "metadata": {},
   "outputs": [],
   "source": []
  },
  {
   "cell_type": "markdown",
   "metadata": {},
   "source": [
    "# Slope\n",
    "\n",
    "${h}'(x) > 0$ means $h$ is increasing\n",
    "\n",
    "${h}'(x) < 0$ means $h$ is decreasing\n",
    "\n",
    "${h}''(x) > 0$ means the slope of $h$ is increasing ($h$ is concave up).\n",
    "\n",
    "${h}''(x) < 0$ means the slope of $h$ is decreasing ($h$ is concave down)."
   ]
  },
  {
   "cell_type": "code",
   "execution_count": null,
   "metadata": {},
   "outputs": [],
   "source": [
    "fig, ax = plt.subplots(2,2, sharex='col', figsize = (15, 10))\n",
    "\n",
    "xs = np.linspace(0.1, 1.5, 100)\n",
    "xs_inv = np.linspace(-1.5, -0.1, 100)\n",
    "\n",
    "ax[0][0].plot(xs, [-math.log(abs(x)) for x in xs_inv],\n",
    "              label=\"${h}'(x) > 0$ and ${h}''(x) > 0$, slope is increasing, concave up\");\n",
    "ax[0][0].legend()\n",
    "\n",
    "ax[0][1].plot(xs, [-math.log(x) for x in xs],\n",
    "              label=\"${h}'(x) < 0$ and ${h}''(x) > 0$, slope is decreasing, concave up\");\n",
    "ax[0][1].legend()\n",
    "\n",
    "ax[1][0].plot(xs, [math.log(x) for x in xs],\n",
    "              label=\"${h}'(x) > 0$ and ${h}''(x) < 0$, slope is increasing, concave down\");\n",
    "ax[1][0].legend()\n",
    "\n",
    "ax[1][1].plot(xs, [math.log(abs(x)) for x in xs_inv],\n",
    "              label=\"${h}'(x) < 0$ and ${h}''(x) < 0$, slope is decreasing, concave down\");\n",
    "ax[1][1].legend();"
   ]
  },
  {
   "cell_type": "code",
   "execution_count": null,
   "metadata": {},
   "outputs": [],
   "source": []
  },
  {
   "cell_type": "markdown",
   "metadata": {},
   "source": [
    "# Tangent line\n",
    "\n",
    "$g(x) = x^3 - 5x^2$\n",
    "\n",
    "${g}'(x) = 3x^2 - 10x$\n",
    "\n",
    "$g(2) = (2)^3 - 5(2)^2 = 8 - 20 = -12$\n",
    "\n",
    "${g}'(2) = 3(2)^2 - 10(2) = 12 - 20 = -8$\n",
    "\n",
    "tangent line = $mx + b = (-8)x + b$\n",
    "\n",
    "$y = -8x + b$\n",
    "\n",
    "at specified point: $-12 = -8(2) + b$\n",
    "\n",
    "$b = -12 + 16 = 4$\n",
    "\n",
    "So equation of the line: $y = -8x + 4$"
   ]
  },
  {
   "cell_type": "code",
   "execution_count": null,
   "metadata": {},
   "outputs": [],
   "source": []
  },
  {
   "cell_type": "markdown",
   "metadata": {},
   "source": [
    "# approximation by derivative\n",
    "\n",
    "Let g be a differentiable function with $g(-1)=5$ and ${g}'(-1) = 2$\n",
    "\n",
    "What is the value of the approximation of $g(-0.9)$\n",
    "\n",
    "Use derivative:\n",
    "\n",
    "$g(-1) + {g}'(-1) \\cdot (-0.9 - -1)$\n",
    "\n",
    "$5 + (2)(0.1)$\n",
    "\n",
    "$5 + (2)(0.1) = 5.2$\n",
    "\n",
    "### or:\n",
    "\n",
    "Let g be a differentiable function with $g(-1)=5$ and ${g}'(x) = 2$\n",
    "\n",
    "What is the value of the approximation of $g(-0.9)$\n",
    "\n",
    "Use derivative, find equation of tangent line (point slope form), (values from func, slope from derivative):\n",
    "\n",
    "$y - 5 = 2(x + 1)$\n",
    "\n",
    "$y - 5 = 2(-0.9 + 1)$\n",
    "\n",
    "$y = 2(0.1) + 5$\n",
    "\n",
    "$y = 5.2$"
   ]
  },
  {
   "cell_type": "code",
   "execution_count": null,
   "metadata": {},
   "outputs": [],
   "source": []
  },
  {
   "cell_type": "markdown",
   "metadata": {},
   "source": [
    "# Implicit differentiation"
   ]
  },
  {
   "cell_type": "markdown",
   "metadata": {},
   "source": [
    "### $\\frac{d}{dx}\\left[ (x-y)^2 \\right] = \\frac{d}{dx}\\left[ x + y - 1 \\right]$\n",
    "\n",
    "Apply derivtive operator:\n",
    "\n",
    "$2(x-y)(1 - \\frac{dy}{dx}) = 1 + \\frac{dy}{dx}$\n",
    "\n",
    "$(2x - 2y) - (2x - 2y)\\frac{dy}{dx} = 1 + \\frac{dy}{dx}$\n",
    "\n",
    "$ -(2x - 2y)\\frac{dy}{dx} = 1 + \\frac{dy}{dx} - (2x - 2y)$\n",
    "\n",
    "$ -(2x - 2y)\\frac{dy}{dx} - \\frac{dy}{dx} = 1 - 2x + 2y$\n",
    "\n",
    "$ -2x\\frac{dy}{dx} + 2y\\frac{dy}{dx} - \\frac{dy}{dx} = 1 - 2x + 2y$\n",
    "\n",
    "$(-2x+2y-1)\\frac{dy}{dx} = 1 - 2x + 2y$\n",
    "\n",
    "$\\frac{dy}{dx} = \\frac{1 - 2x + 2y}{-2x+2y-1}$"
   ]
  },
  {
   "cell_type": "code",
   "execution_count": null,
   "metadata": {},
   "outputs": [],
   "source": []
  },
  {
   "cell_type": "markdown",
   "metadata": {},
   "source": [
    "$x^2 + y^2 = 1$\n",
    "\n",
    "Apply derivtive operator:\n",
    "\n",
    "$\\frac{d}{dx}\\left[ x^2 + y^2 \\right] = \\frac{d}{dx}\\left[ 1 \\right]$\n",
    "\n",
    "$\\frac{d}{dx}\\left[ x^2 \\right] + \\frac{d}{dx}\\left[ y^2 \\right] = 0$\n",
    "\n",
    "$2x + \\frac{d}{dx}\\left[ y^2 \\right] = 0$\n",
    "\n",
    "Use chain rule to find $dy$ with respect ro $dx$:\n",
    "\n",
    "$2x + \\frac{d}{dy}\\left[ y^2 \\right] \\cdot \\frac{dy}{dx} = 0$\n",
    "\n",
    "$2x + 2y \\cdot \\frac{dy}{dx} = 0$\n",
    "\n",
    "$2y \\cdot \\frac{dy}{dx} = -2x$\n",
    "\n",
    "$\\frac{dy}{dx} = \\frac{-2x}{2y} = -\\frac{x}{y}$"
   ]
  },
  {
   "cell_type": "code",
   "execution_count": null,
   "metadata": {},
   "outputs": [],
   "source": []
  },
  {
   "cell_type": "markdown",
   "metadata": {},
   "source": [
    "$x^2 + xy + y^3 = 0$\n",
    "\n",
    "$\\frac{d}{dx}\\left[ x^2 \\right] + \\frac{d}{dx}\\left[ xy \\right] + \\frac{d}{dx}\\left[ y^3 \\right]$\n",
    "\n",
    "$\\frac{d}{dx}\\left[ x^2 \\right] +\n",
    "y\\frac{d}{dx}\\left[ x \\right] + x\\frac{d}{dx}\\left[ y \\right]\n",
    "+ \\frac{d}{dx}\\left[ y^3 \\right]$\n",
    "\n",
    "$2x + y \\cdot 1 + x \\frac{d}{dy}\\left[ y \\right] \\cdot \\frac{dy}{dx}\n",
    "+ \\frac{d}{dx}\\left[ y^3 \\right]$\n",
    "\n",
    "$2x + y + x \\cdot 1 \\cdot \\frac{dy}{dx}+ \\frac{d}{dx}\\left[ y^3 \\right]$\n",
    "\n",
    "$2x + y + x \\cdot \\frac{dy}{dx} + 3y^2 \\cdot \\frac{dy}{dx}$\n",
    "\n",
    "$x\\frac{dy}{dx} + 3y^2 \\cdot \\frac{dy}{dx} = -2x - y$\n",
    "\n",
    "$\\frac{dy}{dx}(x + 3y^2) = -2x - y$\n",
    "\n",
    "$\\frac{dy}{dx} = \\frac{-2x - y}{x + 3y^2}$"
   ]
  },
  {
   "cell_type": "code",
   "execution_count": null,
   "metadata": {},
   "outputs": [],
   "source": []
  },
  {
   "cell_type": "markdown",
   "metadata": {},
   "source": [
    "$x^2 -3xy + y^2 = 1$\n",
    "\n",
    "$\\frac{d}{dx}\\left[ x^2 \\right] - \\frac{d}{dx}\\left[ 3xy \\right] + \\frac{d}{dx}\\left[ y^2 \\right] = \\frac{d}{dx}\\left[ 1 \\right]$\n",
    "\n",
    "$2x - 3\\frac{d}{dx}\\left[ xy \\right] + \\frac{d}{dy}\\left[ y^2 \\right] \\cdot \\frac{dy}{dx}= 0$\n",
    "\n",
    "$2x -\n",
    "3(y\\frac{d}{dx}\\left[ x \\right] + x\\frac{d}{dx}\\left[ y \\right])\n",
    "+ \\frac{d}{dy}\\left[ y^2 \\right] \\cdot \\frac{d}{dx}= 0$\n",
    "\n",
    "$2x -\n",
    "3(y + x\\frac{d}{dy}\\left[ y \\right] \\cdot \\frac{dy}{dx})\n",
    "+ \\frac{d}{dy}\\left[ y^2 \\right] \\cdot \\frac{dy}{dx}= 0$\n",
    "\n",
    "$2x - 3y - 3x\\frac{dy}{dx} + \\frac{d}{dy}\\left[ y^2 \\right] \\cdot \\frac{dy}{dx}= 0$\n",
    "\n",
    "$2x - 3y - 3x\\frac{dy}{dx} + 2y \\frac{dy}{dx}= 0$\n",
    "\n",
    "$\\frac{dy}{dx}(-3x + 2y) = -2x + 3y$\n",
    "\n",
    "$\\frac{dy}{dx} = \\frac{-2x + 3y}{-3x + 2y}$\n",
    "\n",
    "$\\frac{dy}{dx}(1, 0) = \\frac{-2(1) + 3(0)}{-3(1) + 2(0)} = \\frac{-2}{-3}$"
   ]
  },
  {
   "cell_type": "code",
   "execution_count": null,
   "metadata": {},
   "outputs": [],
   "source": []
  },
  {
   "cell_type": "markdown",
   "metadata": {},
   "source": [
    "##### Implicit differentiation (Second derivative)"
   ]
  },
  {
   "cell_type": "markdown",
   "metadata": {},
   "source": [
    "$\\frac{d^2}{dx^2}\\left[ x^3 + y^2 = 24 \\right]$\n",
    "\n",
    "$\\frac{d}{dx}\\left[ x^3 \\right] + \\frac{d}{dx}\\left[ y^2 \\right] = \\frac{d}{dx}\\left[ 24 \\right]$\n",
    "\n",
    "$3x^2 + \\frac{d}{dy}\\left[ y^2 \\right] \\cdot \\frac{dy}{dx} = 0$\n",
    "\n",
    "$3x^2 + 2y \\frac{dy}{dx} = 0$\n",
    "\n",
    "$\\frac{dy}{dx} = -\\frac{3x^2}{2y}$\n",
    "\n",
    "---\n",
    "\n",
    "$\\frac{d^2y}{dx^2} = \\frac{d}{dx}\\left[ -\\frac{3x^2}{2y} \\right]$\n",
    "\n",
    "$\\frac{d^2y}{dx^2} = -\\frac{6x \\cdot 2y - 3x^2 \\cdot \\frac{d}{dx}\\left[ 2y \\right]}{4y^2}$\n",
    "\n",
    "$\\frac{d^2y}{dx^2} = -\\frac{12xy - 6x^2 \\frac{dy}{dx}}{4y^2}$\n",
    "\n",
    "$\\frac{d^2y}{dx^2} = -\\frac{6xy - 3x^2 \\frac{dy}{dx}}{2y^2}$\n",
    "\n",
    "$\\frac{d^2y}{dx^2} = -\\frac{6xy - 3x^2 \\left( \\frac{dy}{dx}=-\\frac{3x^2}{2y} \\right)}{2y^2}$\n",
    "\n",
    "$\\frac{d^2y}{dx^2} = -\\frac{6xy - 3x^2 \\left( -\\frac{3x^2}{2y} \\right)}{2y^2}$\n",
    "\n",
    "$\\frac{d^2y}{dx^2} = -\\frac{6xy - \\left( -\\frac{9x^4}{2y} \\right)}{2y^2}$\n",
    "\n",
    "$\\frac{d^2y}{dx^2} = -\\frac{\\left(6xy - \\left( -\\frac{9x^4}{2y} \\right)\\right) \\cdot(2y)}{2y^2 \\cdot(2y)}$\n",
    "\n",
    "$\\frac{d^2y}{dx^2} = -\\frac{12xy^2 + 9x^4}{4y^3}$"
   ]
  },
  {
   "cell_type": "code",
   "execution_count": null,
   "metadata": {},
   "outputs": [],
   "source": []
  },
  {
   "cell_type": "markdown",
   "metadata": {},
   "source": [
    "$x^4 + y^2 = 17$\n",
    "\n",
    "$\\frac{d^2y}{dx^2}\\left[ x^4 + y^2 = 17 \\right]$  @(-2,1)\n",
    "\n",
    "Find first derivative\n",
    "\n",
    "$\\frac{d}{dx}\\left[ x^4 + y^2 = 17 \\right]$\n",
    "\n",
    "$\\frac{d}{dx}\\left[ x^4 \\right] + \\frac{d}{dx}\\left[ y^2 \\right] = 0$\n",
    "\n",
    "$4x^3+ \\frac{d}{dy}\\left[ y^2 \\right] \\cdot \\frac{dy}{dx} = 0$\n",
    "\n",
    "$4x^3+ 2y \\frac{dy}{dx} = 0$\n",
    "\n",
    "$\\frac{dy}{dx} = -\\frac{4x^3}{2y}$\n",
    "\n",
    "$\\frac{dy}{dx} = -\\frac{2x^3}{y}$\n",
    "\n",
    "Find second derivative\n",
    "\n",
    "$\\frac{dy}{dx}\\left[ \\frac{dy}{dx} \\right] = \\frac{dy}{dx}\\left[-\\frac{2x^3}{y} \\right]$\n",
    "\n",
    "$\\frac{d^2y}{dx^2} = \\frac{dy}{dx}\\left[-\\frac{2x^3}{y} \\right]$\n",
    "\n",
    "$\\frac{d^2y}{dx^2} = -\\frac{\n",
    "\\frac{dy}{dx}\\left[2x^3 \\right] \\cdot y - 2x^3 \\cdot \\frac{dy}{dx}\\left[ y \\right]\n",
    "}{\n",
    "y^2\n",
    "}$\n",
    "\n",
    "$\\frac{d^2y}{dx^2} = -\\frac{\n",
    "6x^2y - 2x^3 \\cdot \\frac{dy}{dx}\n",
    "}{\n",
    "y^2\n",
    "}$\n",
    "\n",
    "$\\frac{d^2y}{dx^2} = -\\frac{\n",
    "6x^2y - 2x^3 \\cdot \\left( \\frac{dy}{dx}=-\\frac{2x^3}{y} \\right)\n",
    "}{\n",
    "y^2\n",
    "}$\n",
    "\n",
    "$\\frac{d^2y}{dx^2} = -\\frac{\n",
    "\\left(6x^2y - 2x^3 \\cdot \\left( -\\frac{2x^3}{y} \\right)\\right) \\cdot (y)\n",
    "}{\n",
    "y^2 \\cdot (y)\n",
    "}$\n",
    "\n",
    "$\\frac{d^2y}{dx^2} = -\\frac{\n",
    "6x^2y^2 - 2x^3 \\cdot -2x^3\n",
    "}{\n",
    "y^3\n",
    "}$\n",
    "\n",
    "$\\frac{d^2y}{dx^2} = -\\frac{\n",
    "6x^2y^2 + 4x^6\n",
    "}{\n",
    "y^3\n",
    "}$\n",
    "\n",
    "$@(-2, 1): -\\frac{6(-2)^2(1)^2 + 4(-2)^6}{(1)^3} = -280$"
   ]
  },
  {
   "cell_type": "code",
   "execution_count": null,
   "metadata": {},
   "outputs": [],
   "source": []
  },
  {
   "cell_type": "markdown",
   "metadata": {},
   "source": [
    "$\\frac{dy}{dx} = \\frac{sin(y)}{x}$\n",
    "\n",
    "$\\frac{d}{dx}\\left[ \\frac{dy}{dx} \\right] = \\frac{d}{dx}\\left[ \\frac{sin(y)}{x} \\right]$\n",
    "\n",
    "$\\frac{d^2y}{dx^2} = \\frac{\\frac{d}{dx}\\left[ sin(y) \\right]x - sin(y)x'}{x^2}$\n",
    "\n",
    "$\\frac{d^2y}{dx^2} = \\frac{\\frac{d}{dy}\\left[ sin(y) \\right] \\cdot \\frac{dy}{dx} \\cdot x - sin(y)}{x^2}$\n",
    "\n",
    "$\\frac{d^2y}{dx^2} = \\frac{cos(y)\\frac{dy}{dx}x - sin(y)}{x^2}$\n",
    "\n",
    "$\\frac{d^2y}{dx^2} = \\frac{xcos(y)\\left( \\frac{dy}{dx}=\\frac{sin(y)}{x} \\right) - sin(y)}{x^2}$\n",
    "\n",
    "$\\frac{d^2y}{dx^2} = \\frac{xcos(y)\\left( \\frac{sin(y)}{x} \\right) - sin(y)}{x^2}$\n",
    "\n",
    "$\\frac{d^2y}{dx^2} = \\frac{cos(y)sin(y) - sin(y)}{x^2}$\n",
    "\n",
    "$\\frac{d^2y}{dx^2} = \\frac{sin(y)(cos(y) - 1)}{x^2}$"
   ]
  },
  {
   "cell_type": "code",
   "execution_count": null,
   "metadata": {},
   "outputs": [],
   "source": []
  },
  {
   "cell_type": "markdown",
   "metadata": {},
   "source": [
    "$\\frac{dy}{dx} = e^{5y}$\n",
    "\n",
    "$\\frac{d^2y}{dx^2} = \\frac{dy}{dx}\\left[ e^{5y} \\right]$\n",
    "\n",
    "$\\frac{d^2y}{dx^2} = exp'(5y)$\n",
    "\n",
    "$\\frac{d^2y}{dx^2} = exp'(5y) \\cdot (5y)'$\n",
    "\n",
    "$\\frac{d^2y}{dx^2} = exp(5y) \\cdot 5 \\cdot \\frac{dy}{dx}$\n",
    "\n",
    "$\\frac{d^2y}{dx^2} = e^{5y} \\cdot 5 \\cdot \\left( \\frac{dy}{dx}=e^{5y} \\right)$\n",
    "\n",
    "$\\frac{d^2y}{dx^2} = 5e^{10y}$"
   ]
  },
  {
   "cell_type": "code",
   "execution_count": null,
   "metadata": {},
   "outputs": [],
   "source": []
  },
  {
   "cell_type": "markdown",
   "metadata": {},
   "source": [
    "# Some examples \n",
    "\n",
    "$\\frac{\\mathrm{d}}{\\mathrm{d} x}\\left[ 3^{2x - x^3} \\right] = ln(3)3^{2x - x^3} \\cdot (2 - 3x^2)$\n",
    "\n",
    "---\n",
    "\n",
    "$\\frac{\\mathrm{d}}{\\mathrm{d}x}\\left[ log_3(x - 4x^2) \\right] = \\frac{1}{ln(3)(x-4x^2)} \\cdot (1 - 8x)$\n",
    "\n",
    "---\n",
    "\n",
    "$\\frac{d}{dx}\\left[ (1+5x-x^2)^{\\frac{1}{4}} \\right] = \\frac{1}{4}(1+5x-x^2)^{\\frac{1}{4} - 1} \\cdot (5 - 2x)$\n",
    "\n",
    "---\n",
    "\n",
    "$\\frac{d}{dx}\\left[ arctan(3x) \\right] = \\frac{1}{1 + (3x)^2} \\cdot 3 = \\frac{3}{1 + 9x^2}$\n",
    "\n",
    "---\n",
    "\n",
    "$\\frac{d}{dx}\\left[ arccos(-2x) \\right] = -\\frac{1}{\\sqrt{1 - (-2x)^2}} \\cdot (-2) = \\frac{2}{\\sqrt{1 - 4x^2}}$\n",
    "\n",
    "---\n",
    "\n",
    "$\\frac{d}{dx}\\left[ arcsin(-4x) \\right] = \\frac{1}{\\sqrt{1 - (-4x)^2}} \\cdot (-4) = -\\frac{4}{\\sqrt{1 - 16x^2}}$\n",
    "\n",
    "---\n",
    "\n",
    "$\\frac{d}{dx}\\left[ arctan(-\\frac{x}{2}) \\right] = \\frac{1}{1 + (-\\frac{x}{2})^2} \\cdot (-\\frac{1}{2}) =\n",
    "-\\frac{1}{2(1 + \\frac{x^2}{4})} = -\\frac{1}{2 + \\frac{x^2}{2}}$\n",
    "\n",
    "---\n",
    "\n",
    "$\\frac{d}{dx}\\left[ \\frac{\\sqrt{x}}{cos(x)} \\right]\n",
    "=\n",
    "\\frac{\n",
    "\\frac{1}{2\\sqrt{x}} cos(x) + \\sqrt{x}sin(x)\n",
    "}{\n",
    "cos^2(x)\n",
    "}\n",
    "=\n",
    "\\frac{\n",
    "\\frac{1}{2\\sqrt{x}} cos(x) + \\sqrt{x}sin(x)\n",
    "}{\n",
    "cos^2(x)\n",
    "}\n",
    "\\cdot\n",
    "\\frac{2\\sqrt{x}}{2\\sqrt{x}}\n",
    "=\n",
    "\\frac{\n",
    "cos(x) + 2xsin(x)\n",
    "}{\n",
    "2\\sqrt{x}cos^2(x)\n",
    "}$"
   ]
  },
  {
   "cell_type": "code",
   "execution_count": null,
   "metadata": {},
   "outputs": [],
   "source": []
  },
  {
   "cell_type": "markdown",
   "metadata": {},
   "source": [
    "$\\frac{d}{dx}\\left[ sec^2(4x) \\right]$\n",
    "\n",
    "$\\frac{d}{dx}\\left[ (sec(4x))^2 \\right]$\n",
    "\n",
    "$2sec(4x) \\cdot (sec(4x))'$\n",
    "\n",
    "$2sec(4x) \\cdot tan(4x)sec(4x) \\cdot (4x)'$\n",
    "\n",
    "$2sec(4x) \\cdot tan(4x)sec(4x) \\cdot 4$\n",
    "\n",
    "$8tan(4x)sec^2(4x)$"
   ]
  },
  {
   "cell_type": "code",
   "execution_count": null,
   "metadata": {},
   "outputs": [],
   "source": []
  },
  {
   "cell_type": "markdown",
   "metadata": {},
   "source": [
    "# Power rule examples\n",
    "\n",
    "${(x^{5\\over2})}' = {((x^{1\\over2})^5)}' = 5(x^{1\\over2})^4 \\cdot \\frac{1}{2\\sqrt{x}}$\n",
    "\n",
    "---\n",
    "\n",
    "${(x^{-12})}' = -12x^{-13}$\n",
    "\n",
    "---\n",
    "\n",
    "${\\left(x^{2 \\over 3}\\right)}' =\n",
    "\\frac{d}{dx} \\left(\\sqrt[3]{x}\\right)^2 = 2\\sqrt[3]{x} \\cdot \\left( \\frac{1}{3}x^{-\\frac{2}{3}} \\right) =\n",
    "2\\sqrt[3]{x} \\cdot \\left( \\frac{1}{3\\sqrt[3]{x^2}} \\right) =\n",
    "\\frac{2\\sqrt[3]{x}}{3\\sqrt[3]{x^2}} =\n",
    "\\frac{2}{3\\sqrt[3]{x}}\n",
    "$\n",
    "\n",
    "---\n",
    "\n",
    "$\\frac{d}{dx}\\sqrt[3]{x^4} = \\frac{d}{dx}\\left(\\sqrt[3]{x}\\right)^{4} =\n",
    "4(\\sqrt[3]{x})^3 \\cdot \\left( \\frac{1}{3}x^{-\\frac{2}{3}} \\right) =\n",
    "4(\\sqrt[3]{x})^3 \\cdot \\left( \\frac{1}{3\\sqrt[3]{x^2}} \\right) =\n",
    "\\frac{4\\left(\\sqrt[3]{x}\\right)^3}{3\\left(\\sqrt[3]{x}\\right)^2} =\n",
    "\\frac{4\\sqrt[3]{x}}{3}\n",
    "$\n",
    "\n",
    "---\n",
    "\n",
    "$\\frac{d}{dx} \\sqrt{x^3} =\n",
    "\\frac{d}{dx} x^{3\\over2} =\n",
    "\\frac{d}{dx} \\left(x^{1\\over2}\\right)^3 = \n",
    "3\\left( x^{1\\over2} \\right)^2 \\cdot \\left(\\frac{1}{2}x^{-\\frac{1}{2}} \\right) =\n",
    "3\\left( x^{1\\over2} \\right)^2 \\cdot \\left(\\frac{1}{2x^{\\frac{1}{2}}} \\right) =\n",
    "\\frac{3\\left( x^{1\\over2} \\right)^2}{2x^{\\frac{1}{2}}} =\n",
    "\\frac{3x^{1\\over2}}{2}\n",
    "$"
   ]
  },
  {
   "cell_type": "code",
   "execution_count": null,
   "metadata": {},
   "outputs": [],
   "source": []
  },
  {
   "cell_type": "markdown",
   "metadata": {},
   "source": [
    "# Find second derivative"
   ]
  },
  {
   "cell_type": "markdown",
   "metadata": {},
   "source": [
    "$\\frac{d^2y}{dx^2}\\left[ log_{10}x \\right]$\n",
    "\n",
    "$log_ax = \\frac{log_cx}{log_ca}$\n",
    "\n",
    "$log_e x = ln(x)$\n",
    "\n",
    "$log_ax = \\frac{log_ex}{log_ea}$\n",
    "\n",
    "$log_ax = \\frac{ln(x)}{ln(a)}$\n",
    "\n",
    "$log_{10}x = \\frac{ln(x)}{ln(10)}$\n",
    "\n",
    "$\\frac{1}{ln(10)} \\cdot ln(x)$\n",
    "\n",
    "$\\frac{d}{dx}\\left[ \\frac{1}{ln(10)} \\cdot ln(x) \\right]$\n",
    "\n",
    "$\\frac{1}{ln(10)} \\cdot \\frac{d}{dx}\\left[ ln(x) \\right] = \\frac{1}{ln(10)} \\cdot \\frac{1}{x}$\n",
    "\n",
    "Second derivative:\n",
    "\n",
    "$\\frac{d}{dx}\\left[ \\frac{1}{ln(10)} \\cdot \\frac{1}{x} \\right]$\n",
    "\n",
    "$\\frac{d}{dx}\\left[ \\frac{1}{ln(10)} \\cdot x^{-1} \\right]$\n",
    "\n",
    "$\\frac{d}{dx}\\left[ \\frac{1}{ln(10)} \\cdot (-1)x^{-2} \\right]$\n",
    "\n",
    "$\\frac{d}{dx}\\left[ \\frac{1}{ln(10)} \\cdot (-1)\\frac{1}{x^2} \\right]$\n",
    "\n",
    "$-\\frac{1}{x^2ln(10)}$"
   ]
  },
  {
   "cell_type": "code",
   "execution_count": null,
   "metadata": {},
   "outputs": [],
   "source": []
  },
  {
   "cell_type": "markdown",
   "metadata": {},
   "source": [
    "# Differentiating related functions"
   ]
  },
  {
   "cell_type": "markdown",
   "metadata": {},
   "source": [
    "# $sin(x) + cos(y) = \\sqrt{2}$\n",
    "\n",
    "Given: $\\frac{dx}{dt} = 5$\n",
    "\n",
    "Find $\\frac{dy}{dt}$ when $y = \\frac{\\pi}{4}$\n",
    "\n",
    "---\n",
    "\n",
    "$\\frac{d}{dt}sin(x) + \\frac{d}{dt}cos(y) = \\frac{d}{dt}\\sqrt{2}$\n",
    "\n",
    "$\\frac{d}{dx}\\left[ sin(x) \\right] \\cdot \\frac{dx}{dt} +\n",
    "\\frac{d}{dy}\\left[ cos(y) \\right] \\cdot \\frac{dy}{dt}= 0$\n",
    "\n",
    "$cos(x) \\cdot \\frac{dx}{dt} -\n",
    "sin(y) \\cdot \\frac{dy}{dt}= 0$\n",
    "\n",
    "Insert given:\n",
    "\n",
    "$5cos(x) - sin(\\frac{\\pi}{4}) \\cdot \\frac{dy}{dt}= 0$\n",
    "\n",
    "---\n",
    "\n",
    "Find x (Use base equation):\n",
    "\n",
    "$sin(x) + cos(\\frac{\\pi}{4}) = \\sqrt{2}$\n",
    "\n",
    "$sin(x) + \\frac{\\sqrt{2}}{2} = \\sqrt{2}$\n",
    "\n",
    "$sin(x) = \\sqrt{2} - \\frac{\\sqrt{2}}{2}$\n",
    "\n",
    "$sin(x) = \\frac{2\\sqrt{2}}{2} - \\frac{\\sqrt{2}}{2}$\n",
    "\n",
    "$sin(x) = \\frac{\\sqrt{2}}{2}$\n",
    "\n",
    "$arcsin(sin(x)) = arcsin(\\frac{\\sqrt{2}}{2})$\n",
    "\n",
    "$x = \\frac{\\pi}{4}$\n",
    "\n",
    "---\n",
    "\n",
    "So:\n",
    "\n",
    "$5cos(x=\\frac{\\pi}{4}) - sin(\\frac{\\pi}{4}) \\cdot \\frac{dy}{dt}= 0$\n",
    "\n",
    "$5\\cdot \\frac{\\sqrt{2}}{2} - \\frac{\\sqrt{2}}{2} \\cdot \\frac{dy}{dt}= 0$\n",
    "\n",
    "$-\\frac{\\sqrt{2}}{2} \\cdot \\frac{dy}{dt}= -5\\cdot \\frac{\\sqrt{2}}{2}$\n",
    "\n",
    "$\\frac{dy}{dt}= 5$"
   ]
  },
  {
   "cell_type": "code",
   "execution_count": null,
   "metadata": {},
   "outputs": [],
   "source": []
  },
  {
   "cell_type": "markdown",
   "metadata": {},
   "source": [
    "$y^2 = 7x + 1$\n",
    "\n",
    "$\\frac{dx}{dt} = -3$\n",
    "\n",
    "Find $\\frac{dy}{dt}$ @ $y = 6$\n",
    "\n",
    "---\n",
    "\n",
    "$\\frac{d}{dt} y^2 = \\frac{d}{dt}\\left[ 7x + 1 \\right]$\n",
    "\n",
    "$\\frac{d}{dy} y^2 \\frac{dy}{dt} = \\frac{d}{dx}\\left[ 7x + 1 \\right] \\frac{dx}{dt}$\n",
    "\n",
    "$2y\\frac{dy}{dt} = 7\\frac{dx}{dt}$\n",
    "\n",
    "$2y\\frac{dy}{dt} = 7\\left( \\frac{dx}{dt}= -3 \\right)$\n",
    "\n",
    "$\\frac{dy}{dt} = -\\frac{21}{2y}$\n",
    "\n",
    "$\\frac{dy}{dt} = -\\frac{21}{2(y=6)}$\n",
    "\n",
    "$\\frac{dy}{dt} = -\\frac{21}{12} = -\\frac{7}{4}$"
   ]
  },
  {
   "cell_type": "code",
   "execution_count": null,
   "metadata": {},
   "outputs": [],
   "source": []
  },
  {
   "cell_type": "markdown",
   "metadata": {},
   "source": [
    "$\\frac{x}{y} = 9$\n",
    "\n",
    "$\\frac{dy}{dt} = -\\frac{2}{3}$\n",
    "\n",
    "$\\frac{dx}{dt}$ @ $x = 3$\n",
    "\n",
    "---\n",
    "\n",
    "$x = 9y, y\\ne0$\n",
    "\n",
    "$\\frac{d}{dt}x = \\frac{d}{dt}9y$\n",
    "\n",
    "$\\frac{d}{dx}x \\frac{dx}{dt} = \\frac{d}{dy}9y \\frac{dy}{dt}$\n",
    "\n",
    "$\\frac{dx}{dt} = 9\\frac{dy}{dt}$\n",
    "\n",
    "$\\frac{dx}{dt} = 9 \\left( \\frac{dy}{dt}=-\\frac{2}{3} \\right)$\n",
    "\n",
    "$\\frac{dx}{dt} = -9 \\cdot \\frac{2}{3} = -3 \\cdot \\frac{2}{1} = -6$"
   ]
  },
  {
   "cell_type": "code",
   "execution_count": null,
   "metadata": {},
   "outputs": [],
   "source": []
  },
  {
   "cell_type": "markdown",
   "metadata": {},
   "source": [
    "The radius of a sphere is decreasing at a rate of 1 meter per hour.\n",
    "\n",
    "At a certain instant, the radius is 4 meters.\n",
    "\n",
    "What is the rate of change of the volume of the sphere at that instant?\n",
    "\n",
    "$\\frac{dr}{dt} = -1$\n",
    "\n",
    "$r(t_0) = 4$\n",
    "\n",
    "$\\frac{dV}{dt}$ @ $t_0$\n",
    "\n",
    "---\n",
    "\n",
    "Use volume formula:\n",
    "\n",
    "$V = \\frac{4}{3}\\pi r^3$\n",
    "\n",
    "---\n",
    "\n",
    "$\\frac{d}{dt}V = \\frac{d}{dt}\\left[ \\frac{4}{3}\\pi r^3 \\right]$\n",
    "\n",
    "$\\frac{dV}{dt} = \\frac{4}{3}\\pi \\cdot \\frac{d}{dt}\\left[ r^3 \\right]$\n",
    "\n",
    "$\\frac{dV}{dt} = \\frac{4}{3}\\pi \\cdot \\frac{d}{dr}\\left[ r^3 \\right] \\frac{dr}{dt}$\n",
    "\n",
    "$\\frac{dV}{dt} = \\frac{4}{3}\\pi \\cdot 3r^2 \\frac{dr}{dt}$\n",
    "\n",
    "$\\frac{dV}{dt} = \\frac{4}{3}\\pi \\cdot 3(r = 4)^2 \\left( \\frac{dr}{dt}= -1 \\right)$\n",
    "\n",
    "$\\frac{dV}{dt} = -64\\pi$"
   ]
  },
  {
   "cell_type": "code",
   "execution_count": null,
   "metadata": {},
   "outputs": [],
   "source": []
  }
 ],
 "metadata": {
  "kernelspec": {
   "display_name": "Python 3",
   "language": "python",
   "name": "python3"
  },
  "language_info": {
   "codemirror_mode": {
    "name": "ipython",
    "version": 3
   },
   "file_extension": ".py",
   "mimetype": "text/x-python",
   "name": "python",
   "nbconvert_exporter": "python",
   "pygments_lexer": "ipython3",
   "version": "3.6.8"
  }
 },
 "nbformat": 4,
 "nbformat_minor": 2
}

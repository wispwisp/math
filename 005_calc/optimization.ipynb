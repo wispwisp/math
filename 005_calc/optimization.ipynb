{
 "cells": [
  {
   "cell_type": "code",
   "execution_count": null,
   "metadata": {},
   "outputs": [],
   "source": [
    "import pandas as pd\n",
    "import numpy as np\n",
    "\n",
    "import seaborn as sns\n",
    "import matplotlib.pyplot as plt\n",
    "\n",
    "# import matplotlib\n",
    "# matplotlib.pyplot.style.use('seaborn')\n",
    "# matplotlib.rcParams['figure.figsize'] = (15, 5)\n",
    "\n",
    "%matplotlib inline"
   ]
  },
  {
   "cell_type": "code",
   "execution_count": null,
   "metadata": {},
   "outputs": [],
   "source": [
    "from IPython.core.interactiveshell import InteractiveShell\n",
    "InteractiveShell.ast_node_interactivity = \"all\""
   ]
  },
  {
   "cell_type": "code",
   "execution_count": null,
   "metadata": {},
   "outputs": [],
   "source": [
    "# from IPython.core.display import SVG"
   ]
  },
  {
   "cell_type": "code",
   "execution_count": null,
   "metadata": {},
   "outputs": [],
   "source": [
    "import math"
   ]
  },
  {
   "cell_type": "code",
   "execution_count": null,
   "metadata": {},
   "outputs": [],
   "source": [
    "np.set_printoptions(precision=2, suppress=True)"
   ]
  },
  {
   "cell_type": "code",
   "execution_count": null,
   "metadata": {},
   "outputs": [],
   "source": []
  },
  {
   "cell_type": "markdown",
   "metadata": {},
   "source": [
    "What is the minimum possible value of $x^2+y^2$ given that their product has to be fixed at $xy = -16$\n",
    "\n",
    "$S = x^2 + y^2$\n",
    "\n",
    "$xy = -16$\n",
    "\n",
    "#### let's express $y$ in $x$:\n",
    "\n",
    "$y = \\frac{-16}{x}$\n",
    "\n",
    "#### Make $S$ as function:\n",
    "\n",
    "$S(x) = x^2 + (\\frac{-16}{x})^2$\n",
    "\n",
    "$S(x) = x^2 + 256x^{-2}$\n",
    "\n",
    "#### Minimize:\n",
    "\n",
    "$S'(x) = 2x - 512x^{-3}$\n",
    "\n",
    "#### Find critical points:\n",
    "\n",
    "* undefined: $x = 0$ ($x\\cdot y$ also became zero with contradict conditions of the problem)\n",
    "\n",
    "* find zero: $2x - 512x^{-3} = 0$\n",
    "\n",
    "$2x =  512x^{-3}$\n",
    "\n",
    "$(x^3)2x =  512x^{-3}(x^3)$\n",
    "\n",
    "$2x^4 =  512$\n",
    "\n",
    "$x^4 = 256$\n",
    "\n",
    "$x^2 = \\pm 16$\n",
    "\n",
    "$x = \\pm 4$\n",
    "\n",
    "#### Min/Max ?\n",
    "\n",
    "$S'' = 2 + 1536x^{-4}$\n",
    "\n",
    "$S''(\\pm4) = 8 \\rightarrow \\left[8 \\gt 0\\right] \\rightarrow$ concave up _(min)_"
   ]
  },
  {
   "cell_type": "code",
   "execution_count": null,
   "metadata": {},
   "outputs": [],
   "source": []
  },
  {
   "cell_type": "markdown",
   "metadata": {},
   "source": [
    "An open-topped glass aquarium with a _square base_ is designed to hold  $32$ cubic feet of water. What is the minimum possible exterior surface area of the aquarium\n",
    "\n",
    "$V = x^2h$\n",
    "\n",
    "$x^2h = 32$\n",
    "\n",
    "$h = \\frac{32}{x^2}$\n",
    "\n",
    "The total surface area  $S$ which is the sum of the areas of the base and four vertical walls\n",
    "\n",
    "$S = x^2 + 4xh$\n",
    "\n",
    "$S = x^2 + 4x\\frac{32}{x^2}$\n",
    "\n",
    "$S = x^2 + \\frac{128}{x}$\n",
    "\n",
    "$S' = 2x - \\frac{128}{x^2}$\n",
    "\n",
    "$S' = 2x - \\frac{128}{x^2}$\n",
    "\n",
    "#### Find critical points:\n",
    "\n",
    "* undefined: $x = 0$\n",
    "\n",
    "* find zero: $2x - \\frac{128}{x^2} = 0$\n",
    "\n",
    "$2x - \\frac{128}{x^2} = 0$\n",
    "\n",
    "$2x^3 - 128= 0$\n",
    "\n",
    "$2x^3 = 128$\n",
    "\n",
    "$x^3 = 64$\n",
    "\n",
    "$x = 4$\n",
    "\n",
    "#### Min/Max ?\n",
    "\n",
    "$S'' = 2 + 256x^{-3}$\n",
    "\n",
    "$S''(4) = 6 \\rightarrow \\left[8 \\gt 0\\right] \\rightarrow$ concave up _(min)_\n",
    "\n",
    "#### This makes the minimum surface area:\n",
    "\n",
    "$S(4) = (4)^2 + 4(4)\\frac{32}{(4)^2} = 16 + 32 = 48$"
   ]
  },
  {
   "cell_type": "code",
   "execution_count": null,
   "metadata": {},
   "outputs": [],
   "source": []
  },
  {
   "cell_type": "markdown",
   "metadata": {},
   "source": [
    "A piece of paper is to display $150$ square inches of text. If there are to be one-inch margins on the sides and the top and a two-inch margin at the bottom, what are the dimensions of the smallest piece of paper that can be used?\n",
    "\n",
    "Let $x$ be the width of the printed region. Then, the height of the printed area is $\\frac{150}{x}$:\n",
    "\n",
    "$xh = 150$\n",
    "\n",
    "$h = \\frac{150}{x}$\n",
    "\n",
    "With one inch side margins, the width of the paper is\n",
    "\n",
    "$w = x+2$\n",
    "\n",
    "With a one-inch margin at the top and two-inch margin at the bottom, the height of the paper is\n",
    "\n",
    "$h = \\frac{150}{x} + 3$\n",
    "\n",
    "The area of the paper is:\n",
    "\n",
    "$A = (x+2) \\cdot (\\frac{150}{x} + 3)$\n",
    "\n",
    "$A = 156 + 3x + \\frac{300}{x}$\n",
    "\n",
    "$A' = 3 - \\frac{300}{x^2}$\n",
    "\n",
    "$A'' = \\frac{600}{x^3}$\n",
    "\n",
    "#### Find critical points:\n",
    "\n",
    "* undefined: $x = 0$\n",
    "\n",
    "* find zero: $3 - \\frac{300}{x^2} = 0$\n",
    "\n",
    " $\\frac{300}{x^2} = 3$\n",
    "\n",
    " $300 = 3x^2$\n",
    "\n",
    "$x^2 = 100$\n",
    "\n",
    "$x = \\pm 10$ _(Choose $x > 0$, because of task restrictions)_\n",
    "\n",
    "#### Min/Max ?\n",
    "\n",
    "$A''(10) = 2 \\rightarrow \\left[2 \\gt 0\\right] \\rightarrow$ concave up _(min)_\n",
    "\n",
    "---\n",
    "\n",
    "$w = 10 + 2 = 12$\n",
    "\n",
    "$h = \\frac{150}{10} + 3 = 15 + 3 = 18$\n",
    "\n",
    "$\\rightarrow 12x18$"
   ]
  },
  {
   "cell_type": "code",
   "execution_count": null,
   "metadata": {},
   "outputs": [],
   "source": []
  }
 ],
 "metadata": {
  "kernelspec": {
   "display_name": "Python 3",
   "language": "python",
   "name": "python3"
  },
  "language_info": {
   "codemirror_mode": {
    "name": "ipython",
    "version": 3
   },
   "file_extension": ".py",
   "mimetype": "text/x-python",
   "name": "python",
   "nbconvert_exporter": "python",
   "pygments_lexer": "ipython3",
   "version": "3.6.8"
  }
 },
 "nbformat": 4,
 "nbformat_minor": 2
}

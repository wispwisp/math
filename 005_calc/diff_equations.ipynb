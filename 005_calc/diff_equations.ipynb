{
 "cells": [
  {
   "cell_type": "code",
   "execution_count": null,
   "metadata": {},
   "outputs": [],
   "source": [
    "import pandas as pd\n",
    "import numpy as np\n",
    "\n",
    "# import seaborn as sns\n",
    "# import matplotlib.pyplot as plt\n",
    "\n",
    "# import matplotlib\n",
    "# matplotlib.pyplot.style.use('seaborn')\n",
    "# matplotlib.rcParams['figure.figsize'] = (15, 5)\n",
    "\n",
    "# %matplotlib inline\n",
    "# %pylab inline"
   ]
  },
  {
   "cell_type": "code",
   "execution_count": null,
   "metadata": {},
   "outputs": [],
   "source": [
    "from IPython.core.interactiveshell import InteractiveShell\n",
    "InteractiveShell.ast_node_interactivity = \"all\""
   ]
  },
  {
   "cell_type": "code",
   "execution_count": null,
   "metadata": {},
   "outputs": [],
   "source": [
    "from IPython.core.display import SVG"
   ]
  },
  {
   "cell_type": "code",
   "execution_count": null,
   "metadata": {},
   "outputs": [],
   "source": [
    "import math"
   ]
  },
  {
   "cell_type": "code",
   "execution_count": null,
   "metadata": {},
   "outputs": [],
   "source": []
  },
  {
   "cell_type": "markdown",
   "metadata": {},
   "source": [
    "# Verifying solutions to differential equations"
   ]
  },
  {
   "cell_type": "markdown",
   "metadata": {},
   "source": [
    "### $\\frac{\\mathrm{d} y}{\\mathrm{d} x} = \\frac{4y}{x}$\n",
    "\n",
    "* Is $y = 4x$ solution ?\n",
    "\n",
    "$\\frac{dy}{dx} = 4$\n",
    "\n",
    "$4 = \\frac{4(4x)}{x}$ Not equal!\n",
    "\n",
    "* Is $y = x^4$ solution ?\n",
    "\n",
    "$\\frac{dy}{dx} = 4x^3$\n",
    "\n",
    "$4x^3 = \\frac{4(x^4)}{x}$\n",
    "\n",
    "$4x^3 = 3x^3$ - Equal. One of the solutions"
   ]
  },
  {
   "cell_type": "code",
   "execution_count": null,
   "metadata": {},
   "outputs": [],
   "source": []
  },
  {
   "cell_type": "markdown",
   "metadata": {},
   "source": [
    "${y}' = xy^2$\n",
    "\n",
    "Is $y = \\frac{2}{9+x^2}$ a solution ?\n",
    "\n",
    "${\\left( \\frac{2}{9+x^2} \\right)}' =\n",
    "\\frac{0 - 4x}{(9+x^2)^2} =\n",
    "-\\frac{4x}{81 + 18x^2 + x^4}\n",
    "$\n",
    "\n",
    "Now we substitute (${y}' = xy^2$):\n",
    "\n",
    "${y}' = x\\left( \\frac{2}{9+x^2} \\right)^2$\n",
    "\n",
    "$\n",
    "-\\frac{4x}{(9+x^2)^2} =\n",
    "\\frac{4x}{(9+x^2)^2}\n",
    "$\n",
    "\n",
    "Not equal !"
   ]
  },
  {
   "cell_type": "code",
   "execution_count": null,
   "metadata": {},
   "outputs": [],
   "source": []
  },
  {
   "cell_type": "markdown",
   "metadata": {},
   "source": [
    "# Particular solutions"
   ]
  },
  {
   "cell_type": "markdown",
   "metadata": {},
   "source": [
    "$f(7) = 40 +5e^7$\n",
    "\n",
    "${f}'(x) = 5e^x$\n",
    "\n",
    "$f(0) = ?$\n",
    "\n",
    "---\n",
    "\n",
    "$f(x) = \\int 5e^x dx$\n",
    "\n",
    "$f(x) = \\int 5e^x dx = 5\\int e^x dx = 5e^x + C$\n",
    "\n",
    "Find C: $5e^7 + C =  40 +5e^7$, So $C = 40$\n",
    "\n",
    "So: $f(x) = 40 +5e^x$\n",
    "\n",
    "$f(0) = 40 + 5e^0 = 45$"
   ]
  },
  {
   "cell_type": "code",
   "execution_count": null,
   "metadata": {},
   "outputs": [],
   "source": []
  },
  {
   "cell_type": "markdown",
   "metadata": {},
   "source": [
    "$f(5) = 24 - 7e^5$\n",
    "\n",
    "${f}'(x) = -7e^x$\n",
    "\n",
    "$f(0) = ?$\n",
    "\n",
    "---\n",
    "\n",
    "$f(x) = \\int -7e^x dx$\n",
    "\n",
    "$f(x) = -7e^x + C$\n",
    "\n",
    "$C = 24$\n",
    "\n",
    "$f(0) = 24 - 7e^0 = 24 - 7 = 17$"
   ]
  },
  {
   "cell_type": "code",
   "execution_count": null,
   "metadata": {},
   "outputs": [],
   "source": []
  }
 ],
 "metadata": {
  "kernelspec": {
   "display_name": "Python 3",
   "language": "python",
   "name": "python3"
  },
  "language_info": {
   "codemirror_mode": {
    "name": "ipython",
    "version": 3
   },
   "file_extension": ".py",
   "mimetype": "text/x-python",
   "name": "python",
   "nbconvert_exporter": "python",
   "pygments_lexer": "ipython3",
   "version": "3.6.8"
  }
 },
 "nbformat": 4,
 "nbformat_minor": 2
}

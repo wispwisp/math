{
 "cells": [
  {
   "cell_type": "code",
   "execution_count": null,
   "metadata": {},
   "outputs": [],
   "source": [
    "import pandas as pd\n",
    "import numpy as np\n",
    "\n",
    "# import seaborn as sns\n",
    "# import matplotlib.pyplot as plt\n",
    "\n",
    "# import matplotlib\n",
    "# matplotlib.pyplot.style.use('seaborn')\n",
    "# matplotlib.rcParams['figure.figsize'] = (15, 5)\n",
    "\n",
    "# %matplotlib inline\n",
    "# %pylab inline"
   ]
  },
  {
   "cell_type": "code",
   "execution_count": null,
   "metadata": {},
   "outputs": [],
   "source": [
    "from IPython.core.interactiveshell import InteractiveShell\n",
    "InteractiveShell.ast_node_interactivity = \"all\""
   ]
  },
  {
   "cell_type": "code",
   "execution_count": null,
   "metadata": {},
   "outputs": [],
   "source": [
    "from IPython.core.display import SVG"
   ]
  },
  {
   "cell_type": "code",
   "execution_count": null,
   "metadata": {},
   "outputs": [],
   "source": [
    "import math"
   ]
  },
  {
   "cell_type": "code",
   "execution_count": null,
   "metadata": {},
   "outputs": [],
   "source": []
  },
  {
   "cell_type": "markdown",
   "metadata": {},
   "source": [
    "# Verifying solutions to differential equations"
   ]
  },
  {
   "cell_type": "markdown",
   "metadata": {},
   "source": [
    "### $\\frac{\\mathrm{d} y}{\\mathrm{d} x} = \\frac{4y}{x}$\n",
    "\n",
    "* Is $y = 4x$ solution ?\n",
    "\n",
    "$\\frac{dy}{dx} = 4$\n",
    "\n",
    "$4 = \\frac{4(4x)}{x}$ Not equal!\n",
    "\n",
    "* Is $y = x^4$ solution ?\n",
    "\n",
    "$\\frac{dy}{dx} = 4x^3$\n",
    "\n",
    "$4x^3 = \\frac{4(x^4)}{x}$\n",
    "\n",
    "$4x^3 = 3x^3$ - Equal. One of the solutions"
   ]
  },
  {
   "cell_type": "code",
   "execution_count": null,
   "metadata": {},
   "outputs": [],
   "source": []
  },
  {
   "cell_type": "markdown",
   "metadata": {},
   "source": [
    "${y}' = xy^2$\n",
    "\n",
    "Is $y = \\frac{2}{9+x^2}$ a solution ?\n",
    "\n",
    "${\\left( \\frac{2}{9+x^2} \\right)}' =\n",
    "\\frac{0 - 4x}{(9+x^2)^2} =\n",
    "-\\frac{4x}{81 + 18x^2 + x^4}\n",
    "$\n",
    "\n",
    "Now we substitute (${y}' = xy^2$):\n",
    "\n",
    "${y}' = x\\left( \\frac{2}{9+x^2} \\right)^2$\n",
    "\n",
    "$\n",
    "-\\frac{4x}{(9+x^2)^2} =\n",
    "\\frac{4x}{(9+x^2)^2}\n",
    "$\n",
    "\n",
    "Not equal !"
   ]
  },
  {
   "cell_type": "code",
   "execution_count": null,
   "metadata": {},
   "outputs": [],
   "source": []
  },
  {
   "cell_type": "markdown",
   "metadata": {},
   "source": [
    "${y}' = 0.5(100 - y)$\n",
    "\n",
    "Is $y = 5e^{-0.5x} + 100$ a solution ?\n",
    "\n",
    "${\\left( 5e^{-0.5x} + 100 \\right)}' =\n",
    "5e^{-0.5x} \\cdot (-0.5x)' = -2.5e^{-0.5x}\n",
    "$\n",
    "\n",
    "Now we substitute ($y = 5e^{-0.5x} + 100$):\n",
    "\n",
    "${y}' = 0.5(100 - (5e^{-0.5x} + 100))$\n",
    "\n",
    "$-2.5e^{-0.5x} = 0.5(100 - (5e^{-0.5x} + 100))$\n",
    "\n",
    "$-2.5e^{-0.5x} = 0.5(100 - 5e^{-0.5x} - 100)$\n",
    "\n",
    "$-2.5e^{-0.5x} = 0.5(-5e^{-0.5x})$\n",
    "\n",
    "$-2.5e^{-0.5x} = -2.5e^{-0.5x}$"
   ]
  },
  {
   "cell_type": "code",
   "execution_count": null,
   "metadata": {},
   "outputs": [],
   "source": []
  },
  {
   "cell_type": "markdown",
   "metadata": {},
   "source": [
    "${f}'(x) = \\frac{3f(x)}{xln(x)}$\n",
    "\n",
    "is $f(x) = 2(ln(x))^3$ a solution ?\n",
    "\n",
    "$\\frac{d}{dx}\\left[ 2(ln(x))^3 \\right] = 2(3ln(x)^2 \\cdot \\frac{1}{x}) = \\frac{6ln(x)^2}{x}$\n",
    "\n",
    "$\\frac{6ln(x)^2}{x} =?= \\frac{3(2ln(x)^3)}{xln(x)}$\n",
    "\n",
    "$\\frac{6ln(x)^2}{x} \\cdot \\frac{ln(x)}{ln(x)} = \\frac{3(2ln(x)^3)}{xln(x)}$ Yes its a solution"
   ]
  },
  {
   "cell_type": "code",
   "execution_count": null,
   "metadata": {},
   "outputs": [],
   "source": []
  },
  {
   "cell_type": "markdown",
   "metadata": {},
   "source": [
    "$\\frac{dy}{dx} = -\\frac{x}{y}$\n",
    "\n",
    "is $y = \\sqrt{10 - x}$ a solution ?\n",
    "\n",
    "Use:\n",
    "\n",
    "* ${(\\sqrt[n]{x})}' = \\frac{1}{n \\cdot \\sqrt[n]{x^{n-1}}}$\n",
    "\n",
    "* $\\frac{\\mathrm{d} y}{\\mathrm{d} x}\\left[ f(g(x)) \\right] = {f}'(g(x)) \\cdot {g}'(x)$\n",
    "\n",
    "$\\frac{d}{dx}\\left[ \\sqrt{10 - x} \\right] = -\\frac{1}{2\\sqrt{10 - x}}$\n",
    "\n",
    "$-\\frac{1}{2\\sqrt{10 - x}} == -\\frac{x}{\\sqrt{10 - x}}$ Not a solution"
   ]
  },
  {
   "cell_type": "code",
   "execution_count": null,
   "metadata": {},
   "outputs": [],
   "source": []
  },
  {
   "cell_type": "markdown",
   "metadata": {},
   "source": [
    "# Particular solutions"
   ]
  },
  {
   "cell_type": "markdown",
   "metadata": {},
   "source": [
    "$f(7) = 40 +5e^7$\n",
    "\n",
    "${f}'(x) = 5e^x$\n",
    "\n",
    "$f(0) = ?$\n",
    "\n",
    "---\n",
    "\n",
    "$f(x) = \\int 5e^x dx$\n",
    "\n",
    "$f(x) = \\int 5e^x dx = 5\\int e^x dx = 5e^x + C$\n",
    "\n",
    "Find C: $5e^7 + C =  40 +5e^7$, So $C = 40$\n",
    "\n",
    "So: $f(x) = 40 +5e^x$\n",
    "\n",
    "$f(0) = 40 + 5e^0 = 45$"
   ]
  },
  {
   "cell_type": "code",
   "execution_count": null,
   "metadata": {},
   "outputs": [],
   "source": []
  },
  {
   "cell_type": "markdown",
   "metadata": {},
   "source": [
    "$f(5) = 24 - 7e^5$\n",
    "\n",
    "${f}'(x) = -7e^x$\n",
    "\n",
    "$f(0) = ?$\n",
    "\n",
    "---\n",
    "\n",
    "$f(x) = \\int -7e^x dx$\n",
    "\n",
    "$f(x) = -7e^x + C$\n",
    "\n",
    "$C = 24$\n",
    "\n",
    "$f(0) = 24 - 7e^0 = 24 - 7 = 17$"
   ]
  },
  {
   "cell_type": "code",
   "execution_count": null,
   "metadata": {},
   "outputs": [],
   "source": []
  },
  {
   "cell_type": "markdown",
   "metadata": {},
   "source": [
    "# differential equation solved using separation of variables"
   ]
  },
  {
   "cell_type": "markdown",
   "metadata": {},
   "source": [
    "For an equation to be solvable using separation of variables, we need to be able to bring it to the form\n",
    "\n",
    "$\\frac{dy}{dx} = f(x)g(y)$\n",
    "\n",
    "In this form, $f(x)$ doesn't include $y$ and $g(y)$ doesn't include $x$. Notice that we must multiply, not add."
   ]
  },
  {
   "cell_type": "markdown",
   "metadata": {},
   "source": [
    "$\\frac{dy}{dx} = \\frac{sin(y) + y}{4x + 7}$\n",
    "\n",
    "$dy\\frac{1}{sin(y) + y} = \\frac{1}{4x + 7}dx$"
   ]
  },
  {
   "cell_type": "code",
   "execution_count": null,
   "metadata": {},
   "outputs": [],
   "source": []
  },
  {
   "cell_type": "markdown",
   "metadata": {},
   "source": [
    "# Modeling Exponential models\n",
    "\n",
    "Let $V(t)$ model the value after $t$ time points.\n",
    "\n",
    "We are told that the rate of change of $V$ is proportional to $V$:\n",
    "\n",
    "$\\frac{dV}{dt} = KV$\n",
    "\n",
    "$\\frac{1}{V}dV = Kdt$\n",
    "\n",
    "$\\int \\frac{1}{V}dV = \\int K dt$\n",
    "\n",
    "$ln(|V|) + C_1 = Kt + C_2$\n",
    "\n",
    "$ln(|V|) = Kt + C$\n",
    "\n",
    "$e^{ln((|V|))} = e^{Kt + C}$\n",
    "\n",
    "$|V| = e^{Kt + C}$\n",
    "\n",
    "$|V| = e^{Kt} \\cdot e^C$\n",
    "\n",
    "$e^C$ can be any positive number, so $e^C \\rightarrow C$\n",
    "\n",
    "$|V| = e^{Kt} \\cdot C$\n",
    "\n",
    "$|V| = Ce^{Kt}$\n",
    "\n",
    "$V = \\pm Ce^{Kt}$ - choose $\\pm$ from problem conditions\n",
    "\n",
    "---"
   ]
  },
  {
   "cell_type": "code",
   "execution_count": null,
   "metadata": {},
   "outputs": [],
   "source": []
  },
  {
   "cell_type": "markdown",
   "metadata": {},
   "source": [
    "The value of a computer is decreasing at a rate that is proportional at any time to the value of the computer at that time.\n",
    "\n",
    "The computer is worth $850$ initially, and it is worth $306$ after 2 years.\n",
    "\n",
    "How much will the computer be worth after 5 years?\n",
    "\n",
    "$t = 0 \\rightarrow V = 850$\n",
    "\n",
    "$850 = Ce^{K \\cdot 0}$\n",
    "\n",
    "$850 = Ce^{0}$\n",
    "\n",
    "$C = 850$\n",
    "\n",
    "$V = 850e^{Kt}$\n",
    "\n",
    "---\n",
    "\n",
    "$t = 2 \\rightarrow V = 306$\n",
    "\n",
    "$306 = 850e^{K \\cdot 2}$\n",
    "\n",
    "$ln(306) = ln(850e^{2K})$\n",
    "\n",
    "$ln(306) = ln(850) + 2K$\n",
    "\n",
    "$ln\\left(\\frac{306}{850}\\right) =2K$\n",
    "\n",
    "$ln\\left(\\frac{306}{850}\\right) =2K$\n",
    "\n",
    "$K = -0.51$\n",
    "\n",
    "---\n",
    "\n",
    "$V = \\pm 850e^{-0.51t}$"
   ]
  },
  {
   "cell_type": "code",
   "execution_count": null,
   "metadata": {},
   "outputs": [],
   "source": []
  },
  {
   "cell_type": "markdown",
   "metadata": {},
   "source": [
    "During one time period, the price of rhodium increased at a rate that was proportional to the price of rhodium at that time.\n",
    "\n",
    "The price for an ounce of rhodium was $475$ initially, and it quadrupled every $25$ months.\n",
    "\n",
    "What was the price for an ounce of rhodium after $18$ months?\n",
    "\n",
    "$t = 0 \\rightarrow V = 475$\n",
    "\n",
    "$475 = Ce^{K \\cdot 0}$\n",
    "\n",
    "$475 = Ce^{0}$\n",
    "\n",
    "$C = 475$\n",
    "\n",
    "$V = 475e^{Kt}$\n",
    "\n",
    "---"
   ]
  },
  {
   "cell_type": "markdown",
   "metadata": {},
   "source": [
    "$t = 25 \\rightarrow V = quadrupled(475)$\n",
    "\n",
    "$t = 25 \\rightarrow V = 1900$\n",
    "\n",
    "\n",
    "$1900 = 475e^{25K}$\n",
    "\n",
    "$ln(1900) = ln(475e^{25K})$\n",
    "\n",
    "$ln(1900) = ln(475) + 25K$\n",
    "\n",
    "$ln\\left(\\frac{1900}{475}\\right) =25K$\n",
    "\n",
    "$K = $ `math.log(1900 / 475, math.e) / 25`\n",
    "\n",
    "---\n",
    "\n",
    "$V = \\pm 475e^{K \\cdot t}$"
   ]
  },
  {
   "cell_type": "code",
   "execution_count": null,
   "metadata": {},
   "outputs": [],
   "source": [
    "t = 18\n",
    "K = math.log(1900 / 475, math.e) / 25\n",
    "475 * math.e**(K * t)"
   ]
  },
  {
   "cell_type": "code",
   "execution_count": null,
   "metadata": {},
   "outputs": [],
   "source": []
  }
 ],
 "metadata": {
  "kernelspec": {
   "display_name": "Python 3",
   "language": "python",
   "name": "python3"
  },
  "language_info": {
   "codemirror_mode": {
    "name": "ipython",
    "version": 3
   },
   "file_extension": ".py",
   "mimetype": "text/x-python",
   "name": "python",
   "nbconvert_exporter": "python",
   "pygments_lexer": "ipython3",
   "version": "3.6.8"
  }
 },
 "nbformat": 4,
 "nbformat_minor": 2
}

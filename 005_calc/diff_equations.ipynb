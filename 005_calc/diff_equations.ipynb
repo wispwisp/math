{
 "cells": [
  {
   "cell_type": "code",
   "execution_count": null,
   "metadata": {},
   "outputs": [],
   "source": [
    "import pandas as pd\n",
    "import numpy as np\n",
    "\n",
    "# import seaborn as sns\n",
    "# import matplotlib.pyplot as plt\n",
    "\n",
    "# import matplotlib\n",
    "# matplotlib.pyplot.style.use('seaborn')\n",
    "# matplotlib.rcParams['figure.figsize'] = (15, 5)\n",
    "\n",
    "# %matplotlib inline\n",
    "# %pylab inline"
   ]
  },
  {
   "cell_type": "code",
   "execution_count": null,
   "metadata": {},
   "outputs": [],
   "source": [
    "from IPython.core.interactiveshell import InteractiveShell\n",
    "InteractiveShell.ast_node_interactivity = \"all\""
   ]
  },
  {
   "cell_type": "code",
   "execution_count": null,
   "metadata": {},
   "outputs": [],
   "source": [
    "from IPython.core.display import SVG"
   ]
  },
  {
   "cell_type": "code",
   "execution_count": null,
   "metadata": {},
   "outputs": [],
   "source": [
    "import math"
   ]
  },
  {
   "cell_type": "code",
   "execution_count": null,
   "metadata": {},
   "outputs": [],
   "source": []
  },
  {
   "cell_type": "markdown",
   "metadata": {},
   "source": [
    "# Quotient rule\n",
    "\n",
    "### $\\frac{\\mathrm{d} y}{\\mathrm{d} x}\\left[\\frac{f(x)}{g(x)}\\right] =\n",
    "\\frac{ {f}'(x) \\cdot g(x) - f(x) \\cdot {g}'(x) }{g(x)^2}$"
   ]
  },
  {
   "cell_type": "code",
   "execution_count": null,
   "metadata": {},
   "outputs": [],
   "source": []
  },
  {
   "cell_type": "markdown",
   "metadata": {},
   "source": [
    "# Verifying solutions to differential equations"
   ]
  },
  {
   "cell_type": "markdown",
   "metadata": {},
   "source": [
    "### $\\frac{\\mathrm{d} y}{\\mathrm{d} x} = \\frac{4y}{x}$\n",
    "\n",
    "* Is $y = 4x$ solution ?\n",
    "\n",
    "$\\frac{dy}{dx} = 4$\n",
    "\n",
    "$4 = \\frac{4(4x)}{x}$ Not equal!\n",
    "\n",
    "* Is $y = x^4$ solution ?\n",
    "\n",
    "$\\frac{dy}{dx} = 4x^3$\n",
    "\n",
    "$4x^3 = \\frac{4(x^4)}{x}$\n",
    "\n",
    "$4x^3 = 3x^3$ - Equal. One of the solutions"
   ]
  },
  {
   "cell_type": "code",
   "execution_count": null,
   "metadata": {},
   "outputs": [],
   "source": []
  },
  {
   "cell_type": "markdown",
   "metadata": {},
   "source": [
    "${y}' = xy^2$\n",
    "\n",
    "Is $y = \\frac{2}{9+x^2}$ a solution ?\n",
    "\n",
    "${\\left( \\frac{2}{9+x^2} \\right)}' =\n",
    "\\frac{0 - 4x}{(9+x^2)^2} =\n",
    "-\\frac{4x}{81 + 18x^2 + x^4}\n",
    "$\n",
    "\n",
    "Now we substitute (${y}' = xy^2$):\n",
    "\n",
    "${y}' = x\\left( \\frac{2}{9+x^2} \\right)^2$\n",
    "\n",
    "$\n",
    "-\\frac{4x}{(9+x^2)^2} =\n",
    "\\frac{4x}{(9+x^2)^2}\n",
    "$\n",
    "\n",
    "Not equal !"
   ]
  },
  {
   "cell_type": "code",
   "execution_count": null,
   "metadata": {},
   "outputs": [],
   "source": []
  }
 ],
 "metadata": {
  "kernelspec": {
   "display_name": "Python 3",
   "language": "python",
   "name": "python3"
  },
  "language_info": {
   "codemirror_mode": {
    "name": "ipython",
    "version": 3
   },
   "file_extension": ".py",
   "mimetype": "text/x-python",
   "name": "python",
   "nbconvert_exporter": "python",
   "pygments_lexer": "ipython3",
   "version": "3.6.8"
  }
 },
 "nbformat": 4,
 "nbformat_minor": 2
}

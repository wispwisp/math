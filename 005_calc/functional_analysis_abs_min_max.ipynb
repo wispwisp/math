{
 "cells": [
  {
   "cell_type": "code",
   "execution_count": null,
   "metadata": {},
   "outputs": [],
   "source": [
    "import pandas as pd\n",
    "import numpy as np\n",
    "\n",
    "import seaborn as sns\n",
    "import matplotlib.pyplot as plt\n",
    "plt.style.use('seaborn')\n",
    "\n",
    "%matplotlib inline"
   ]
  },
  {
   "cell_type": "code",
   "execution_count": null,
   "metadata": {},
   "outputs": [],
   "source": [
    "from IPython.core.interactiveshell import InteractiveShell\n",
    "InteractiveShell.ast_node_interactivity = \"all\""
   ]
  },
  {
   "cell_type": "code",
   "execution_count": null,
   "metadata": {},
   "outputs": [],
   "source": [
    "# from IPython.core.display import SVG"
   ]
  },
  {
   "cell_type": "code",
   "execution_count": null,
   "metadata": {},
   "outputs": [],
   "source": [
    "import math"
   ]
  },
  {
   "cell_type": "code",
   "execution_count": null,
   "metadata": {},
   "outputs": [],
   "source": [
    "np.set_printoptions(precision=2, suppress=True)"
   ]
  },
  {
   "cell_type": "markdown",
   "metadata": {},
   "source": [
    "$f = -3x^4 - 8x^3 -6x^2 + 1$\n",
    "\n",
    "$f' = -12x^3 - 24x^2 - 12x$\n",
    "\n",
    "$-12x(x^2 + 2x + 1)$\n",
    "\n",
    "$a + b = 2$\n",
    "\n",
    "$ab = 1$\n",
    "\n",
    "$(1, 1)$\n",
    "\n",
    "Critical points _(The critical points, of a function are the $x$ values where $f'(x) = 0$ or undefined)_:\n",
    "\n",
    "$x_1 = 0$\n",
    "\n",
    "$x_2 = -1$\n",
    "\n",
    "---\n",
    "\n",
    "Evalute derivative within critical points intervals _(Take any number within that interval)_:\n",
    "\n",
    "$(-\\infty, -1) \\rightarrow \\left[f'(-2)=24\\right] \\rightarrow \\left[24 \\gt 0\\right] \\rightarrow \\left[increasing\\right]$\n",
    "\n",
    "_(sign not changed - $-1$ not an extremum)_\n",
    "\n",
    "$(-1, 0) \\rightarrow \\left[f'(-\\frac{1}{2})=1.5\\right] \\rightarrow \\left[1.5 \\gt 0\\right] \\rightarrow \\left[increasing\\right]$\n",
    "\n",
    "_(sign changed - $0$ extremum point)_\n",
    "\n",
    "$(0, \\infty) \\rightarrow \\left[f'(1)=-48\\right] \\rightarrow \\left[-48 \\lt 0\\right] \\rightarrow \\left[decreasing\\right]$\n",
    "\n",
    "---\n",
    "\n",
    "Function reaches it maximum value @$x = 0$ and then goes down"
   ]
  },
  {
   "cell_type": "code",
   "execution_count": null,
   "metadata": {},
   "outputs": [],
   "source": [
    "def fp(x):\n",
    "    return (-12*(x**3)) - (24*x**2) - 12*x"
   ]
  },
  {
   "cell_type": "code",
   "execution_count": null,
   "metadata": {},
   "outputs": [],
   "source": [
    "fp(1)"
   ]
  },
  {
   "cell_type": "markdown",
   "metadata": {},
   "source": [
    "# Plot"
   ]
  },
  {
   "cell_type": "code",
   "execution_count": null,
   "metadata": {},
   "outputs": [],
   "source": [
    "def f(x):\n",
    "    return (-3)*x**4 - 8*x**3 - 6*x**2 + 1"
   ]
  },
  {
   "cell_type": "code",
   "execution_count": null,
   "metadata": {},
   "outputs": [],
   "source": [
    "interval = [-2, 1]"
   ]
  },
  {
   "cell_type": "code",
   "execution_count": null,
   "metadata": {},
   "outputs": [],
   "source": [
    "xs = np.linspace(interval[0], interval[1], 100)\n",
    "ys = [f(x) for x in xs]\n",
    "\n",
    "fig, ax = plt.subplots(1,1, sharex='col', figsize = (10, 5))\n",
    "ax.plot(xs, ys, color='blue');"
   ]
  },
  {
   "cell_type": "code",
   "execution_count": null,
   "metadata": {},
   "outputs": [],
   "source": []
  }
 ],
 "metadata": {
  "kernelspec": {
   "display_name": "Python 3",
   "language": "python",
   "name": "python3"
  },
  "language_info": {
   "codemirror_mode": {
    "name": "ipython",
    "version": 3
   },
   "file_extension": ".py",
   "mimetype": "text/x-python",
   "name": "python",
   "nbconvert_exporter": "python",
   "pygments_lexer": "ipython3",
   "version": "3.6.7"
  }
 },
 "nbformat": 4,
 "nbformat_minor": 2
}

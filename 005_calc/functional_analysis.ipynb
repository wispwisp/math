{
 "cells": [
  {
   "cell_type": "code",
   "execution_count": null,
   "metadata": {},
   "outputs": [],
   "source": [
    "import pandas as pd\n",
    "import numpy as np\n",
    "\n",
    "import seaborn as sns\n",
    "import matplotlib.pyplot as plt\n",
    "\n",
    "import matplotlib\n",
    "matplotlib.pyplot.style.use('seaborn')\n",
    "matplotlib.rcParams['figure.figsize'] = (15, 5)\n",
    "\n",
    "%matplotlib inline"
   ]
  },
  {
   "cell_type": "code",
   "execution_count": null,
   "metadata": {},
   "outputs": [],
   "source": [
    "from IPython.core.interactiveshell import InteractiveShell\n",
    "InteractiveShell.ast_node_interactivity = \"all\""
   ]
  },
  {
   "cell_type": "code",
   "execution_count": null,
   "metadata": {},
   "outputs": [],
   "source": [
    "from IPython.core.display import SVG"
   ]
  },
  {
   "cell_type": "code",
   "execution_count": null,
   "metadata": {},
   "outputs": [],
   "source": [
    "import math"
   ]
  },
  {
   "cell_type": "code",
   "execution_count": null,
   "metadata": {},
   "outputs": [],
   "source": [
    "np.set_printoptions(precision=2, suppress=True)"
   ]
  },
  {
   "cell_type": "code",
   "execution_count": null,
   "metadata": {},
   "outputs": [],
   "source": []
  },
  {
   "cell_type": "markdown",
   "metadata": {},
   "source": [
    "# Which of the following functions are continuous"
   ]
  },
  {
   "cell_type": "markdown",
   "metadata": {},
   "source": [
    "Function are continuous then $f(a) = \\lim\\limits_{x \\to a} f(x)$"
   ]
  },
  {
   "cell_type": "code",
   "execution_count": null,
   "metadata": {},
   "outputs": [],
   "source": []
  },
  {
   "cell_type": "markdown",
   "metadata": {},
   "source": [
    "# Analysis "
   ]
  },
  {
   "cell_type": "markdown",
   "metadata": {},
   "source": [
    "$f(x) = 3x^4 +4x^3 - 12x^2 +5$\n",
    "\n",
    "${f}'(x) = 12x^3 + 12x^2 - 24x$\n",
    "\n",
    "$12x^3 + 12x^2 - 24x = 0$\n",
    "\n",
    "$x(12x^2 + 12x - 24) = 0$\n",
    "\n",
    "$x(x^2 + x - 2) = 0$\n",
    "\n",
    "$ab = -2$\n",
    "\n",
    "$a + b = 1$\n",
    "\n",
    "$a = 2$\n",
    "\n",
    "$b = -1$\n",
    "\n",
    "$x(x+2)(x - 1) = 0$\n",
    "\n",
    "then roots are _(relative minima)_ :\n",
    "\n",
    "$x_1 = -2$\n",
    "\n",
    "$x_2 = 1$\n",
    "\n",
    "$x_3 = 0$\n",
    "\n",
    "find the smallest point:"
   ]
  },
  {
   "cell_type": "code",
   "execution_count": null,
   "metadata": {},
   "outputs": [],
   "source": [
    "def f(x):\n",
    "    return 3*(x**4) + 4*(x**3) - 12*(x**2) + 5\n",
    "\n",
    "f(-2)\n",
    "f(0)\n",
    "f(1)"
   ]
  },
  {
   "cell_type": "markdown",
   "metadata": {},
   "source": [
    "Check is it minimum:"
   ]
  },
  {
   "cell_type": "markdown",
   "metadata": {},
   "source": [
    "$(-\\inf, -2)$ - decreasing"
   ]
  },
  {
   "cell_type": "code",
   "execution_count": null,
   "metadata": {},
   "outputs": [],
   "source": [
    "f(-3)\n",
    "f(-2.9)\n",
    "f(-2.8)\n",
    "f(-2.5)\n",
    "f(-2)"
   ]
  },
  {
   "cell_type": "markdown",
   "metadata": {},
   "source": [
    "$(-2, 0)$ - increasing"
   ]
  },
  {
   "cell_type": "code",
   "execution_count": null,
   "metadata": {},
   "outputs": [],
   "source": [
    "f(-1.9)\n",
    "f(-1.5)\n",
    "f(-1)\n",
    "f(0)"
   ]
  },
  {
   "cell_type": "code",
   "execution_count": null,
   "metadata": {},
   "outputs": [],
   "source": []
  },
  {
   "cell_type": "markdown",
   "metadata": {},
   "source": [
    "# * * *"
   ]
  },
  {
   "cell_type": "markdown",
   "metadata": {},
   "source": [
    "$g(x) = x^2ln(x)$, Domain $x>0$\n",
    "\n",
    "${g}'(x) = 2xln(x) + x^2 \\cdot \\frac{1}{x}$\n",
    "\n",
    "${g}'(x) = 2xln(x) + x$\n",
    "\n",
    "Critical point (zero): $2xln(x) + x = 0$\n",
    "\n",
    "$2xln(x) = -x$\n",
    "\n",
    "$2ln(x) = -1$\n",
    "\n",
    "$ln(x) = -\\frac{1}{2}$\n",
    "\n",
    "$x = e^{-\\frac{1}{2}} = \\frac{1}{\\sqrt{e}}$\n",
    "\n",
    "Critical point (undefined): Within a domain no undefined\n"
   ]
  },
  {
   "cell_type": "markdown",
   "metadata": {},
   "source": [
    "Check is it minimum:"
   ]
  },
  {
   "cell_type": "code",
   "execution_count": null,
   "metadata": {},
   "outputs": [],
   "source": [
    "def fprime(x):\n",
    "    return 2*x*math.log(x) + x"
   ]
  },
  {
   "cell_type": "markdown",
   "metadata": {},
   "source": [
    "$(0, \\frac{1}{\\sqrt{e}})$ - decreasing"
   ]
  },
  {
   "cell_type": "code",
   "execution_count": null,
   "metadata": {},
   "outputs": [],
   "source": [
    "fprime(0.1)"
   ]
  },
  {
   "cell_type": "markdown",
   "metadata": {},
   "source": [
    "$(\\frac{1}{\\sqrt{e}}, \\inf)$ - increasing"
   ]
  },
  {
   "cell_type": "code",
   "execution_count": null,
   "metadata": {},
   "outputs": [],
   "source": [
    "fprime(1)"
   ]
  },
  {
   "cell_type": "code",
   "execution_count": null,
   "metadata": {},
   "outputs": [],
   "source": [
    "# xs = [0.1, 0.5, 1, 1.25]\n",
    "xs = [i / 10 for i in range(1,12)]\n",
    "xs = [0.001, 0.01] + xs\n",
    "\n",
    "ys = []\n",
    "for x in xs:\n",
    "    y=x**2 * math.log(x)\n",
    "    ys.append(y)\n",
    "\n",
    "fig, ax = plt.subplots(1,1, sharex='col', figsize = (10, 5))\n",
    "ax.plot(xs, ys, color='blue')"
   ]
  },
  {
   "cell_type": "code",
   "execution_count": null,
   "metadata": {},
   "outputs": [],
   "source": []
  },
  {
   "cell_type": "code",
   "execution_count": null,
   "metadata": {},
   "outputs": [],
   "source": []
  },
  {
   "cell_type": "markdown",
   "metadata": {},
   "source": [
    "# * * *\n",
    "\n",
    "$h(x) = x^3e^x$\n",
    "\n",
    "${h}'(x) = 3x^2e^x + x^3e^x$\n",
    "\n",
    "${h}'(x) = x^2e^x(3 + x)$\n",
    "\n",
    "Critical point (zero): $x = -3$ and $x = 0$\n",
    "\n",
    "Critical point (undefined): Within a domain no undefined\n",
    "\n",
    "Check is it minimum:"
   ]
  },
  {
   "cell_type": "code",
   "execution_count": null,
   "metadata": {},
   "outputs": [],
   "source": [
    "def fprime(x):\n",
    "    return 3*x**2 * math.e**x + x**3 * math.e**x"
   ]
  },
  {
   "cell_type": "markdown",
   "metadata": {},
   "source": [
    "$(\\inf, -3)$ - slope decreasing"
   ]
  },
  {
   "cell_type": "code",
   "execution_count": null,
   "metadata": {
    "scrolled": true
   },
   "outputs": [],
   "source": [
    "fprime(-3.2)\n",
    "fprime(-3.1)\n",
    "fprime(-3)"
   ]
  },
  {
   "cell_type": "markdown",
   "metadata": {},
   "source": [
    "$(-3, 0)$ - increasing"
   ]
  },
  {
   "cell_type": "code",
   "execution_count": null,
   "metadata": {},
   "outputs": [],
   "source": [
    "fprime(-3)\n",
    "fprime(-2.9)\n",
    "fprime(-2.8)"
   ]
  },
  {
   "cell_type": "markdown",
   "metadata": {},
   "source": [
    "$(0, \\inf)$ - still increasing"
   ]
  },
  {
   "cell_type": "code",
   "execution_count": null,
   "metadata": {},
   "outputs": [],
   "source": [
    "fprime(-0.5)\n",
    "fprime(-0.2)\n",
    "fprime(-0.1)\n",
    "\n",
    "fprime(0)\n",
    "fprime(0.1)\n",
    "fprime(0.2)\n",
    "fprime(0.5)"
   ]
  },
  {
   "cell_type": "markdown",
   "metadata": {},
   "source": [
    "It is minima:\n",
    "\n",
    "$h(-3) = (-3)^3e^{(-3)} = -27\\frac{1}{e^3}$"
   ]
  },
  {
   "cell_type": "code",
   "execution_count": null,
   "metadata": {},
   "outputs": [],
   "source": [
    "# xs = [0.1, 0.5, 1, 1.25]\n",
    "xs = [i / 10 for i in range(0,15)]\n",
    "xs = list(reversed([-i / 10 for i in range(1,80)])) + xs\n",
    "\n",
    "ys = []\n",
    "for x in xs:\n",
    "    y=x**3 * math.e**x\n",
    "    ys.append(y)\n",
    "\n",
    "fig, ax = plt.subplots(1,1, sharex='col', figsize = (10, 5))\n",
    "ax.plot(xs, ys, color='blue')"
   ]
  },
  {
   "cell_type": "code",
   "execution_count": null,
   "metadata": {},
   "outputs": [],
   "source": []
  },
  {
   "cell_type": "markdown",
   "metadata": {},
   "source": [
    "# * * *\n",
    "\n",
    "$f(x) = x^4 -2x^3$\n",
    "\n",
    "${f}'(x) = 4x^3 - 6x^2$\n",
    "\n",
    "${f}'(x) = 2x^2(2x - 3)$\n",
    "\n",
    "---\n",
    "\n",
    "$2x - 3 = 0$\n",
    "\n",
    "$2x = 3$\n",
    "\n",
    "$x = \\frac{3}{2}$\n",
    "\n",
    "---\n",
    "\n",
    "Critical point (zero): $x = \\frac{3}{2}$ and $x = 0$\n",
    "\n",
    "Critical point (undefined): Within a domain no undefined\n",
    "\n",
    "Check is it minimum: _(derivative changes it sign - concave up/down)_"
   ]
  },
  {
   "cell_type": "code",
   "execution_count": null,
   "metadata": {},
   "outputs": [],
   "source": [
    "def fprime(x):\n",
    "    return 4*(x**3) - 6*(x**2)"
   ]
  },
  {
   "cell_type": "code",
   "execution_count": null,
   "metadata": {},
   "outputs": [],
   "source": [
    "# not a minimum, no changes after critical point\n",
    "fprime(-0.1)\n",
    "fprime(-0.01)\n",
    "fprime(-0.001)\n",
    "fprime(0) # !\n",
    "fprime(0.001)\n",
    "fprime(0.01)\n",
    "fprime(0.11)"
   ]
  },
  {
   "cell_type": "code",
   "execution_count": null,
   "metadata": {},
   "outputs": [],
   "source": [
    "# relative minima, derivative slope decreases, and after increases\n",
    "fprime(1.4)\n",
    "fprime(1.45)\n",
    "fprime(1.49)\n",
    "fprime(1.5) # !\n",
    "fprime(1.51)\n",
    "fprime(1.55)\n",
    "fprime(1.59)"
   ]
  },
  {
   "cell_type": "code",
   "execution_count": null,
   "metadata": {},
   "outputs": [],
   "source": [
    "xs = np.linspace(-2, 3, 100)\n",
    "ys = [x**4 - 2*(x**3) for x in xs]\n",
    "\n",
    "fig, ax = plt.subplots(1,1, sharex='col', figsize = (10, 5))\n",
    "ax.plot(xs, ys, color='blue');"
   ]
  },
  {
   "cell_type": "code",
   "execution_count": null,
   "metadata": {},
   "outputs": [],
   "source": []
  },
  {
   "cell_type": "markdown",
   "metadata": {},
   "source": [
    "# * * *\n",
    "\n",
    "$h(x) = x^5 + x^4$\n",
    "\n",
    "${h}'(x) = 5x^4 + 4x^3$\n",
    "\n",
    "${h}'(x) = x^3(5x + 4)$\n",
    "\n",
    "---\n",
    "\n",
    "$5x + 4 = 0$\n",
    "\n",
    "$5x = -4$\n",
    "\n",
    "$x = -\\frac{4}{5}$\n",
    "\n",
    "---\n",
    "\n",
    "Critical point (zero): $x = -\\frac{4}{5}$ and $x = 0$\n",
    "\n",
    "Critical point (undefined): Within a domain no undefined\n",
    "\n",
    "Check is it minimum: _(derivative changes it sign - concave up/down)_"
   ]
  },
  {
   "cell_type": "code",
   "execution_count": null,
   "metadata": {},
   "outputs": [],
   "source": [
    "def fprime(x):\n",
    "    return 5*x**4 + 4*x**3"
   ]
  },
  {
   "cell_type": "code",
   "execution_count": null,
   "metadata": {},
   "outputs": [],
   "source": [
    "fprime(-0.3)\n",
    "fprime(-0.2)\n",
    "fprime(-0.1)\n",
    "fprime(0)\n",
    "fprime(0.1)\n",
    "fprime(0.2)\n",
    "fprime(0.3)"
   ]
  },
  {
   "cell_type": "code",
   "execution_count": null,
   "metadata": {},
   "outputs": [],
   "source": [
    "fprime(-0.83)\n",
    "fprime(-0.82)\n",
    "fprime(-0.81)\n",
    "fprime(-4/5)\n",
    "fprime(-0.79)\n",
    "fprime(-0.78)\n",
    "fprime(-0.77)"
   ]
  },
  {
   "cell_type": "code",
   "execution_count": null,
   "metadata": {},
   "outputs": [],
   "source": [
    "xs = np.linspace(-1, 0.4, 100)\n",
    "ys = [x**5 + x**4 for x in xs]\n",
    "\n",
    "fig, ax = plt.subplots(1,1, sharex='col', figsize = (10, 5))\n",
    "ax.plot(xs, ys, color='blue');"
   ]
  },
  {
   "cell_type": "code",
   "execution_count": null,
   "metadata": {},
   "outputs": [],
   "source": []
  }
 ],
 "metadata": {
  "kernelspec": {
   "display_name": "Python 3",
   "language": "python",
   "name": "python3"
  },
  "language_info": {
   "codemirror_mode": {
    "name": "ipython",
    "version": 3
   },
   "file_extension": ".py",
   "mimetype": "text/x-python",
   "name": "python",
   "nbconvert_exporter": "python",
   "pygments_lexer": "ipython3",
   "version": "3.6.8"
  }
 },
 "nbformat": 4,
 "nbformat_minor": 2
}

{
 "cells": [
  {
   "cell_type": "code",
   "execution_count": null,
   "metadata": {},
   "outputs": [],
   "source": [
    "import pandas as pd\n",
    "import numpy as np\n",
    "\n",
    "import seaborn as sns\n",
    "import matplotlib.pyplot as plt\n",
    "plt.style.use('seaborn')\n",
    "\n",
    "%matplotlib inline"
   ]
  },
  {
   "cell_type": "code",
   "execution_count": null,
   "metadata": {},
   "outputs": [],
   "source": [
    "from IPython.core.interactiveshell import InteractiveShell\n",
    "InteractiveShell.ast_node_interactivity = \"all\""
   ]
  },
  {
   "cell_type": "code",
   "execution_count": null,
   "metadata": {},
   "outputs": [],
   "source": [
    "# from IPython.core.display import SVG"
   ]
  },
  {
   "cell_type": "code",
   "execution_count": null,
   "metadata": {},
   "outputs": [],
   "source": [
    "import math"
   ]
  },
  {
   "cell_type": "code",
   "execution_count": null,
   "metadata": {},
   "outputs": [],
   "source": [
    "np.set_printoptions(precision=2, suppress=True)"
   ]
  },
  {
   "cell_type": "markdown",
   "metadata": {},
   "source": [
    "# $f = \\frac{-5}{x-2}$\n",
    "\n",
    "$\\frac{d}{dx}\\left[ \\frac{-5}{x-2} \\right]$\n",
    "\n",
    "$\\frac{d}{dx}\\left[ -5\\frac{1}{x-2} \\right]$\n",
    "\n",
    "$\\frac{d}{dx}\\left[ -5(x-2)^{-1} \\right]$\n",
    "\n",
    "$5(x-2)^{-2} \\cdot (x-2)'$\n",
    "\n",
    "# $f' = \\frac{5}{(x-2)^2}$\n",
    "\n",
    "$\\frac{d}{dx}\\left[ \\frac{5}{(x-2)^2} \\right]$\n",
    "\n",
    "$\\frac{d}{dx}\\left[ 5(x-2)^{-2} \\right]$\n",
    "\n",
    "$-10(x-2)^{-3} \\cdot (x-2)'$\n",
    "\n",
    "# $f'' = \\frac{-10}{(x-2)^3}$\n",
    "\n",
    "Critical points _(The critical points, of a function are the $x$ values where $f'(x) = 0$ or undefined)_:\n",
    "\n",
    "$x = 2$\n",
    "\n",
    "---\n",
    "\n",
    "Evalute second derivative within critical points intervals _(Take any number within that interval)_:\n",
    "\n",
    "$(-\\infty, 2) \\rightarrow \\left[f''(1)=10\\right] \\rightarrow \\left[10 \\gt 0\\right] \\rightarrow$ concave up\n",
    "\n",
    "$(2, \\infty) \\rightarrow \\left[f''(3)=-10\\right] \\rightarrow \\left[-10 \\lt 0\\right] \\rightarrow$ concave down\n",
    "\n",
    "---\n",
    "\n",
    "concave down over the interval $x>2$"
   ]
  },
  {
   "cell_type": "markdown",
   "metadata": {},
   "source": [
    "# Plot"
   ]
  },
  {
   "cell_type": "code",
   "execution_count": null,
   "metadata": {},
   "outputs": [],
   "source": [
    "def f(x):\n",
    "    return (-5) / (x - 2)"
   ]
  },
  {
   "cell_type": "code",
   "execution_count": null,
   "metadata": {},
   "outputs": [],
   "source": [
    "interval = [1, 3]"
   ]
  },
  {
   "cell_type": "code",
   "execution_count": null,
   "metadata": {},
   "outputs": [],
   "source": [
    "xs = np.linspace(interval[0], interval[1], 100)\n",
    "ys = [f(x) for x in xs]\n",
    "\n",
    "fig, ax = plt.subplots(1,1, sharex='col', figsize = (10, 5))\n",
    "ax.plot(xs, ys, color='blue');"
   ]
  },
  {
   "cell_type": "code",
   "execution_count": null,
   "metadata": {},
   "outputs": [],
   "source": []
  }
 ],
 "metadata": {
  "kernelspec": {
   "display_name": "Python 3",
   "language": "python",
   "name": "python3"
  },
  "language_info": {
   "codemirror_mode": {
    "name": "ipython",
    "version": 3
   },
   "file_extension": ".py",
   "mimetype": "text/x-python",
   "name": "python",
   "nbconvert_exporter": "python",
   "pygments_lexer": "ipython3",
   "version": "3.6.7"
  }
 },
 "nbformat": 4,
 "nbformat_minor": 2
}

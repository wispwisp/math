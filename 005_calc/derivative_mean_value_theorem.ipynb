{
 "cells": [
  {
   "cell_type": "code",
   "execution_count": null,
   "metadata": {},
   "outputs": [],
   "source": [
    "import pandas as pd\n",
    "import numpy as np"
   ]
  },
  {
   "cell_type": "code",
   "execution_count": null,
   "metadata": {},
   "outputs": [],
   "source": [
    "import matplotlib.pyplot as plt\n",
    "import matplotlib\n",
    "matplotlib.pyplot.style.use('seaborn')\n",
    "%matplotlib inline"
   ]
  },
  {
   "cell_type": "code",
   "execution_count": null,
   "metadata": {},
   "outputs": [],
   "source": [
    "from IPython.core.interactiveshell import InteractiveShell\n",
    "InteractiveShell.ast_node_interactivity = \"all\""
   ]
  },
  {
   "cell_type": "code",
   "execution_count": null,
   "metadata": {},
   "outputs": [],
   "source": [
    "from IPython.core.display import SVG"
   ]
  },
  {
   "cell_type": "code",
   "execution_count": null,
   "metadata": {},
   "outputs": [],
   "source": [
    "import math"
   ]
  },
  {
   "cell_type": "code",
   "execution_count": null,
   "metadata": {},
   "outputs": [],
   "source": []
  },
  {
   "cell_type": "markdown",
   "metadata": {},
   "source": [
    "If $f$ is continuous on the closed interval $[a,b]$ and differentiable on the open interval $(a,b)$\n",
    "\n",
    "then there exists a point $c$ such that $f'(c)$ is equal to the average rate of change over $[a,b]$"
   ]
  },
  {
   "cell_type": "code",
   "execution_count": null,
   "metadata": {},
   "outputs": [],
   "source": []
  },
  {
   "cell_type": "markdown",
   "metadata": {},
   "source": [
    "# Find point that equal average rate of change"
   ]
  },
  {
   "cell_type": "markdown",
   "metadata": {},
   "source": [
    "$f(x) = \\sqrt{x + 9}$, $[0, 16]$\n",
    "\n",
    "$f'(x) = \\frac{1}{2\\sqrt{x + 9}} \\cdot (x+9)' = \\frac{1}{2\\sqrt{x + 9}}$\n",
    "\n",
    "AVG = $\\frac{f(16) - f(0)}{16 - 0} = \\frac{\\sqrt{25} - \\sqrt{9}}{16} = \\frac{5-3}{16} = \\frac{1}{8}$\n",
    "\n",
    "---\n",
    "\n",
    "$f' = AVG$\n",
    "\n",
    "$\\frac{1}{2\\sqrt{x + 9}} =\\frac{1}{8}$\n",
    "\n",
    "$\\frac{4}{\\sqrt{x + 9}} = 1$\n",
    "\n",
    "$4 = \\sqrt{x + 9}$\n",
    "\n",
    "$16 = x + 9$\n",
    "\n",
    "$x = 7$"
   ]
  },
  {
   "cell_type": "code",
   "execution_count": null,
   "metadata": {},
   "outputs": [],
   "source": []
  },
  {
   "cell_type": "markdown",
   "metadata": {},
   "source": [
    "$f(x) = x^3 +6x^2 + 6x$, $[-6, 0]$\n",
    "\n",
    "$f'(x) = 3x^2 + 12x + 6$\n",
    "\n",
    "AVG = $\\frac{f(0) - f(-6)}{0 - (-6)} = \\frac{0 - ((-6)^3 + 6(-6)^2 + 6(-6))}{6} =\n",
    "\\frac{-(-6)^3 - 6(-6)^2 - 6(-6)}{6} = \\frac{36}{6} = 6\n",
    "$\n",
    "\n",
    "---\n",
    "\n",
    "$f' = AVG$\n",
    "\n",
    "$3x^2 + 12x + 6 = 6$\n",
    "\n",
    "$x^2 + 4x + 2 = 2$\n",
    "\n",
    "$x^2 + 4x = 0$\n",
    "\n",
    "$x(x + 4) = 0$\n",
    "\n",
    "$x_1 = 0$ (Not in interval)\n",
    "\n",
    "$x_2 = -4$"
   ]
  },
  {
   "cell_type": "code",
   "execution_count": null,
   "metadata": {},
   "outputs": [],
   "source": []
  },
  {
   "cell_type": "markdown",
   "metadata": {},
   "source": [
    "$f(x) = \\sqrt{2x - 4}$, $[2, 10]$\n",
    "\n",
    "$f'(x) = \\frac{1}{2\\sqrt{2x - 4}} \\cdot 2 = \\frac{1}{\\sqrt{2x - 4}}$\n",
    "\n",
    "AVG = $\\frac{f(10) - f(2)}{10 - 2} = \\frac{\\sqrt{16} - \\sqrt{0}}{8} = \\frac{4}{8} = \\frac{1}{2}$\n",
    "\n",
    "---\n",
    "\n",
    "$f' = AVG$\n",
    "\n",
    "$\\frac{1}{\\sqrt{2x - 4}} = \\frac{1}{2}$\n",
    "\n",
    "$\\sqrt{2x - 4} =2$\n",
    "\n",
    "$2x - 4 = 4$\n",
    "\n",
    "$2x = 8$\n",
    "\n",
    "$x = 4$"
   ]
  },
  {
   "cell_type": "code",
   "execution_count": null,
   "metadata": {},
   "outputs": [],
   "source": []
  },
  {
   "cell_type": "markdown",
   "metadata": {},
   "source": [
    "$f(x) = x^3 + 12x^2 + 36x$, $[-8, -2]$\n",
    "\n",
    "$f'(x) = 3x^2 + 24x + 36$\n",
    "\n",
    "AVG = $\\frac{f(-2) - f(-8)}{(-2) - (-8)} = \\frac{0}{6} = 0$\n",
    "\n",
    "---\n",
    "\n",
    "$f' = AVG$\n",
    "\n",
    "$3x^2 + 24x + 36 = 0$\n",
    "\n",
    "$x^2 + 8x + 12 = 0$\n",
    "\n",
    "$a+b = 8$\n",
    "\n",
    "$ab = 12$\n",
    "\n",
    "(6, 2)\n",
    "\n",
    "$x_1 = -6$\n",
    "\n",
    "$x_2 = -2$ Not in interval"
   ]
  },
  {
   "cell_type": "code",
   "execution_count": null,
   "metadata": {},
   "outputs": [],
   "source": []
  }
 ],
 "metadata": {
  "kernelspec": {
   "display_name": "Python 3",
   "language": "python",
   "name": "python3"
  },
  "language_info": {
   "codemirror_mode": {
    "name": "ipython",
    "version": 3
   },
   "file_extension": ".py",
   "mimetype": "text/x-python",
   "name": "python",
   "nbconvert_exporter": "python",
   "pygments_lexer": "ipython3",
   "version": "3.6.8"
  }
 },
 "nbformat": 4,
 "nbformat_minor": 2
}

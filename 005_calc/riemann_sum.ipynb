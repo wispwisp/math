{
 "cells": [
  {
   "cell_type": "code",
   "execution_count": null,
   "metadata": {},
   "outputs": [],
   "source": [
    "import pandas as pd\n",
    "import numpy as np\n",
    "\n",
    "import seaborn as sns\n",
    "import matplotlib.pyplot as plt\n",
    "plt.style.use('seaborn')\n",
    "\n",
    "%matplotlib inline"
   ]
  },
  {
   "cell_type": "code",
   "execution_count": null,
   "metadata": {},
   "outputs": [],
   "source": [
    "from IPython.core.interactiveshell import InteractiveShell\n",
    "InteractiveShell.ast_node_interactivity = \"all\""
   ]
  },
  {
   "cell_type": "code",
   "execution_count": null,
   "metadata": {},
   "outputs": [],
   "source": [
    "from IPython.core.display import SVG"
   ]
  },
  {
   "cell_type": "code",
   "execution_count": null,
   "metadata": {},
   "outputs": [],
   "source": [
    "import math"
   ]
  },
  {
   "cell_type": "code",
   "execution_count": null,
   "metadata": {},
   "outputs": [],
   "source": []
  },
  {
   "cell_type": "markdown",
   "metadata": {},
   "source": [
    "# Left Riemann sum\n",
    "\n",
    "$\\sum\\limits_{i=0}^{n-1} f(begin + i\\Delta x) \\cdot \\Delta x$\n",
    "\n",
    "$\\Delta x = \\frac{e - b}{N}$\n",
    "\n",
    "$x_i = begin + i\\Delta x$\n",
    "\n",
    "$f(x_i) \\rightarrow$ Evaluation gives integral result\n",
    "\n",
    "# Right Riemann sum\n",
    "\n",
    "$\\sum\\limits_{i=1}^{n} f(begin + i\\Delta x) \\cdot \\Delta x$\n",
    "\n",
    "$\\Delta x = \\frac{e - b}{N}$\n",
    "\n",
    "$x_i = begin + i\\Delta x$\n",
    "\n",
    "$f(x_i) \\rightarrow$ Evaluation gives integral result\n",
    "\n",
    "---\n",
    "\n",
    "ex:"
   ]
  },
  {
   "cell_type": "code",
   "execution_count": null,
   "metadata": {},
   "outputs": [],
   "source": []
  },
  {
   "cell_type": "markdown",
   "metadata": {},
   "source": [
    "$\\int\\limits_0^5 x + 1$ from what Riemann sum ?\n",
    "\n",
    "_(Left/Right changes only by summation borders)_\n",
    "\n",
    "$\\sum\\limits_{i=1}^{n} f(begin + i\\Delta x) \\cdot \\Delta x$\n",
    "\n",
    "$x_i = 0 + \\frac{5i}{n}$\n",
    "\n",
    "$\\sum\\limits_{i=1}^{n} f(x_i=(0 + \\frac{5i}{n}) + 1) \\cdot \\frac{5}{n}$\n",
    "\n",
    "$\\sum\\limits_{i=1}^{n} f(\\frac{5i}{n} + 1) \\cdot \\frac{5}{n}$"
   ]
  },
  {
   "cell_type": "code",
   "execution_count": null,
   "metadata": {},
   "outputs": [],
   "source": []
  },
  {
   "cell_type": "markdown",
   "metadata": {},
   "source": [
    "Approximate the area using a _right_ Riemann sum with $9$ equal subdivisions over the interval $[1,7]$\n",
    "\n",
    "$f = \\frac{5}{x} + 2$\n",
    "\n",
    "$\\Delta x = \\frac{7-1}{9}$\n",
    "\n",
    "$x_i = begin + i\\Delta x = 1 + \\frac{6i}{9}$\n",
    "\n",
    "$\\sum\\limits_{i=1}^{n} f(x_i = (1 + \\frac{6i}{9})) \\cdot \\frac{6}{9}$\n",
    "\n",
    "\n",
    "$\\sum\\limits_{i=1}^{n} f\\left( \\frac{5}{x_i = (1 + \\frac{6i}{9})} + 2 \\right) \\cdot \\frac{6}{9}$\n",
    "\n",
    "\n",
    "$\\sum\\limits_{i=1}^{n} f\\left( \\frac{5}{\\frac{3}{3} + \\frac{2i}{3}} + 2 \\right) \\cdot \\frac{2}{3}$\n",
    "\n",
    "\n",
    "$\\sum\\limits_{i=1}^{n} f\\left( \\frac{5}{\\frac{3 + 2i}{3}} + 2 \\right) \\cdot \\frac{2}{3}$\n",
    "\n",
    "\n",
    "$\\sum\\limits_{i=1}^{n} f\\left( \\frac{15}{3 + 2i} + 2 \\right) \\cdot \\frac{2}{3}$\n"
   ]
  },
  {
   "cell_type": "code",
   "execution_count": null,
   "metadata": {},
   "outputs": [],
   "source": []
  },
  {
   "cell_type": "markdown",
   "metadata": {},
   "source": [
    "# Trapezoidal sums\n",
    "\n",
    "# $\\Delta x = \\frac{e - b}{N}$\n",
    "\n",
    "# $\\sum\\limits_{i=0}^{N} \\frac{f(b + dx\\cdot i) + f(b + dx\\cdot(i+1))}{2}\\Delta x$"
   ]
  },
  {
   "cell_type": "markdown",
   "metadata": {},
   "source": [
    "---\n",
    "\n",
    "ex:\n",
    "\n",
    "Approximate the area between the $x$-axis and $f = \\frac{2}{x}$ from $x = 0.5$ to $x = 2$ using a *trapezoidal* sum with $3$ equal subdivisions."
   ]
  },
  {
   "cell_type": "code",
   "execution_count": null,
   "metadata": {},
   "outputs": [],
   "source": [
    "b = 0.5\n",
    "e = 2\n",
    "N = 3\n",
    "\n",
    "dx = (e - b) / N"
   ]
  },
  {
   "cell_type": "code",
   "execution_count": null,
   "metadata": {},
   "outputs": [],
   "source": [
    "def f(x):\n",
    "    return 2/x\n",
    "\n",
    "def trapezoid(b, i):\n",
    "    return (f(b+dx*i) + f(b+dx*(i+1)))/2"
   ]
  },
  {
   "cell_type": "code",
   "execution_count": null,
   "metadata": {},
   "outputs": [],
   "source": [
    "dx * sum([\n",
    "    trapezoid(b, i) for i in range(0, N)\n",
    "])"
   ]
  },
  {
   "cell_type": "code",
   "execution_count": null,
   "metadata": {},
   "outputs": [],
   "source": []
  },
  {
   "cell_type": "markdown",
   "metadata": {},
   "source": [
    "# Midpoint sums\n",
    "\n",
    "# $\\Delta x = \\frac{e - b}{N}$\n",
    "\n",
    "# $\\sum\\limits_{i=1}^{N} f\\left(bi + \\frac{\\Delta x}{2}\\right) \\cdot \\Delta x$"
   ]
  },
  {
   "cell_type": "markdown",
   "metadata": {},
   "source": [
    "---\n",
    "\n",
    "ex:\n",
    "\n",
    "Approximate the area between the $x$-axis and $f = \\frac{2}{x}$ from $x = 0.5$ to $x = 2$ using a *midpoint* sum with $3$ equal subdivisions."
   ]
  },
  {
   "cell_type": "code",
   "execution_count": null,
   "metadata": {},
   "outputs": [],
   "source": [
    "b = 0.5\n",
    "e = 2\n",
    "N = 3\n",
    "\n",
    "dx = (e - b) / N"
   ]
  },
  {
   "cell_type": "code",
   "execution_count": null,
   "metadata": {},
   "outputs": [],
   "source": [
    "def f(x):\n",
    "    return 2/x"
   ]
  },
  {
   "cell_type": "code",
   "execution_count": null,
   "metadata": {},
   "outputs": [],
   "source": [
    "dx * sum([\n",
    "    f(b*x + dx/2) for x in range(1, N + 1)\n",
    "])"
   ]
  },
  {
   "cell_type": "code",
   "execution_count": null,
   "metadata": {},
   "outputs": [],
   "source": []
  }
 ],
 "metadata": {
  "kernelspec": {
   "display_name": "Python 3",
   "language": "python",
   "name": "python3"
  },
  "language_info": {
   "codemirror_mode": {
    "name": "ipython",
    "version": 3
   },
   "file_extension": ".py",
   "mimetype": "text/x-python",
   "name": "python",
   "nbconvert_exporter": "python",
   "pygments_lexer": "ipython3",
   "version": "3.6.8"
  }
 },
 "nbformat": 4,
 "nbformat_minor": 2
}

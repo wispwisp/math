{
 "cells": [
  {
   "cell_type": "code",
   "execution_count": null,
   "metadata": {},
   "outputs": [],
   "source": [
    "import pandas as pd\n",
    "import numpy as np\n",
    "\n",
    "import seaborn as sns\n",
    "import matplotlib.pyplot as plt\n",
    "\n",
    "# import matplotlib\n",
    "# matplotlib.pyplot.style.use('seaborn')\n",
    "# matplotlib.rcParams['figure.figsize'] = (15, 5)\n",
    "\n",
    "%matplotlib inline"
   ]
  },
  {
   "cell_type": "code",
   "execution_count": null,
   "metadata": {},
   "outputs": [],
   "source": [
    "from IPython.core.interactiveshell import InteractiveShell\n",
    "InteractiveShell.ast_node_interactivity = \"all\""
   ]
  },
  {
   "cell_type": "code",
   "execution_count": null,
   "metadata": {},
   "outputs": [],
   "source": [
    "# from IPython.core.display import SVG"
   ]
  },
  {
   "cell_type": "code",
   "execution_count": null,
   "metadata": {},
   "outputs": [],
   "source": [
    "import math"
   ]
  },
  {
   "cell_type": "code",
   "execution_count": null,
   "metadata": {},
   "outputs": [],
   "source": [
    "np.set_printoptions(precision=2, suppress=True)"
   ]
  },
  {
   "cell_type": "code",
   "execution_count": null,
   "metadata": {},
   "outputs": [],
   "source": []
  },
  {
   "cell_type": "markdown",
   "metadata": {},
   "source": [
    "# Finding decreasing interval given the function"
   ]
  },
  {
   "cell_type": "markdown",
   "metadata": {},
   "source": [
    "$f = -x^3 + 3x^2 + 9$\n",
    "\n",
    "$f' = -3x^2 + 6x$\n",
    "\n",
    "---\n",
    "\n",
    "$-3x(x - 2)$\n",
    "\n",
    "$x_1 = 0$\n",
    "\n",
    "$x_2 = 2$\n",
    "\n",
    "Evalute derivative within critical points intervals _(Take any number within that interval)_\n",
    "\n",
    "$(-\\infty, 0) \\rightarrow \\left[f'(-1)=-9\\right] \\rightarrow \\left[-9 \\lt 0\\right] \\rightarrow \\left[decreasing\\right]$\n",
    "\n",
    "$(0, 2) \\rightarrow \\left[f'(1)=3\\right] \\rightarrow \\left[3 \\gt 0\\right] \\rightarrow \\left[increasing\\right]$\n",
    "\n",
    "$(2, \\infty) \\rightarrow \\left[f'(3)=-9\\right] \\rightarrow \\left[-9 \\lt 0\\right] \\rightarrow \\left[deccreasing\\right]$"
   ]
  },
  {
   "cell_type": "code",
   "execution_count": null,
   "metadata": {},
   "outputs": [],
   "source": []
  },
  {
   "cell_type": "markdown",
   "metadata": {},
   "source": [
    "$f = x^5 + x^4$\n",
    "\n",
    "$f' = 5x^4 + 4x^3$\n",
    "\n",
    "---\n",
    "\n",
    "$5x^4 + 4x^3$\n",
    "\n",
    "$x^3(5x + 4)$\n",
    "\n",
    "$x_1 = 0$\n",
    "\n",
    "$x_2 = -\\frac{4}{5}$\n",
    "\n",
    "Evalute derivative within critical points intervals _(Take any number within that interval)_\n",
    "\n",
    "$(-\\infty, -\\frac{4}{5}) \\rightarrow \\left[f'(-1)=1\\right] \\rightarrow \\left[1 \\gt 0\\right] \\rightarrow \\left[increasing\\right]$\n",
    "\n",
    "$(-\\frac{4}{5}, 0) \\rightarrow \\left[f'(-\\frac{1}{5})=-0.024\\right] \\rightarrow \\left[3 \\lt 0\\right] \\rightarrow \\left[decreasing\\right]$\n",
    "\n",
    "$(0, \\infty) \\rightarrow \\left[f'(1)=9\\right] \\rightarrow \\left[9 \\gt 0\\right] \\rightarrow \\left[increasing\\right]$"
   ]
  },
  {
   "cell_type": "code",
   "execution_count": null,
   "metadata": {},
   "outputs": [],
   "source": []
  },
  {
   "cell_type": "markdown",
   "metadata": {},
   "source": [
    "$2x^3 + 7x^2 + 4x - 5$\n",
    "\n",
    "$6x^2 + 14x + 4$\n",
    "\n",
    "$3x^2 + 7x + 2$\n",
    "\n",
    "$a + b = 7$\n",
    "\n",
    "$ab = (3)(2) = 6$\n",
    "\n",
    "$(1, 6) \\rightarrow$\n",
    "\n",
    "$3x^2 + x + 6x + 2$\n",
    "\n",
    "$(3x^2 + 6x) + (2 + x)$\n",
    "\n",
    "$3x(x + 2) + (2 + x)$\n",
    "\n",
    "$(3x + 1)(2 + x)$\n",
    "\n",
    "$x_1 = -\\frac{1}{3}$\n",
    "\n",
    "$x_2 = -2$\n",
    "\n",
    "$(-\\infty, -2) \\rightarrow \\left[f'(-3)=8\\right] \\rightarrow \\left[8 \\gt 0\\right] \\rightarrow \\left[increasing\\right]$\n",
    "\n",
    "$(-2, -\\frac{1}{3}) \\rightarrow \\left[f'(-\\frac{2}{3})=-1.33\\right] \\rightarrow \\left[-1.33 \\lt 0\\right] \\rightarrow \\left[decreasing\\right]$\n",
    "\n",
    "$(-\\frac{1}{3}, \\infty) \\rightarrow \\left[f'(0)=2\\right] \\rightarrow \\left[2 \\gt 0\\right] \\rightarrow \\left[increasing\\right]$"
   ]
  },
  {
   "cell_type": "code",
   "execution_count": null,
   "metadata": {},
   "outputs": [],
   "source": []
  }
 ],
 "metadata": {
  "kernelspec": {
   "display_name": "Python 3",
   "language": "python",
   "name": "python3"
  },
  "language_info": {
   "codemirror_mode": {
    "name": "ipython",
    "version": 3
   },
   "file_extension": ".py",
   "mimetype": "text/x-python",
   "name": "python",
   "nbconvert_exporter": "python",
   "pygments_lexer": "ipython3",
   "version": "3.6.7"
  }
 },
 "nbformat": 4,
 "nbformat_minor": 2
}

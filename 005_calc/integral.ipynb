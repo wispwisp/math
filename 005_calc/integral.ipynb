{
 "cells": [
  {
   "cell_type": "code",
   "execution_count": null,
   "metadata": {},
   "outputs": [],
   "source": [
    "import pandas as pd\n",
    "import numpy as np\n",
    "\n",
    "# import seaborn as sns\n",
    "# import matplotlib.pyplot as plt\n",
    "\n",
    "# import matplotlib\n",
    "# matplotlib.pyplot.style.use('seaborn')\n",
    "# matplotlib.rcParams['figure.figsize'] = (15, 5)\n",
    "\n",
    "# %matplotlib inline\n",
    "# %pylab inline"
   ]
  },
  {
   "cell_type": "code",
   "execution_count": null,
   "metadata": {},
   "outputs": [],
   "source": [
    "from IPython.core.interactiveshell import InteractiveShell\n",
    "InteractiveShell.ast_node_interactivity = \"all\""
   ]
  },
  {
   "cell_type": "code",
   "execution_count": null,
   "metadata": {},
   "outputs": [],
   "source": [
    "from IPython.core.display import SVG"
   ]
  },
  {
   "cell_type": "code",
   "execution_count": null,
   "metadata": {},
   "outputs": [],
   "source": [
    "import math"
   ]
  },
  {
   "cell_type": "code",
   "execution_count": null,
   "metadata": {},
   "outputs": [],
   "source": []
  },
  {
   "cell_type": "markdown",
   "metadata": {},
   "source": [
    "$\\int_{a}^{b}f(x)dx = -\\int_{b}^{a}f(x)dx$"
   ]
  },
  {
   "cell_type": "code",
   "execution_count": null,
   "metadata": {},
   "outputs": [],
   "source": []
  },
  {
   "cell_type": "markdown",
   "metadata": {},
   "source": [
    "# Riemann sum\n",
    "\n",
    "The left Riemann sum for the definite integral is:\n",
    "\n",
    "$\\sum_{i=1}^{n} f(a + (i-1)\\Delta x) \\cdot \\Delta x$\n",
    "\n",
    "$\\sum_{i=0}^{n-1} f(a + (i)\\Delta x) \\cdot \\Delta x$\n",
    "\n",
    "$\\Delta x = \\frac{b-a}{n}$\n",
    "\n",
    "---\n",
    "\n",
    "ex:\n",
    "\n",
    "$\\int_{0}^{3} e^x dx =$\n",
    "\n",
    "$\\sum_{i=0}^{n-1} f(a + (i)\\Delta x) \\cdot \\Delta x =$\n",
    "\n",
    "$\\sum_{i=0}^{n-1} f(0 + (i)\\frac{3}{n}) \\cdot \\frac{3}{n} =$\n",
    "\n",
    "$\\sum_{i=0}^{n-1} f(\\frac{3i}{n}) \\cdot \\frac{3}{n} =$\n",
    "\n",
    "$\\sum_{i=0}^{n-1} e^{\\frac{3i}{n}} \\cdot \\frac{3}{n} =$\n",
    "\n",
    "---\n",
    "\n",
    "ex:\n",
    "\n",
    "$\\lim\\limits_{n \\to \\inf} \\sum_{i=1}^{n} sin\\left( \\frac{\\pi}{4} + \\frac{\\pi i}{2n} \\right) \\cdot \\frac{\\pi i}{2n}$\n",
    "\n",
    "Assume: $\\Delta x = \\frac{3\\pi}{4} - \\frac{\\pi}{4} = \\frac{\\pi}{2}$\n",
    "\n",
    "Then its equal to: $\\int_{\\frac{\\pi}{2}}^{\\frac{3\\pi}{4}} sin(x) dx$\n",
    "\n",
    "---\n",
    "\n",
    "ex:\n",
    "\n",
    "$\\int_{-2}^{3}(x+1)dx =$\n",
    "\n",
    "$\\Delta x = \\frac{b - a}{n} = \\frac{3 - (-2)}{n} = \\frac{5}{n}$\n",
    "\n",
    "$\\sum_{i=0}^{n-1} f(a + (i)\\Delta x) \\cdot \\Delta x =$\n",
    "\n",
    "$\\sum_{i=0}^{n-1} f(-2 + (i)\\frac{5}{n}) \\cdot \\frac{5}{n} =$\n",
    "\n",
    "Evaluate func $(x+1)$\n",
    "\n",
    "$\\sum_{i=0}^{n-1} \\left[ (-2 + (i)\\frac{5}{n}) + 1 \\right] \\cdot \\frac{5}{n} =$\n",
    "\n",
    "$\\sum_{i=0}^{n-1} \\left[ -1 + \\frac{5i}{n} \\right] \\cdot \\frac{5}{n}$"
   ]
  },
  {
   "cell_type": "code",
   "execution_count": null,
   "metadata": {},
   "outputs": [],
   "source": []
  },
  {
   "cell_type": "markdown",
   "metadata": {},
   "source": [
    "# Trapezoidal sums\n",
    "\n",
    "### $\\Delta x = \\frac{e - b}{n}$\n",
    "\n",
    "### $\\frac{f(1) + f(2)}{2}\\Delta x$\n",
    "\n",
    "### $\\sum_{i=b}^{n=e} \\frac{f(i) + f(i+1)}{2}\\Delta x$"
   ]
  },
  {
   "cell_type": "code",
   "execution_count": null,
   "metadata": {},
   "outputs": [],
   "source": [
    "x = [0, 3, 6, 9]\n",
    "f = [8, 6, 3, 4]\n",
    "\n",
    "# if subdivision equal (here dx=3 always)\n",
    "if True:\n",
    "    dx = x[1] - x[0]\n",
    "else:\n",
    "    dx = (x[-1] - x[0]) / len(x)\n",
    "\n",
    "sums = sum([((f[i] + f[i+1]) / 2) * dx for i in range(len(f) - 1)])\n",
    "sums"
   ]
  },
  {
   "cell_type": "code",
   "execution_count": null,
   "metadata": {},
   "outputs": [],
   "source": []
  },
  {
   "cell_type": "markdown",
   "metadata": {},
   "source": [
    "# Antiderivative _(indefinite integral)_\n",
    "\n",
    "$\\int 56cos(8z - 5)dz = 7sin(8z - 5) + C$\n",
    "\n",
    "$\\int -56sin(7z - 5)dz = 8cos(7z - 5) + C$\n",
    "\n",
    "$\\int 56cos(7z - 5)dz = 8sin(7z - 5) + C$"
   ]
  },
  {
   "cell_type": "code",
   "execution_count": null,
   "metadata": {},
   "outputs": [],
   "source": []
  },
  {
   "cell_type": "markdown",
   "metadata": {},
   "source": [
    "# Evaluate the definite integral"
   ]
  },
  {
   "cell_type": "markdown",
   "metadata": {},
   "source": [
    "$\\int_{a}^{b}f(x)dx = F(b) - F(a)$"
   ]
  },
  {
   "cell_type": "code",
   "execution_count": null,
   "metadata": {},
   "outputs": [],
   "source": []
  },
  {
   "cell_type": "markdown",
   "metadata": {},
   "source": [
    "$\\int_{-3}^{5}4dx$\n",
    "\n",
    "${(4x)}' = 4$\n",
    "\n",
    "$\\int_{-3}^{5}4dx = 4x|_{3}^{5} = 4(5) - 4(-3) = 20 + 12 = 32$"
   ]
  },
  {
   "cell_type": "code",
   "execution_count": null,
   "metadata": {},
   "outputs": [],
   "source": []
  },
  {
   "cell_type": "markdown",
   "metadata": {},
   "source": [
    "$\\int_{-1}^{3} 7x^2dx$\n",
    "\n",
    "${(\\frac{7x^3}{3})}' = 7x^2$\n",
    "\n",
    "$\\int_{-1}^{3}4dx = \\frac{7x^3}{3}|_{-1}^{3} = \\frac{7(3)^3}{3} - \\frac{7(-1)^3}{3}$"
   ]
  },
  {
   "cell_type": "code",
   "execution_count": null,
   "metadata": {},
   "outputs": [],
   "source": []
  },
  {
   "cell_type": "markdown",
   "metadata": {},
   "source": [
    "$\\int_{1}^{6} 2dx$\n",
    "\n",
    "${(2x)}' = 2$\n",
    "\n",
    "$\\int_{1}^{6}4dx = 2x|_{1}^{6} = 12 - 2 = 10$\n",
    "\n",
    "_('cause F has no slope - rectangular area, so u can just `end - begin * C`)_"
   ]
  },
  {
   "cell_type": "code",
   "execution_count": null,
   "metadata": {},
   "outputs": [],
   "source": []
  },
  {
   "cell_type": "markdown",
   "metadata": {},
   "source": [
    "$\\int_{-1}^{1} (9x^2 + 6x - 3) dx$\n",
    "\n",
    "$\\frac{9x^3}{3} + \\frac{6x^2}{2} - 3x |_{-1}^{1} =$\n",
    "\n",
    "$3x^3 + 3x^2 - 3x|_{-1}^{1} =$\n",
    "\n",
    "$3(1)^3 + 3(1)^2 - 3(1) - (3(-1)^3 + 3(-1)^2 - 3(-1)) = 0$"
   ]
  },
  {
   "cell_type": "code",
   "execution_count": null,
   "metadata": {},
   "outputs": [],
   "source": []
  },
  {
   "cell_type": "markdown",
   "metadata": {},
   "source": [
    "# Find area"
   ]
  },
  {
   "cell_type": "markdown",
   "metadata": {},
   "source": [
    "$f(x) = 2 + 2cos(x)$\n",
    "\n",
    "We first need to find the x-intercept of the function. Set $f(x) = 0$\n",
    "\n",
    "$2 + 2cos(x) = 0$\n",
    "\n",
    "$2cos(x) = -2$\n",
    "\n",
    "$cos(x) = -\\frac{2}{2}$\n",
    "\n",
    "$cos(x) = -1$\n",
    "\n",
    "The first positive solution to this equation is $x = \\pi$\n",
    "\n",
    "The area described is given by the definite integral:\n",
    "\n",
    "$\\int_{0}^{\\pi} (2+2cos(x))dx =$\n",
    "\n",
    "$(2x + 2sin(x))|_{0}^{\\pi} =$\n",
    "\n",
    "$(2\\pi + 2sin(\\pi)) - (2(0) + 2sin(0)) =$\n",
    "\n",
    "$(2\\pi + 0) - (0)$\n",
    "\n",
    "area: $2\\pi$"
   ]
  },
  {
   "cell_type": "code",
   "execution_count": null,
   "metadata": {},
   "outputs": [],
   "source": []
  }
 ],
 "metadata": {
  "kernelspec": {
   "display_name": "Python 3",
   "language": "python",
   "name": "python3"
  },
  "language_info": {
   "codemirror_mode": {
    "name": "ipython",
    "version": 3
   },
   "file_extension": ".py",
   "mimetype": "text/x-python",
   "name": "python",
   "nbconvert_exporter": "python",
   "pygments_lexer": "ipython3",
   "version": "3.6.8"
  }
 },
 "nbformat": 4,
 "nbformat_minor": 2
}

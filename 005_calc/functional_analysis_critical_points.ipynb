{
 "cells": [
  {
   "cell_type": "code",
   "execution_count": null,
   "metadata": {},
   "outputs": [],
   "source": [
    "import pandas as pd\n",
    "import numpy as np\n",
    "\n",
    "import seaborn as sns\n",
    "import matplotlib.pyplot as plt\n",
    "plt.style.use('seaborn')\n",
    "\n",
    "%matplotlib inline"
   ]
  },
  {
   "cell_type": "code",
   "execution_count": null,
   "metadata": {},
   "outputs": [],
   "source": [
    "from IPython.core.interactiveshell import InteractiveShell\n",
    "InteractiveShell.ast_node_interactivity = \"all\""
   ]
  },
  {
   "cell_type": "code",
   "execution_count": null,
   "metadata": {},
   "outputs": [],
   "source": [
    "# from IPython.core.display import SVG"
   ]
  },
  {
   "cell_type": "code",
   "execution_count": null,
   "metadata": {},
   "outputs": [],
   "source": [
    "import math"
   ]
  },
  {
   "cell_type": "code",
   "execution_count": null,
   "metadata": {},
   "outputs": [],
   "source": [
    "np.set_printoptions(precision=2, suppress=True)"
   ]
  },
  {
   "cell_type": "markdown",
   "metadata": {},
   "source": [
    "# Plot"
   ]
  },
  {
   "cell_type": "code",
   "execution_count": null,
   "metadata": {},
   "outputs": [],
   "source": [
    "def plot(func, interval, x_points=None):\n",
    "    xs = np.linspace(interval[0], interval[1], 100)\n",
    "    ys = [func(x) for x in xs]\n",
    "\n",
    "    fig, ax = plt.subplots(1,1, sharex='col', figsize = (10, 5))\n",
    "    ax.axhline(0, color='g', linestyle='--')\n",
    "\n",
    "    if x_points is not None:\n",
    "        for p in x_points:\n",
    "            ax.axvline(p, c='gray', alpha=0.7, linestyle='--')\n",
    "\n",
    "    ax.plot(xs, ys, color='blue')"
   ]
  },
  {
   "cell_type": "markdown",
   "metadata": {},
   "source": [
    "# Critical points - first derivative $f'=0$ or undefined"
   ]
  },
  {
   "cell_type": "markdown",
   "metadata": {},
   "source": [
    "$h(x) = x^5 + x^4$\n",
    "\n",
    "${h}'(x) = 5x^4 + 4x^3$\n",
    "\n",
    "${h}'(x) = x^3(5x + 4)$\n",
    "\n",
    "---\n",
    "\n",
    "$5x + 4 = 0$\n",
    "\n",
    "$5x = -4$\n",
    "\n",
    "$x = -\\frac{4}{5}$\n",
    "\n",
    "---\n",
    "\n",
    "Critical point (zero): $x = -\\frac{4}{5}$ and $x = 0$\n",
    "\n",
    "Critical point (undefined): Within a domain no undefined"
   ]
  },
  {
   "cell_type": "code",
   "execution_count": null,
   "metadata": {},
   "outputs": [],
   "source": [
    "def h(x): return x**5 + x**4\n",
    "def hp(x): return 5*x**4 + 4*x**3"
   ]
  },
  {
   "cell_type": "code",
   "execution_count": null,
   "metadata": {},
   "outputs": [],
   "source": [
    "interval=[-1.5, 1]"
   ]
  },
  {
   "cell_type": "code",
   "execution_count": null,
   "metadata": {},
   "outputs": [],
   "source": [
    "plot(h, interval=interval)"
   ]
  },
  {
   "cell_type": "code",
   "execution_count": null,
   "metadata": {},
   "outputs": [],
   "source": [
    "plot(hp, interval=interval)"
   ]
  },
  {
   "cell_type": "markdown",
   "metadata": {},
   "source": [
    "# * * *"
   ]
  },
  {
   "cell_type": "markdown",
   "metadata": {},
   "source": [
    "$f = sin(2x), \\left[ -\\frac{\\pi}{2}, \\frac{\\pi}{2} \\right]$\n",
    "\n",
    "$f' = 2cos(2x)$\n",
    "\n",
    "---\n",
    "\n",
    "$2cos(2x) = 0, \\left[ -\\frac{\\pi}{2}, \\frac{\\pi}{2} \\right]$\n",
    "\n",
    "$arccos(cos(2x)) = arccos(0)$\n",
    "\n",
    "$2x = \\pm \\frac{\\pi}{2}$\n",
    "\n",
    "$x = \\pm \\frac{\\pi}{4}$\n",
    "\n",
    "---\n",
    "\n",
    "Critical point (zero): $x = -\\frac{\\pi}{4}$ and $x = \\frac{\\pi}{4}$\n",
    "\n",
    "Critical point (undefined): Within a domain no undefined"
   ]
  },
  {
   "cell_type": "code",
   "execution_count": null,
   "metadata": {},
   "outputs": [],
   "source": [
    "def f(x): return math.sin(2 * x)\n",
    "def fp(x): return 2*math.cos(2 * x)"
   ]
  },
  {
   "cell_type": "code",
   "execution_count": null,
   "metadata": {},
   "outputs": [],
   "source": [
    "interval=[-math.pi/2, math.pi/2]"
   ]
  },
  {
   "cell_type": "code",
   "execution_count": null,
   "metadata": {},
   "outputs": [],
   "source": [
    "plot(f, interval=interval)"
   ]
  },
  {
   "cell_type": "code",
   "execution_count": null,
   "metadata": {},
   "outputs": [],
   "source": [
    "plot(fp, interval=interval)"
   ]
  },
  {
   "cell_type": "code",
   "execution_count": null,
   "metadata": {},
   "outputs": [],
   "source": []
  }
 ],
 "metadata": {
  "kernelspec": {
   "display_name": "Python 3",
   "language": "python",
   "name": "python3"
  },
  "language_info": {
   "codemirror_mode": {
    "name": "ipython",
    "version": 3
   },
   "file_extension": ".py",
   "mimetype": "text/x-python",
   "name": "python",
   "nbconvert_exporter": "python",
   "pygments_lexer": "ipython3",
   "version": "3.6.7"
  }
 },
 "nbformat": 4,
 "nbformat_minor": 2
}

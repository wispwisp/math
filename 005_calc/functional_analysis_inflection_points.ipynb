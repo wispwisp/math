{
 "cells": [
  {
   "cell_type": "code",
   "execution_count": null,
   "metadata": {},
   "outputs": [],
   "source": [
    "import pandas as pd\n",
    "import numpy as np\n",
    "\n",
    "import seaborn as sns\n",
    "import matplotlib.pyplot as plt\n",
    "plt.style.use('seaborn')\n",
    "\n",
    "%matplotlib inline"
   ]
  },
  {
   "cell_type": "code",
   "execution_count": null,
   "metadata": {},
   "outputs": [],
   "source": [
    "from IPython.core.interactiveshell import InteractiveShell\n",
    "InteractiveShell.ast_node_interactivity = \"all\""
   ]
  },
  {
   "cell_type": "code",
   "execution_count": null,
   "metadata": {},
   "outputs": [],
   "source": [
    "# from IPython.core.display import SVG"
   ]
  },
  {
   "cell_type": "code",
   "execution_count": null,
   "metadata": {},
   "outputs": [],
   "source": [
    "import math"
   ]
  },
  {
   "cell_type": "code",
   "execution_count": null,
   "metadata": {},
   "outputs": [],
   "source": [
    "np.set_printoptions(precision=2, suppress=True)"
   ]
  },
  {
   "cell_type": "markdown",
   "metadata": {},
   "source": [
    "# Plot"
   ]
  },
  {
   "cell_type": "code",
   "execution_count": null,
   "metadata": {},
   "outputs": [],
   "source": [
    "def plot(func, interval, x_points=None):\n",
    "    xs = np.linspace(interval[0], interval[1], 100)\n",
    "    ys = [func(x) for x in xs]\n",
    "\n",
    "    fig, ax = plt.subplots(1,1, sharex='col', figsize = (10, 5))\n",
    "    ax.axhline(0, color='g', linestyle='--')\n",
    "\n",
    "    if x_points is not None:\n",
    "        for p in x_points:\n",
    "            ax.axvline(p, c='gray', alpha=0.7, linestyle='--')\n",
    "\n",
    "    ax.plot(xs, ys, color='blue')"
   ]
  },
  {
   "cell_type": "markdown",
   "metadata": {},
   "source": [
    "inflection point - second derivative changes its sign. _(function start to change its speed direction)_"
   ]
  },
  {
   "cell_type": "markdown",
   "metadata": {},
   "source": [
    "# * * *"
   ]
  },
  {
   "cell_type": "markdown",
   "metadata": {},
   "source": [
    "# $f = x^4 + 4x^3 - 18x^2$"
   ]
  },
  {
   "cell_type": "markdown",
   "metadata": {},
   "source": [
    "# $f' = 4x^3 + 12x^2 - 36x$"
   ]
  },
  {
   "cell_type": "markdown",
   "metadata": {},
   "source": [
    "# $f'' = 12x^2 + 24x - 36$"
   ]
  },
  {
   "cell_type": "markdown",
   "metadata": {},
   "source": [
    "# $12(x^2 + 2x - 3)$"
   ]
  },
  {
   "cell_type": "markdown",
   "metadata": {},
   "source": [
    "$a + b = 2$\n",
    "\n",
    "$ab = -3$\n",
    "\n",
    "$(3, -1)$"
   ]
  },
  {
   "cell_type": "markdown",
   "metadata": {},
   "source": [
    "---\n",
    "\n",
    "Critical points _(The critical points, of a function are the $x$ values where $f''(x) = 0$ or undefined)_:\n",
    "\n",
    "$12x^2 + 24x - 36$\n",
    "\n",
    "$12(x^2 + 2x - 3)$\n",
    "\n",
    "$a + b = 2$\n",
    "\n",
    "$ab = -3$\n",
    "\n",
    "$(3, -1)$\n",
    "\n",
    "$x_1 = -3$\n",
    "\n",
    "$x_2 = 1$\n",
    "\n",
    "Evalute second derivative within critical points intervals _(Take any number within that interval)_:\n",
    "\n",
    "$(-\\infty, -3) \\rightarrow \\left[f''(-4)=60\\right]$\n",
    "\n",
    "_(sign changes) - inflection point_\n",
    "\n",
    "$(-3, 1) \\rightarrow \\left[f''(0)=-36\\right]$\n",
    "\n",
    "_(sign changes) - inflection point_\n",
    "\n",
    "$(1, \\infty) \\rightarrow \\left[f''(2)=60\\right]$"
   ]
  },
  {
   "cell_type": "code",
   "execution_count": null,
   "metadata": {},
   "outputs": [],
   "source": [
    "def f(x): return x**4 + 4*x**3 - 18*x**2\n",
    "def fp(x): return 4*x**3 + 12*x**2 - 36*x\n",
    "def fpp(x): return 12*x**2 + 24*x - 36"
   ]
  },
  {
   "cell_type": "code",
   "execution_count": null,
   "metadata": {},
   "outputs": [],
   "source": [
    "plot(f, interval=[-5, 4], x_points=[-3,1])"
   ]
  },
  {
   "cell_type": "code",
   "execution_count": null,
   "metadata": {},
   "outputs": [],
   "source": [
    "plot(fp, interval=[-5, 4], x_points=[-3,1])"
   ]
  },
  {
   "cell_type": "code",
   "execution_count": null,
   "metadata": {},
   "outputs": [],
   "source": [
    "plot(fpp, interval=[-5, 4], x_points=[-3,1])"
   ]
  },
  {
   "cell_type": "code",
   "execution_count": null,
   "metadata": {},
   "outputs": [],
   "source": []
  }
 ],
 "metadata": {
  "kernelspec": {
   "display_name": "Python 3",
   "language": "python",
   "name": "python3"
  },
  "language_info": {
   "codemirror_mode": {
    "name": "ipython",
    "version": 3
   },
   "file_extension": ".py",
   "mimetype": "text/x-python",
   "name": "python",
   "nbconvert_exporter": "python",
   "pygments_lexer": "ipython3",
   "version": "3.6.7"
  }
 },
 "nbformat": 4,
 "nbformat_minor": 2
}

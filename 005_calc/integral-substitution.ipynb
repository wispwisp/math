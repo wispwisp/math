{
 "cells": [
  {
   "cell_type": "code",
   "execution_count": null,
   "metadata": {},
   "outputs": [],
   "source": [
    "import pandas as pd\n",
    "import numpy as np\n",
    "\n",
    "import seaborn as sns\n",
    "import matplotlib.pyplot as plt\n",
    "plt.style.use('seaborn')\n",
    "\n",
    "%matplotlib inline"
   ]
  },
  {
   "cell_type": "code",
   "execution_count": null,
   "metadata": {},
   "outputs": [],
   "source": [
    "from IPython.core.interactiveshell import InteractiveShell\n",
    "InteractiveShell.ast_node_interactivity = \"all\""
   ]
  },
  {
   "cell_type": "code",
   "execution_count": null,
   "metadata": {},
   "outputs": [],
   "source": [
    "from IPython.core.display import SVG"
   ]
  },
  {
   "cell_type": "code",
   "execution_count": null,
   "metadata": {},
   "outputs": [],
   "source": [
    "import math"
   ]
  },
  {
   "cell_type": "code",
   "execution_count": null,
   "metadata": {},
   "outputs": [],
   "source": []
  },
  {
   "cell_type": "markdown",
   "metadata": {},
   "source": [
    "# Substitution is about reversing the chain rule\n",
    "\n",
    "According to the chain rule, the derivative of $w(u(x))$ is $w'(u(x)) \\cdot u'(x)$\n",
    "\n",
    "In substitution, we take an expression of the form $w'(u(x)) \\cdot u'(x)$ and find its antiderivative$w(u(x))$"
   ]
  },
  {
   "cell_type": "code",
   "execution_count": null,
   "metadata": {},
   "outputs": [],
   "source": []
  },
  {
   "cell_type": "markdown",
   "metadata": {},
   "source": [
    "$\\int 2x cos(x^2) dx$\n",
    "\n",
    "Define function:\n",
    "\n",
    "$u = x^2$\n",
    "\n",
    "Use substitution:\n",
    "\n",
    "$\\frac{d}{dx} u = \\frac{d}{dx} x^2$\n",
    "\n",
    "$\\frac{du}{dx} = 2x$\n",
    "\n",
    "$du = 2x \\cdot dx$\n",
    "\n",
    "Then rearange and substitute:\n",
    "\n",
    "$\\int 2x cos(x^2) dx$\n",
    "\n",
    "$\\int cos(x^2) 2x \\cdot dx$\n",
    "\n",
    "$\\int cos(u) du$\n",
    "\n",
    "$\\int cos(u) du = sin(u) + C$\n",
    "\n",
    "$\\int cos(u) du = sin(u) + C = sin(x^2) + C$"
   ]
  },
  {
   "cell_type": "code",
   "execution_count": null,
   "metadata": {},
   "outputs": [],
   "source": []
  },
  {
   "cell_type": "markdown",
   "metadata": {},
   "source": [
    "$\\int (2x + 7)^3 dx$\n",
    "\n",
    "$u = 2x + 7$\n",
    "\n",
    "$du = 2dx$\n",
    "\n",
    "multiply and divide to get substitution\n",
    "\n",
    "$\\frac{1}{2}\\int 2(2x + 7)^3 dx$\n",
    "\n",
    "$\\frac{1}{2}\\int (2x + 7)^3 2dx$\n",
    "\n",
    "$\\frac{1}{2}\\int u^3 du$\n",
    "\n",
    "$\\frac{1}{2} \\frac{1}{4}u^4 + C$\n",
    "\n",
    "$\\frac{(2x+7)^4}{8} + C$"
   ]
  },
  {
   "cell_type": "code",
   "execution_count": null,
   "metadata": {},
   "outputs": [],
   "source": []
  },
  {
   "cell_type": "markdown",
   "metadata": {},
   "source": [
    "$\\int (2x - 5)^{10} dx$\n",
    "\n",
    "$u = 2x - 5$\n",
    "\n",
    "$du = 2dx$\n",
    "\n",
    "---\n",
    "\n",
    "$\\frac{1}{2} \\int (2x - 5)^{10} 2dx$\n",
    "\n",
    "$\\frac{1}{2} \\int u^{10} du$\n",
    "\n",
    "$\\frac{1}{2} \\frac{1}{11}u^{11} + C$\n",
    "\n",
    "$\\frac{(2x - 5)^{11}}{22} + C$"
   ]
  },
  {
   "cell_type": "code",
   "execution_count": null,
   "metadata": {},
   "outputs": [],
   "source": []
  },
  {
   "cell_type": "markdown",
   "metadata": {},
   "source": [
    "$\\int e^{2x} dx$\n",
    "\n",
    "$u = 2x$\n",
    "\n",
    "$du = 2dx$\n",
    "\n",
    "---\n",
    "\n",
    "$\\frac{1}{2} \\int e^{2x} 2 dx$\n",
    "\n",
    "$\\frac{1}{2} \\int e^{u} du$\n",
    "\n",
    "$\\frac{1}{2} e^{u} + C$\n",
    "\n",
    "$\\frac{1}{2} e^{2x} + C$"
   ]
  },
  {
   "cell_type": "code",
   "execution_count": null,
   "metadata": {},
   "outputs": [],
   "source": []
  },
  {
   "cell_type": "markdown",
   "metadata": {},
   "source": [
    "$\\int 3x^2 (x^3 + 1)^{6} dx$\n",
    "\n",
    "$u = x^3 + 1$\n",
    "\n",
    "$du = 3x^2 dx$\n",
    "\n",
    "---\n",
    "\n",
    "$\\int (x^3 + 1)^{6} 3x^2 dx$\n",
    "\n",
    "$\\int u^{6} du$\n",
    "\n",
    "$\\frac{1}{7}u^7 + C$\n",
    "\n",
    "$\\frac{(x^3 + 1)^7}{7} + C$"
   ]
  },
  {
   "cell_type": "code",
   "execution_count": null,
   "metadata": {},
   "outputs": [],
   "source": []
  },
  {
   "cell_type": "markdown",
   "metadata": {},
   "source": [
    "$\\int sin^3(x)cos(x)dx$\n",
    "\n",
    "$u = sin(x)$\n",
    "\n",
    "$du = cos(x)dx$\n",
    "\n",
    "---\n",
    "\n",
    "$\\int u^3 du$\n",
    "\n",
    "$\\frac{1}{4} u^4 + C$\n",
    "\n",
    "$\\frac{sin^4(x)}{4} + C$"
   ]
  },
  {
   "cell_type": "code",
   "execution_count": null,
   "metadata": {},
   "outputs": [],
   "source": []
  }
 ],
 "metadata": {
  "kernelspec": {
   "display_name": "Python 3",
   "language": "python",
   "name": "python3"
  },
  "language_info": {
   "codemirror_mode": {
    "name": "ipython",
    "version": 3
   },
   "file_extension": ".py",
   "mimetype": "text/x-python",
   "name": "python",
   "nbconvert_exporter": "python",
   "pygments_lexer": "ipython3",
   "version": "3.6.8"
  }
 },
 "nbformat": 4,
 "nbformat_minor": 2
}

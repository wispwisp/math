{
 "cells": [
  {
   "cell_type": "code",
   "execution_count": null,
   "metadata": {},
   "outputs": [],
   "source": [
    "import pandas as pd\n",
    "import numpy as np\n",
    "\n",
    "# import seaborn as sns\n",
    "# import matplotlib.pyplot as plt\n",
    "\n",
    "# import matplotlib\n",
    "# matplotlib.pyplot.style.use('seaborn')\n",
    "# matplotlib.rcParams['figure.figsize'] = (15, 5)\n",
    "\n",
    "# %matplotlib inline"
   ]
  },
  {
   "cell_type": "code",
   "execution_count": null,
   "metadata": {},
   "outputs": [],
   "source": [
    "from IPython.core.interactiveshell import InteractiveShell\n",
    "InteractiveShell.ast_node_interactivity = \"all\""
   ]
  },
  {
   "cell_type": "code",
   "execution_count": null,
   "metadata": {},
   "outputs": [],
   "source": [
    "from IPython.core.display import SVG"
   ]
  },
  {
   "cell_type": "code",
   "execution_count": null,
   "metadata": {},
   "outputs": [],
   "source": [
    "import math"
   ]
  },
  {
   "cell_type": "code",
   "execution_count": null,
   "metadata": {},
   "outputs": [],
   "source": []
  },
  {
   "cell_type": "markdown",
   "metadata": {},
   "source": [
    "# $\\frac{d}{dx}\\left[ ... \\right]$"
   ]
  },
  {
   "cell_type": "code",
   "execution_count": null,
   "metadata": {},
   "outputs": [],
   "source": []
  },
  {
   "cell_type": "markdown",
   "metadata": {},
   "source": [
    "# $\\frac{d}{dx}\\left[ arcsin(x) \\right] = \\frac{1}{\\sqrt{1 - x^2}}$\n",
    "\n",
    "$y = sin^{-1}(x)$\n",
    "\n",
    "$sin(y) = sin(sin^{-1}(x))$\n",
    "\n",
    "$sin(y) = x$\n",
    "\n",
    "$\\frac{d}{dx}sin(y) = \\frac{d}{dx}x$\n",
    "\n",
    "$\\frac{d}{dy}sin(y) \\cdot \\frac{dy}{dx} = 1$\n",
    "\n",
    "$cos(y)\\frac{dy}{dx} = 1$\n",
    "\n",
    "$\\frac{dy}{dx} = \\frac{1}{cos(y)}$\n",
    "\n",
    "Express derivative in terms of x:\n",
    "\n",
    "$sin^2(y) + cos^2(y) = 1$\n",
    "\n",
    "$cos^2(y) = 1 - sin^2(y)$\n",
    "\n",
    "$cos(y) = \\sqrt{1 - sin^2(y)}$\n",
    "\n",
    "Abowe we defined $sin(y) = x$, so:\n",
    "\n",
    "$cos(y) = \\sqrt{1 - x^2}$\n",
    "\n",
    "$\\frac{dy}{dx} = \\frac{1}{\\sqrt{1 - x^2}}$"
   ]
  },
  {
   "cell_type": "code",
   "execution_count": null,
   "metadata": {},
   "outputs": [],
   "source": []
  },
  {
   "cell_type": "markdown",
   "metadata": {},
   "source": [
    "# $\\frac{d}{dx}\\left[ arccos(x) \\right] = -\\frac{1}{\\sqrt{1 - x^2}}$\n",
    "\n",
    "$y = cos^{-1}(x)$\n",
    "\n",
    "$cos(y) = cos(cos^{-1}(x))$\n",
    "\n",
    "$cos(y) = x$\n",
    "\n",
    "$\\frac{d}{dx}cos(y) = \\frac{d}{dx}x$\n",
    "\n",
    "$\\frac{d}{dy}cos(y) \\cdot \\frac{dy}{dx} = 1$\n",
    "\n",
    "$-sin(y)\\frac{dy}{dx} = 1$\n",
    "\n",
    "$\\frac{dy}{dx} = -\\frac{1}{sin(y)}$\n",
    "\n",
    "Express derivative in terms of x:\n",
    "\n",
    "$sin^2(y) + cos^2(y) = 1$\n",
    "\n",
    "$sin^2(y) = 1 - cos^2(y)$\n",
    "\n",
    "$sin(y) = \\sqrt{1 - cos^2(y)}$\n",
    "\n",
    "Abowe we defined $cos(y) = x$, so:\n",
    "\n",
    "$sin(y) = \\sqrt{1 - x^2}$\n",
    "\n",
    "$\\frac{dy}{dx} = -\\frac{1}{\\sqrt{1 - x^2}}$"
   ]
  },
  {
   "cell_type": "code",
   "execution_count": null,
   "metadata": {},
   "outputs": [],
   "source": []
  },
  {
   "cell_type": "markdown",
   "metadata": {},
   "source": [
    "# $\\frac{d}{dx}\\left[ arctan(x) \\right] = \\frac{1}{1 + x^2}$\n",
    "\n",
    "$y = tan^{-1}(x)$\n",
    "\n",
    "$tan(y) = tan(cos^{-1}(x))$\n",
    "\n",
    "$tan(y) = x$\n",
    "\n",
    "$\\frac{d}{dx}tan(y) = \\frac{d}{dx}x$\n",
    "\n",
    "$\\frac{d}{dy}tan(y) \\cdot \\frac{dy}{dx} = 1$\n",
    "\n",
    "$\\frac{1}{cos^2(y)}\\frac{dy}{dx} = 1$\n",
    "\n",
    "$\\frac{dy}{dx} = cos^2(y)$\n",
    "\n",
    "Express derivative in terms of x:\n",
    "\n",
    "$cos^2(y) = \\frac{cos^2(y)}{1} = \\frac{cos^2(y)}{sin^2(y) + cos^2(y)}$\n",
    "\n",
    "$\\frac{cos^2(y)}{sin^2(y) + cos^2(y)} \\cdot \\frac{1 \\over cos^2(y)}{1 \\over cos^2(y)} = \\frac{1}{tan^2(y) + 1}$\n",
    "\n",
    "Abowe we defined $tan(y) = x$, so:\n",
    "\n",
    "$\\frac{dy}{dx} = \\frac{1}{tan^2(y) + 1} = \\frac{1}{1 + x^2}$"
   ]
  },
  {
   "cell_type": "code",
   "execution_count": null,
   "metadata": {},
   "outputs": [],
   "source": []
  },
  {
   "cell_type": "markdown",
   "metadata": {},
   "source": [
    "# Power rule"
   ]
  },
  {
   "cell_type": "code",
   "execution_count": null,
   "metadata": {},
   "outputs": [],
   "source": []
  },
  {
   "cell_type": "markdown",
   "metadata": {},
   "source": [
    "# $\\frac{d}{dx}\\left[ x^n \\right] = nx^{n-1}$\n",
    "\n",
    "$\\lim\\limits_{\\Delta x \\to 0} \\frac{(x + \\Delta x)^n - x^n}{\\Delta x}$\n",
    "\n",
    "$\\lim\\limits_{\\Delta x \\to 0} \\frac{\n",
    "x^n + {n\\choose 1}x^{n - 1}(\\Delta x)^1 + {n\\choose 2}x^{n - 2}(\\Delta x)^2 + ... + {n\\choose n}x^{0}(\\Delta x)^n - x^n\n",
    "}{\\Delta x}$\n",
    "\n",
    "$x^n$ cancel each other:\n",
    "\n",
    "$\\lim\\limits_{\\Delta x \\to 0} \\frac{\n",
    "{n\\choose 1}x^{n - 1}(\\Delta x)^1 + {n\\choose 2}x^{n - 2}(\\Delta x)^2 + ... + {n\\choose n}x^{0}(\\Delta x)^n\n",
    "}{\\Delta x}$\n",
    "\n",
    "Now each term has $\\Delta x$ in it, so division alowed:\n",
    "\n",
    "$\\lim\\limits_{\\Delta x \\to 0}\n",
    "{n\\choose 1}x^{n - 1} + {n\\choose 2}x^{n - 2}(\\Delta x)^1 + ... + {n\\choose n}x^{0}(\\Delta x)^{n-1}\n",
    "$\n",
    "\n",
    "As ${\\Delta x \\to 0}$, almost all terms aproach zero, so:\n",
    "\n",
    "$\\lim\\limits_{\\Delta x \\to 0}{n\\choose 1}x^{n - 1} = nx^{n-1}$"
   ]
  },
  {
   "cell_type": "code",
   "execution_count": null,
   "metadata": {},
   "outputs": [],
   "source": []
  },
  {
   "cell_type": "markdown",
   "metadata": {},
   "source": [
    "# $\\frac{d}{dx}\\left[ \\sqrt{x} \\right]$\n",
    "\n",
    "$\\lim\\limits_{\\Delta x \\to 0} \\frac{\\sqrt{x + \\Delta x} - \\sqrt{x}}{\\Delta x}$\n",
    "\n",
    "\n",
    "$\\lim\\limits_{\\Delta x \\to 0} \\frac{\\sqrt{x + \\Delta x} - \\sqrt{x}}{\\Delta x}\n",
    "\\cdot \\frac{\\sqrt{x + \\Delta x} + \\sqrt{x}}{\\sqrt{x + \\Delta x} + \\sqrt{x}}$\n",
    "\n",
    "\n",
    "$\\lim\\limits_{\\Delta x \\to 0} \\frac{x + \\Delta x -x}{(\\Delta x)(\\sqrt{x + \\Delta x} + \\sqrt{x})}$\n",
    "\n",
    "\n",
    "$\\lim\\limits_{\\Delta x \\to 0} \\frac{\\Delta x}{(\\Delta x)(\\sqrt{x + \\Delta x} + \\sqrt{x})}$\n",
    "\n",
    "\n",
    "$\\lim\\limits_{\\Delta x \\to 0} \\frac{1}{\\sqrt{x + \\Delta x} + \\sqrt{x}}$\n",
    "\n",
    "As ${\\Delta x \\to 0}$:\n",
    "\n",
    "$\\lim\\limits_{\\Delta x \\to 0} \\frac{1}{\\sqrt{x} + \\sqrt{x}}$\n",
    "\n",
    "$\\lim\\limits_{\\Delta x \\to 0} \\frac{1}{2\\sqrt{x}}$"
   ]
  },
  {
   "cell_type": "code",
   "execution_count": null,
   "metadata": {},
   "outputs": [],
   "source": []
  },
  {
   "cell_type": "markdown",
   "metadata": {},
   "source": [
    "# $\\frac{d}{dx}\\left[ \\sqrt[n]{x} \\right] = \\lim\\limits_{\\Delta x \\to 0} \\frac{1}{n\\sqrt[n]{x^{n-1}}}$\n",
    "\n",
    "\n",
    "$x^{1\\over2} = \\frac{1}{2}x^{{1\\over 2} - 1}$\n",
    "\n",
    "$x^{1\\over2} = \\frac{1}{2}x^{-{1\\over 2}}$\n",
    "\n",
    "$x^{1\\over2} = \\frac{1}{2} \\cdot \\frac{1}{x^{1\\over2}} = \\frac{1}{2\\sqrt{x}}$\n",
    "\n",
    "---\n",
    "\n",
    "$x^{1\\over3} = \\frac{1}{3}x^{{1\\over 3} - 1}$\n",
    "\n",
    "$x^{1\\over3} = \\frac{1}{3}x^{-{2\\over 3}}$\n",
    "\n",
    "$x^{1\\over3} = \\frac{1}{3} \\cdot \\frac{1}{x^{2\\over3}} = \\frac{1}{3\\sqrt[3]{x^2}}$\n",
    "\n",
    "---\n",
    "\n",
    "$x^{1\\over4} = \\frac{1}{4}x^{{1\\over 4} - 1}$\n",
    "\n",
    "$x^{1\\over4} = \\frac{1}{4}x^{-{3\\over 4}}$\n",
    "\n",
    "$x^{1\\over4} = \\frac{1}{4} \\cdot \\frac{1}{x^{3\\over4}} = \\frac{1}{4\\sqrt[4]{x^3}}$"
   ]
  },
  {
   "cell_type": "code",
   "execution_count": null,
   "metadata": {},
   "outputs": [],
   "source": []
  }
 ],
 "metadata": {
  "kernelspec": {
   "display_name": "Python 3",
   "language": "python",
   "name": "python3"
  },
  "language_info": {
   "codemirror_mode": {
    "name": "ipython",
    "version": 3
   },
   "file_extension": ".py",
   "mimetype": "text/x-python",
   "name": "python",
   "nbconvert_exporter": "python",
   "pygments_lexer": "ipython3",
   "version": "3.6.8"
  }
 },
 "nbformat": 4,
 "nbformat_minor": 2
}

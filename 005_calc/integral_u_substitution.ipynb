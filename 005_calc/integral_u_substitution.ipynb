{
 "cells": [
  {
   "cell_type": "code",
   "execution_count": null,
   "metadata": {},
   "outputs": [],
   "source": [
    "import pandas as pd\n",
    "import numpy as np\n",
    "\n",
    "import seaborn as sns\n",
    "import matplotlib.pyplot as plt\n",
    "plt.style.use('seaborn')\n",
    "\n",
    "%matplotlib inline"
   ]
  },
  {
   "cell_type": "code",
   "execution_count": null,
   "metadata": {},
   "outputs": [],
   "source": [
    "from IPython.core.interactiveshell import InteractiveShell\n",
    "InteractiveShell.ast_node_interactivity = \"all\""
   ]
  },
  {
   "cell_type": "code",
   "execution_count": null,
   "metadata": {},
   "outputs": [],
   "source": [
    "from IPython.core.display import SVG"
   ]
  },
  {
   "cell_type": "code",
   "execution_count": null,
   "metadata": {},
   "outputs": [],
   "source": [
    "import math"
   ]
  },
  {
   "cell_type": "code",
   "execution_count": null,
   "metadata": {},
   "outputs": [],
   "source": []
  },
  {
   "cell_type": "markdown",
   "metadata": {},
   "source": [
    "# Substitution is about reversing the chain rule\n",
    "\n",
    "According to the chain rule, the derivative of $w(u(x))$ is $w'(u(x)) \\cdot u'(x)$\n",
    "\n",
    "In substitution, we take an expression of the form $w'(u(x)) \\cdot u'(x)$ and find its antiderivative$w(u(x))$"
   ]
  },
  {
   "cell_type": "code",
   "execution_count": null,
   "metadata": {},
   "outputs": [],
   "source": []
  },
  {
   "cell_type": "markdown",
   "metadata": {},
   "source": [
    "$\\int 2x cos(x^2) dx$\n",
    "\n",
    "Define function:\n",
    "\n",
    "$u = x^2$\n",
    "\n",
    "Use substitution:\n",
    "\n",
    "$\\frac{d}{dx} u = \\frac{d}{dx} x^2$\n",
    "\n",
    "$\\frac{du}{dx} = 2x$\n",
    "\n",
    "$du = 2x \\cdot dx$\n",
    "\n",
    "Then rearange and substitute:\n",
    "\n",
    "$\\int 2x cos(x^2) dx$\n",
    "\n",
    "$\\int cos(x^2) 2x \\cdot dx$\n",
    "\n",
    "$\\int cos(u) du$\n",
    "\n",
    "$\\int cos(u) du = sin(u) + C$\n",
    "\n",
    "$\\int cos(u) du = sin(u) + C = sin(x^2) + C$"
   ]
  },
  {
   "cell_type": "code",
   "execution_count": null,
   "metadata": {},
   "outputs": [],
   "source": []
  },
  {
   "cell_type": "markdown",
   "metadata": {},
   "source": [
    "$\\int (2x + 7)^3 dx$\n",
    "\n",
    "$u = 2x + 7$\n",
    "\n",
    "$du = 2dx$\n",
    "\n",
    "multiply and divide to get substitution\n",
    "\n",
    "$\\frac{1}{2}\\int 2(2x + 7)^3 dx$\n",
    "\n",
    "$\\frac{1}{2}\\int (2x + 7)^3 2dx$\n",
    "\n",
    "$\\frac{1}{2}\\int u^3 du$\n",
    "\n",
    "$\\frac{1}{2} \\frac{1}{4}u^4 + C$\n",
    "\n",
    "$\\frac{(2x+7)^4}{8} + C$"
   ]
  },
  {
   "cell_type": "code",
   "execution_count": null,
   "metadata": {},
   "outputs": [],
   "source": []
  },
  {
   "cell_type": "markdown",
   "metadata": {},
   "source": [
    "$\\int (2x - 5)^{10} dx$\n",
    "\n",
    "$u = 2x - 5$\n",
    "\n",
    "$du = 2dx$\n",
    "\n",
    "---\n",
    "\n",
    "$\\frac{1}{2} \\int (2x - 5)^{10} 2dx$\n",
    "\n",
    "$\\frac{1}{2} \\int u^{10} du$\n",
    "\n",
    "$\\frac{1}{2} \\frac{1}{11}u^{11} + C$\n",
    "\n",
    "$\\frac{(2x - 5)^{11}}{22} + C$"
   ]
  },
  {
   "cell_type": "code",
   "execution_count": null,
   "metadata": {},
   "outputs": [],
   "source": []
  },
  {
   "cell_type": "markdown",
   "metadata": {},
   "source": [
    "$\\int e^{2x} dx$\n",
    "\n",
    "$u = 2x$\n",
    "\n",
    "$du = 2dx$\n",
    "\n",
    "---\n",
    "\n",
    "$\\frac{1}{2} \\int e^{2x} 2 dx$\n",
    "\n",
    "$\\frac{1}{2} \\int e^{u} du$\n",
    "\n",
    "$\\frac{1}{2} e^{u} + C$\n",
    "\n",
    "$\\frac{1}{2} e^{2x} + C$"
   ]
  },
  {
   "cell_type": "code",
   "execution_count": null,
   "metadata": {},
   "outputs": [],
   "source": []
  },
  {
   "cell_type": "markdown",
   "metadata": {},
   "source": [
    "$\\int 3x^2 (x^3 + 1)^{6} dx$\n",
    "\n",
    "$u = x^3 + 1$\n",
    "\n",
    "$du = 3x^2 dx$\n",
    "\n",
    "---\n",
    "\n",
    "$\\int (x^3 + 1)^{6} 3x^2 dx$\n",
    "\n",
    "$\\int u^{6} du$\n",
    "\n",
    "$\\frac{1}{7}u^7 + C$\n",
    "\n",
    "$\\frac{(x^3 + 1)^7}{7} + C$"
   ]
  },
  {
   "cell_type": "code",
   "execution_count": null,
   "metadata": {},
   "outputs": [],
   "source": []
  },
  {
   "cell_type": "markdown",
   "metadata": {},
   "source": [
    "$\\int sin^3(x)cos(x)dx$\n",
    "\n",
    "$u = sin(x)$\n",
    "\n",
    "$du = cos(x)dx$\n",
    "\n",
    "---\n",
    "\n",
    "$\\int u^3 du$\n",
    "\n",
    "$\\frac{1}{4} u^4 + C$\n",
    "\n",
    "$\\frac{sin^4(x)}{4} + C$"
   ]
  },
  {
   "cell_type": "code",
   "execution_count": null,
   "metadata": {},
   "outputs": [],
   "source": []
  },
  {
   "cell_type": "markdown",
   "metadata": {},
   "source": [
    "$\\int\\limits_{0}^{2} \\frac{x}{(1+2x^2)^2} dx$\n",
    "\n",
    "$\\int\\limits_{0}^{2} x (1+2x^2)^{-2} dx$\n",
    "\n",
    "$u = 1 + 2x^2$\n",
    "\n",
    "$du = 4x dx$\n",
    "\n",
    "$\\frac{du}{4} = x dx$\n",
    "\n",
    "$\\int\\limits_{0}^{2} u^{-2} \\frac{du}{4}$\n",
    "\n",
    "$\\frac{1}{4} \\int\\limits_{0}^{2} \\frac{1}{u^2} du =$\n",
    "\n",
    "$\\frac{1}{4} \\cdot \\left( -\\frac{1}{u}|_0^2 \\right) =$\n",
    "\n",
    "$\\frac{1}{4} \\cdot \\left( -\\frac{1}{1 + 2x^2}|_0^2 \\right) =$\n",
    "\n",
    "$\\frac{1}{4} \\cdot \\left( -\\left( \\frac{1}{1 + 2(2)^2} -\\frac{1}{1 + 2(0)^2} \\right) \\right) =\n",
    "\\frac{1}{4} \\cdot \\left( -\\frac{1}{1 + 8} + \\frac{1}{1} \\right) =\n",
    "\\frac{1}{4} \\cdot \\left(\\frac{9}{9} - \\frac{1}{9}\\right) =\n",
    "\\frac{8}{4 \\cdot 9} = \\frac{2}{9}$"
   ]
  },
  {
   "cell_type": "code",
   "execution_count": null,
   "metadata": {},
   "outputs": [],
   "source": []
  },
  {
   "cell_type": "markdown",
   "metadata": {},
   "source": [
    "$\\int\\limits_1^3 \\frac{x}{x^2 + 1} dx$\n",
    "\n",
    "$u = x^2 + 1$\n",
    "\n",
    "$du = 2xdx$\n",
    "\n",
    "$\\frac{du}{2} = xdx$\n",
    "\n",
    "$\\int\\limits_1^3 \\frac{1}{u} \\frac{du}{2}$\n",
    "\n",
    "$\\frac{1}{2} \\int\\limits_1^3 \\frac{1}{u} du$\n",
    "\n",
    "$\\frac{1}{2} ln(u)|_1^3 = \\frac{1}{2} ln(x^2 + 1)|_1^3$\n",
    "\n",
    "$\\frac{1}{2}\\left(ln(3^2 + 1) - ln(1^2 + 1)\\right) =\n",
    "\\frac{1}{2}\\left(ln(10) - ln(2)\\right) =\n",
    "ln({10\\over 2}) = \\frac{1}{2}ln(5)\n",
    "$"
   ]
  },
  {
   "cell_type": "code",
   "execution_count": null,
   "metadata": {},
   "outputs": [],
   "source": []
  },
  {
   "cell_type": "markdown",
   "metadata": {},
   "source": [
    "$\\int\\limits_{ln(2)}^{ln(8)} \\frac{e^x}{1+e^x} dx$\n",
    "\n",
    "$u = 1 + e^x$\n",
    "\n",
    "$du = e^x dx$\n",
    "\n",
    "$\\int\\limits_{ln(2)}^{ln(8)} \\frac{1}{u} du$\n",
    "\n",
    "$ln(u)|_{ln(2)}^{ln(8)} = ln(1 + e^x)|_{ln(2)}^{ln(8)}$\n",
    "\n",
    "$ ln(1 + e^{ln(8)}) -  ln(1 + e^{ln(2)})$\n",
    "\n",
    "$ ln(1 + 8) -  ln(1 + 2)$\n",
    "\n",
    "$ ln(\\frac{9}{3})$\n",
    "\n",
    "$ ln(3)$"
   ]
  },
  {
   "cell_type": "code",
   "execution_count": null,
   "metadata": {},
   "outputs": [],
   "source": []
  },
  {
   "cell_type": "markdown",
   "metadata": {},
   "source": [
    "$\\int\\limits_0^1 \\frac{4x}{\\sqrt{1 - x^4}} dx$\n",
    "\n",
    "$u = x^2$\n",
    "\n",
    "$du = 2x dx$\n",
    "\n",
    "$\\int\\limits_0^1 \\frac{2}{\\sqrt{1 - u^2}} du$\n",
    "\n",
    "$2\\int\\limits_0^1 \\frac{1}{\\sqrt{1 - u^2}} du = 2arcsin(u)|_0^1$\n",
    "\n",
    "$2arcsin(x^2)|_0^1 = 2\\left( sin^{-1}(1^2) - sin^{-1}(0^2) \\right) = 2\\left( \\frac{\\pi}{2} - 0 \\right) = \\pi$"
   ]
  },
  {
   "cell_type": "code",
   "execution_count": null,
   "metadata": {},
   "outputs": [],
   "source": []
  }
 ],
 "metadata": {
  "kernelspec": {
   "display_name": "Python 3",
   "language": "python",
   "name": "python3"
  },
  "language_info": {
   "codemirror_mode": {
    "name": "ipython",
    "version": 3
   },
   "file_extension": ".py",
   "mimetype": "text/x-python",
   "name": "python",
   "nbconvert_exporter": "python",
   "pygments_lexer": "ipython3",
   "version": "3.6.8"
  }
 },
 "nbformat": 4,
 "nbformat_minor": 2
}

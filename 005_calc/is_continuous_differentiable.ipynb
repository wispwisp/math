{
 "cells": [
  {
   "cell_type": "code",
   "execution_count": null,
   "metadata": {},
   "outputs": [],
   "source": [
    "import pandas as pd\n",
    "import numpy as np\n",
    "\n",
    "# import seaborn as sns\n",
    "# import matplotlib.pyplot as plt\n",
    "\n",
    "# import matplotlib\n",
    "# matplotlib.pyplot.style.use('seaborn')\n",
    "# matplotlib.rcParams['figure.figsize'] = (15, 5)\n",
    "\n",
    "# %matplotlib inline\n",
    "# %pylab inline"
   ]
  },
  {
   "cell_type": "code",
   "execution_count": null,
   "metadata": {},
   "outputs": [],
   "source": [
    "from IPython.core.interactiveshell import InteractiveShell\n",
    "InteractiveShell.ast_node_interactivity = \"all\""
   ]
  },
  {
   "cell_type": "code",
   "execution_count": null,
   "metadata": {},
   "outputs": [],
   "source": [
    "from IPython.core.display import SVG"
   ]
  },
  {
   "cell_type": "code",
   "execution_count": null,
   "metadata": {},
   "outputs": [],
   "source": [
    "import math"
   ]
  },
  {
   "cell_type": "code",
   "execution_count": null,
   "metadata": {},
   "outputs": [],
   "source": []
  },
  {
   "cell_type": "markdown",
   "metadata": {},
   "source": [
    "# For $f$ to be continuous at $x=a$, we need $\\lim\\limits_{x \\to a} f(x)$ and $f(a)$ to exist and be equal."
   ]
  },
  {
   "cell_type": "code",
   "execution_count": null,
   "metadata": {},
   "outputs": [],
   "source": []
  },
  {
   "cell_type": "markdown",
   "metadata": {},
   "source": [
    "# $f(x) = \\left\\{\\begin{matrix}\n",
    "ln(-x + 3) & -3 \\ge x < 3 \\\\ \n",
    "ln(-x) + 3 & x < -3\n",
    "\\end{matrix}\\right.$\n",
    "\n",
    "is continuous at $x = -3$ ?\n",
    "\n",
    "1) $f(-3) = ln(-(-3) + 3) = ln(6)$ - EXISTS\n",
    "\n",
    "2) $\\lim_\\limits{x\\to -3^+} f(x) = \\lim_\\limits{x\\to -3^+} ln(-x + 3) = ln(6)$ - EXISTS\n",
    "\n",
    "3) $\\lim_\\limits{x\\to -3^-} f(x) = ln(-x) + 3$ - EXISTS\n",
    "\n",
    "Since the one-sided limits aren't equal, $\\lim$ doesn't exist and $f$ isn't continuous at $x=3$"
   ]
  },
  {
   "cell_type": "code",
   "execution_count": null,
   "metadata": {},
   "outputs": [],
   "source": []
  },
  {
   "cell_type": "markdown",
   "metadata": {},
   "source": [
    "# $g(x) = \\left\\{\\begin{matrix}\n",
    "sin(x) & x < 0 \\\\ \n",
    "x^2    & x \\ge 0\n",
    "\\end{matrix}\\right.$\n",
    "\n",
    "is continuous @$x = 0$\n",
    "\n",
    "1) $(0)^2 = 0$\n",
    "\n",
    "2) $\\lim_\\limits{x\\to0^+} g(x) = \\lim_\\limits{x\\to0^+} x^2 = 0$\n",
    "\n",
    "3) $\\lim_\\limits{x\\to0^-} g(x) = \\lim_\\limits{x\\to0^-} sin(x) = 0$"
   ]
  },
  {
   "cell_type": "code",
   "execution_count": null,
   "metadata": {},
   "outputs": [],
   "source": []
  },
  {
   "cell_type": "markdown",
   "metadata": {},
   "source": [
    "# $g(x) = \\left\\{\\begin{matrix}\n",
    "sin(x) & x < 0 \\\\ \n",
    "\\sqrt{x+\\pi}    & x \\ge 0\n",
    "\\end{matrix}\\right.$\n",
    "\n",
    "is continuous @$x = 0$\n",
    "\n",
    "1) $\\sqrt{0 + \\pi} = \\sqrt{\\pi}$\n",
    "\n",
    "2) $\\lim_\\limits{x\\to0^+} g(x) = \\lim_\\limits{x\\to0^+} \\sqrt{x + \\pi} = \\sqrt{\\pi}$\n",
    "\n",
    "3) $\\lim_\\limits{x\\to0^-} g(x) = \\lim_\\limits{x\\to0^-} sin(x) = 0$\n",
    "\n",
    "Since the one-sided limits aren't equal, $\\lim$ doesn't exist and $f$ isn't continuous at $x=3$"
   ]
  },
  {
   "cell_type": "code",
   "execution_count": null,
   "metadata": {},
   "outputs": [],
   "source": []
  },
  {
   "cell_type": "markdown",
   "metadata": {},
   "source": [
    "# * * *"
   ]
  },
  {
   "cell_type": "code",
   "execution_count": null,
   "metadata": {},
   "outputs": [],
   "source": []
  },
  {
   "cell_type": "markdown",
   "metadata": {},
   "source": [
    "# $f(x) = \\left\\{\\begin{matrix}\n",
    "-x^2 + 3x   &, x \\le 2 \\\\ \n",
    "3x^2 - 10   &, x \\gt 2\n",
    "\\end{matrix}\\right.$\n",
    "\n",
    "is continuous at $x = 2$ ?\n",
    "\n",
    "1) $f(2) = -x^2 + 3x = -(2)^2 + 3(2) = -4 + 6 = 2$\n",
    "\n",
    "2) $\\lim_\\limits{x\\to 2^+} f(x) = 3x^2 - 10 = 3(2)^2 - 10 = 12 - 10 = 2$\n",
    "\n",
    "3) $\\lim_\\limits{x\\to 2^-} f(x) = -x^2 + 3x = -(2)^2 + 3(2) = 2$\n",
    "\n",
    "is differentiable  at $x = 2$ ?\n",
    "\n",
    "### $\\lim\\limits_{x\\to2^+} \\frac{f(x) - f(2)}{x - 2} = \\frac{f(x) - 2}{x - 2} =\n",
    "\\frac{3x^2 - 10 - 2}{x - 2} =\n",
    "\\frac{3x^2 - 12}{x - 2} =\n",
    "\\frac{3(x^2 - 4)}{x - 2} =\n",
    "\\frac{3(x - 2)(x + 2)}{x - 2} =\n",
    "3(x + 2) = 3(2 + 2) = 12\n",
    "$\n",
    "\n",
    "### $\\lim\\limits_{x\\to2^-} \\frac{f(x) - f(2)}{x - 2} = \\frac{f(x) - 2}{x - 2} =\n",
    "\\frac{-x^2 + 3x - 2}{x - 2} =\n",
    "\\frac{-(x^2 - 3x + 2)}{x - 2} =\n",
    "\\frac{-(x-1)(x-2)}{x - 2} =\n",
    "-(x-1) = -(2-1) = -1\n",
    "$\n",
    "\n",
    "-> continuous,  not differentiable"
   ]
  },
  {
   "cell_type": "code",
   "execution_count": null,
   "metadata": {},
   "outputs": [],
   "source": []
  },
  {
   "cell_type": "markdown",
   "metadata": {},
   "source": [
    "# $f(x) = \\left\\{\\begin{matrix}\n",
    "2x^2 - x   &, x \\lt 0 \\\\ \n",
    "-x         &, x \\ge 0\n",
    "\\end{matrix}\\right.$\n",
    "\n",
    "is continuous at $x = 0$ ?\n",
    "\n",
    "1) $f(0) = -x = -(0) = 0$\n",
    "\n",
    "2) $\\lim_\\limits{x\\to 0^+} f(x) = -x = -(0) = 0$\n",
    "\n",
    "3) $\\lim_\\limits{x\\to 0^-} f(x) = 2x^2 - x = x(2x - 1) = (0)(2(0) - 1) = 0$\n",
    "\n",
    "is differentiable  at $x = 0$ ?\n",
    "\n",
    "### $\\lim\\limits_{x\\to0^+} \\frac{f(x) - f(0)}{x - 0} = \\frac{f(x) - 0}{x - 0} =\n",
    "\\frac{-x}{x} = -1\n",
    "$\n",
    "\n",
    "### $\\lim\\limits_{x\\to0^-} \\frac{f(x) - f(0)}{x - 0} = \\frac{f(x) - 0}{x - 0} =\n",
    "\\frac{2x^2 - x}{x} =\n",
    "\\frac{x(2x - 1)}{x} =\n",
    "2x - 1 = (2)(0) - 1 = -1\n",
    "$\n",
    "\n",
    "-> continuous,  and differentiable"
   ]
  },
  {
   "cell_type": "code",
   "execution_count": null,
   "metadata": {},
   "outputs": [],
   "source": []
  },
  {
   "cell_type": "markdown",
   "metadata": {},
   "source": [
    "# $f(x) = \\left\\{\\begin{matrix}\n",
    "2x^2 - x  &, x \\le 2 \\\\ \n",
    "8x - 22   &, x \\gt 2\n",
    "\\end{matrix}\\right.$\n",
    "\n",
    "is continuous at $x = 2$ ?\n",
    "\n",
    "2) $f(2) = 2x^2 - x = x(2x - 1) = (2)((2)(2) - 1) = 2 \\cdot 3 = 6$\n",
    "\n",
    "2) $\\lim_\\limits{x\\to 2^+} f(x) = 8x - 22 = 16 - 22 = -6$\n",
    "\n",
    "3) $\\lim_\\limits{x\\to 2^-} f(x) = 6$\n",
    "\n",
    "-> Since the function isn't continuous it cannot be differentiable at that point."
   ]
  },
  {
   "cell_type": "code",
   "execution_count": null,
   "metadata": {},
   "outputs": [],
   "source": []
  }
 ],
 "metadata": {
  "kernelspec": {
   "display_name": "Python 3",
   "language": "python",
   "name": "python3"
  },
  "language_info": {
   "codemirror_mode": {
    "name": "ipython",
    "version": 3
   },
   "file_extension": ".py",
   "mimetype": "text/x-python",
   "name": "python",
   "nbconvert_exporter": "python",
   "pygments_lexer": "ipython3",
   "version": "3.6.8"
  }
 },
 "nbformat": 4,
 "nbformat_minor": 2
}

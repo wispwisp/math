{
 "cells": [
  {
   "cell_type": "code",
   "execution_count": null,
   "metadata": {},
   "outputs": [],
   "source": [
    "import pandas as pd\n",
    "import numpy as np\n",
    "\n",
    "import seaborn as sns\n",
    "import matplotlib.pyplot as plt\n",
    "plt.style.use('seaborn')\n",
    "\n",
    "%matplotlib inline"
   ]
  },
  {
   "cell_type": "code",
   "execution_count": null,
   "metadata": {},
   "outputs": [],
   "source": [
    "from IPython.core.interactiveshell import InteractiveShell\n",
    "InteractiveShell.ast_node_interactivity = \"all\""
   ]
  },
  {
   "cell_type": "code",
   "execution_count": null,
   "metadata": {},
   "outputs": [],
   "source": [
    "from IPython.core.display import SVG"
   ]
  },
  {
   "cell_type": "code",
   "execution_count": null,
   "metadata": {},
   "outputs": [],
   "source": [
    "import math"
   ]
  },
  {
   "cell_type": "code",
   "execution_count": null,
   "metadata": {},
   "outputs": [],
   "source": []
  },
  {
   "cell_type": "markdown",
   "metadata": {},
   "source": [
    "# Evaluate the definite integral"
   ]
  },
  {
   "cell_type": "markdown",
   "metadata": {},
   "source": [
    "$\\int_{a}^{b}f(x)dx = F(b) - F(a)$"
   ]
  },
  {
   "cell_type": "code",
   "execution_count": null,
   "metadata": {},
   "outputs": [],
   "source": []
  },
  {
   "cell_type": "markdown",
   "metadata": {},
   "source": [
    "$\\int_{-3}^{5}4dx$\n",
    "\n",
    "${(4x)}' = 4$\n",
    "\n",
    "$\\int_{-3}^{5}4dx = 4x|_{3}^{5} = 4(5) - 4(-3) = 20 + 12 = 32$"
   ]
  },
  {
   "cell_type": "code",
   "execution_count": null,
   "metadata": {},
   "outputs": [],
   "source": []
  },
  {
   "cell_type": "markdown",
   "metadata": {},
   "source": [
    "$\\int_{-1}^{3} 7x^2dx$\n",
    "\n",
    "${(\\frac{7x^3}{3})}' = 7x^2$\n",
    "\n",
    "$\\int_{-1}^{3}4dx = \\frac{7x^3}{3}|_{-1}^{3} = \\frac{7(3)^3}{3} - \\frac{7(-1)^3}{3}$"
   ]
  },
  {
   "cell_type": "code",
   "execution_count": null,
   "metadata": {},
   "outputs": [],
   "source": []
  },
  {
   "cell_type": "markdown",
   "metadata": {},
   "source": [
    "$\\int_{1}^{6} 2dx$\n",
    "\n",
    "${(2x)}' = 2$\n",
    "\n",
    "$\\int_{1}^{6}4dx = 2x|_{1}^{6} = 12 - 2 = 10$\n",
    "\n",
    "_('cause F has no slope - rectangular area, so u can just `end - begin * C`)_"
   ]
  },
  {
   "cell_type": "code",
   "execution_count": null,
   "metadata": {},
   "outputs": [],
   "source": []
  },
  {
   "cell_type": "markdown",
   "metadata": {},
   "source": [
    "$\\int_{-1}^{1} (9x^2 + 6x - 3) dx$\n",
    "\n",
    "$\\left[ \\frac{9x^3}{3} + \\frac{6x^2}{2} - 3x \\right]_{-1}^{1}$\n",
    "\n",
    "$\\left[ 3x^3 + 3x^2 - 3x \\right]_{-1}^{1}$\n",
    "\n",
    "$3(1)^3 + 3(1)^2 - 3(1) - (3(-1)^3 + 3(-1)^2 - 3(-1)) = 0$"
   ]
  },
  {
   "cell_type": "code",
   "execution_count": null,
   "metadata": {},
   "outputs": [],
   "source": []
  },
  {
   "cell_type": "markdown",
   "metadata": {},
   "source": [
    "# $\\int\\limits_{0}^{1} -12e^x dx = \\left[ -12e^x \\right]^{0}_{1} = -12e^1 - (-12e^0) = -12e + 12$"
   ]
  },
  {
   "cell_type": "code",
   "execution_count": null,
   "metadata": {},
   "outputs": [],
   "source": []
  },
  {
   "cell_type": "markdown",
   "metadata": {},
   "source": [
    "# $\\int\\limits_{\\pi}^{2\\pi} -cos(x) dx = \\left[ -sin(x) \\right]_{\\pi}^{2\\pi} = -sin(2\\pi) + sin(\\pi) = 0$"
   ]
  },
  {
   "cell_type": "code",
   "execution_count": null,
   "metadata": {},
   "outputs": [],
   "source": []
  },
  {
   "cell_type": "markdown",
   "metadata": {},
   "source": [
    "$\\int\\limits_{5}^{9} \\left( \\frac{x - 4}{x^2} \\right) dx$\n",
    "\n",
    "$\\int\\limits_{5}^{9} \\left(\\frac{1}{x} - 4x^{-2} \\right) dx$\n",
    "\n",
    "$\\left[ ln(x) + 4x^{-1} \\right]^{5}_{9}$\n",
    "\n",
    "---\n",
    "\n",
    "$(ln(9) + 4(9)^{-1}) - (ln(5) + 4(5)^{-1})$\n",
    "\n",
    "$(ln(9) + \\frac{4}{9}) - (ln(5) + \\frac{4}{5})$\n",
    "\n",
    "$ln(9) + \\frac{4}{9} - ln(5) - \\frac{4}{5}$\n",
    "\n",
    "$ln(9) + \\frac{20}{45} - ln(5) - \\frac{36}{45}$\n",
    "\n",
    "$ln(9) - \\frac{16}{45} - ln(5)$\n",
    "\n",
    "$ln\\left(\\frac{9}{5}\\right) - \\frac{16}{45}$"
   ]
  },
  {
   "cell_type": "code",
   "execution_count": null,
   "metadata": {},
   "outputs": [],
   "source": []
  },
  {
   "cell_type": "markdown",
   "metadata": {},
   "source": [
    "$\\int\\limits_{9}^{1} \\left( -15\\sqrt{x} \\right) dx$\n",
    "\n",
    "$\\int\\limits_{9}^{1} \\left( -15\\sqrt{x} \\right) dx$\n",
    "\n",
    "$\\int\\limits_{9}^{1} \\left( -15x^{1\\over2} \\right) dx$\n",
    "\n",
    "$\\left[ -15\\frac{2}{3}x^{3\\over2} \\right]^{1}_{9}$\n",
    "\n",
    "$\\left[ -10x^{3\\over2} \\right]^{1}_{9}$\n",
    "\n",
    "$-10(1)^{3\\over2} + 10(9)^{3\\over2}$\n",
    "\n",
    "$-10 + 10(9^3)^{1\\over2}$\n",
    "\n",
    "$-10 + 10(9\\cdot9\\cdot9)^{1\\over2}$\n",
    "\n",
    "$-10 + 10(3\\cdot3\\cdot3) = -10 + 270 = 260$"
   ]
  },
  {
   "cell_type": "code",
   "execution_count": null,
   "metadata": {},
   "outputs": [],
   "source": []
  },
  {
   "cell_type": "markdown",
   "metadata": {},
   "source": [
    "$f(x) = \\left\\{\\begin{matrix}\n",
    "x^2 - 3x    & x \\gt 2 \\\\ \n",
    "2x - 6      & x \\le 2\n",
    "\\end{matrix}\\right.$\n",
    "\n",
    "$\\int\\limits_{0}^{3} f(x) dx = \\int\\limits_{0}^{2} (2x - 6)dx + \\int\\limits_{2}^{3} (x^2 - 3x)dx$\n",
    "\n",
    "$\\int\\limits_{0}^{2} (2x - 6)dx = \\left[ x^2 - 6x \\right]_{0}^{2} = ((2)^2 - 6(2)) - (0 - 0) = -8$\n",
    "\n",
    "$\\int\\limits_{2}^{3} (x^2 - 3x)dx =\n",
    "\\left[ \\frac{1}{3}x^3 - \\frac{3}{2}x^2 \\right]_{2}^{3} =\n",
    "(\\frac{1}{3}(3)^3 - \\frac{3}{2}(3)^2) - (\\frac{1}{3}(2)^3 - \\frac{3}{2}(2)^2)\n",
    "= -\\frac{7}{6}\n",
    "$\n",
    "\n",
    "$\\int\\limits_{0}^{3} f(x) dx = -8 - \\frac{7}{6} = -\\frac{48}{6} - \\frac{7}{6} = -\\frac{55}{6}$"
   ]
  },
  {
   "cell_type": "code",
   "execution_count": null,
   "metadata": {},
   "outputs": [],
   "source": []
  },
  {
   "cell_type": "markdown",
   "metadata": {},
   "source": [
    "$f(x) = \\left\\{\\begin{matrix}\n",
    "-3\\sqrt{x} & x \\gt 1 \\\\ \n",
    "x - 3      & x \\le 1\n",
    "\\end{matrix}\\right.$\n",
    "\n",
    "$\\int\\limits_{-4}^{4} f(x) dx = \\int\\limits_{-4}^{1} (x-3) dx + \\int\\limits_{1}^{4} (-3\\sqrt{x}) dx\n",
    "= -\\frac{45}{2} - 14 = -\\frac{73}{2}$\n",
    "\n",
    "$\\int\\limits_{-4}^{1} (x-3) dx =\n",
    "\\left[ \\frac{1}{2}x^2 - 3x \\right]_{-4}^{1} =\n",
    "\\left[ \\frac{1}{2}(1)^2 - 3(1) \\right] - \\left[ \\frac{1}{2}(-4)^2 - 3(-4) \\right] =\n",
    "\\frac{-45}{2}\n",
    "$\n",
    "\n",
    "$\\int\\limits_{1}^{4} (-3\\sqrt{x}) dx =\n",
    "-3\\int\\limits_{1}^{4} x^{1\\over2}dx =\n",
    "\\left[ -3\\frac{2}{3}x^{\\frac{3}{2}} \\right]_{1}^{4} =\n",
    "\\left[ -2x^{\\frac{3}{2}} \\right]_{1}^{4} =\n",
    "\\left[ -2\\sqrt{x^3} \\right]_{1}^{4} =\n",
    "\\left[ -2\\sqrt{(4)^3} \\right] - \\left[ -2\\sqrt{(1)^3} \\right] =\n",
    "(-2 \\cdot 8) + 2 = -14\n",
    "$"
   ]
  },
  {
   "cell_type": "code",
   "execution_count": null,
   "metadata": {},
   "outputs": [],
   "source": []
  },
  {
   "cell_type": "markdown",
   "metadata": {},
   "source": [
    "$f(x) = \\left\\{\\begin{matrix}\n",
    "-6x + 6           & x \\lt 1 \\\\ \n",
    "sin(\\pi \\cdot x)  & x \\ge 1\n",
    "\\end{matrix}\\right.$\n",
    "\n",
    "$\\int\\limits_{0}^{3} f(x) dx = \\int\\limits_{0}^{1} (-6x + 6) dx + \\int\\limits_{1}^{3} sin(x\\pi) dx = 3 + 0 = 3$\n",
    "\n",
    "$\\int\\limits_{0}^{1} (-6x + 6) dx =\n",
    "\\left[ -3x^2 + 6x \\right]_{0}^{1} =\n",
    "\\left[ -3(1)^2 + 6(1) \\right] - \\left[ -3(0)^2 + 6(0) \\right] = 3\n",
    "$\n",
    "\n",
    "$\\int\\limits_{1}^{3} sin(x\\pi) dx =\n",
    "\\left[ -\\frac{1}{\\pi}cos(x\\pi) \\right]_{1}^{3} =\n",
    "\\left[ -\\frac{1}{\\pi}cos(3\\pi) \\right] - \\left[ -\\frac{1}{\\pi}cos(\\pi) \\right] =\n",
    "-\\frac{1}{\\pi}cos(3\\pi) + \\frac{1}{\\pi}cos(\\pi) =\n",
    "\\frac{1}{\\pi} - \\frac{1}{\\pi} = 0\n",
    "$"
   ]
  },
  {
   "cell_type": "code",
   "execution_count": null,
   "metadata": {},
   "outputs": [],
   "source": []
  }
 ],
 "metadata": {
  "kernelspec": {
   "display_name": "Python 3",
   "language": "python",
   "name": "python3"
  },
  "language_info": {
   "codemirror_mode": {
    "name": "ipython",
    "version": 3
   },
   "file_extension": ".py",
   "mimetype": "text/x-python",
   "name": "python",
   "nbconvert_exporter": "python",
   "pygments_lexer": "ipython3",
   "version": "3.6.8"
  }
 },
 "nbformat": 4,
 "nbformat_minor": 2
}

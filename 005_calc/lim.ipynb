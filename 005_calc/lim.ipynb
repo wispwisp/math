{
 "cells": [
  {
   "cell_type": "code",
   "execution_count": null,
   "metadata": {},
   "outputs": [],
   "source": [
    "import pandas as pd\n",
    "import numpy as np\n",
    "\n",
    "# import seaborn as sns\n",
    "# import matplotlib.pyplot as plt\n",
    "\n",
    "# import matplotlib\n",
    "# matplotlib.pyplot.style.use('seaborn')\n",
    "# matplotlib.rcParams['figure.figsize'] = (15, 5)\n",
    "\n",
    "# %matplotlib inline\n",
    "# %pylab inline"
   ]
  },
  {
   "cell_type": "code",
   "execution_count": null,
   "metadata": {},
   "outputs": [],
   "source": [
    "from IPython.core.interactiveshell import InteractiveShell\n",
    "InteractiveShell.ast_node_interactivity = \"all\""
   ]
  },
  {
   "cell_type": "code",
   "execution_count": null,
   "metadata": {},
   "outputs": [],
   "source": [
    "from IPython.core.display import SVG"
   ]
  },
  {
   "cell_type": "code",
   "execution_count": null,
   "metadata": {},
   "outputs": [],
   "source": [
    "import math"
   ]
  },
  {
   "cell_type": "code",
   "execution_count": null,
   "metadata": {},
   "outputs": [],
   "source": []
  },
  {
   "cell_type": "markdown",
   "metadata": {},
   "source": [
    "$\\lim\\limits_{x \\to 0^+} {1 \\over 0} = \\inf$"
   ]
  },
  {
   "cell_type": "code",
   "execution_count": null,
   "metadata": {},
   "outputs": [],
   "source": []
  },
  {
   "cell_type": "markdown",
   "metadata": {},
   "source": [
    "# Limits by rationalizing\n",
    "\n",
    "### $\\lim\\limits_{x \\to 1}{  \\frac{\\sqrt{5x+4}-3}{x-1} }$\n",
    "\n",
    "$\\lim\\limits_{x \\to 1}{  \\frac{\\sqrt{5x+4}-3}{x-1} } =\n",
    "\\frac{\n",
    "  \\lim\\limits_{x \\to 1}{\\sqrt{5x+4}-3}\n",
    "}{\n",
    "  \\lim\\limits_{x \\to 1}{x-1}\n",
    "}\n",
    "=\n",
    "\\frac{0}{0}\n",
    "$\n",
    "\n",
    "So refac:\n",
    "\n",
    "$ \\frac{\\sqrt{5x+4}-3}{x-1}$\n",
    "\n",
    "$a^2 - b^2 = (a-b)(a+b)$\n",
    "\n",
    "$ \\frac{\\sqrt{5x+4}-3}{x-1} \\cdot \\frac{\\sqrt{5x+4}+3}{\\sqrt{5x+4}+3}$\n",
    "\n",
    "$ \\frac{5x + 5}{(x-1)(\\sqrt{5x+4}+3)}$\n",
    "\n",
    "$ \\frac{5(x + 1)}{(x-1)(\\sqrt{5x+4}+3)}$\n",
    "\n",
    "$\\lim\\limits_{x \\to 1}{  \\frac{5(x+1)}{(x-1)(\\sqrt{5x+4}+3)} }$\n",
    "\n",
    "$\\lim\\limits_{x \\to 1}{  \\frac{5}{\\sqrt{5(1)+4}+3} } = \\frac{5}{6}$"
   ]
  },
  {
   "cell_type": "code",
   "execution_count": null,
   "metadata": {},
   "outputs": [],
   "source": []
  }
 ],
 "metadata": {
  "kernelspec": {
   "display_name": "Python 3",
   "language": "python",
   "name": "python3"
  },
  "language_info": {
   "codemirror_mode": {
    "name": "ipython",
    "version": 3
   },
   "file_extension": ".py",
   "mimetype": "text/x-python",
   "name": "python",
   "nbconvert_exporter": "python",
   "pygments_lexer": "ipython3",
   "version": "3.6.8"
  }
 },
 "nbformat": 4,
 "nbformat_minor": 2
}

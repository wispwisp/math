{
 "cells": [
  {
   "cell_type": "code",
   "execution_count": null,
   "metadata": {},
   "outputs": [],
   "source": [
    "import pandas as pd\n",
    "import numpy as np\n",
    "\n",
    "import seaborn as sns\n",
    "import matplotlib.pyplot as plt\n",
    "\n",
    "import matplotlib\n",
    "matplotlib.pyplot.style.use('seaborn')\n",
    "matplotlib.rcParams['figure.figsize'] = (15, 5)\n",
    "\n",
    "%matplotlib inline\n",
    "# %pylab inline"
   ]
  },
  {
   "cell_type": "code",
   "execution_count": null,
   "metadata": {},
   "outputs": [],
   "source": [
    "from IPython.core.interactiveshell import InteractiveShell\n",
    "InteractiveShell.ast_node_interactivity = \"all\""
   ]
  },
  {
   "cell_type": "code",
   "execution_count": null,
   "metadata": {},
   "outputs": [],
   "source": [
    "import math"
   ]
  },
  {
   "cell_type": "code",
   "execution_count": null,
   "metadata": {},
   "outputs": [],
   "source": []
  },
  {
   "cell_type": "markdown",
   "metadata": {},
   "source": [
    "$\\theta$ - angle between vectors lenght's\n",
    "\n",
    "$\\vec{a} \\cdot \\vec{b} = \\left\\| \\vec{a} \\right\\|  \\cdot  \\left\\| \\vec{b} \\right\\|  \\cdot  cos\\theta$\n",
    "\n",
    "$\\left\\| \\vec{a} x \\vec{b} \\right\\| = \\left\\| \\vec{a} \\right\\|  \\cdot  \\left\\| \\vec{b} \\right\\|  \\cdot  sin\\theta$"
   ]
  },
  {
   "cell_type": "code",
   "execution_count": null,
   "metadata": {},
   "outputs": [],
   "source": []
  },
  {
   "cell_type": "markdown",
   "metadata": {},
   "source": [
    "Imagine a triangle - $\\left\\| \\vec{a} \\right\\|$ is a `hyp`;\n",
    "\n",
    "drop a projection - it is `adj` side, and lenght of projecrion - `opp` to $\\theta$;\n",
    "\n",
    "and $\\left\\| \\vec{b} \\right\\|$ is a base;\n",
    "\n",
    "$\\vec{a} \\cdot \\vec{b} = \\left\\| \\vec{a} \\right\\|  \\cdot  \\left\\| \\vec{b} \\right\\|  \\cdot  cos\\theta$\n",
    "\n",
    "$\\vec{a} \\cdot \\vec{b} = \\left\\| \\vec{a} \\right\\|  \\cdot  \\left\\| \\vec{b} \\right\\|  \\cdot  \\frac{adj}{hyp}$\n",
    "\n",
    "$\\vec{a} \\cdot \\vec{b} = \\left\\| \\vec{a} \\right\\|  \\cdot  \\left\\| \\vec{b} \\right\\|  \\cdot  \\frac{adj}{\\left\\| \\vec{a} \\right\\|}$\n",
    "\n",
    "$\\vec{a} \\cdot \\vec{b} =  \\left\\| \\vec{b} \\right\\|  \\cdot adj$ - dot product: \"multiply lenght of projection over $\\vec{v}$ on lengh of $\\vec{v}$\""
   ]
  },
  {
   "cell_type": "code",
   "execution_count": null,
   "metadata": {},
   "outputs": [],
   "source": []
  }
 ],
 "metadata": {
  "kernelspec": {
   "display_name": "Python 3",
   "language": "python",
   "name": "python3"
  },
  "language_info": {
   "codemirror_mode": {
    "name": "ipython",
    "version": 3
   },
   "file_extension": ".py",
   "mimetype": "text/x-python",
   "name": "python",
   "nbconvert_exporter": "python",
   "pygments_lexer": "ipython3",
   "version": "3.6.8"
  }
 },
 "nbformat": 4,
 "nbformat_minor": 2
}

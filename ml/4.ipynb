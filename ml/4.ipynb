{
 "cells": [
  {
   "cell_type": "markdown",
   "metadata": {},
   "source": [
    "# Backward propagtion derivation intuition\n",
    "\n",
    "---\n",
    "\n",
    "##### Forward propagation graph:\n",
    "$X \\to \\sigma(W^{[1]}X + b^{[1]}) \\to \\sigma(W^{[2]} A^{[1]} + b^{[2]}) \\to \\sigma(W^{[l]} A^{[l-1]} + b^{[l]}) \\to  ... \\to \\sigma(W^{[L]} A^{[L-1]} + b^{[L]}) \\to \\frac{1}{N} Cost \\left\\| \\hat{y}, y \\right\\|_2$\n",
    "\n",
    "Ommit subscript indexes, pretend 'matrix' form:\n",
    "\n",
    "$z^{[L]} = w^{[L]} a^{[L-1]} + b^{[L]}$\n",
    "\n",
    "$a^{[L]} = \\sigma(z^{[L]})$"
   ]
  },
  {
   "cell_type": "markdown",
   "metadata": {},
   "source": [
    "# Chain rule (Derivation for last layer):\n",
    "\n",
    "Chain rule graph:\n",
    "\n",
    "$Cost \\to a^{L} \\to z^{L} \\to (w^{L}, a^{L-1}, b^{L})$"
   ]
  },
  {
   "cell_type": "markdown",
   "metadata": {},
   "source": [
    "---\n",
    "\n",
    "## $\\partial z^{[L]}$:\n",
    "\n",
    "# $\n",
    "\\frac{\\partial Cost}{\\partial z^{[L]}} =\n",
    "\\frac{\\partial  Cost}{\\partial a^{[L]}}\n",
    "\\frac{\\partial  a^{[L]}}{\\partial z^{[L]}}\n",
    "$\n",
    "\n",
    "# $\n",
    "\\frac{\\partial Cost}{\\partial z^{[L]}} =\n",
    "\\frac{\\partial  Cost}{\\partial a^{[L]}} *\n",
    "\\sigma '(z^{[L]})\n",
    "= a^{[L]} - y\n",
    "$"
   ]
  },
  {
   "cell_type": "markdown",
   "metadata": {},
   "source": [
    "##### Why?\n",
    "\n",
    "$Cost = -\\left( y \\cdot log(a^{[L]}) + (1-y)\\cdot log(1-a^{[L]}) \\right)$\n",
    "\n",
    "${Cost}' = -\\left( \\frac{y}{a^{[L]}} - \\frac{1-y}{1 - a^{[L]}} \\right)$\n",
    "\n",
    "---\n",
    "\n",
    "$\\sigma = \\frac{1}{1 + e^{-z}}$\n",
    "\n",
    "${\\sigma}'(z) = \\sigma(z) (1 - \\sigma(z))$\n",
    "\n",
    "by definition:\n",
    "\n",
    "${\\sigma}'(z) = a^{[L]} (1 - a^{[L]})$\n",
    "\n",
    "---\n",
    "\n",
    "So:\n",
    "\n",
    "$\n",
    "-\\left( \\frac{y}{a^{[L]}} - \\frac{1-y}{1 - a^{[L]}} \\right) \\cdot\n",
    "a^{[L]} (1 - a^{[L]})\n",
    "=\n",
    "...\n",
    "= a^{[L]} - y\n",
    "$"
   ]
  },
  {
   "cell_type": "markdown",
   "metadata": {},
   "source": [
    "---\n",
    "\n",
    "## $\\partial w^{[L]}$:\n",
    "\n",
    "# $\\frac{\\partial Cost}{\\partial w^{[L]}} =\n",
    "\\frac{\\partial  Cost}{\\partial a^{[L]}}\n",
    "\\frac{\\partial  a^{[L]}}{\\partial z^{[L]}}\n",
    "\\frac{\\partial  z^{[L]}}{\\partial w^{[L]}}\n",
    "$\n",
    "\n",
    "# $\\frac{\\partial Cost}{\\partial w^{[L]}} =\n",
    "\\left(\n",
    "    \\frac{\\partial  Cost}{\\partial a^{[L]}}\n",
    "    \\frac{\\partial  a^{[L]}}{\\partial z^{[L]}}\n",
    "\\right)\n",
    "\\frac{\\partial  z^{[L]}}{\\partial w^{[L]}}\n",
    "$\n",
    "\n",
    "# $\\frac{\\partial Cost}{\\partial w^{[L]}} =\n",
    "\\frac{\\partial Cost}{\\partial z^{[L]}}\n",
    "\\frac{\\partial  z^{[L]}}{\\partial w^{[L]}}\n",
    "$\n",
    "\n",
    "# $\\frac{\\partial Cost}{\\partial w^{[L]}} =\n",
    "\\frac{\\partial Cost}{\\partial z^{[L]}} \\cdot\n",
    "a^{[L - 1]}\n",
    "$"
   ]
  },
  {
   "cell_type": "markdown",
   "metadata": {},
   "source": [
    "---\n",
    "\n",
    "## $\\partial b^{[L]}$:\n",
    "\n",
    "# $\\frac{\\partial Cost}{\\partial b^{[L]}} =\n",
    "\\frac{\\partial  Cost}{\\partial a^{[L]}}\n",
    "\\frac{\\partial  a^{[L]}}{\\partial z^{[L]}}\n",
    "\\frac{\\partial  z^{[L]}}{\\partial b^{[L]}}\n",
    "$\n",
    "\n",
    "# $\\frac{\\partial Cost}{\\partial b^{[L]}} =\n",
    "\\left(\n",
    "    \\frac{\\partial  Cost}{\\partial a^{[L]}}\n",
    "    \\frac{\\partial  a^{[L]}}{\\partial z^{[L]}}\n",
    "\\right)\n",
    "\\frac{\\partial  z^{[L]}}{\\partial b^{[L]}}\n",
    "$\n",
    "\n",
    "# $\\frac{\\partial Cost}{\\partial b^{[L]}} = \\frac{\\partial Cost}{\\partial z^{[L]}} \\cdot 1$"
   ]
  },
  {
   "cell_type": "markdown",
   "metadata": {},
   "source": [
    "# Prev level:"
   ]
  },
  {
   "cell_type": "markdown",
   "metadata": {},
   "source": [
    "---\n",
    "\n",
    "## $\\partial z^{[L-1]}$:\n",
    "\n",
    "# $\n",
    "\\frac{\\partial Cost}{\\partial z^{[L-1]}} =\n",
    "\\frac{\\partial  Cost}{\\partial a^{[L]}}\n",
    "\\frac{\\partial  a^{[L]}}{\\partial z^{[L]}}\n",
    "\\frac{\\partial  z^{[L]}}{\\partial a^{[L-1]}}\n",
    "\\frac{\\partial  a^{[L-1]}}{\\partial z^{[L-1]}}\n",
    "$\n",
    "\n",
    "# $\n",
    "\\frac{\\partial Cost}{\\partial z^{[L-1]}} =\n",
    "\\left(\n",
    "    \\frac{\\partial  Cost}{\\partial a^{[L]}}\n",
    "    \\frac{\\partial  a^{[L]}}{\\partial z^{[L]}}\n",
    "\\right)\n",
    "\\frac{\\partial  z^{[L]}}{\\partial a^{[L-1]}}\n",
    "\\frac{\\partial  a^{[L-1]}}{\\partial z^{[L-1]}}\n",
    "$\n",
    "\n",
    "# $\n",
    "\\frac{\\partial Cost}{\\partial z^{[L-1]}} =\n",
    "\\frac{\\partial Cost}{\\partial z^{[L]}}\n",
    "\\frac{\\partial  z^{[L]}}{\\partial a^{[L-1]}}\n",
    "\\frac{\\partial  a^{[L-1]}}{\\partial z^{[L-1]}}\n",
    "$\n",
    "\n",
    "# $\n",
    "\\frac{\\partial Cost}{\\partial z^{[L-1]}} =\n",
    "\\frac{\\partial Cost}{\\partial z^{[L]}}  \\cdot\n",
    "W^{[L]} *\n",
    "\\sigma '(z^{[L-1]})\n",
    "$"
   ]
  },
  {
   "cell_type": "markdown",
   "metadata": {},
   "source": [
    "---"
   ]
  },
  {
   "cell_type": "markdown",
   "metadata": {},
   "source": [
    "# Forward propagation (L=2):\n",
    "\n",
    "$Z^{[1]} = W^{[1]} X + b^{[1]}$\n",
    "\n",
    "$A^{[1]} = relu^{[1]}(Z^{[1]})$\n",
    "\n",
    "---\n",
    "\n",
    "$Z^{[2]} = W^{[2]} A^{[1]} + b^{[2]}$\n",
    "\n",
    "$A^{[2]} = relu^{[2]}(Z^{[2]})$"
   ]
  },
  {
   "cell_type": "markdown",
   "metadata": {},
   "source": [
    "# Backward propagtion (L=2):\n",
    "\n",
    "$dZ^{[2]} = A^{[2]} - Y$\n",
    "\n",
    "$dW^{[2]} = \\frac{1}{N} dZ^{[2]} A^{[1]T}$\n",
    "\n",
    "$db^{[2]} = \\frac{1}{N} np.sum(dZ^{[2]}, axis=1, keepdeims=True)$\n",
    "\n",
    "---\n",
    "\n",
    "$dZ^{[1]} = W^{[2]T} dZ^{[2]} * (relu^{[1]})'(Z^{[1]})$\n",
    "\n",
    "$dW^{[1]} = \\frac{1}{N} dZ^{[1]} X^{T}$\n",
    "\n",
    "$db^{[1]} = \\frac{1}{N} np.sum(dZ^{[1]}, axis=1, keepdeims=True)$"
   ]
  },
  {
   "cell_type": "markdown",
   "metadata": {},
   "source": [
    "# Gradient descend:\n",
    "\n",
    "# $W^{[l]} \\leftarrow W^{[l]} - \\alpha \\frac{\\partial Cost}{\\partial W^{[l]}}$\n",
    "\n",
    "# $b^{[l]} \\leftarrow b^{[l]} - \\alpha \\frac{\\partial Cost}{\\partial b^{[l]}}$"
   ]
  }
 ],
 "metadata": {
  "kernelspec": {
   "display_name": "Python 3 (ipykernel)",
   "language": "python",
   "name": "python3"
  },
  "language_info": {
   "codemirror_mode": {
    "name": "ipython",
    "version": 3
   },
   "file_extension": ".py",
   "mimetype": "text/x-python",
   "name": "python",
   "nbconvert_exporter": "python",
   "pygments_lexer": "ipython3",
   "version": "3.8.10"
  }
 },
 "nbformat": 4,
 "nbformat_minor": 2
}

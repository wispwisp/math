{
 "cells": [
  {
   "cell_type": "code",
   "execution_count": null,
   "metadata": {},
   "outputs": [],
   "source": [
    "import pandas as pd\n",
    "import numpy as np\n",
    "\n",
    "import seaborn as sns\n",
    "import matplotlib.pyplot as plt\n",
    "\n",
    "import matplotlib\n",
    "matplotlib.pyplot.style.use('seaborn')\n",
    "# matplotlib.rcParams['figure.figsize'] = (15, 5)\n",
    "\n",
    "%matplotlib inline"
   ]
  },
  {
   "cell_type": "code",
   "execution_count": null,
   "metadata": {},
   "outputs": [],
   "source": [
    "from IPython.core.interactiveshell import InteractiveShell\n",
    "InteractiveShell.ast_node_interactivity = \"all\""
   ]
  },
  {
   "cell_type": "code",
   "execution_count": null,
   "metadata": {},
   "outputs": [],
   "source": [
    "np.set_printoptions(precision=2, suppress=True)"
   ]
  },
  {
   "cell_type": "code",
   "execution_count": null,
   "metadata": {},
   "outputs": [],
   "source": [
    "import math\n",
    "import copy\n",
    "\n",
    "import scipy.stats as stats"
   ]
  },
  {
   "cell_type": "code",
   "execution_count": null,
   "metadata": {},
   "outputs": [],
   "source": [
    "from sklearn import model_selection, metrics, datasets\n",
    "\n",
    "from sklearn.preprocessing import StandardScaler\n",
    "from sklearn.pipeline import Pipeline"
   ]
  },
  {
   "cell_type": "markdown",
   "metadata": {},
   "source": [
    "# Expand layers\n",
    "\n",
    "$L$ - next layer amount of neurons\n",
    "\n",
    "Each feature vector multiplied on matrix $J \\cdot L$ _(Not a vector like in regression)_ defining next leve dimensionality (by $L$)\n",
    "\n",
    "$\n",
    "\\begin{bmatrix}\n",
    "x_0^0 & x_0^1 & ... & x_0^j \\\\\n",
    "... \\\\\n",
    "x_n^0 & x_n^1 & ... & x_n^j\n",
    "\\end{bmatrix}\n",
    "$\n",
    "$\n",
    "\\begin{bmatrix}\n",
    "w_0^0 & ... & w_0^{L} \\\\\n",
    "... \\\\\n",
    "w_j^0 & ... & w_j^{L}\n",
    "\\end{bmatrix}\n",
    "\\to$\n",
    "$\n",
    "\\begin{bmatrix}\n",
    "x_0^0 w_0^0 & ... & x_0^j w_0^{L} \\\\\n",
    "...\\\\\n",
    "x_n^0 w_j^0 & ... & x_n^j w_j^{L}\n",
    "\\end{bmatrix}\n",
    "$"
   ]
  },
  {
   "cell_type": "markdown",
   "metadata": {},
   "source": [
    "# Model\n",
    "##### $Y = XW + \\epsilon$\n",
    "\n",
    "$\n",
    "\\begin{bmatrix}\n",
    "y_0 & ... & y_0^{L} \\\\\n",
    "... \\\\\n",
    "y_n & ... & y_n^{L}\n",
    "\\end{bmatrix}\n",
    "=\n",
    "$\n",
    "$\n",
    "\\begin{bmatrix}\n",
    "x_0^0 & x_0^1 & ... & x_0^j \\\\\n",
    "... \\\\\n",
    "x_n^0 & x_n^1 & ... & x_n^j\n",
    "\\end{bmatrix}\n",
    "$\n",
    "$\n",
    "\\begin{bmatrix}\n",
    "w_0^0 & ... & w_0^{L} \\\\\n",
    "... \\\\\n",
    "w_j^0 & ... & w_j^{L}\n",
    "\\end{bmatrix}\n",
    "$\n",
    "$\n",
    "+\n",
    "\\begin{bmatrix}\n",
    "\\epsilon_0 \\\\\n",
    "...\\\\\n",
    "\\epsilon_n\n",
    "\\end{bmatrix}\n",
    "$\n",
    "\n",
    "Previous level $Y$ becomes featrue vector for current level."
   ]
  },
  {
   "cell_type": "code",
   "execution_count": null,
   "metadata": {
    "scrolled": true
   },
   "outputs": [],
   "source": [
    "X = np.array([\n",
    "    [1, 2, 5], # sum -> 8\n",
    "    [1, 5, 5], # -> 11\n",
    "    [1, 8, 5], # -> 14\n",
    "], dtype=np.float64)\n",
    "\n",
    "W = np.array([\n",
    "    [1, 2, 1, 0.5],\n",
    "    [1, 2, 1, 0.5],\n",
    "    [1, 2, 1, 0.5],\n",
    "], dtype=np.float64)\n",
    "\n",
    "Y = X.dot(W)\n",
    "Y"
   ]
  },
  {
   "cell_type": "code",
   "execution_count": null,
   "metadata": {},
   "outputs": [],
   "source": [
    "X.sum(axis=1)"
   ]
  },
  {
   "cell_type": "markdown",
   "metadata": {},
   "source": [
    "### Transpose for more clarity"
   ]
  },
  {
   "cell_type": "code",
   "execution_count": null,
   "metadata": {},
   "outputs": [],
   "source": [
    "W2 = np.array([\n",
    "    [1, 1, 1],\n",
    "    [2, 2, 2],\n",
    "    [1, 1, 1],\n",
    "    [0.5, 0.5, 0.5],\n",
    "], dtype=np.float64)\n",
    "\n",
    "X.dot(W2.T)"
   ]
  },
  {
   "cell_type": "markdown",
   "metadata": {},
   "source": [
    "### Another order of matrix multiplication"
   ]
  },
  {
   "cell_type": "markdown",
   "metadata": {},
   "source": [
    "$Y = W \\cdot X + \\epsilon$"
   ]
  },
  {
   "cell_type": "code",
   "execution_count": null,
   "metadata": {},
   "outputs": [],
   "source": [
    "# Emulate external source:\n",
    "source_vectors = []\n",
    "source_vectors.append([1, 2, 5]) # sum -> 8\n",
    "source_vectors.append([1, 5, 5]) # -> 11\n",
    "source_vectors.append([1, 8, 5]) # -> 14\n",
    "\n",
    "X = np.array(source_vectors, dtype=np.float64)\n",
    "\n",
    "W = np.array([\n",
    "    [1, 1, 1],\n",
    "    [2, 2, 2],\n",
    "    [1, 1, 1],\n",
    "    [.5, .5, .5],\n",
    "], dtype=np.float64)\n",
    "\n",
    "Y = W.dot(X.T)\n",
    "Y\n",
    "Y.T"
   ]
  },
  {
   "cell_type": "markdown",
   "metadata": {},
   "source": [
    "# Activation functions"
   ]
  },
  {
   "cell_type": "markdown",
   "metadata": {},
   "source": [
    "### Logistic function (sigmoid, logit)\n",
    "\n",
    "For binary clasification output layer\n",
    "\n",
    "### $\\sigma(X,w) = \\frac{1}{1 + e^{-Xw}}$\n",
    "\n",
    "### $\\frac{d}{dX} \\sigma(X,w) = \\frac{1}{1 + e^{-Xw}} \\left(1 - \\frac{1}{1 + e^{-Xw}}\\right)$"
   ]
  },
  {
   "cell_type": "code",
   "execution_count": null,
   "metadata": {},
   "outputs": [],
   "source": [
    "def sigmoid(M):\n",
    "    return 1 / (1 + np.exp(-M))"
   ]
  },
  {
   "cell_type": "code",
   "execution_count": null,
   "metadata": {},
   "outputs": [],
   "source": [
    "xs = np.linspace(-5, 5, 100)\n",
    "ys = [sigmoid(x) for x in xs]\n",
    "plt.plot(xs, ys);"
   ]
  },
  {
   "cell_type": "markdown",
   "metadata": {},
   "source": [
    "# Tanh\n",
    "\n",
    "### $t(X, w) = \\frac{e^{Xw} - e^{-Xw}}{e^{Xw} + e^{-Xw}}$\n",
    "\n",
    "### $\\frac{d}{dX} t(X, w) = 1 - \\left(\\frac{e^{Xw} - e^{-Xw}}{e^{Xw} + e^{-Xw}}\\right)^2$"
   ]
  },
  {
   "cell_type": "code",
   "execution_count": null,
   "metadata": {},
   "outputs": [],
   "source": [
    "def tanh(M):\n",
    "    numerator = np.exp(M) - np.exp(-M)\n",
    "    denominator = np.exp(M) + np.exp(-M)\n",
    "    return numerator / denominator"
   ]
  },
  {
   "cell_type": "code",
   "execution_count": null,
   "metadata": {},
   "outputs": [],
   "source": [
    "xs = np.linspace(-5, 5, 100)\n",
    "ys = [tanh(x) for x in xs]\n",
    "plt.plot(xs, ys);"
   ]
  },
  {
   "cell_type": "markdown",
   "metadata": {},
   "source": [
    "# Relu\n",
    "\n",
    "$r(X, w) = max(0, Xw)$\n",
    "\n",
    "In derivative hack in zero by $1 \\mbox{ if } x \\ge 0$:\n",
    "\n",
    "$\n",
    "r'(X, w) =\n",
    "\\left\\{\n",
    "    \\begin{array}{ll}\n",
    "\t\t0 & \\mbox{if } Xw < 0 \\\\\n",
    "\t\t1 & \\mbox{if } Xw \\ge 0\n",
    "\t\\end{array}\n",
    "\\right.\n",
    "$"
   ]
  },
  {
   "cell_type": "code",
   "execution_count": null,
   "metadata": {},
   "outputs": [],
   "source": [
    "def relu(M):\n",
    "    return np.maximum(0, M)\n",
    "\n",
    "def d_relu(x):\n",
    "    x[x <= 0] = 0\n",
    "    x[x > 0] = 1\n",
    "    return x"
   ]
  },
  {
   "cell_type": "code",
   "execution_count": null,
   "metadata": {},
   "outputs": [],
   "source": [
    "xs = np.linspace(-5, 5, 100)\n",
    "ys = [relu(x) for x in xs]\n",
    "plt.plot(xs, ys);"
   ]
  },
  {
   "cell_type": "markdown",
   "metadata": {},
   "source": [
    "# Forward propagation\n",
    "\n",
    "$Z^{[1]} = W^{[1]} X + b^{[1]}$\n",
    "\n",
    "$A^{[1]} = relu^{[1]}(Z^{[1]})$\n",
    "\n",
    "---\n",
    "\n",
    "$Z^{[2]} = W^{[2]} A^{[1]} + b^{[2]}$\n",
    "\n",
    "$A^{[2]} = relu^{[2]}(Z^{[2]})$"
   ]
  },
  {
   "cell_type": "markdown",
   "metadata": {},
   "source": [
    "# Backward propagtion derivation intuition\n",
    "\n",
    "---\n",
    "\n",
    "##### Forward propagation graph:\n",
    "$X \\to \\sigma(W^{[1]}X + b^{[1]}) \\to \\sigma(W^{[2]} A^{[1]} + b^{[2]}) \\to \\sigma(W^{[l]} A^{[l-1]} + b^{[l]}) \\to  ... \\to \\sigma(W^{[L]} A^{[L-1]} + b^{[L]}) \\to \\frac{1}{N} \\sum Cost \\left( \\hat{y_i}, y_i \\right)$\n",
    "\n",
    "Ommit subscript indexes, pretend 'matrix' form:\n",
    "\n",
    "$z^{[L]} = w^{[L]} a^{[L-1]} + b^{[L]}$\n",
    "\n",
    "$a^{[L]} = \\sigma(z^{[L]})$"
   ]
  },
  {
   "cell_type": "markdown",
   "metadata": {},
   "source": [
    "# Chain rule (Derivation for last layer):\n",
    "\n",
    "Assume cost is MSE: $Cost = \\left( a^{[L]} - y \\right)^2$\n",
    "\n",
    "Chain rule graph:\n",
    "\n",
    "$Cost \\to a^{L} \\to z^{L} \\to (w^{L}, a^{L-1}, b^{L})$"
   ]
  },
  {
   "cell_type": "markdown",
   "metadata": {},
   "source": [
    "---\n",
    "\n",
    "## $\\partial w^{[L]}$:\n",
    "\n",
    "# $\\frac{\\partial Cost}{\\partial w^{[L]}} =\n",
    "\\frac{\\partial  z^{[L]}}{\\partial w^{[L]}}\n",
    "\\frac{\\partial  a^{[L]}}{\\partial z^{[L]}}\n",
    "\\frac{\\partial  Cost}{\\partial a^{[L]}}\n",
    "$\n",
    "\n",
    "# $\\frac{\\partial Cost}{\\partial w^{[L]}} =\n",
    "a^{[L - 1]} \\cdot\n",
    "\\sigma '(z^{[L]}) \\cdot\n",
    "2(a^{[L]} - y) \\cdot (a^{[L]} - y)'\n",
    "$\n",
    "\n",
    "# $\\frac{\\partial Cost}{\\partial w^{[L]}} =\n",
    "a^{[L - 1]} \\cdot\n",
    "\\sigma '(z^{[L]}) \\cdot\n",
    "2(a^{[L]} - y) \\cdot 1\n",
    "$"
   ]
  },
  {
   "cell_type": "markdown",
   "metadata": {},
   "source": [
    "---\n",
    "\n",
    "## $\\partial a^{[L-1]}$:\n",
    "\n",
    "# $\\frac{\\partial Cost}{\\partial a^{[L-1]}} =\n",
    "\\frac{\\partial  z^{[L]}}{\\partial a^{[L-1]}}\n",
    "\\frac{\\partial  a^{[L]}}{\\partial z^{[L]}}\n",
    "\\frac{\\partial  Cost}{\\partial a^{[L]}}\n",
    "$\n",
    "\n",
    "# $\\frac{\\partial Cost}{\\partial a^{[L-1]}} =\n",
    "w^{[L]} \\cdot\n",
    "\\sigma '(z^{[L]}) \\cdot\n",
    "2(a^{[L]} - y)\n",
    "$"
   ]
  },
  {
   "cell_type": "markdown",
   "metadata": {},
   "source": [
    "---\n",
    "\n",
    "## $\\partial b^{[L]}$:\n",
    "\n",
    "# $\\frac{\\partial Cost}{\\partial b^{[L]}} =\n",
    "\\frac{\\partial  z^{[L]}}{\\partial b^{[L]}}\n",
    "\\frac{\\partial  a^{[L]}}{\\partial z^{[L]}}\n",
    "\\frac{\\partial  Cost}{\\partial a^{[L]}}\n",
    "$\n",
    "\n",
    "# $\\frac{\\partial Cost}{\\partial b^{[L]}} =\n",
    "1 \\cdot\n",
    "\\sigma '(z^{[L]}) \\cdot\n",
    "2(a^{[L]} - y)\n",
    "$"
   ]
  },
  {
   "cell_type": "markdown",
   "metadata": {},
   "source": [
    "# (Additional intuition) Backpropagtion graph in depth:\n",
    "\n",
    "$Cost \\to \\left[ A^{L} \\to Z^{L} \\to (W^{L}, A^{L-1}, b^{L}) \\right] \\to\n",
    "\\left[ Z^{[L-1]} \\to (W^{L-1}, A^{L-2}, b^{L-1}) \\right]\n",
    "\\to ... \\to\n",
    "\\left[ Z^{[1]} \\to (W^{1}, X, b^{1}) \\right]\n",
    "$ "
   ]
  },
  {
   "cell_type": "markdown",
   "metadata": {},
   "source": [
    "# How to derivate next level:"
   ]
  },
  {
   "cell_type": "markdown",
   "metadata": {},
   "source": [
    "---\n",
    "\n",
    "## $\\partial W^{[L-1]}$:\n",
    "\n",
    "# $\\frac{\\partial Cost}{\\partial W^{[L-1]}} =\n",
    "\\frac{\\partial  Z^{[L-1]}}{\\partial W^{[L-1]}}\n",
    "\\frac{\\partial  A^{[L-1]}}{\\partial Z^{[L-1]}}\n",
    "\\frac{\\partial  Z^{[L]}}{\\partial A^{[L-1]}}\n",
    "\\frac{\\partial  A^{[L]}}{\\partial Z^{[L]}}\n",
    "\\frac{\\partial  Cost}{\\partial A^{[L]}}\n",
    "$\n",
    "\n",
    "# $\\frac{\\partial Cost}{\\partial W^{[L-1]}} =\n",
    "A^{[L-2]} \\cdot\n",
    "\\sigma '(Z^{[L-1]}) \\cdot\n",
    "\\left(\n",
    "  W^{[L]} \\cdot\n",
    "  \\sigma '(Z^{[L]}) \\cdot\n",
    "  2(A^{[L]} - y)\n",
    "\\right)\n",
    "$\n",
    "\n",
    "# $\\frac{\\partial Cost}{\\partial W^{[L-1]}} =\n",
    "A^{[L-2]} \\cdot\n",
    "\\sigma '(Z^{[L-1]}) \\cdot\n",
    "\\frac{\\partial Cost}{\\partial A^{[L-1]}}\n",
    "$"
   ]
  },
  {
   "cell_type": "markdown",
   "metadata": {},
   "source": [
    "---\n",
    "\n",
    "## $\\partial A^{[L-2]}$:\n",
    "\n",
    "# $\\frac{\\partial Cost}{\\partial A^{[L-2]}} =\n",
    "\\frac{\\partial  Z^{[L-1]}}{\\partial A^{[L-2]}}\n",
    "\\frac{\\partial  A^{[L-1]}}{\\partial Z^{[L-1]}}\n",
    "\\frac{\\partial  Z^{[L]}}{\\partial A^{[L-1]}}\n",
    "\\frac{\\partial  A^{[L]}}{\\partial Z^{[L]}}\n",
    "\\frac{\\partial  Cost}{\\partial A^{[L]}}\n",
    "$\n",
    "\n",
    "# $\\frac{\\partial Cost}{\\partial A^{[L-2]}} =\n",
    "W^{[L-1]} \\cdot\n",
    "\\sigma '(Z^{[L-1]})\n",
    "\\cdot\n",
    "\\left(\n",
    "   W^{[L]} \\cdot\n",
    "   \\sigma '(Z^{[L]}) \\cdot\n",
    "   2(a^{[L]} - y)\n",
    "\\right)\n",
    "$\n",
    "\n",
    "# $\\frac{\\partial Cost}{\\partial A^{[L-2]}} =\n",
    "W^{[L-1]} \\cdot\n",
    "\\sigma '(Z^{[L-1]})\n",
    "\\cdot\n",
    "\\frac{\\partial Cost}{\\partial A^{[L-1]}}\n",
    "$"
   ]
  },
  {
   "cell_type": "markdown",
   "metadata": {},
   "source": [
    "---\n",
    "\n",
    "## $\\partial b^{[L-1]}$:\n",
    "\n",
    "# $\\frac{\\partial Cost}{\\partial b^{[L-1]}} =\n",
    "\\frac{\\partial  Z^{[L-1]}}{\\partial b^{[L-1]}}\n",
    "\\frac{\\partial  A^{[L-1]}}{\\partial Z^{[L-1]}}\n",
    "\\frac{\\partial  Z^{[L]}}{\\partial A^{[L-1]}}\n",
    "\\frac{\\partial  A^{[L]}}{\\partial Z^{[L]}}\n",
    "\\frac{\\partial  Cost}{\\partial A^{[L]}}\n",
    "$\n",
    "\n",
    "# $\\frac{\\partial Cost}{\\partial b^{[L-1]}} =\n",
    "1 \\cdot\n",
    "\\sigma '(Z^{[L-1]}) \\cdot\n",
    "W^{[L]} \\cdot\n",
    "\\sigma '(Z^{[L]}) \\cdot\n",
    "2(a^{[L]} - y)\n",
    "$\n",
    "\n",
    "# $\\frac{\\partial Cost}{\\partial b^{[L-1]}} =\n",
    "\\sigma '(Z^{[L-1]}) \\cdot\n",
    "\\frac{\\partial Cost}{\\partial A^{[L-1]}}\n",
    "$"
   ]
  },
  {
   "cell_type": "markdown",
   "metadata": {},
   "source": [
    "# Next levels - same pattern recursevly, ex:"
   ]
  },
  {
   "cell_type": "markdown",
   "metadata": {},
   "source": [
    "$\\frac{\\partial Cost}{\\partial W^{[L-2]}} =\n",
    "\\frac{\\partial  Z^{[L-2]}}{\\partial W^{[L-2]}}\n",
    "\\frac{\\partial  A^{[L-2]}}{\\partial Z^{[L-2]}}\n",
    "\\left(\n",
    "  \\frac{\\partial  Z^{[L-1]}}{\\partial A^{[L-2]}}\n",
    "  \\frac{\\partial  A^{[L-1]}}{\\partial Z^{[L-1]}}\n",
    "  \\left(\n",
    "    \\frac{\\partial  Z^{[L]}}{\\partial A^{[L-1]}}\n",
    "    \\frac{\\partial  A^{[L]}}{\\partial Z^{[L]}}\n",
    "    \\frac{\\partial  Cost}{\\partial A^{[L]}}\n",
    "  \\right)\n",
    "\\right)\n",
    "$\n",
    "\n",
    "$\\frac{\\partial Cost}{\\partial W^{[L-2]}} =\n",
    "A^{[L-3]} \\cdot\n",
    "\\sigma '(Z^{[L-2]}) \\cdot\n",
    "\\left(\n",
    "  W^{[L-1]} \\cdot\n",
    "  \\sigma '(Z^{[L-1]}) \\cdot\n",
    "  \\left(\n",
    "    W^{[L]} \\cdot\n",
    "    \\sigma '(Z^{[L]}) \\cdot\n",
    "    2(a^{[L]} - y)\n",
    "  \\right)\n",
    "\\right)\n",
    "$\n",
    "\n",
    "$\\frac{\\partial Cost}{\\partial W^{[L-2]}} =\n",
    "A^{[L-3]} \\cdot\n",
    "\\sigma '(Z^{[L-2]}) \\cdot\n",
    "\\left(\n",
    "  W^{[L-1]} \\cdot\n",
    "  \\sigma '(Z^{[L-1]}) \\cdot\n",
    "  \\frac{\\partial Cost}{\\partial A^{[L-1]}}\n",
    "\\right)\n",
    "$\n",
    "\n",
    "$\\frac{\\partial Cost}{\\partial W^{[L-2]}} =\n",
    "A^{[L-3]} \\cdot\n",
    "\\sigma '(Z^{[L-2]}) \\cdot\n",
    "\\frac{\\partial Cost}{\\partial A^{[L-2]}}\n",
    "$"
   ]
  },
  {
   "cell_type": "markdown",
   "metadata": {},
   "source": [
    "---"
   ]
  },
  {
   "cell_type": "markdown",
   "metadata": {},
   "source": [
    "$\\frac{\\partial Cost}{\\partial A^{[L-3]}} =\n",
    "\\frac{\\partial  Z^{[L-2]}}{\\partial A^{[L-3]}}\n",
    "\\frac{\\partial  A^{[L-2]}}{\\partial Z^{[L-2]}}\n",
    "\\left(\n",
    "  \\frac{\\partial  Z^{[L-1]}}{\\partial A^{[L-2]}}\n",
    "  \\frac{\\partial  A^{[L-1]}}{\\partial Z^{[L-1]}}\n",
    "  \\left(\n",
    "    \\frac{\\partial  Z^{[L]}}{\\partial A^{[L-1]}}\n",
    "    \\frac{\\partial  A^{[L]}}{\\partial Z^{[L]}}\n",
    "    \\frac{\\partial  Cost}{\\partial A^{[L]}}\n",
    "  \\right)\n",
    "\\right)\n",
    "$\n",
    "\n",
    "$\\frac{\\partial Cost}{\\partial A^{[L-3]}} =\n",
    "W^{[L-2]} \\cdot\n",
    "\\sigma '(Z^{[L-2]}) \\cdot\n",
    "\\left(\n",
    "  W^{[L-1]} \\cdot\n",
    "  \\sigma '(Z^{[L-1]}) \\cdot\n",
    "  \\left(\n",
    "    W^{[L]} \\cdot\n",
    "    \\sigma '(Z^{[L]}) \\cdot\n",
    "    2(a^{[L]} - y)\n",
    "  \\right)\n",
    "\\right)\n",
    "$\n",
    "\n",
    "$\\frac{\\partial Cost}{\\partial A^{[L-3]}} =\n",
    "W^{[L-2]} \\cdot\n",
    "\\sigma '(Z^{[L-2]}) \\cdot\n",
    "\\left(\n",
    "W^{[L-1]} \\cdot\n",
    "\\sigma '(Z^{[L-1]}) \\cdot \\frac{\\partial Cost}{\\partial A^{[L-1]}}\n",
    "\\right)\n",
    "$\n",
    "\n",
    "$\\frac{\\partial Cost}{\\partial A^{[L-3]}} =\n",
    "W^{[L-2]} \\cdot\n",
    "\\sigma '(Z^{[L-2]}) \\cdot \\frac{\\partial Cost}{\\partial A^{[L-2]}}\n",
    "$"
   ]
  },
  {
   "cell_type": "markdown",
   "metadata": {},
   "source": [
    "---"
   ]
  },
  {
   "cell_type": "markdown",
   "metadata": {},
   "source": [
    "$\\frac{\\partial Cost}{\\partial b^{[L-2]}} =\n",
    "\\frac{\\partial  Z^{[L-2]}}{\\partial b^{[L-2]}}\n",
    "\\frac{\\partial  A^{[L-2]}}{\\partial Z^{[L-2]}}\n",
    "\\left(\n",
    "  \\frac{\\partial  Z^{[L-1]}}{\\partial A^{[L-2]}}\n",
    "  \\frac{\\partial  A^{[L-1]}}{\\partial Z^{[L-1]}}\n",
    "  \\left(\n",
    "    \\frac{\\partial  Z^{[L]}}{\\partial A^{[L-1]}}\n",
    "    \\frac{\\partial  A^{[L]}}{\\partial Z^{[L]}}\n",
    "    \\frac{\\partial  Cost}{\\partial A^{[L]}}\n",
    "  \\right)\n",
    "\\right)\n",
    "$\n",
    "\n",
    "$\\frac{\\partial Cost}{\\partial b^{[L-2]}} =\n",
    "1 \\cdot \\sigma '(Z^{[L-2]}) \\cdot\n",
    "\\left(\n",
    "  W^{[L-1]} \\cdot\n",
    "  \\sigma '(Z^{[L-1]}) \\cdot\n",
    "  \\left(\n",
    "    W^{[L]} \\cdot\n",
    "    \\sigma '(Z^{[L]}) \\cdot\n",
    "    2(a^{[L]} - y)\n",
    "  \\right)\n",
    "\\right)\n",
    "$\n",
    "\n",
    "$\\frac{\\partial Cost}{\\partial b^{[L-2]}} =\n",
    "\\sigma '(Z^{[L-2]}) \\cdot\n",
    "\\left(\n",
    "W^{[L-1]} \\cdot\n",
    "\\sigma '(Z^{[L-1]}) \\cdot \\frac{\\partial Cost}{\\partial A^{[L-1]}}\n",
    "\\right)\n",
    "$\n",
    "\n",
    "$\\frac{\\partial Cost}{\\partial b^{[L-2]}} =\n",
    "\\sigma '(Z^{[L-2]}) \\cdot \\frac{\\partial Cost}{\\partial A^{[L-2]}}\n",
    "$"
   ]
  }
 ],
 "metadata": {
  "kernelspec": {
   "display_name": "Python 3 (ipykernel)",
   "language": "python",
   "name": "python3"
  },
  "language_info": {
   "codemirror_mode": {
    "name": "ipython",
    "version": 3
   },
   "file_extension": ".py",
   "mimetype": "text/x-python",
   "name": "python",
   "nbconvert_exporter": "python",
   "pygments_lexer": "ipython3",
   "version": "3.8.10"
  }
 },
 "nbformat": 4,
 "nbformat_minor": 2
}

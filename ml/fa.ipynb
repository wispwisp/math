{
 "cells": [
  {
   "cell_type": "code",
   "execution_count": null,
   "metadata": {},
   "outputs": [],
   "source": [
    "import pandas as pd\n",
    "import numpy as np\n",
    "\n",
    "import seaborn as sns\n",
    "import matplotlib.pyplot as plt\n",
    "\n",
    "import matplotlib\n",
    "matplotlib.pyplot.style.use('seaborn')\n",
    "matplotlib.rcParams['figure.figsize'] = (15, 5)\n",
    "\n",
    "%matplotlib inline"
   ]
  },
  {
   "cell_type": "code",
   "execution_count": null,
   "metadata": {},
   "outputs": [],
   "source": [
    "from IPython.core.interactiveshell import InteractiveShell\n",
    "InteractiveShell.ast_node_interactivity = \"all\""
   ]
  },
  {
   "cell_type": "code",
   "execution_count": null,
   "metadata": {},
   "outputs": [],
   "source": [
    "np.set_printoptions(precision=2, suppress=True)"
   ]
  },
  {
   "cell_type": "code",
   "execution_count": null,
   "metadata": {},
   "outputs": [],
   "source": [
    "import math\n",
    "import copy\n",
    "\n",
    "import scipy.stats as stats"
   ]
  },
  {
   "cell_type": "code",
   "execution_count": null,
   "metadata": {},
   "outputs": [],
   "source": [
    "from sklearn import model_selection, metrics, datasets\n",
    "\n",
    "from sklearn.preprocessing import StandardScaler\n",
    "from sklearn.pipeline import Pipeline"
   ]
  },
  {
   "cell_type": "code",
   "execution_count": null,
   "metadata": {},
   "outputs": [],
   "source": [
    "np.random.seed(42)"
   ]
  },
  {
   "cell_type": "markdown",
   "metadata": {},
   "source": [
    "FA tries to explain the dependencies among the observed variables in terms of a smaller number of unobserved latent variables, or factors, without loss of information. Statistically, the dependencies between variables are defined by the covariance."
   ]
  },
  {
   "cell_type": "markdown",
   "metadata": {},
   "source": [
    "# Model\n",
    "\n",
    "_(Attention: not an i'th observation, but a i'th feature in theoretical vector)_\n",
    "\n",
    "* $i=0..p$, $j=0..k$\n",
    "\n",
    "* $k < p$\n",
    "\n",
    "$\\vec{x}$ - some, _theoretical_ vector of featues. $x \\in X$, $\\mathbb{R}^p$, _(normalized: $x = x - \\bar{x}$)_\n",
    "\n",
    "$\\vec{f}$ -  generalizing factors, explaining `x`. $f \\in F$, $\\mathbb{R}^k$\n",
    "\n",
    "$\\vec{u}$ - uniqueness of feature, \"specific variates\". $u \\in U$, $\\mathbb{R}^p$\n",
    "\n",
    "$A_{i,j}$ - factor loadings\n",
    "\n",
    "---\n",
    "\n",
    "$x_i - \\bar{x}_i = (a_{i,0} f_0 + a_{i,1} f_1 + ... + a_{i,k} f_k) + u_i$\n",
    "\n",
    "$X - \\mu = AF + U$\n",
    "\n",
    "$\\begin{bmatrix}\n",
    "x_{0, 0} & x_{0, 1} & ... & x_{0, p} \\\\\n",
    "... \\\\\n",
    "x_{n, 0} & x_{n, 1} & ... & x_{n, p}\n",
    "\\end{bmatrix} = $\n",
    "$\\left(\\begin{bmatrix}\n",
    "a_{0,0} & a_{0,1} & ... & a_{0,k} \\\\\n",
    "... \\\\\n",
    "a_{p,0} & a_{p,1} & ... & a_{p,k}\n",
    "\\end{bmatrix} \\cdot\n",
    "\\begin{bmatrix}\n",
    "f_{0,0} & f_{0,1} & ... & f_{0,k} \\\\\n",
    "... \\\\\n",
    "f_{n,0} & f_{n,1} & ... & f_{n,k} \\\\\n",
    "\\end{bmatrix}^T\\right)^T + U + \\mu$"
   ]
  },
  {
   "cell_type": "code",
   "execution_count": null,
   "metadata": {},
   "outputs": [],
   "source": [
    "P = 9\n",
    "K = 5\n",
    "\n",
    "assert K < P\n",
    "\n",
    "N = 3\n",
    "\n",
    "# ------------------------------\n",
    "\n",
    "F = np.ones((N, K))\n",
    "F\n",
    "\n",
    "U = np.random.randn(N, P)\n",
    "\n",
    "A = np.random.randn(P, K) # i=P, j = K\n",
    "\n",
    "X = A.dot(F.T).T + U\n",
    "X"
   ]
  },
  {
   "cell_type": "markdown",
   "metadata": {},
   "source": [
    "### Restirctions:\n",
    "\n",
    "$E(X) = 0$\n",
    "\n",
    "$E(F) = 0$\n",
    "\n",
    "$D(F) = I$ - Each factor explains its own characteristics. Variance of factors equals $1$\n",
    "\n",
    "$U$ and $F$ independent _(Soft: no correlation)_"
   ]
  },
  {
   "cell_type": "code",
   "execution_count": null,
   "metadata": {},
   "outputs": [],
   "source": [
    "X = np.array([\n",
    "    [3.,6.,5.],\n",
    "    [ 7, 3, 3],\n",
    "    [10, 9, 8],\n",
    "    [ 3, 9, 7],\n",
    "    [10, 6, 5],\n",
    "])\n",
    "\n",
    "S = np.cov(X, rowvar=False, bias=True,)\n",
    "S2 = ((X - X.mean(axis=0)).T.dot((X - X.mean(axis=0)))) / len(X)\n",
    "assert np.isclose(S, S2, 1e-11).all()"
   ]
  },
  {
   "cell_type": "markdown",
   "metadata": {},
   "source": [
    "# Theoretical variance-covariance matrix "
   ]
  },
  {
   "cell_type": "markdown",
   "metadata": {},
   "source": [
    "$D(X_i) = A^2_{i, 0}\\cdot D(F_0)\n",
    "+ A^2_{i, 1}\\cdot D(F_1)\n",
    "+ ... \n",
    "+ A^2_{i, k}\\cdot D(F_k)\n",
    "+ (1)^2D(u_i)$\n",
    "\n",
    "---\n",
    "\n",
    "because $D(F) = I$:\n",
    "\n",
    "$D(X_i) = A^2_{i, 0}\n",
    "+ A^2_{i, 1}\n",
    "+ ... A^2_{i, k}\n",
    "+ (1)^2D(u_i)$\n",
    "\n",
    "$D(X_i) = \\sum_j^k (A_{i,j})^2 + D(u_i)$\n",
    "\n",
    "$h^2_j = \\sum_j^k (A_{i,j})^2$ - communality\n",
    "\n",
    "$D(u_i)$ - unique variance"
   ]
  },
  {
   "cell_type": "markdown",
   "metadata": {},
   "source": [
    "# * * *"
   ]
  },
  {
   "cell_type": "markdown",
   "metadata": {},
   "source": [
    "$cov(x_i, x_j) = A_{i, 0}\\cdot A_{j, 0} \\cdot D(F_0)\n",
    "+ A_{i, 1}\\cdot A_{j, 1} \\cdot D(F_1)\n",
    "+ ...\n",
    "+ A_{i, p}\\cdot A_{j, k} \\cdot D(F_k)$\n",
    "\n",
    "---\n",
    "\n",
    "because $D(F) = I$:\n",
    "\n",
    "$cov(x_i, x_j) = A_{i, 0}\\cdot A_{j, 0}\n",
    "+ A_{i, 1}\\cdot A_{j, 1}\n",
    "+ ...\n",
    "+ A_{i, p}\\cdot A_{j, k}$\n",
    "\n",
    "$cov(x_i, x_j) =  \\sum_m^k a_{i,m} a_{j,m}$\n",
    "\n",
    "---\n",
    "\n",
    "Summary:\n",
    "\n",
    "$\\Sigma = AA^T + diag(D(U))$, Where dioganal $h^2_j$ - see abowe"
   ]
  },
  {
   "cell_type": "markdown",
   "metadata": {},
   "source": [
    "---\n",
    "\n",
    "### Proof\n",
    "\n",
    "Note $D = Cov$\n",
    "\n",
    "Then note that from the conditions just imposed on $A$, we have:\n",
    "\n",
    "$Cov(X - \\mu) = Cov(AF + U)$\n",
    "\n",
    "$\\Sigma = ACov(F)A^T + Cov(U)$\n",
    "\n",
    "---\n",
    "\n",
    "* $Cov(F) = I$\n",
    "* $\\Psi = diag(Cov(U))$\n",
    "\n",
    "$\\rightarrow$\n",
    "\n",
    "$\\Sigma = AA^T +\\Psi$"
   ]
  },
  {
   "cell_type": "code",
   "execution_count": null,
   "metadata": {},
   "outputs": [],
   "source": []
  },
  {
   "cell_type": "markdown",
   "metadata": {},
   "source": [
    "# * * *"
   ]
  },
  {
   "cell_type": "code",
   "execution_count": null,
   "metadata": {},
   "outputs": [],
   "source": []
  },
  {
   "cell_type": "markdown",
   "metadata": {},
   "source": [
    "Task: $\\left\\| \\Sigma - AA^T \\right\\| \\rightarrow min$\n",
    "\n",
    "# TODO: how?"
   ]
  },
  {
   "cell_type": "markdown",
   "metadata": {},
   "source": [
    "* Generate $F$ with restrictions abowe\n",
    "\n",
    "* Solve for $X - \\mu = AF + U$ with one unknown - $A$\n",
    "\n",
    "* Set of all posible equation reduce to answer by varimax"
   ]
  },
  {
   "cell_type": "code",
   "execution_count": null,
   "metadata": {},
   "outputs": [],
   "source": []
  },
  {
   "cell_type": "markdown",
   "metadata": {},
   "source": [
    "$\\Sigma = Cov(X)$\n",
    "\n",
    "$\\hat{\\Sigma} = AA^T = Cov(AF)$"
   ]
  },
  {
   "cell_type": "markdown",
   "metadata": {},
   "source": [
    "1) перебор значений $A$, $F$\n",
    "\n",
    "2) подсчёт $\\hat{\\Sigma} = Cov(AF)$\n",
    "\n",
    "3) расчёт $\\left\\| \\Sigma - \\hat{\\Sigma} \\right\\|^2$ (или другой нормы)\n",
    "\n",
    "Накладываем требования на $F$: $Cov(F) = I$\n",
    "\n",
    "Накладываем требования на $A$: varimax "
   ]
  },
  {
   "cell_type": "code",
   "execution_count": null,
   "metadata": {},
   "outputs": [],
   "source": []
  }
 ],
 "metadata": {
  "kernelspec": {
   "display_name": "Python 3",
   "language": "python",
   "name": "python3"
  },
  "language_info": {
   "codemirror_mode": {
    "name": "ipython",
    "version": 3
   },
   "file_extension": ".py",
   "mimetype": "text/x-python",
   "name": "python",
   "nbconvert_exporter": "python",
   "pygments_lexer": "ipython3",
   "version": "3.6.8"
  }
 },
 "nbformat": 4,
 "nbformat_minor": 2
}

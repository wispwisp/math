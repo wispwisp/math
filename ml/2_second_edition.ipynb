{
 "cells": [
  {
   "cell_type": "code",
   "execution_count": null,
   "metadata": {},
   "outputs": [],
   "source": [
    "import pandas as pd\n",
    "import numpy as np\n",
    "\n",
    "import seaborn as sns\n",
    "import matplotlib.pyplot as plt\n",
    "\n",
    "import matplotlib\n",
    "matplotlib.pyplot.style.use('seaborn')\n",
    "matplotlib.rcParams['figure.figsize'] = (15, 5)\n",
    "\n",
    "%matplotlib inline"
   ]
  },
  {
   "cell_type": "code",
   "execution_count": null,
   "metadata": {},
   "outputs": [],
   "source": [
    "from IPython.core.interactiveshell import InteractiveShell\n",
    "InteractiveShell.ast_node_interactivity = \"all\""
   ]
  },
  {
   "cell_type": "code",
   "execution_count": null,
   "metadata": {},
   "outputs": [],
   "source": [
    "np.set_printoptions(precision=2, suppress=True)"
   ]
  },
  {
   "cell_type": "code",
   "execution_count": null,
   "metadata": {},
   "outputs": [],
   "source": [
    "import math\n",
    "import copy\n",
    "\n",
    "import scipy.stats as stats"
   ]
  },
  {
   "cell_type": "code",
   "execution_count": null,
   "metadata": {},
   "outputs": [],
   "source": [
    "from sklearn import model_selection, metrics, datasets\n",
    "\n",
    "from sklearn.preprocessing import StandardScaler\n",
    "from sklearn.pipeline import Pipeline"
   ]
  },
  {
   "cell_type": "markdown",
   "metadata": {},
   "source": [
    "# Model\n",
    "\n",
    "##### $y = Xw + \\epsilon$\n",
    "\n",
    "$\\begin{bmatrix}\n",
    "y_0 \\\\\n",
    "... \\\\\n",
    "y_n \\\\\n",
    "\\end{bmatrix} = $\n",
    "$\\begin{bmatrix}\n",
    "x_0^0 & x_0^1 &  ... & x_0^j \\\\\n",
    "... \\\\\n",
    "x_n^0 & x_n^1 &  ... & x_n^j\n",
    "\\end{bmatrix}$\n",
    "$\\begin{bmatrix}\n",
    "w_0 \\\\\n",
    "...\\\\\n",
    "w_j\n",
    "\\end{bmatrix} +$\n",
    "$\\begin{bmatrix}\n",
    "\\epsilon_0 \\\\\n",
    "...\\\\\n",
    "\\epsilon_n\n",
    "\\end{bmatrix}$"
   ]
  },
  {
   "cell_type": "markdown",
   "metadata": {},
   "source": [
    "# Classification\n",
    "\n",
    "### Link function: squeeze regression real line into $[0,1]$ (and make it probability)\n",
    "\n",
    "$P(y=1|X, w) = Sigmoid(Model(X, w))$\n",
    "\n",
    "---\n",
    "\n",
    "### Logistic function (sigmoid, logit)\n",
    "\n",
    "### $Sigmoid(X, w)  = \\sigma(X,w) = \\frac{1}{1 + e^{-Xw}}$"
   ]
  },
  {
   "cell_type": "code",
   "execution_count": null,
   "metadata": {},
   "outputs": [],
   "source": [
    "def sigmoid(M):\n",
    "    return 1 / (1 + np.exp(-M))"
   ]
  },
  {
   "cell_type": "code",
   "execution_count": null,
   "metadata": {},
   "outputs": [],
   "source": [
    "xs = np.linspace(-5, 5, 100)\n",
    "ys = [sigmoid(x) for x in xs]\n",
    "plt.plot(xs, ys);"
   ]
  },
  {
   "cell_type": "code",
   "execution_count": null,
   "metadata": {},
   "outputs": [],
   "source": [
    "X = np.array([\n",
    "    [1, 2, 5],\n",
    "    [1, 5, 5],\n",
    "    [1, 8, 5],\n",
    "], dtype=np.float64)\n",
    "\n",
    "w = np.array([0.1, 0.1, 0.1], dtype=np.float64)\n",
    "\n",
    "proba = sigmoid(X.dot(w))\n",
    "proba"
   ]
  },
  {
   "cell_type": "markdown",
   "metadata": {},
   "source": [
    "# Cost function\n",
    "\n",
    "$Cost(w, X, y) = - \\sum\\left( y_i log(\\sigma(w x_i)) + (1-y_i)log(\\sigma(-w x_i)) \\right)$\n",
    "\n",
    "$-\\left\\| y * log(\\sigma(Xw)) + (1-y)log(\\sigma(-Xw)) \\right\\|_2$\n",
    "\n",
    "$\\triangledown Cost = -\\sum x_i \\left( y_i - \\sigma(w x_i) \\right)$\n",
    "\n",
    "$-X^T \\left( y - \\sigma(Wx) \\right)$"
   ]
  },
  {
   "cell_type": "code",
   "execution_count": null,
   "metadata": {
    "scrolled": true
   },
   "outputs": [],
   "source": [
    "X = np.array([\n",
    "    [1, 2, 15,  8],\n",
    "    [1, 5, 45, 12],\n",
    "    [1, 8, 53, 33],\n",
    "], dtype=np.float64)\n",
    "\n",
    "y = np.array([0, 1, 0], dtype=np.float64)\n",
    "w = np.array([0.1, 0.1, 0.1, 0.1], dtype=np.float64)\n",
    "\n",
    "\n",
    "part1 = y * np.log(sigmoid(X.dot(w)))\n",
    "part2 = (1-y) * np.log(sigmoid(-X.dot(w)))\n",
    "cost = -np.linalg.norm(part1 + part2)\n",
    "cost\n",
    "\n",
    "grad = -X.T.dot(y - X.dot(w))\n",
    "grad"
   ]
  },
  {
   "cell_type": "markdown",
   "metadata": {},
   "source": [
    "# Task - Cost function minimization\n",
    "\n",
    "$Cost(w, X, y) \\Rightarrow \\underset{w}{min}$"
   ]
  },
  {
   "cell_type": "code",
   "execution_count": null,
   "metadata": {},
   "outputs": [],
   "source": [
    "def logistic(w, X, y):\n",
    "    part1 = y * np.log(sigmoid(X.dot(w)))\n",
    "    part2 = (1-y) * np.log(sigmoid(-X.dot(w)))\n",
    "    return -np.linalg.norm(part1 + part2)"
   ]
  },
  {
   "cell_type": "code",
   "execution_count": null,
   "metadata": {},
   "outputs": [],
   "source": [
    "def glogistic(w, X, y):\n",
    "    return -X.T.dot(y - X.dot(w))"
   ]
  },
  {
   "cell_type": "code",
   "execution_count": null,
   "metadata": {},
   "outputs": [],
   "source": [
    "def ridge(w, l):\n",
    "    w = w.copy()\n",
    "    w[0] = 0 # Don’t penalize intercept term w0\n",
    "    return 2 * l * w"
   ]
  },
  {
   "cell_type": "code",
   "execution_count": null,
   "metadata": {},
   "outputs": [],
   "source": [
    "def minimize(X, y, cost, grad, reg, iterations, epsilon, alpha, reg_coef):\n",
    "    # add coef of ones\n",
    "    X = np.append(np.ones(len(X[0])), X.T).reshape(4,3).T\n",
    "\n",
    "    # initilize weights vector\n",
    "    w = np.zeros(len(X[0]), dtype=np.float64)\n",
    "\n",
    "    # parameters\n",
    "    weights = [w]\n",
    "    error = []\n",
    "\n",
    "    for iteration in range(iterations):\n",
    "        w = w - alpha * (grad(w, X, y) + reg(w, reg_coef))\n",
    "        if np.linalg.norm(w - weights[-1]) < epsilon:\n",
    "            break\n",
    "        weights.append(w)\n",
    "        error.append(cost(w, X, y))\n",
    "\n",
    "    return w[0], w[1:], error"
   ]
  },
  {
   "cell_type": "code",
   "execution_count": null,
   "metadata": {},
   "outputs": [],
   "source": [
    "def predict(X, w, coef):\n",
    "    X = np.append(np.ones(len(X[0])), X.T).reshape(4,3).T\n",
    "    w = np.append(np.array(coef), w)\n",
    "\n",
    "    return sigmoid(X.dot(w))"
   ]
  },
  {
   "cell_type": "code",
   "execution_count": null,
   "metadata": {},
   "outputs": [],
   "source": [
    "X = np.array([\n",
    "    [0.2, 0.15, 0.8],\n",
    "    [0.5, 0.45, 0.12],\n",
    "    [0.8, 0.53, 0.33],\n",
    "], dtype=np.float64)\n",
    "\n",
    "y = np.array([\n",
    "    0,\n",
    "    1,\n",
    "    0,\n",
    "], dtype=np.float64)"
   ]
  },
  {
   "cell_type": "code",
   "execution_count": null,
   "metadata": {},
   "outputs": [],
   "source": [
    "coef, w, error = minimize(X, y, logistic, glogistic, ridge,\n",
    "                          iterations = 5000, epsilon = 0.0003, alpha = 0.1, reg_coef = 0.001)\n",
    "coef\n",
    "w"
   ]
  },
  {
   "cell_type": "code",
   "execution_count": null,
   "metadata": {},
   "outputs": [],
   "source": [
    "plt.plot(error);"
   ]
  },
  {
   "cell_type": "code",
   "execution_count": null,
   "metadata": {},
   "outputs": [],
   "source": [
    "predict(X, w, coef)"
   ]
  },
  {
   "cell_type": "markdown",
   "metadata": {},
   "source": [
    "# Check by sklearn"
   ]
  },
  {
   "cell_type": "code",
   "execution_count": null,
   "metadata": {},
   "outputs": [],
   "source": [
    "from sklearn.linear_model import LinearRegression\n",
    "\n",
    "reg = LinearRegression().fit(X, y)\n",
    "\n",
    "reg.intercept_ \n",
    "\n",
    "reg.coef_\n",
    "reg.predict(X)"
   ]
  },
  {
   "cell_type": "code",
   "execution_count": null,
   "metadata": {},
   "outputs": [],
   "source": []
  }
 ],
 "metadata": {
  "kernelspec": {
   "display_name": "Python 3 (ipykernel)",
   "language": "python",
   "name": "python3"
  },
  "language_info": {
   "codemirror_mode": {
    "name": "ipython",
    "version": 3
   },
   "file_extension": ".py",
   "mimetype": "text/x-python",
   "name": "python",
   "nbconvert_exporter": "python",
   "pygments_lexer": "ipython3",
   "version": "3.8.10"
  }
 },
 "nbformat": 4,
 "nbformat_minor": 2
}

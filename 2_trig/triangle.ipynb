{
 "cells": [
  {
   "cell_type": "code",
   "execution_count": null,
   "metadata": {},
   "outputs": [],
   "source": []
  },
  {
   "cell_type": "code",
   "execution_count": null,
   "metadata": {},
   "outputs": [],
   "source": []
  },
  {
   "cell_type": "markdown",
   "metadata": {},
   "source": [
    "# Similar triangle\n",
    "\n",
    "TODO: graph\n",
    "\n",
    "$\\bigtriangleup ABC \\sim \\bigtriangleup ADE$\n",
    "\n",
    "$\\rightarrow $\n",
    "\n",
    "$\\frac{AB}{BC} = \\frac{AD}{DE}$\n",
    "\n",
    "$\\frac{3}{2} = \\frac{3 + x}{11}$\n",
    "\n",
    "$11\\cdot \\frac{3}{2} = 3 + x$\n",
    "\n",
    "$11\\cdot \\frac{3}{2} - 3 = x$\n",
    "\n",
    "$\\frac{33}{2} - 2\\frac{2}{2} = x$\n",
    "\n",
    "$\\frac{33}{2} - \\frac{6}{2} = x$\n",
    "\n",
    "$x = 27/2$"
   ]
  },
  {
   "cell_type": "code",
   "execution_count": null,
   "metadata": {},
   "outputs": [],
   "source": []
  }
 ],
 "metadata": {
  "kernelspec": {
   "display_name": "Python 3",
   "language": "python",
   "name": "python3"
  },
  "language_info": {
   "codemirror_mode": {
    "name": "ipython",
    "version": 3
   },
   "file_extension": ".py",
   "mimetype": "text/x-python",
   "name": "python",
   "nbconvert_exporter": "python",
   "pygments_lexer": "ipython3",
   "version": "3.6.7"
  }
 },
 "nbformat": 4,
 "nbformat_minor": 2
}

{
 "cells": [
  {
   "cell_type": "code",
   "execution_count": null,
   "metadata": {},
   "outputs": [],
   "source": [
    "from IPython.core.interactiveshell import InteractiveShell\n",
    "InteractiveShell.ast_node_interactivity = \"all\""
   ]
  },
  {
   "cell_type": "code",
   "execution_count": null,
   "metadata": {},
   "outputs": [],
   "source": [
    "import math"
   ]
  },
  {
   "cell_type": "markdown",
   "metadata": {},
   "source": [
    "# ex (cos) (positive example _(right half)_)\n",
    "\n",
    "For cos we should take `-x` for second solution(because of arc domain)\n",
    "\n",
    "Or use identity $cos(\\theta) = cos(2\\pi - \\theta)$ _(see graph below)_"
   ]
  },
  {
   "cell_type": "code",
   "execution_count": null,
   "metadata": {},
   "outputs": [],
   "source": [
    "%%svg\n",
    "\n",
    "<svg>\n",
    "<circle cx=\"75\" cy=\"75\" r=\"70\" fill=\"rgb(234,234,234)\" stroke-width=\"1\" stroke=\"rgb(0,0,0)\"/>\n",
    "\n",
    "<line x1=\"75\" y1=\"0\" x2=\"75\" y2=\"150\" stroke-width=\"1\" stroke=\"rgb(0,0,0)\"/> \n",
    "<line x1=\"0\" y1=\"75\" x2=\"150\" y2=\"75\" stroke-width=\"1\" stroke=\"rgb(0,0,0)\"/> \n",
    "\n",
    "<line x1=\"75\" y1=\"75\" x2=\"125\" y2=\"25\" stroke-width=\"1\" stroke=\"rgb(0,0,0)\"/>\n",
    "<line x1=\"75\" y1=\"75\" x2=\"125\" y2=\"125\" stroke-width=\"1\" stroke-dasharray=\"4\" stroke=\"rgb(0,0,0)\"/>\n",
    "\n",
    "<text x=\"125\" y=\"25\" dx=\"5\" dy=\"-5\" >X1</text>\n",
    "<text x=\"125\" y=\"125\" dx=\"5\" dy=\"5\">X2</text>\n",
    "\n",
    "</svg>"
   ]
  },
  {
   "cell_type": "markdown",
   "metadata": {},
   "source": [
    "# $4cos(10x) + 2 = 2$\n",
    "\n",
    "$cos(10x) = \\frac{2 - 2}{4}$\n",
    "\n",
    "$cos(10x) = 0$\n",
    "\n",
    "$arccos(cos(10x)) = arccos(0)$\n",
    "\n",
    "$10x = 1.57 + 2\\pi n$\n",
    "\n",
    "$x_{1} = \\frac{1.57 + 2\\pi n}{10}$\n",
    "\n",
    "$x_{1} = 0.157 + \\frac{\\pi n}{5}$\n",
    "\n",
    "$x_{2} = -\\frac{1.57 + 2\\pi n}{10}$\n",
    "\n",
    "$x_{2} = -0.157 + \\frac{\\pi n}{5}$\n",
    "\n",
    "\n",
    "\n",
    "# in degree\n",
    "\n",
    "$10x_{1} = 90^{\\circ} + 360^{\\circ} n$\n",
    "\n",
    "$x_{1} = 9^{\\circ} + 36^{\\circ} n$\n",
    "\n",
    "$10x_{2} = -90^{\\circ} + 360^{\\circ} n$\n",
    "\n",
    "$x_{2} = -9^{\\circ} + 36^{\\circ} n$"
   ]
  },
  {
   "cell_type": "code",
   "execution_count": null,
   "metadata": {},
   "outputs": [],
   "source": []
  },
  {
   "cell_type": "markdown",
   "metadata": {},
   "source": [
    "# ex (sin)  (positive example _(upper half)_) (All in interval)\n",
    "\n",
    "For sin we should $\\pi - x$ for second solution(because of arc domain)"
   ]
  },
  {
   "cell_type": "code",
   "execution_count": null,
   "metadata": {
    "scrolled": true
   },
   "outputs": [],
   "source": [
    "%%svg\n",
    "\n",
    "<svg>\n",
    "<circle cx=\"75\" cy=\"75\" r=\"70\" fill=\"rgb(234,234,234)\" stroke-width=\"1\" stroke=\"rgb(0,0,0)\"/>\n",
    "\n",
    "<line x1=\"75\" y1=\"0\" x2=\"75\" y2=\"150\" stroke-width=\"1\" stroke=\"rgb(0,0,0)\"/> \n",
    "<line x1=\"0\" y1=\"75\" x2=\"150\" y2=\"75\" stroke-width=\"1\" stroke=\"rgb(0,0,0)\"/> \n",
    "\n",
    "<line x1=\"75\" y1=\"75\" x2=\"125\" y2=\"25\" stroke-width=\"1\" stroke=\"rgb(0,0,0)\"/>\n",
    "<line x1=\"75\" y1=\"75\" x2=\"25\" y2=\"25\" stroke-width=\"1\" stroke-dasharray=\"4\" stroke=\"rgb(0,0,0)\"/>\n",
    "\n",
    "<text x=\"125\" y=\"25\" dx=\"5\" dy=\"-5\" >X1</text>\n",
    "<text x=\"25\" y=\"25\" dx=\"-10\" dy=\"-10\">X2</text>\n",
    "\n",
    "</svg>"
   ]
  },
  {
   "cell_type": "markdown",
   "metadata": {},
   "source": [
    "# $sin(x) = 0.65$\n",
    "\n",
    "$arcsin(sin(x)) = arcsin(0.65)$\n",
    "\n",
    "$x_{1} = arcsin(0.65) + 2\\pi n$\n",
    "\n",
    "$x_{2} = \\pi - arcsin(0.65) + 2\\pi n$\n",
    "\n",
    "$x_{1,2} = (-1)^{n} arcsin(0.65) + \\pi n$\n",
    "\n",
    "\n",
    "What values in interval: $\\frac{3\\pi }{2}$ to $\\frac{9\\pi }{2}$"
   ]
  },
  {
   "cell_type": "code",
   "execution_count": null,
   "metadata": {},
   "outputs": [],
   "source": [
    "a = math.asin(0.65)\n",
    "lower = (3 * (math.pi)) / 2\n",
    "upper = (9 * (math.pi)) / 2\n",
    "\n",
    "for n in range(0, 1000):\n",
    "    result = a + (2*math.pi*n)\n",
    "    if lower <= result <= upper:\n",
    "        print(result)\n",
    "\n",
    "    result = (math.pi - a) + (2*math.pi*n)\n",
    "    if lower <= result <= upper:\n",
    "        print(result)"
   ]
  },
  {
   "cell_type": "code",
   "execution_count": null,
   "metadata": {},
   "outputs": [],
   "source": [
    "a = math.asin(0.65)\n",
    "lower = (3 * (math.pi)) / 2\n",
    "upper = (9 * (math.pi)) / 2\n",
    "\n",
    "for n in range(0, 1000):\n",
    "    result = (-1**n)*a + (math.pi*n)\n",
    "    if lower <= result <= upper:\n",
    "        print(result)"
   ]
  },
  {
   "cell_type": "code",
   "execution_count": null,
   "metadata": {},
   "outputs": [],
   "source": []
  },
  {
   "cell_type": "markdown",
   "metadata": {},
   "source": [
    "# ex (sin) (negative example _(lower half)_)\n",
    "\n",
    "For sin we should $-\\pi - x$ for second solution(because of arc domain, and work on lower half)"
   ]
  },
  {
   "cell_type": "code",
   "execution_count": null,
   "metadata": {},
   "outputs": [],
   "source": [
    "%%svg\n",
    "\n",
    "<svg>\n",
    "<circle cx=\"75\" cy=\"75\" r=\"70\" fill=\"rgb(234,234,234)\" stroke-width=\"1\" stroke=\"rgb(0,0,0)\"/>\n",
    "\n",
    "<line x1=\"75\" y1=\"0\" x2=\"75\" y2=\"150\" stroke-width=\"1\" stroke=\"rgb(0,0,0)\"/>\n",
    "<line x1=\"0\" y1=\"75\" x2=\"150\" y2=\"75\" stroke-width=\"1\" stroke=\"rgb(0,0,0)\"/>\n",
    "\n",
    "<line x1=\"75\" y1=\"75\" x2=\"125\" y2=\"125\" stroke-width=\"1\" stroke=\"rgb(0,0,0)\"/>\n",
    "<line x1=\"75\" y1=\"75\" x2=\"25\" y2=\"125\" stroke-width=\"1\"  stroke-dasharray=\"4\" stroke=\"rgb(0,0,0)\"/>\n",
    "\n",
    "<text x=\"125\" y=\"125\" dx=\"10\" dy=\"10\" >X1</text>\n",
    "<text x=\"25\" y=\"125\" dx=\"-15\" dy=\"15\">X2</text>\n",
    "\n",
    "</svg>"
   ]
  },
  {
   "cell_type": "markdown",
   "metadata": {},
   "source": [
    "# $8sin(8x) + 9 = 3$\n",
    "\n",
    "$sin(8x) = \\frac{-6}{8}$\n",
    "\n",
    "$arcsin(sin(8x)) = arcsin(\\frac{-6}{8})$\n",
    "\n",
    "$8x = arcsin(\\frac{-6}{8})$\n",
    "\n",
    "$x_{1} = \\frac{arcsin(\\frac{-6}{8})}{8} + \\frac{360^{\\circ} n}{8}$\n",
    "\n",
    "$x_{2} = \\frac{-\\pi - arcsin(\\frac{-6}{8})}{8} + \\frac{360^{\\circ} n}{8}$\n",
    "\n",
    "$x_{1} = -6.07 + 45^{\\circ} n$\n",
    "\n",
    "$x_{2} = -16.426 + 45^{\\circ} n$"
   ]
  },
  {
   "cell_type": "code",
   "execution_count": null,
   "metadata": {},
   "outputs": [],
   "source": [
    "math.degrees(math.asin(-6 / 8)) / 8\n",
    "(-180 - math.degrees(math.asin(-6 / 8))) / 8"
   ]
  },
  {
   "cell_type": "code",
   "execution_count": null,
   "metadata": {},
   "outputs": [],
   "source": []
  },
  {
   "cell_type": "markdown",
   "metadata": {},
   "source": [
    "# * * * Solving examples * * *"
   ]
  },
  {
   "cell_type": "code",
   "execution_count": null,
   "metadata": {},
   "outputs": [],
   "source": []
  },
  {
   "cell_type": "markdown",
   "metadata": {},
   "source": [
    "# $L(t) = 52sin(\\frac{2\\pi}{365}t) + 728$\n",
    "\n",
    "L(t) models the length of each day after the spring equinox. t in rads.\n",
    "\n",
    "Q: What is the first day after the spring equinox that the day length is 750?\n",
    "\n",
    "$\\frac{750 - 728}{52} = sin(\\frac{2\\pi}{365}t)$\n",
    "\n",
    "$arcsin(\\frac{750 - 728}{52}) = \\frac{2\\pi}{365}t$\n",
    "\n",
    "$t_{1} = \\frac{365 \\cdot (arcsin(\\frac{750 - 728}{52}) + 2\\pi n)}{2\\pi} = 25 + 365n$\n",
    "\n",
    "$t_{2} = \\frac{365 \\cdot ((\\pi - arcsin(\\frac{750 - 728}{52})) + 2\\pi n)}{2\\pi} = 157 + 365n$\n",
    "\n",
    "$t_{1}$ is first day"
   ]
  },
  {
   "cell_type": "code",
   "execution_count": null,
   "metadata": {},
   "outputs": [],
   "source": [
    "(365 * math.asin((750 - 728) / 52)) / (2*math.pi)\n",
    "(365 * (math.pi - math.asin((750 - 728) / 52))) / (2*math.pi)"
   ]
  },
  {
   "cell_type": "code",
   "execution_count": null,
   "metadata": {},
   "outputs": [],
   "source": []
  },
  {
   "cell_type": "markdown",
   "metadata": {},
   "source": [
    "# $C(t) = -15cos(\\frac{2\\pi}{15}t) + 65$ \n",
    "\n",
    "$C(t)$ models the volume of the music `t` minutes after start. `t` in rads.\n",
    "\n",
    "Q: How many minutes after start does the volume first reach 75dB ?\n",
    "\n",
    "Period is $\\frac{2\\pi}{\\frac{2\\pi}{15}}$ = 15. We want to find `first` solution within the period `0 < t < 15`.\n",
    "\n",
    "Use identity $cos(\\theta) = cos(2\\pi - \\theta)$ to find the second expression for all possible values of `t`.\n",
    "\n",
    "$\\frac{75 - 65}{-15} = cos(\\frac{2\\pi}{15}t)$ \n",
    "\n",
    "$arccos(\\frac{75 - 65}{-15}) = \\frac{2\\pi}{15}t$ \n",
    "\n",
    "$t_{1} = \\frac{15 \\cdot (arccos(\\frac{75 - 65}{-15}) +2\\pi n)}{2\\pi} = 5.49 + 15n$\n",
    "\n",
    "$t_{2} = \\frac{15 \\cdot (2\\pi - arccos(\\frac{75 - 65}{-15}) +2\\pi n)}{2\\pi} = 9.51 + 15n$\n",
    "\n",
    "$t_{1}$ - is first solution after start"
   ]
  },
  {
   "cell_type": "code",
   "execution_count": null,
   "metadata": {
    "scrolled": true
   },
   "outputs": [],
   "source": [
    "(15 * math.acos((75 - 65) / -15)) / (2*math.pi)\n",
    "(15 * ((2*math.pi) - math.acos((75 - 65) / -15))) / (2*math.pi)"
   ]
  },
  {
   "cell_type": "code",
   "execution_count": null,
   "metadata": {},
   "outputs": [],
   "source": []
  },
  {
   "cell_type": "markdown",
   "metadata": {},
   "source": [
    "# $cos(x) = 0.2$\n",
    "\n",
    "$arccos(cos(x)) = arccos(0.2)$\n",
    "\n",
    "$x_{1} = arccos(0.2) + 2\\pi n$\n",
    "\n",
    "$x_{2} = -arccos(0.2) + 2\\pi n$\n",
    "\n",
    "Find all in interval $-90^{\\circ}$ to $450^{\\circ}$"
   ]
  },
  {
   "cell_type": "code",
   "execution_count": null,
   "metadata": {},
   "outputs": [],
   "source": [
    "a = math.degrees(math.acos(0.2))\n",
    "lower = -90\n",
    "upper = 450\n",
    "\n",
    "for n in range(0, 1000):\n",
    "    result = a + (360*n)\n",
    "    if lower <= result <= upper:\n",
    "        print(result)\n",
    "\n",
    "    result = -a + (360*n)\n",
    "    if lower <= result <= upper:\n",
    "        print(result)"
   ]
  },
  {
   "cell_type": "code",
   "execution_count": null,
   "metadata": {},
   "outputs": [],
   "source": []
  },
  {
   "cell_type": "markdown",
   "metadata": {},
   "source": [
    "# $H(t) = 5cos(\\frac{2\\pi}{3}t) - 35.5$\n",
    "\n",
    "H(t) - The vertical distance between the dock and the top of the boat's mast t seconds after its first peak. t in rads.\n",
    "\n",
    "Q: How long does it take the boat to bob down from its peak to a height of -35cm.\n",
    "\n",
    "Period: $\\frac{2\\pi}{\\frac{2\\pi}{3}} = 3$ seconds\n",
    "\n",
    "We want to find the first solution to the equation within the period 0<t<3\n",
    "\n",
    "$-35 = 5cos(\\frac{2\\pi}{3}t) - 35.5$\n",
    "\n",
    "$cos(\\frac{2\\pi}{3}t) = \\frac{-35 + 35.5}{5} $\n",
    "\n",
    "$arccos(cos(\\frac{2\\pi}{3}t)) = arccos(\\frac{-35 + 35.5}{5})$\n",
    "\n",
    "$\\frac{2\\pi}{3}t = arccos(\\frac{-35 + 35.5}{5})$\n",
    "\n",
    "$\\frac{2\\pi}{3}t = 1.47$\n",
    "\n",
    "$t = \\frac{1.47}{\\frac{2\\pi}{3}}$\n",
    "\n",
    "$t = \\frac{1.47 * 3}{2\\pi} = 0.7$"
   ]
  },
  {
   "cell_type": "code",
   "execution_count": null,
   "metadata": {},
   "outputs": [],
   "source": []
  },
  {
   "cell_type": "markdown",
   "metadata": {},
   "source": [
    "# $16cos(15x) + 8 = 2$ \n",
    "\n",
    "$cos(15x)= \\frac{2 - 8}{16}$ \n",
    "\n",
    "$cos(15x)= -\\frac{6}{16}$ \n",
    "\n",
    "$arccos(cos(15x))= arccos(-\\frac{3}{8})$\n",
    "\n",
    "$15x = 1.955$\n",
    "\n",
    "$x_{1} = \\frac{1.955 + 2\\pi n}{15}$\n",
    "\n",
    "$x_{2} = \\frac{-1.955 + 2\\pi n}{15}$\n",
    "\n",
    "$x_{1} = 0.13 + \\frac{2\\pi}{15} n$\n",
    "\n",
    "$x_{2} = -0.13 + \\frac{2\\pi}{15} n$"
   ]
  },
  {
   "cell_type": "code",
   "execution_count": null,
   "metadata": {},
   "outputs": [],
   "source": []
  },
  {
   "cell_type": "markdown",
   "metadata": {},
   "source": [
    "# $A(t) = 25cos(\\pi t) + 65$\n",
    "\n",
    "A(t) - The accordion's length t seconds after it's completely stretched. t is in rads.\n",
    "\n",
    "Q: How long does it take to compress the accordion completely and then stretch it back out to a length of 50 cm?\n",
    "\n",
    "$50 = 25cos(\\pi t) + 65$\n",
    "\n",
    "$\\frac{50-65}{25} = cos(\\pi t)$\n",
    "\n",
    "$-\\frac{15}{25} = cos(\\pi t)$\n",
    "\n",
    "$-\\frac{3}{5} = cos(\\pi t)$\n",
    "\n",
    "$arccos(-\\frac{3}{5}) = arccos(cos(\\pi t))$\n",
    "\n",
    "$arccos(-\\frac{3}{5}) + 2\\pi n = \\pi t$\n",
    "\n",
    "1)\n",
    "\n",
    "$2.214 + 2\\pi n = \\pi t$\n",
    "\n",
    "$\\frac{2.214}{\\pi} + \\frac{2\\pi n}{\\pi} = t$\n",
    "\n",
    "$0.7048 + 2n = t$\n",
    "\n",
    "Function has a period of $\\frac{2\\pi}{\\pi}$ = 2 seconds. We want to find the second solution to the equation within the period $0 < t < 2$\n",
    "\n",
    "Now, let's use the identity $cos(\\theta) = cos(2\\pi - \\theta)$ to find the second expression for all possible values of t. \n",
    "\n",
    "2)\n",
    "\n",
    "$(2\\pi - 2.214) + 2\\pi n = \\pi t$\n",
    "\n",
    "$(2\\pi - 2.214) + 2\\pi n = \\pi t$\n",
    "\n",
    "$(2 - \\frac{2.214}{\\pi}) + 2n = t$\n",
    "\n",
    "$t = 1.3 + 2n$"
   ]
  },
  {
   "cell_type": "code",
   "execution_count": null,
   "metadata": {},
   "outputs": [],
   "source": []
  },
  {
   "cell_type": "markdown",
   "metadata": {},
   "source": [
    "# $5cos(6x) + 6 = 9$\n",
    "\n",
    "$cos(6x)= \\frac{9 - 6}{5}$\n",
    "\n",
    "$arccos(cos(6x))= arccos(\\frac{3}{5})$\n",
    "\n",
    "$6x= \\pm arccos(\\frac{3}{5}) + 2\\pi n$\n",
    "\n",
    "$6x= \\pm 53.13^{\\circ} + 360n$\n",
    "\n",
    "$x= \\pm \\frac{53.13^{\\circ}6 + 360n}{6}$\n",
    "\n",
    "$x_{1,2} = \\pm 8.855 + 60n$"
   ]
  },
  {
   "cell_type": "code",
   "execution_count": null,
   "metadata": {},
   "outputs": [],
   "source": []
  }
 ],
 "metadata": {
  "kernelspec": {
   "display_name": "Python 3",
   "language": "python",
   "name": "python3"
  },
  "language_info": {
   "codemirror_mode": {
    "name": "ipython",
    "version": 3
   },
   "file_extension": ".py",
   "mimetype": "text/x-python",
   "name": "python",
   "nbconvert_exporter": "python",
   "pygments_lexer": "ipython3",
   "version": "3.6.7"
  }
 },
 "nbformat": 4,
 "nbformat_minor": 2
}

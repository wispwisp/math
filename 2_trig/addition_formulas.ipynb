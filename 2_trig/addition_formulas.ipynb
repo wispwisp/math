{
 "cells": [
  {
   "cell_type": "code",
   "execution_count": null,
   "metadata": {},
   "outputs": [],
   "source": [
    "from IPython.core.interactiveshell import InteractiveShell\n",
    "InteractiveShell.ast_node_interactivity = \"all\""
   ]
  },
  {
   "cell_type": "code",
   "execution_count": null,
   "metadata": {},
   "outputs": [],
   "source": [
    "import math"
   ]
  },
  {
   "cell_type": "code",
   "execution_count": null,
   "metadata": {},
   "outputs": [],
   "source": []
  },
  {
   "cell_type": "markdown",
   "metadata": {},
   "source": [
    "# Addition formulas"
   ]
  },
  {
   "cell_type": "markdown",
   "metadata": {},
   "source": [
    "$sin(a+b) = sin(a)cos(b) + sin(b)cos(a)$\n",
    "\n",
    "$sin(a-b) = sin(a)cos(b) + sin(b)cos(a)$\n",
    "\n",
    "---\n",
    "\n",
    "$cos(a+b) = cos(a)cos(b) - sin(a)sin(b)$\n",
    "\n",
    "$cos(a-b) = cos(a)cos(b) + sin(a)sin(b)$\n",
    "\n",
    "---\n",
    "\n",
    "$cos(2a) = cos^2(a) - sin^2(a)$\n",
    "\n",
    "$sin(2a) = 2sin(a)cos(a)$"
   ]
  },
  {
   "cell_type": "code",
   "execution_count": null,
   "metadata": {},
   "outputs": [],
   "source": []
  },
  {
   "cell_type": "markdown",
   "metadata": {},
   "source": [
    "# Ex\n",
    "\n",
    "---"
   ]
  },
  {
   "cell_type": "markdown",
   "metadata": {},
   "source": [
    "# $sin(\\frac{11\\pi}{12})$\n",
    "\n",
    "$\\frac{11\\pi}{12} = \\frac{3\\pi}{12} + \\frac{8\\pi}{12} = \\frac{\\pi}{4} + \\frac{2\\pi}{3}$\n",
    "\n",
    "$sin(\\frac{\\pi}{4} + \\frac{2\\pi}{3})$\n",
    "\n",
    "$sin(\\frac{\\pi}{4} + \\frac{2\\pi}{3}) = sin(\\frac{\\pi}{4})cos(\\frac{2\\pi}{3}) + sin(\\frac{2\\pi}{3})cos(\\frac{\\pi}{4}) =\n",
    "\\frac{\\sqrt{2}}{2} \\cdot (-\\frac{1}{2}) + \\frac{\\sqrt{3}}{2} \\cdot \\frac{\\sqrt{2}}{2} = \n",
    "-\\frac{\\sqrt{2}}{4} + \\frac{\\sqrt{6}}{4} =\n",
    "\\frac{\\sqrt{6} - \\sqrt{2}}{4}\n",
    "$"
   ]
  },
  {
   "cell_type": "code",
   "execution_count": null,
   "metadata": {},
   "outputs": [],
   "source": []
  }
 ],
 "metadata": {
  "kernelspec": {
   "display_name": "Python 3",
   "language": "python",
   "name": "python3"
  },
  "language_info": {
   "codemirror_mode": {
    "name": "ipython",
    "version": 3
   },
   "file_extension": ".py",
   "mimetype": "text/x-python",
   "name": "python",
   "nbconvert_exporter": "python",
   "pygments_lexer": "ipython3",
   "version": "3.6.8"
  }
 },
 "nbformat": 4,
 "nbformat_minor": 2
}

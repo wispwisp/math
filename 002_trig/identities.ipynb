{
 "cells": [
  {
   "cell_type": "code",
   "execution_count": null,
   "metadata": {},
   "outputs": [],
   "source": [
    "from IPython.core.interactiveshell import InteractiveShell\n",
    "InteractiveShell.ast_node_interactivity = \"all\""
   ]
  },
  {
   "cell_type": "code",
   "execution_count": null,
   "metadata": {},
   "outputs": [],
   "source": [
    "import math"
   ]
  },
  {
   "cell_type": "code",
   "execution_count": null,
   "metadata": {},
   "outputs": [],
   "source": []
  },
  {
   "cell_type": "markdown",
   "metadata": {},
   "source": [
    "# $sin^2(x) = 1 - cos^2(x)$\n",
    "\n",
    "# $cos^2(x) = 1 - sin^2(x)$\n",
    "\n",
    "\n",
    "prof: $cos^2(x) + sin^2(x) = 1$"
   ]
  },
  {
   "cell_type": "code",
   "execution_count": null,
   "metadata": {},
   "outputs": [],
   "source": []
  },
  {
   "cell_type": "markdown",
   "metadata": {},
   "source": [
    "# $sin(a + b) = sin(a)cos(b) + sin(b)cos(a)$\n",
    "\n",
    "prof: todo\n",
    "\n",
    "# $sin(a - b) = sin(a)cos(b) - sin(b)cos(a)$\n",
    "\n",
    "prof: $sin(a - b) = sin(a)cos(-b) + sin(-b)cos(a) = \n",
    "sin(a)cos(b) - sin(b)cos(a)\n",
    "$\n",
    "\n",
    "# $sin(2a) = sin(a + a) = 2sin(a)cos(a)$\n",
    "prof: $sin(2a) = sin(a + a) = sin(a)cos(a) + sin(b)cos(a) = 2sin(a)cos(a)$"
   ]
  },
  {
   "cell_type": "code",
   "execution_count": null,
   "metadata": {},
   "outputs": [],
   "source": []
  },
  {
   "cell_type": "markdown",
   "metadata": {},
   "source": [
    "# $cos(a + b) = cos(a)cos(b) - sin(a)sin(b)$\n",
    "prof: todo\n",
    "\n",
    "# $cos(a - b) = cos(a)cos(b) + sin(a)sin(b)$\n",
    "\n",
    "prof: $cos(a - b) = cos(a)cos(-b) - sin(a)sin(-b) = cos(a)cos(b) - - sin(a)sin(b)$\n",
    "\n",
    "# $cos(2a) = cos^2(a) - sin^2(a)$\n",
    "\n",
    "prof: $cos(a + a) = cos(a)cos(a) - sin(a)sin(a)$"
   ]
  },
  {
   "cell_type": "code",
   "execution_count": null,
   "metadata": {},
   "outputs": [],
   "source": []
  },
  {
   "cell_type": "markdown",
   "metadata": {},
   "source": [
    "# $cos(2a) = 2cos^2(a) - 1$\n",
    "\n",
    "prof:\n",
    "\n",
    "$cos(2a) =$\n",
    "\n",
    "$ cos^2(a) - sin^2(a)$\n",
    "\n",
    "$cos^2(a) - (1 - cos^2(x))$\n",
    "\n",
    "$cos^2(a) - 1 + cos^2(x)$\n",
    "\n",
    "$= 2cos^2(a) - 1$"
   ]
  },
  {
   "cell_type": "code",
   "execution_count": null,
   "metadata": {},
   "outputs": [],
   "source": []
  }
 ],
 "metadata": {
  "kernelspec": {
   "display_name": "Python 3",
   "language": "python",
   "name": "python3"
  },
  "language_info": {
   "codemirror_mode": {
    "name": "ipython",
    "version": 3
   },
   "file_extension": ".py",
   "mimetype": "text/x-python",
   "name": "python",
   "nbconvert_exporter": "python",
   "pygments_lexer": "ipython3",
   "version": "3.6.8"
  }
 },
 "nbformat": 4,
 "nbformat_minor": 2
}

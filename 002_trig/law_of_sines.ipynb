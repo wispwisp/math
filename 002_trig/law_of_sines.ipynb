{
 "cells": [
  {
   "cell_type": "code",
   "execution_count": null,
   "metadata": {},
   "outputs": [],
   "source": [
    "from IPython.core.interactiveshell import InteractiveShell\n",
    "InteractiveShell.ast_node_interactivity = \"all\""
   ]
  },
  {
   "cell_type": "code",
   "execution_count": null,
   "metadata": {},
   "outputs": [],
   "source": [
    "import math"
   ]
  },
  {
   "cell_type": "markdown",
   "metadata": {},
   "source": [
    "# Law of sines"
   ]
  },
  {
   "cell_type": "markdown",
   "metadata": {},
   "source": [
    "# $\\frac{sin(\\theta _{1})}{opp\\space to\\space \\theta _{1}\\space len\\space of\\space side} = \n",
    "\\frac{sin(\\theta _{2})}{opp\\space to\\space \\theta _{2}\\space len\\space of\\space side} = \n",
    "\\frac{sin(\\theta _{3})}{opp\\space to\\space \\theta _{3}\\space len\\space of\\space side}\n",
    "$"
   ]
  },
  {
   "cell_type": "code",
   "execution_count": null,
   "metadata": {},
   "outputs": [],
   "source": []
  },
  {
   "cell_type": "markdown",
   "metadata": {},
   "source": [
    "# ex"
   ]
  },
  {
   "cell_type": "code",
   "execution_count": null,
   "metadata": {},
   "outputs": [],
   "source": [
    "%%svg\n",
    "<svg   xmlns:dc=\"http://purl.org/dc/elements/1.1/\"   xmlns:cc=\"http://creativecommons.org/ns#\"   xmlns:rdf=\"http://www.w3.org/1999/02/22-rdf-syntax-ns#\"   xmlns:svg=\"http://www.w3.org/2000/svg\"   xmlns=\"http://www.w3.org/2000/svg\"   xmlns:sodipodi=\"http://sodipodi.sourceforge.net/DTD/sodipodi-0.dtd\"   xmlns:inkscape=\"http://www.inkscape.org/namespaces/inkscape\"   width=\"90mm\"   height=\"90mm\"   viewBox=\"0 0 215 155\"   version=\"1.1\"   id=\"svg8\"   inkscape:version=\"0.92.3 (2405546, 2018-03-11)\"   sodipodi:docname=\"trig.svg\">  <defs     id=\"defs2\">    <marker       style=\"overflow:visible\"       id=\"DistanceEnd\"       refX=\"0.0\"       refY=\"0.0\"       orient=\"auto\"       inkscape:stockid=\"DistanceEnd\"       inkscape:isstock=\"true\">      <g         id=\"g2301\"         style=\"stroke:#000000;stroke-opacity:1;fill:#000000;fill-opacity:1\">        <path           style=\"fill:#000000;stroke:#000000;stroke-width:1.15;stroke-linecap:square;stroke-opacity:1;fill-opacity:1\"           d=\"M 0,0 L -2,0\"           id=\"path2316\" />        <path           style=\"fill:#000000;fill-rule:evenodd;stroke:#000000;stroke-opacity:1;fill-opacity:1\"           d=\"M 0,0 L -13,4 L -9,0 -13,-4 L 0,0 z \"           id=\"path2355\" />        <path           style=\"fill:#000000;stroke:#000000;stroke-width:1;stroke-linecap:square;stroke-opacity:1;fill-opacity:1\"           d=\"M 0,-4 L 0,40\"           id=\"path2314\" />      </g>    </marker>    <marker       inkscape:stockid=\"DotL\"       orient=\"auto\"       refY=\"0.0\"       refX=\"0.0\"       id=\"DotL\"       style=\"overflow:visible\"       inkscape:isstock=\"true\">      <path         id=\"path2360\"         d=\"M -2.5,-1.0 C -2.5,1.7600000 -4.7400000,4.0 -7.5,4.0 C -10.260000,4.0 -12.5,1.7600000 -12.5,-1.0 C -12.5,-3.7600000 -10.260000,-6.0 -7.5,-6.0 C -4.7400000,-6.0 -2.5,-3.7600000 -2.5,-1.0 z \"         style=\"fill-rule:evenodd;stroke:#000000;stroke-width:1pt;stroke-opacity:1;fill:#000000;fill-opacity:1\"         transform=\"scale(0.8) translate(7.4, 1)\" />    </marker>    <marker       style=\"overflow:visible\"       id=\"DistanceStart\"       refX=\"0.0\"       refY=\"0.0\"       orient=\"auto\"       inkscape:stockid=\"DistanceStart\"       inkscape:isstock=\"true\">      <g         id=\"g2300\"         style=\"stroke:#000000;stroke-opacity:1;fill:#000000;fill-opacity:1\">        <path           style=\"fill:#000000;stroke:#000000;stroke-width:1.15;stroke-linecap:square;stroke-opacity:1;fill-opacity:1\"           d=\"M 0,0 L 2,0\"           id=\"path2348\" />        <path           style=\"fill:#000000;fill-rule:evenodd;stroke:#000000;stroke-opacity:1;fill-opacity:1\"           d=\"M 0,0 L 13,4 L 9,0 13,-4 L 0,0 z \"           id=\"path2302\" />        <path           style=\"fill:#000000;stroke:#000000;stroke-width:1;stroke-linecap:square;stroke-opacity:1;fill-opacity:1\"           d=\"M 0,-4 L 0,40\"           id=\"path2304\" />      </g>    </marker>    <marker       inkscape:stockid=\"Arrow1Lstart\"       orient=\"auto\"       refY=\"0.0\"       refX=\"0.0\"       id=\"Arrow1Lstart\"       style=\"overflow:visible\"       inkscape:isstock=\"true\">      <path         id=\"path2297\"         d=\"M 0.0,0.0 L 5.0,-5.0 L -12.5,0.0 L 5.0,5.0 L 0.0,0.0 z \"         style=\"fill-rule:evenodd;stroke:#000000;stroke-width:1pt;stroke-opacity:1;fill:#000000;fill-opacity:1\"         transform=\"scale(0.8) translate(12.5,0)\" />    </marker>  </defs>  <sodipodi:namedview     id=\"base\"     pagecolor=\"#ffffff\"     bordercolor=\"#666666\"     borderopacity=\"1.0\"     inkscape:pageopacity=\"0.0\"     inkscape:pageshadow=\"2\"     inkscape:zoom=\"0.7\"     inkscape:cx=\"312.33605\"     inkscape:cy=\"576.13819\"     inkscape:document-units=\"mm\"     inkscape:current-layer=\"layer1\"     showgrid=\"false\"     inkscape:window-width=\"1920\"     inkscape:window-height=\"1031\"     inkscape:window-x=\"0\"     inkscape:window-y=\"25\"     inkscape:window-maximized=\"1\" />  <metadata     id=\"metadata5\">    <rdf:RDF>      <cc:Work         rdf:about=\"\">        <dc:format>image/svg+xml</dc:format>        <dc:type           rdf:resource=\"http://purl.org/dc/dcmitype/StillImage\" />        <dc:title></dc:title>      </cc:Work>    </rdf:RDF>  </metadata>  <g     inkscape:label=\"Layer 1\"     inkscape:groupmode=\"layer\"     id=\"layer1\">    <path       style=\"fill:none;stroke:#000000;stroke-width:0.965;stroke-linecap:butt;stroke-linejoin:miter;stroke-opacity:1;fill-opacity:1;stroke-miterlimit:4;stroke-dasharray:none;marker-start:url(#DotL);marker-mid:url(#DotL)\"       d=\"M 38.486812,45.232105 C 171.58703,154.81261 171.58703,154.81261 171.58703,154.81261 L 59.868373,172.98694 Z\"       id=\"path831\"       inkscape:connector-curvature=\"0\" />    <path       style=\"fill:none;stroke:#000000;stroke-width:0.665;stroke-linecap:butt;stroke-linejoin:miter;stroke-opacity:1;stroke-miterlimit:4;stroke-dasharray:none\"       d=\"m 57.074405,152.99107 c 24.190476,-3.40179 22.300594,16.25297 22.300594,16.25297 v 0.37798\"       id=\"path3001\"       inkscape:connector-curvature=\"0\" />    <path       style=\"fill:none;stroke:#000000;stroke-width:0.565;stroke-linecap:butt;stroke-linejoin:miter;stroke-opacity:1;stroke-miterlimit:4;stroke-dasharray:none\"       d=\"m 152.70238,139.7619 c -20.03274,7.9375 -5.66964,18.52084 -5.66964,18.52084\"       id=\"path3005\"       inkscape:connector-curvature=\"0\" />    <path       style=\"fill:none;stroke:#000000;stroke-width:0.565;stroke-linecap:butt;stroke-linejoin:miter;stroke-opacity:1;stroke-miterlimit:4;stroke-dasharray:none\"       d=\"m 145.14286,133.33631 c -27.21429,7.9375 -6.4256,26.45833 -6.4256,26.45833\"       id=\"path3007\"       inkscape:connector-curvature=\"0\" />    <text       xml:space=\"preserve\"       style=\"font-style:normal;font-weight:normal;font-size:10.58333302px;line-height:1.25;font-family:sans-serif;letter-spacing:0px;word-spacing:0px;fill:#000000;fill-opacity:1;stroke:none;stroke-width:0.26458332\"       x=\"99.785706\"       y=\"178.69345\"       id=\"text3011\"><tspan         sodipodi:role=\"line\"         id=\"tspan3009\"         x=\"99.785706\"         y=\"178.69345\"         style=\"stroke-width:0.26458332\">145m</tspan></text>    <text       xml:space=\"preserve\"       style=\"font-style:normal;font-weight:normal;font-size:10.58333302px;line-height:1.25;font-family:sans-serif;letter-spacing:0px;word-spacing:0px;fill:#000000;fill-opacity:1;stroke:none;stroke-width:0.26458332\"       x=\"60.854168\"       y=\"148.83333\"       id=\"text3015\"><tspan         sodipodi:role=\"line\"         id=\"tspan3013\"         x=\"60.854168\"         y=\"148.83333\"         style=\"stroke-width:0.26458332\">96</tspan></text>    <text       xml:space=\"preserve\"       style=\"font-style:normal;font-weight:normal;font-size:10.58333302px;line-height:1.25;font-family:sans-serif;letter-spacing:0px;word-spacing:0px;fill:#000000;fill-opacity:1;stroke:none;stroke-width:0.26458332\"       x=\"115.28274\"       y=\"141.65179\"       id=\"text3019\"><tspan         sodipodi:role=\"line\"         id=\"tspan3017\"         x=\"115.28274\"         y=\"141.65179\"         style=\"stroke-width:0.26458332\">58</tspan><tspan         sodipodi:role=\"line\"         x=\"115.28274\"         y=\"154.88097\"         style=\"stroke-width:0.26458332\"         id=\"tspan3021\" /></text>    <ellipse       style=\"opacity:1;vector-effect:none;fill:none;fill-opacity:1;fill-rule:evenodd;stroke:#000000;stroke-width:0.512;stroke-linecap:butt;stroke-linejoin:miter;stroke-miterlimit:4;stroke-dasharray:none;stroke-dashoffset:0;stroke-opacity:1\"       id=\"path3023\"       cx=\"77.343376\"       cy=\"139.95088\"       rx=\"1.6797252\"       ry=\"1.7269722\" />    <ellipse       style=\"opacity:1;vector-effect:none;fill:none;fill-opacity:1;fill-rule:evenodd;stroke:#000000;stroke-width:0.51200002;stroke-linecap:butt;stroke-linejoin:miter;stroke-miterlimit:4;stroke-dasharray:none;stroke-dashoffset:0;stroke-opacity:1\"       id=\"path3023-6\"       cx=\"131.0957\"       cy=\"132.62924\"       rx=\"1.6797252\"       ry=\"1.7269722\" />  </g></svg>"
   ]
  },
  {
   "cell_type": "markdown",
   "metadata": {},
   "source": [
    "$\\frac{sin(96^{\\circ})}{x} = \\frac{sin(\\theta _{2})}{145}$\n",
    "\n",
    "$\\theta_{2} = 180 - 96 - 58$\n",
    "\n",
    "$\\frac{sin(96^{\\circ})}{x} = \\frac{sin(26^{\\circ})}{145}$\n",
    "\n",
    "$145sin(96^{\\circ}) = sin(26^{\\circ})x$\n",
    "\n",
    "$145\\frac{sin(96^{\\circ})}{sin(26^{\\circ})} = x$"
   ]
  },
  {
   "cell_type": "code",
   "execution_count": null,
   "metadata": {},
   "outputs": [],
   "source": [
    "145 * (math.sin(math.radians(96)) / math.sin(math.radians(26)))"
   ]
  },
  {
   "cell_type": "code",
   "execution_count": null,
   "metadata": {},
   "outputs": [],
   "source": []
  },
  {
   "cell_type": "code",
   "execution_count": null,
   "metadata": {},
   "outputs": [],
   "source": []
  }
 ],
 "metadata": {
  "kernelspec": {
   "display_name": "Python 3",
   "language": "python",
   "name": "python3"
  },
  "language_info": {
   "codemirror_mode": {
    "name": "ipython",
    "version": 3
   },
   "file_extension": ".py",
   "mimetype": "text/x-python",
   "name": "python",
   "nbconvert_exporter": "python",
   "pygments_lexer": "ipython3",
   "version": "3.6.7"
  }
 },
 "nbformat": 4,
 "nbformat_minor": 2
}

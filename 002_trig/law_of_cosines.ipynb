{
 "cells": [
  {
   "cell_type": "code",
   "execution_count": null,
   "metadata": {},
   "outputs": [],
   "source": [
    "from IPython.core.interactiveshell import InteractiveShell\n",
    "InteractiveShell.ast_node_interactivity = \"all\""
   ]
  },
  {
   "cell_type": "code",
   "execution_count": null,
   "metadata": {},
   "outputs": [],
   "source": [
    "import math"
   ]
  },
  {
   "cell_type": "markdown",
   "metadata": {},
   "source": [
    "# $a^{2} = b^{2} + c^{2} - 2\\cdot b\\cdot c\\cdot cos(\\theta )$"
   ]
  },
  {
   "cell_type": "code",
   "execution_count": null,
   "metadata": {},
   "outputs": [],
   "source": [
    "b = 250\n",
    "c = 360\n",
    "t = 34\n",
    "a = math.sqrt((b**2) + (c**2) - 2*c*b*math.cos(math.radians(t)))\n",
    "a"
   ]
  },
  {
   "cell_type": "markdown",
   "metadata": {},
   "source": [
    "# ex (x is angle)\n",
    "\n",
    "$2bccos(\\theta ) + a^{2} = b^{2} + c^{2}$\n",
    "\n",
    "$2bccos(\\theta ) = b^{2} + c^{2} - a^{2}$\n",
    "\n",
    "$cos(\\theta ) = \\frac{b^{2} + c^{2} - a^{2}}{2bc}$\n",
    "\n",
    "$arccos(cos(\\theta )) = arccos(\\frac{b^{2} + c^{2} - a^{2}}{2bc})$\n",
    "\n",
    "$\\theta = arccos(\\frac{b^{2} + c^{2} - a^{2}}{2bc})$"
   ]
  },
  {
   "cell_type": "code",
   "execution_count": null,
   "metadata": {},
   "outputs": [],
   "source": [
    "a = 861 # opposite to requested angle !!!\n",
    "b = 673\n",
    "c = 989\n",
    "\n",
    "t = math.degrees(\n",
    "    math.acos(\n",
    "        ((b**2) + (c**2) - (a**2)) / (2*b*c)\n",
    "    )\n",
    ")\n",
    "\n",
    "t"
   ]
  }
 ],
 "metadata": {
  "kernelspec": {
   "display_name": "Python 3",
   "language": "python",
   "name": "python3"
  },
  "language_info": {
   "codemirror_mode": {
    "name": "ipython",
    "version": 3
   },
   "file_extension": ".py",
   "mimetype": "text/x-python",
   "name": "python",
   "nbconvert_exporter": "python",
   "pygments_lexer": "ipython3",
   "version": "3.6.7"
  }
 },
 "nbformat": 4,
 "nbformat_minor": 2
}

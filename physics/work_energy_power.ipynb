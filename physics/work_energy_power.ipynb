{
 "cells": [
  {
   "cell_type": "code",
   "execution_count": null,
   "metadata": {},
   "outputs": [],
   "source": [
    "import pandas as pd\n",
    "import numpy as np\n",
    "\n",
    "import math\n",
    "import seaborn as sns\n",
    "import matplotlib.pyplot as plt\n",
    "\n",
    "import matplotlib\n",
    "matplotlib.pyplot.style.use('seaborn')\n",
    "matplotlib.rcParams['figure.figsize'] = (15, 5)\n",
    "\n",
    "%matplotlib inline\n",
    "%pylab inline"
   ]
  },
  {
   "cell_type": "code",
   "execution_count": null,
   "metadata": {},
   "outputs": [],
   "source": [
    "from IPython.core.interactiveshell import InteractiveShell\n",
    "InteractiveShell.ast_node_interactivity = \"all\""
   ]
  },
  {
   "cell_type": "code",
   "execution_count": null,
   "metadata": {},
   "outputs": [],
   "source": []
  },
  {
   "cell_type": "markdown",
   "metadata": {},
   "source": [
    "# Force"
   ]
  },
  {
   "cell_type": "markdown",
   "metadata": {},
   "source": [
    "# $\\vec{F} = m \\cdot \\vec{a}$"
   ]
  },
  {
   "cell_type": "code",
   "execution_count": null,
   "metadata": {},
   "outputs": [],
   "source": []
  },
  {
   "cell_type": "markdown",
   "metadata": {},
   "source": [
    "# Work"
   ]
  },
  {
   "cell_type": "markdown",
   "metadata": {},
   "source": [
    "# $W = \\vec{F} \\cdot distance$"
   ]
  },
  {
   "cell_type": "code",
   "execution_count": null,
   "metadata": {},
   "outputs": [],
   "source": []
  },
  {
   "cell_type": "markdown",
   "metadata": {},
   "source": [
    "If directions not the same:\n",
    "\n",
    "$\\Theta$ - direction difference angle\n",
    "\n",
    "# $W = \\vec{F} \\cdot \\vec{d} \\cdot cos(\\Theta)$"
   ]
  },
  {
   "cell_type": "code",
   "execution_count": null,
   "metadata": {},
   "outputs": [],
   "source": []
  },
  {
   "cell_type": "markdown",
   "metadata": {},
   "source": [
    "# Energy"
   ]
  },
  {
   "cell_type": "markdown",
   "metadata": {},
   "source": [
    "KE - kenetic energy\n",
    "\n",
    "PE - potential energy\n",
    "\n",
    "L - energy loss in system (tahts why it is addition), friction loass for example\n",
    "\n",
    "# $W = KE + PE + L$"
   ]
  },
  {
   "cell_type": "markdown",
   "metadata": {},
   "source": [
    "Conservation of energy\n",
    "\n",
    "$W + PE_{initial} + KE_{initial} = PE_{final} + KE_{final} + L$"
   ]
  },
  {
   "cell_type": "code",
   "execution_count": null,
   "metadata": {},
   "outputs": [],
   "source": []
  },
  {
   "cell_type": "markdown",
   "metadata": {},
   "source": [
    "KE derivation:\n",
    "\n",
    "$dW = F \\cdot dx$\n",
    "\n",
    "$dW = m \\cdot a \\cdot dx$\n",
    "\n",
    "$dW = m \\cdot \\frac{dV}{dt} \\cdot dx$\n",
    "\n",
    "$dW = m \\cdot \\frac{dV}{dt} \\cdot dx$\n",
    "\n",
    "$dW = m \\cdot dV \\cdot \\frac{dx}{dt}$\n",
    "\n",
    "$dW = m \\cdot dV \\cdot V$\n",
    "\n",
    "$\\int dW = m \\int V \\cdot dV$\n",
    "\n",
    "$W = \\frac{mV^2}{2}$"
   ]
  },
  {
   "cell_type": "code",
   "execution_count": null,
   "metadata": {},
   "outputs": [],
   "source": []
  },
  {
   "cell_type": "markdown",
   "metadata": {},
   "source": [
    "PE commonly about graviry (or a spring)\n",
    "\n",
    "$gh$ - free fall acceleration "
   ]
  },
  {
   "cell_type": "markdown",
   "metadata": {},
   "source": [
    "$PE = Fa = m \\cdot gh$"
   ]
  },
  {
   "cell_type": "code",
   "execution_count": null,
   "metadata": {},
   "outputs": [],
   "source": []
  },
  {
   "cell_type": "markdown",
   "metadata": {},
   "source": [
    "Energy loss commonly about friction\n",
    "\n",
    "$u$ - friction coef"
   ]
  },
  {
   "cell_type": "markdown",
   "metadata": {},
   "source": [
    "$W_{loss} = F_{fr} \\cdot distance \\cdot u$"
   ]
  },
  {
   "cell_type": "code",
   "execution_count": null,
   "metadata": {},
   "outputs": [],
   "source": []
  },
  {
   "cell_type": "markdown",
   "metadata": {},
   "source": [
    "# Momentum"
   ]
  },
  {
   "cell_type": "markdown",
   "metadata": {},
   "source": [
    "# $\\vec{\\rho} = m \\vec{v}$\n",
    "\n",
    "Conservation of momentum\n",
    "\n",
    "# $\\rho_{initial} = \\rho_{final}$\n",
    "\n",
    "# $m_{1}\\cdot v_{1,i}  +  m_{2}\\cdot v_{2,i}  = m_{1}\\cdot v_{1,f}  +  m_{2}\\cdot v_{2,f}$\n",
    "\n",
    "If objects stick together $v_{1,f} = v_{2,f}$\n",
    "\n",
    "# $m_{1}\\cdot v_{1,i}  +  m_{2}\\cdot v_{2,i}  = (m_{1} + m_{2})v_{f}$\n",
    "\n",
    "# $v_{f} = \\frac{m_{1}v_{1,i}  +  m_{2}v_{2,i}}{m_{1} + m_{2}}$"
   ]
  },
  {
   "cell_type": "code",
   "execution_count": null,
   "metadata": {},
   "outputs": [],
   "source": []
  }
 ],
 "metadata": {
  "kernelspec": {
   "display_name": "Python 3",
   "language": "python",
   "name": "python3"
  },
  "language_info": {
   "codemirror_mode": {
    "name": "ipython",
    "version": 3
   },
   "file_extension": ".py",
   "mimetype": "text/x-python",
   "name": "python",
   "nbconvert_exporter": "python",
   "pygments_lexer": "ipython3",
   "version": "3.6.8"
  }
 },
 "nbformat": 4,
 "nbformat_minor": 2
}

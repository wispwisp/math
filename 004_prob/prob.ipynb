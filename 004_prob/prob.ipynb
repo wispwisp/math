{
 "cells": [
  {
   "cell_type": "code",
   "execution_count": null,
   "metadata": {},
   "outputs": [],
   "source": [
    "import pandas as pd\n",
    "import numpy as np\n",
    "\n",
    "# import seaborn as sns\n",
    "# import matplotlib.pyplot as plt\n",
    "\n",
    "# import matplotlib\n",
    "# matplotlib.pyplot.style.use('seaborn')\n",
    "# matplotlib.rcParams['figure.figsize'] = (15, 5)\n",
    "\n",
    "# %matplotlib inline\n",
    "# %pylab inline"
   ]
  },
  {
   "cell_type": "code",
   "execution_count": null,
   "metadata": {},
   "outputs": [],
   "source": [
    "from IPython.core.interactiveshell import InteractiveShell\n",
    "InteractiveShell.ast_node_interactivity = \"all\""
   ]
  },
  {
   "cell_type": "code",
   "execution_count": null,
   "metadata": {},
   "outputs": [],
   "source": [
    "from IPython.core.display import SVG"
   ]
  },
  {
   "cell_type": "code",
   "execution_count": null,
   "metadata": {},
   "outputs": [],
   "source": [
    "import math"
   ]
  },
  {
   "cell_type": "code",
   "execution_count": null,
   "metadata": {},
   "outputs": [],
   "source": []
  },
  {
   "cell_type": "markdown",
   "metadata": {},
   "source": [
    "# Compound probability of independent events\n",
    "\n",
    "$N(clothing) = 4$\n",
    "\n",
    "$N(colors) = 3$\n",
    "\n",
    "$P(clothing_n) = \\frac{1}{4}$\n",
    "\n",
    "$P(color_n) = \\frac{1}{3}$\n",
    "\n",
    "$P(clothing_n \\bigcup color_n) = \\frac{1}{3} \\cdot \\frac{1}{4} = \\frac{1}{12}$\n",
    "\n",
    "\n",
    "### Intuition:\n",
    "\n",
    "| X          | Colors1               | Colors2        | Colors3        |\n",
    "|:--         |:--------------------- | -------------- | ---------      |\n",
    "| Clothing1  | $\\frac{1}{N \\cdot M}$ | $\\frac{1}{12}$ | $\\frac{1}{12}$ |\n",
    "| Clothing2  | $\\frac{1}{1 \\cdot 4}$ | $\\frac{1}{12}$ | $\\frac{1}{12}$ |\n",
    "| Clothing3  | $\\frac{1}{1 \\cdot 4}$ | $\\frac{1}{12}$ | $\\frac{1}{12}$ |\n",
    "| Clothing4  | $\\frac{1}{1 \\cdot 4}$ | $\\frac{1}{12}$ | $\\frac{1}{12}$ |"
   ]
  },
  {
   "cell_type": "code",
   "execution_count": null,
   "metadata": {},
   "outputs": [],
   "source": []
  },
  {
   "cell_type": "markdown",
   "metadata": {},
   "source": [
    "# Exact probability"
   ]
  },
  {
   "cell_type": "markdown",
   "metadata": {},
   "source": [
    "* If you flip three fair coins, what is the probability that you'll get a head on the first flip, a tail on the second flip, and another head on the third flip?\n",
    "\n",
    "| X     | Prob          |\n",
    "|:--    |:------------- |\n",
    "| 1 TTT | $\\frac{1}{8}$ |\n",
    "| 2 TTH | $\\frac{1}{8}$ |\n",
    "| 3 THT | $\\frac{1}{8}$ |\n",
    "| 4 THH | $\\frac{1}{8}$ |\n",
    "| 5 HTT | $\\frac{1}{8}$ |\n",
    "| 6 HTH | $\\frac{1}{8}$ |\n",
    "| 7 HHT | $\\frac{1}{8}$ |\n",
    "| 8 HHH | $\\frac{1}{8}$ |\n",
    "\n",
    "HTH - $\\frac{1}{8}$\n",
    "\n",
    "or $\\frac{1}{2} \\cdot \\frac{1}{2} \\cdot \\frac{1}{2} = \\frac{1}{8}$"
   ]
  },
  {
   "cell_type": "code",
   "execution_count": null,
   "metadata": {},
   "outputs": [],
   "source": []
  },
  {
   "cell_type": "markdown",
   "metadata": {},
   "source": [
    "# Combinatoric probability\n",
    "\n",
    "* If you flip a fair coin 4 times, what is the probability that you will get exactly 2 tails?\n",
    "\n",
    "\"How many ways I can take `K` items from `N`\"\n",
    "$\\binom{N}{K}$ choose K from N\n",
    "\n",
    "$\\binom{N}{K} = \\frac{N!}{K!(N-K)!}$\n",
    "\n",
    "### * * *\n",
    "$\\binom{4}{2} = \\frac{4*3*2*1}{(2*1) * (2*1)}$\n",
    "\n",
    "cancel out:\n",
    "$\\binom{4}{2} = \\frac{4*3}{2*1} = 6$\n",
    "\n",
    "### * * *\n",
    "So number of outcomes $2^N$\n",
    "\n",
    "Number of unique combinations $\\binom{n}{k}$\n",
    "\n",
    "a = \"If you flip a fair coin 4 times, what is the probability that you will get exactly 2 tails?\"\n",
    "\n",
    "$P(a) = \\frac{\\binom{N}{K}}{2^N}$\n",
    "\n",
    "$P(a) = \\frac{\\binom{4}{2}}{2^4} = \\frac{6}{16} = \\frac{3}{8}$"
   ]
  },
  {
   "cell_type": "code",
   "execution_count": null,
   "metadata": {},
   "outputs": [],
   "source": []
  },
  {
   "cell_type": "markdown",
   "metadata": {},
   "source": [
    "# Permutations\n",
    "\n",
    "#  Unique ways are there to arrange the letters in the word DEN?\n",
    "\n",
    "$n! = n \\cdot (n-1) \\cdot (n-2) \\cdot ...$\n",
    "\n",
    "The word is 3 letters long $---$\n",
    "\n",
    "For the first blank we have 3 choises.\n",
    "\n",
    "Lets put `E`: $E--$\n",
    "\n",
    "For second blank we have two blanks. So we can make $3 \\cdot 2$ unique choises. ex: $EN-$\n",
    "\n",
    "And for last blank only one unque choise $3 \\cdot 2 \\cdot 1$"
   ]
  },
  {
   "cell_type": "code",
   "execution_count": null,
   "metadata": {},
   "outputs": [],
   "source": []
  },
  {
   "cell_type": "markdown",
   "metadata": {},
   "source": [
    "# Conditional probability\n",
    "\n",
    "A goblet contains 3 red balls, 2 green balls, and 6 blue balls.\n",
    "\n",
    "\n",
    "If we choose a ball, then another ball without putting the first one back in the goblet, what is the probability that the first ball will be red and the second will be blue?\n",
    "\n",
    "$P(e_1 \\cap e_2) = P(e_1) \\cdot P(e_2 | e_1)$\n",
    "\n",
    "$P(e_2 | e_1)$ - \"subset of rest events after $e_1$ happend\"\n",
    "\n",
    "$P(red \\cap blue) = \\frac{3}{11} \\cdot \\frac{6}{10} = \\frac{18}{110}$"
   ]
  },
  {
   "cell_type": "code",
   "execution_count": null,
   "metadata": {},
   "outputs": [],
   "source": []
  }
 ],
 "metadata": {
  "kernelspec": {
   "display_name": "Python 3",
   "language": "python",
   "name": "python3"
  },
  "language_info": {
   "codemirror_mode": {
    "name": "ipython",
    "version": 3
   },
   "file_extension": ".py",
   "mimetype": "text/x-python",
   "name": "python",
   "nbconvert_exporter": "python",
   "pygments_lexer": "ipython3",
   "version": "3.6.8"
  }
 },
 "nbformat": 4,
 "nbformat_minor": 2
}

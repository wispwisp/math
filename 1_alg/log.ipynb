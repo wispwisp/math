{
 "cells": [
  {
   "cell_type": "code",
   "execution_count": null,
   "metadata": {},
   "outputs": [],
   "source": [
    "import pandas as pd\n",
    "import numpy as np\n",
    "import seaborn as sns\n",
    "\n",
    "import matplotlib.pyplot as plt\n",
    "import matplotlib\n",
    "matplotlib.pyplot.style.use('seaborn')\n",
    "matplotlib.rcParams['figure.figsize'] = (15, 5)\n",
    "\n",
    "%matplotlib inline\n",
    "\n",
    "import math\n",
    "\n",
    "from IPython.core.interactiveshell import InteractiveShell\n",
    "InteractiveShell.ast_node_interactivity = \"all\""
   ]
  },
  {
   "cell_type": "markdown",
   "metadata": {},
   "source": [
    "## $a^{n} \\cdot a^{m} = a^{n+m}$\n",
    "\n",
    "## $\\frac{a^{n}}{a^{m}} = a^{n-m}$\n",
    "\n",
    "## $\\left(a^{n} \\right)^{m} = a^{n\\cdot m}$"
   ]
  },
  {
   "cell_type": "markdown",
   "metadata": {},
   "source": [
    "## $a^{x} \\cdot b^{x} = \\left(a \\cdot b \\right)^{x}$\n",
    "\n",
    "## $\\frac{a^{x}}{b^{x}} = \\left(\\frac{a}{b} \\right)^{x}$"
   ]
  },
  {
   "cell_type": "markdown",
   "metadata": {},
   "source": [
    "$a^{-n} = \\frac{1}{a^{n}}$\n",
    "\n",
    "$a^{-1} = \\frac{1}{a}$"
   ]
  },
  {
   "cell_type": "markdown",
   "metadata": {},
   "source": [
    "# * * *  * * *  * * *"
   ]
  },
  {
   "cell_type": "markdown",
   "metadata": {},
   "source": [
    "## $\\sqrt[n]{a^{k}} = \\left(\\sqrt[n]{a} \\right)^{k}$\n",
    "## $\\left(a^{k} \\right)^{\\frac{1}{n}} = \\left(a^{\\frac{1}{n}} \\right)^{k} = a^{\\frac{k}{n}}$"
   ]
  },
  {
   "cell_type": "markdown",
   "metadata": {},
   "source": [
    "## $\\sqrt[n]{a} = \\sqrt[n \\cdot k]{a^{k}}$\n",
    "\n",
    "## $a^{\\frac{1}{n}} = \\left(a^{k} \\right)^{\\frac{1}{n \\cdot k}} = a^{\\frac{k}{n \\cdot k}}$"
   ]
  },
  {
   "cell_type": "markdown",
   "metadata": {},
   "source": [
    "## $\\sqrt[n]{\\sqrt[k]{a}} = \\sqrt[n \\cdot k]{a}$\n",
    "\n",
    "## $\\left( a^{\\frac{1}{k}} \\right)^{\\frac{1}{n}} = a^{\\frac{1}{k} \\cdot \\frac{1}{n}} = a^{\\frac{1}{k \\cdot n}}$"
   ]
  },
  {
   "cell_type": "markdown",
   "metadata": {},
   "source": [
    "#### $\\sqrt[n]{ab} = \\sqrt[n]{a} \\cdot \\sqrt[n]{b}$\n",
    "#### $ab^{\\frac{1}{n}} = a^{\\frac{1}{n}} \\cdot b^{\\frac{1}{n}}$"
   ]
  },
  {
   "cell_type": "markdown",
   "metadata": {},
   "source": [
    "#### $\\sqrt[n]{\\frac{a}{b}} = \\frac{\\sqrt[n]{a}}{\\sqrt[n]{b}}$\n",
    "#### $\\left(\\frac{a}{b} \\right)^{\\frac{1}{x}} = \\frac{a^{\\frac{1}{x}}}{b^{\\frac{1}{x}}}$"
   ]
  },
  {
   "cell_type": "markdown",
   "metadata": {},
   "source": [
    "# * * *  * * *  * * *"
   ]
  },
  {
   "cell_type": "markdown",
   "metadata": {},
   "source": [
    "## $log_{a}b = C \\Leftrightarrow a^{C}=b$"
   ]
  },
  {
   "cell_type": "markdown",
   "metadata": {},
   "source": [
    "## $log_{a}bc = log_{a}b + log_{a}c$\n",
    "\n",
    "## $log_{a}\\frac{b}{c} = log_{a}b - log_{a}c$"
   ]
  },
  {
   "cell_type": "markdown",
   "metadata": {},
   "source": [
    "## $log_{a^{k}}b^{m} = \\frac{m}{k}log_{a}b$\n",
    "\n",
    "\n",
    "## $a^{log_{a}b} = b$"
   ]
  },
  {
   "cell_type": "markdown",
   "metadata": {},
   "source": [
    "## $log_{a}b = \\frac{log_{x}b}{log_{x}a}$"
   ]
  },
  {
   "cell_type": "markdown",
   "metadata": {},
   "source": [
    "## ex:\n",
    "$\\sqrt[4]{x} + \\sqrt{x} = 6$\n",
    "\n",
    "$x^{\\frac{1}{4}} + x^{\\frac{1}{2}} = 6$\n",
    "\n",
    "$a = x^{\\frac{1}{2}}$\n",
    "\n",
    "$a^{\\frac{1}{2}} + a = 6$\n",
    "\n",
    "$a^{\\frac{1}{2}} = 6 - a$\n",
    "\n",
    "$a = (6-a)^{2}$"
   ]
  },
  {
   "cell_type": "code",
   "execution_count": null,
   "metadata": {},
   "outputs": [],
   "source": []
  },
  {
   "cell_type": "code",
   "execution_count": null,
   "metadata": {},
   "outputs": [],
   "source": [
    "math.log10(42) / math.log10(6) "
   ]
  },
  {
   "cell_type": "code",
   "execution_count": null,
   "metadata": {},
   "outputs": [],
   "source": [
    "math.log(1/4, math.e)"
   ]
  },
  {
   "cell_type": "code",
   "execution_count": null,
   "metadata": {},
   "outputs": [],
   "source": [
    "math.log(42, 6)"
   ]
  },
  {
   "cell_type": "code",
   "execution_count": null,
   "metadata": {},
   "outputs": [],
   "source": [
    "math.sqrt(100)"
   ]
  },
  {
   "cell_type": "code",
   "execution_count": null,
   "metadata": {},
   "outputs": [],
   "source": [
    "math.pow(117, 1/3)"
   ]
  }
 ],
 "metadata": {
  "kernelspec": {
   "display_name": "Python 3",
   "language": "python",
   "name": "python3"
  },
  "language_info": {
   "codemirror_mode": {
    "name": "ipython",
    "version": 3
   },
   "file_extension": ".py",
   "mimetype": "text/x-python",
   "name": "python",
   "nbconvert_exporter": "python",
   "pygments_lexer": "ipython3",
   "version": "3.6.7"
  }
 },
 "nbformat": 4,
 "nbformat_minor": 2
}
